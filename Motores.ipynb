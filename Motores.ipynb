{
  "cells": [
    {
      "cell_type": "code",
      "execution_count": null,
      "metadata": {
        "id": "zkmw0sdHGWHS"
      },
      "outputs": [],
      "source": [
        "import pandas as pd\n",
        "import numpy as np\n",
        "df1 = pd.read_csv('data_motores.csv')\n",
        "pd.set_option('display.max_columns', None)"
      ]
    },
    {
      "cell_type": "code",
      "execution_count": null,
      "metadata": {
        "id": "IVlCQOLJGbhV"
      },
      "outputs": [],
      "source": [
        "df1[\"Eficiencia (%)\"]               = df1[\"Eficiencia (%)\"]/100\n",
        "df1[\"Factor de carga maximo\"]       = df1[\"Factor de carga maximo\"]/100\n",
        "df1['Potencia Entrada (W)']         = (df1['Potencia (HP)'] * 746 * (df1['Factor de carga maximo'])) / (df1['Eficiencia (%)'])\n",
        "df1['Corriente a 220V (A)']         = df1['Potencia Entrada (W)'] / (np.sqrt(3) * 220 * df1['Factor de potencia'])\n",
        "df1['Corriente a 380V (A)']         = df1['Potencia Entrada (W)'] / (np.sqrt(3) * 380 * df1['Factor de potencia'])\n",
        "df1['Corriente a 220V (A) +25%']    = df1['Corriente a 220V (A)']*1.25\n",
        "df1['Corriente a 380V (A) +25%']    = df1['Corriente a 380V (A)']*1.25\n",
        "df1['Velocidad síncrona (RPM)']     = 3600"
      ]
    },
    {
      "cell_type": "code",
      "execution_count": null,
      "metadata": {
        "id": "mtQ_YB-KGjpm"
      },
      "outputs": [],
      "source": [
        "catalogo                            = pd.read_csv('catalogo_motores.csv')\n",
        "catalogo['Potencia HP']             = catalogo['Potencia HP'].astype(int)\n",
        "df2                                 = pd.merge(df1, catalogo[['Potencia HP', 'Velocidad rpm']], left_on='Potencia (HP)', right_on='Potencia HP', how='left')\n",
        "df2.drop(columns=['Potencia HP'], inplace=True)\n",
        "df2                                 = df2.rename(columns={'Velocidad rpm': 'Velocidad real (RPM)'})\n",
        "df2['Deslizamiento (RPM)']          = df2['Velocidad síncrona (RPM)'] - df2['Velocidad real (RPM)']\n",
        "df2['Deslizamiento (%)']            = ((df2['Velocidad síncrona (RPM)'] - df2['Velocidad real (RPM)']) / df2['Velocidad síncrona (RPM)'])*100\n",
        "df2['Torque (N.m)']                 = (df2['Potencia (HP)'] * 746 * (df1['Factor de carga maximo'])) / ((df2['Velocidad real (RPM)'] * 2 * np.pi)/60)\n",
        "df2['theta (°)']                    = np.arccos(df2['Factor de potencia'])\n",
        "df2['Real Corriente 220V']          = df2['Corriente a 220V (A) +25%'] * np.cos(df2['theta (°)'])\n",
        "df2['Imaginaria Corriente 220V']    = df2['Corriente a 220V (A) +25%'] * np.sin(df2['theta (°)'])\n",
        "df2['Real Corriente 380V']          = df2['Corriente a 380V (A) +25%'] * np.cos(df2['theta (°)'])\n",
        "df2['Imaginaria Corriente 380V']    = df2['Corriente a 380V (A) +25%'] * np.sin(df2['theta (°)'])\n",
        "df2[\"kw/año\"]                       = (df2[\"Potencia Entrada (W)\"]/1000) * 6696\n",
        "df2[\"costo/año\"]                    = df2[\"kw/año\"] * 1009.04\n",
        "\n",
        "df2[\"cambio FC\"]                    = np.where(df2[\"Factor de carga maximo\"] < 0.8, \"Si\", \"No\")\n",
        "df2[\"cambio Eficiencia\"]            = np.where(df2[\"Eficiencia (%)\"] < 0.85, \"Si\", \"No\")\n",
        "df2[\"cambio\"]                       = np.where((df2[\"cambio FC\"] == \"Si\") | (df2[\"cambio Eficiencia\"] == \"Si\"), \"Si\", \"No\")"
      ]
    },
    {
      "cell_type": "code",
      "execution_count": null,
      "metadata": {
        "id": "OfJCugcRGmOG"
      },
      "outputs": [],
      "source": [
        "df2.to_csv('data_motores_procesada.csv', index=False)"
      ]
    },
    {
      "cell_type": "markdown",
      "metadata": {
        "id": "82p_yybpGuJt"
      },
      "source": [
        "# PARA 220V"
      ]
    },
    {
      "cell_type": "markdown",
      "metadata": {
        "id": "D6OyubzMGq6c"
      },
      "source": [
        "Magnitud de corriente a 220V para determinar el total de la corriente que se usará para dimensionar el grosor del cable sobre la Planta 1"
      ]
    },
    {
      "cell_type": "code",
      "execution_count": null,
      "metadata": {
        "id": "pGxPmbYuGrXf"
      },
      "outputs": [],
      "source": [
        "Corriente_Planta_1_220V = np.sqrt((df2[df2['Planta'] == 'Planta 1']['Real Corriente 220V'].sum())**2 + (df2[df2['Planta'] == 'Planta 1']['Imaginaria Corriente 220V'].sum())**2)\n",
        "print(f'Magnitud de corriente a 220V para los motores de la planta 1: {Corriente_Planta_1_220V}"
      ]
    },
    {
      "cell_type": "markdown",
      "metadata": {
        "id": "Nrq_t7VDG44S"
      },
      "source": [
        "Magnitud de corriente a 220V para determinar el total de la corriente que se usará para dimensionar el grosor del cable sobre la Planta 2"
      ]
    },
    {
      "cell_type": "code",
      "execution_count": null,
      "metadata": {
        "id": "49uL3GyTGyLQ"
      },
      "outputs": [],
      "source": [
        "Corriente_Planta_2_220V = np.sqrt((df2[df2['Planta'] == 'Planta 2']['Real Corriente 220V'].sum())**2 + (df2[df2['Planta'] == 'Planta 2']['Imaginaria Corriente 220V'].sum())**2)\n",
        "print(f'Magnitud de corriente a 220V para los motores de la planta 2: {Corriente_Planta_2_220V} A')"
      ]
    },
    {
      "cell_type": "markdown",
      "metadata": {
        "id": "nvutnbNHHADO"
      },
      "source": [
        "Magnitud de corriente a 220V para determinar el total de la corriente que se usará para dimensionar el grosor del cable sobre la Planta 3"
      ]
    },
    {
      "cell_type": "code",
      "execution_count": null,
      "metadata": {
        "id": "VIKRVR_pHAXc"
      },
      "outputs": [],
      "source": [
        "Corriente_Planta_3_220V = np.sqrt((df2[df2['Planta'] == 'Planta 3']['Real Corriente 220V'].sum())**2 + (df2[df2['Planta'] == 'Planta 3']['Imaginaria Corriente 220V'].sum())**2)\n",
        "print(f'Magnitud de corriente a 220V para los motores de la planta 3: {Corriente_Planta_3_220V} A')"
      ]
    },
    {
      "cell_type": "markdown",
      "metadata": {
        "id": "CP5aF3ojHFly"
      },
      "source": [
        "Magnitud de corriente a 220V para determinar el total de la corriente que se usará para dimensionar el grosor del cable sobre la Planta 4"
      ]
    },
    {
      "cell_type": "code",
      "execution_count": null,
      "metadata": {
        "id": "UJJENGhsHFHX"
      },
      "outputs": [],
      "source": [
        "Corriente_Planta_4_220V = np.sqrt((df2[df2['Planta'] == 'Planta 4']['Real Corriente 220V'].sum())**2 + (df2[df2['Planta'] == 'Planta 4']['Imaginaria Corriente 220V'].sum())**2)\n",
        "print(f'Magnitud de corriente a 220V para los motores de la planta 4: {Corriente_Planta_4_220V} A')"
      ]
    },
    {
      "cell_type": "markdown",
      "metadata": {
        "id": "P-Chg5ZPHJIM"
      },
      "source": [
        "Magnitud de corriente a 220V para determinar el total de la corriente que se usará para dimensionar el grosor del cable sobre la Planta 5"
      ]
    },
    {
      "cell_type": "code",
      "execution_count": null,
      "metadata": {
        "id": "ruugeKKLHL7W"
      },
      "outputs": [],
      "source": [
        "Corriente_Planta_5_220V = np.sqrt((df2[df2['Planta'] == 'Planta 5']['Real Corriente 220V'].sum())**2 + (df2[df2['Planta'] == 'Planta 5']['Imaginaria Corriente 220V'].sum())**2)\n",
        "print(f'Magnitud de corriente a 220V para los motores de la planta 5: {Corriente_Planta_5_220V} A')"
      ]
    },
    {
      "cell_type": "markdown",
      "metadata": {
        "id": "TNzNCGgPHTaw"
      },
      "source": [
        "# PARA 380V"
      ]
    },
    {
      "cell_type": "markdown",
      "metadata": {
        "id": "mYgky64NHeQq"
      },
      "source": [
        "Magnitud de corriente a 380V para determinar el total de la corriente que se usará para dimensionar el grosor del cable sobre la Planta 1"
      ]
    },
    {
      "cell_type": "code",
      "execution_count": null,
      "metadata": {
        "id": "rCR8wgELHRXK"
      },
      "outputs": [],
      "source": [
        "Corriente_Planta_1_380V = np.sqrt((df2[df2['Planta'] == 'Planta 1']['Real Corriente 380V'].sum())**2 + (df2[df2['Planta'] == 'Planta 1']['Imaginaria Corriente 380V'].sum())**2)\n",
        "print(f'Magnitud de corriente a 380V para los motores de la planta 1: {Corriente_Planta_1_380V} A')"
      ]
    },
    {
      "cell_type": "markdown",
      "metadata": {
        "id": "xIZjBtagHhUa"
      },
      "source": [
        "Magnitud de corriente a 380V para determinar el total de la corriente que se usará para dimensionar el grosor del cable sobre la Planta 2"
      ]
    },
    {
      "cell_type": "code",
      "execution_count": null,
      "metadata": {
        "id": "fReZ_nphHj7L"
      },
      "outputs": [],
      "source": [
        "Corriente_Planta_2_380V = np.sqrt((df2[df2['Planta'] == 'Planta 2']['Real Corriente 380V'].sum())**2 + (df2[df2['Planta'] == 'Planta 2']['Imaginaria Corriente 380V'].sum())**2)\n",
        "print(f'Magnitud de corriente a 380V para los motores de la planta 2: {Corriente_Planta_2_380V} A')"
      ]
    },
    {
      "cell_type": "markdown",
      "metadata": {
        "id": "xyw-T6sdHnd6"
      },
      "source": [
        "Magnitud de corriente a 380V para determinar el total de la corriente que se usará para dimensionar el grosor del cable sobre la Planta 3"
      ]
    },
    {
      "cell_type": "code",
      "execution_count": null,
      "metadata": {
        "id": "-emr-hA0Hr_D"
      },
      "outputs": [],
      "source": [
        "Corriente_Planta_3_380V = np.sqrt((df2[df2['Planta'] == 'Planta 3']['Real Corriente 380V'].sum())**2 + (df2[df2['Planta'] == 'Planta 3']['Imaginaria Corriente 380V'].sum())**2)\n",
        "print(f'Magnitud de corriente a 380V para los motores de la planta 3: {Corriente_Planta_3_380V} A')"
      ]
    },
    {
      "cell_type": "markdown",
      "metadata": {
        "id": "1lTW9v4wHuSL"
      },
      "source": [
        "Magnitud de corriente a 380V para determinar el total de la corriente que se usará para dimensionar el grosor del cable sobre la Planta 4"
      ]
    },
    {
      "cell_type": "code",
      "execution_count": null,
      "metadata": {
        "id": "BPc_5FIjHulX"
      },
      "outputs": [],
      "source": [
        "Corriente_Planta_4_380V = np.sqrt((df2[df2['Planta'] == 'Planta 4']['Real Corriente 380V'].sum())**2 + (df2[df2['Planta'] == 'Planta 4']['Imaginaria Corriente 380V'].sum())**2)\n",
        "print(f'Magnitud de corriente a 380V para los motores de la planta 4: {Corriente_Planta_4_380V} A')"
      ]
    },
    {
      "cell_type": "markdown",
      "metadata": {
        "id": "6WyDuU5kH1ft"
      },
      "source": [
        "Magnitud de corriente a 380V para determinar el total de la corriente que se usará para dimensionar el grosor del cable sobre la Planta 5"
      ]
    },
    {
      "cell_type": "code",
      "execution_count": null,
      "metadata": {
        "id": "Nfbz0CjLHzor"
      },
      "outputs": [],
      "source": [
        "Corriente_Planta_5_380V = np.sqrt((df2[df2['Planta'] == 'Planta 5']['Real Corriente 380V'].sum())**2 + (df2[df2['Planta'] == 'Planta 5']['Imaginaria Corriente 380V'].sum())**2)\n",
        "print(f'Magnitud de corriente a 380V para los motores de la planta 5: {Corriente_Planta_5_380V} A')"
      ]
    },
    {
      "cell_type": "markdown",
      "metadata": {
        "id": "NplsdOIuH5tz"
      },
      "source": [
        "## CAMBIO DE MOTORES ##"
      ]
    },
    {
      "cell_type": "code",
      "execution_count": null,
      "metadata": {
        "id": "J6BjzNSdH6IQ"
      },
      "outputs": [],
      "source": [
        "#calculo de 11 meses, donde se trabaja continuamente 16 horas al dia de lunes a sabado\n",
        "diasXmes        = 24\n",
        "horasXdia       = 16\n",
        "horasXmes       = diasXmes * horasXdia\n",
        "meses           = 11\n",
        "horasX11meses   = horasXmes * meses\n",
        "\n",
        "#calculo para el mes de diciembre\n",
        "diasDiciembre   = 15\n",
        "horasDiciembre  = diasDiciembre * horasXdia\n",
        "\n",
        "#total horas por año\n",
        "TOTALHORAS     = horasX11meses + horasDiciembre"
      ]
    },
    {
      "cell_type": "code",
      "execution_count": null,
      "metadata": {
        "id": "07JIRbO2H_Tw"
      },
      "outputs": [],
      "source": [
        "df_catalogo = pd.read_csv(\"catalogo_motores_completo.csv\")\n",
        "def cambio(fc,potencia_hp,velocidad_sincronica,potencia_actual):\n",
        "    #factor de carga, potencia_hp, potencia_actual\n",
        "    costoXaño = (potencia_actual / 1000) * TOTALHORAS * 1009.04\n",
        "    df_filtro                           = df_catalogo[(df_catalogo[\"Potencia HP\"] == potencia_hp) & (df_catalogo[\"rpm\"] == velocidad_sincronica)].copy()\n",
        "    df_filtro['Potencia Entrada (W)']   = (df_filtro ['Potencia HP'] * 746 * (fc)) / (df_filtro ['Eficiencia %']/100)\n",
        "    df_filtro[\"kw/año\"]                 = (df_filtro[\"Potencia Entrada (W)\"]/1000) * TOTALHORAS\n",
        "    df_filtro[\"costo/año\"]              = df_filtro[\"kw/año\"] * 1009.04\n",
        "    df_filtro[\"costo_anterior\"]         = costoXaño\n",
        "    df_filtro[\"ahorroXmes\"]             = (df_filtro[\"costo_anterior\"] - df_filtro[\"costo/año\"]) / 12\n",
        "    df_filtro[\"tiempo_retribucion\"]     = df_filtro[\"costo_Pesos\"] / df_filtro[\"ahorroXmes\"]\n",
        "    return df_filtro"
      ]
    },
    {
      "cell_type": "code",
      "execution_count": null,
      "metadata": {
        "id": "j-MkYpmQIBOR"
      },
      "outputs": [],
      "source": [
        "#factor de carga, potencia_hp, potencia_actual\n",
        "df_cambio = cambio(0.8,50,3600,35105.882352941175)\n",
        "df_cambio"
      ]
    },
    {
      "cell_type": "code",
      "execution_count": null,
      "metadata": {
        "id": "qCB1Sc_JIDMl"
      },
      "outputs": [],
      "source": [
        "df2.head()"
      ]
    }
  ],
  "metadata": {
    "colab": {
      "provenance": []
    },
    "kernelspec": {
      "display_name": "Python 3",
      "name": "python3"
    },
    "language_info": {
      "name": "python",
      "version": "3.11.8"
    }
  },
  "nbformat": 4,
  "nbformat_minor": 0
}
