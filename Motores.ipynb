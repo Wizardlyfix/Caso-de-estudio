{
  "cells": [
    {
      "cell_type": "code",
      "execution_count": 189,
      "metadata": {
        "id": "zkmw0sdHGWHS"
      },
      "outputs": [],
      "source": [
        "import pandas as pd\n",
        "import numpy as np\n",
        "df1 = pd.read_csv('data_motores.csv')\n",
        "pd.set_option('display.max_columns', None)"
      ]
    },
    {
      "cell_type": "code",
      "execution_count": 190,
      "metadata": {
        "colab": {
          "base_uri": "https://localhost:8080/"
        },
        "id": "eYwPsMrjgJDp",
        "outputId": "9e41fb70-50aa-4b87-c30d-c214dc1f4193"
      },
      "outputs": [
        {
          "name": "stdout",
          "output_type": "stream",
          "text": [
            "916.38\n",
            "800.1800000000001\n"
          ]
        }
      ],
      "source": [
        "TARIFA_T1 = (914.75 + 918.01)/2\n",
        "print(TARIFA_T1)\n",
        "\n",
        "TARIFA_T2 = (798.52 + 801.84)/2\n",
        "print(TARIFA_T2)"
      ]
    },
    {
      "cell_type": "code",
      "execution_count": 191,
      "metadata": {
        "id": "t-aJS_85gJf-"
      },
      "outputs": [
        {
          "name": "stdout",
          "output_type": "stream",
          "text": [
            "4464\n"
          ]
        }
      ],
      "source": [
        "#calculo de 11 meses, donde se trabaja continuamente 16 horas al dia de lunes a sabado\n",
        "diasXmes        = 24\n",
        "horasXdia       = 16\n",
        "horasXmes       = diasXmes * horasXdia\n",
        "meses           = 11\n",
        "horasX11meses   = horasXmes * meses\n",
        "\n",
        "#calculo para el mes de diciembre\n",
        "diasDiciembre   = 15\n",
        "horasDiciembre  = diasDiciembre * horasXdia\n",
        "\n",
        "#total horas por año\n",
        "TOTALHORAS     = horasX11meses + horasDiciembre\n",
        "print(TOTALHORAS)"
      ]
    },
    {
      "cell_type": "code",
      "execution_count": 192,
      "metadata": {
        "id": "IVlCQOLJGbhV"
      },
      "outputs": [],
      "source": [
        "df1[\"Eficiencia (%)\"]               = df1[\"Eficiencia (%)\"]/100\n",
        "df1[\"Factor de carga maximo\"]       = df1[\"Factor de carga maximo\"]/100\n",
        "df1['Potencia Entrada (W)']         = (df1['Potencia (HP)'] * 746 * (df1['Factor de carga maximo'])) / (df1['Eficiencia (%)']) #potencia activa del motor\n",
        "df1['Potencia Salida (W)']          = (df1['Potencia (HP)'] * 746 * (df1['Factor de carga maximo']))\n",
        "df1['Pérdidas Motor (W)']           = df1['Potencia Entrada (W)'] - df1['Potencia Salida (W)']\n",
        "\n",
        "#corrientes de linea\n",
        "df1['Corriente a 220V (A)']         = df1['Potencia Entrada (W)'] / (np.sqrt(3) * 220 * df1['Factor de potencia'])\n",
        "df1['Corriente a 380V (A)']         = df1['Potencia Entrada (W)'] / (np.sqrt(3) * 380 * df1['Factor de potencia'])\n",
        "df1['Corriente a 220V (A) +25%']    = df1['Corriente a 220V (A)']*1.25\n",
        "df1['Corriente a 380V (A) +25%']    = df1['Corriente a 380V (A)']*1.25\n",
        "\n",
        "df1['Velocidad síncrona (RPM)']     = 3600"
      ]
    },
    {
      "cell_type": "code",
      "execution_count": 193,
      "metadata": {
        "id": "mtQ_YB-KGjpm"
      },
      "outputs": [],
      "source": [
        "catalogo                            = pd.read_csv('catalogo_motores.csv')\n",
        "catalogo['Potencia HP']             = catalogo['Potencia HP'].astype(int)\n",
        "df2                                 = pd.merge(df1, catalogo[['Potencia HP', 'Velocidad rpm']], left_on='Potencia (HP)', right_on='Potencia HP', how='left')\n",
        "df2.drop(columns=['Potencia HP'], inplace=True)\n",
        "df2                                 = df2.rename(columns={'Velocidad rpm': 'Velocidad real (RPM)'})\n",
        "df2['Deslizamiento (RPM)']          = df2['Velocidad síncrona (RPM)'] - df2['Velocidad real (RPM)']\n",
        "df2['Deslizamiento (%)']            = ((df2['Velocidad síncrona (RPM)'] - df2['Velocidad real (RPM)']) / df2['Velocidad síncrona (RPM)'])*100\n",
        "df2['Torque (N.m)']                 = (df2['Potencia (HP)'] * 746 * (df1['Factor de carga maximo'])) / ((df2['Velocidad real (RPM)'] * 2 * np.pi)/60)\n",
        "df2['theta (°)']                    = np.degrees(np.arccos(df2['Factor de potencia']))\n",
        "\n",
        "\n",
        "df2[\"Potencia Reactiva (VAR) 220V\"]         = 220 * df2['Corriente a 220V (A)'] * np.sin(np.radians(df2['theta (°)']))\n",
        "df2[\"Potencia Reactiva (VAR) 380V\"]         = 380 * df2['Corriente a 380V (A)'] * np.sin(np.radians(df2['theta (°)']))\n",
        "\n",
        "df2[\"Potencia aparente (VA) 220V\"]          = df2['Potencia Entrada (W)'] / np.cos(np.radians(df2['theta (°)']))\n",
        "df2[\"Potencia aparente (VA) 380V\"]          = df2['Potencia Entrada (W)'] / np.cos(np.radians(df2['theta (°)']))\n",
        "\n",
        "df2['Real Corriente 220V Normal']           = df2['Corriente a 220V (A)'] * np.cos(np.radians(df2['theta (°)']))\n",
        "df2['Imaginaria Corriente 220V Normal']     = df2['Corriente a 220V (A)'] * np.sin(np.radians(df2['theta (°)']))\n",
        "\n",
        "df2['Real Corriente 380V Normal']           = df2['Corriente a 380V (A)'] * np.cos(np.radians(df2['theta (°)']))\n",
        "df2['Imaginaria Corriente 380V Normal']     = df2['Corriente a 380V (A)'] * np.sin(np.radians(df2['theta (°)']))\n",
        "\n",
        "df2['Real Corriente 220V +25%']             = df2['Corriente a 220V (A) +25%'] * np.cos(np.radians(df2['theta (°)']))\n",
        "df2['Imaginaria Corriente 220V +25%']       = df2['Corriente a 220V (A) +25%'] * np.sin(np.radians(df2['theta (°)']))\n",
        "df2['Real Corriente 380V +25%']             = df2['Corriente a 380V (A) +25%'] * np.cos(np.radians(df2['theta (°)']))\n",
        "df2['Imaginaria Corriente 380V +25%']       = df2['Corriente a 380V (A) +25%'] * np.sin(np.radians(df2['theta (°)']))\n",
        "\n",
        "df2[\"kw/año\"]                               = (df2[\"Potencia Entrada (W)\"]/1000) * TOTALHORAS\n",
        "df2[\"costo/año_NIVEL2\"]                            = df2[\"kw/año\"] * TARIFA_T1\n",
        "df2[\"costo/año_NIVEL3\"]                            = df2[\"kw/año\"] * TARIFA_T2\n",
        "df2[\"cambio FC\"]                            = np.where(df2[\"Factor de carga maximo\"] < 0.8, \"Si\", \"No\")\n",
        "df2[\"cambio Eficiencia\"]                    = np.where(df2[\"Eficiencia (%)\"] < 0.9, \"Si\", \"No\")"
      ]
    },
    {
      "cell_type": "code",
      "execution_count": 194,
      "metadata": {},
      "outputs": [],
      "source": [
        "df2_orden = ['Planta', 'Distancia', 'Motor', 'Potencia (HP)', 'Eficiencia (%)',\n",
        "             'Factor de carga maximo', 'Factor de potencia','Potencia Entrada (W)','Potencia Salida (W)','Pérdidas Motor (W)',\n",
        "             'Potencia Reactiva (VAR) 220V','Potencia Reactiva (VAR) 380V','Potencia aparente (VA) 220V','Potencia aparente (VA) 380V',\n",
        "             'Corriente a 220V (A)','Corriente a 220V (A) +25%','Corriente a 380V (A)','Corriente a 380V (A) +25%',\n",
        "             'Real Corriente 220V Normal','Imaginaria Corriente 220V Normal','Real Corriente 380V Normal','Imaginaria Corriente 380V Normal',\n",
        "             'Real Corriente 220V +25%','Imaginaria Corriente 220V +25%','Real Corriente 380V +25%','Imaginaria Corriente 380V +25%','theta (°)',\n",
        "             'Velocidad síncrona (RPM)','Velocidad real (RPM)','Deslizamiento (RPM)','Deslizamiento (%)','Torque (N.m)',\n",
        "             'kw/año','costo/año_NIVEL2','costo/año_NIVEL3','cambio FC','cambio Eficiencia']\n",
        "df2     = df2[df2_orden]"
      ]
    },
    {
      "cell_type": "code",
      "execution_count": 195,
      "metadata": {
        "id": "OfJCugcRGmOG"
      },
      "outputs": [],
      "source": [
        "df2.to_csv('data_motores_procesada.csv', index=False)\n",
        "df2.to_excel('tablas/calculos_motores.xlsx', index=False)"
      ]
    },
    {
      "cell_type": "code",
      "execution_count": 196,
      "metadata": {
        "id": "IW_bWox3Nm0j"
      },
      "outputs": [],
      "source": [
        "Corriente_Planta_1_220V_Normal = np.sqrt((df2[df2['Planta'] == 'Planta 1']['Real Corriente 220V Normal'].sum())**2 + (df2[df2['Planta'] == 'Planta 1']['Imaginaria Corriente 220V Normal'].sum())**2)\n",
        "Corriente_Planta_2_220V_Normal = np.sqrt((df2[df2['Planta'] == 'Planta 2']['Real Corriente 220V Normal'].sum())**2 + (df2[df2['Planta'] == 'Planta 2']['Imaginaria Corriente 220V Normal'].sum())**2)\n",
        "Corriente_Planta_3_220V_Normal = np.sqrt((df2[df2['Planta'] == 'Planta 3']['Real Corriente 220V Normal'].sum())**2 + (df2[df2['Planta'] == 'Planta 3']['Imaginaria Corriente 220V Normal'].sum())**2)\n",
        "Corriente_Planta_4_220V_Normal = np.sqrt((df2[df2['Planta'] == 'Planta 4']['Real Corriente 220V Normal'].sum())**2 + (df2[df2['Planta'] == 'Planta 4']['Imaginaria Corriente 220V Normal'].sum())**2)\n",
        "Corriente_Planta_5_220V_Normal = np.sqrt((df2[df2['Planta'] == 'Planta 5']['Real Corriente 220V Normal'].sum())**2 + (df2[df2['Planta'] == 'Planta 5']['Imaginaria Corriente 220V Normal'].sum())**2)\n",
        "\n",
        "Corriente_Planta_1_380V_Normal = np.sqrt((df2[df2['Planta'] == 'Planta 1']['Real Corriente 380V Normal'].sum())**2 + (df2[df2['Planta'] == 'Planta 1']['Imaginaria Corriente 380V Normal'].sum())**2)\n",
        "Corriente_Planta_2_380V_Normal = np.sqrt((df2[df2['Planta'] == 'Planta 2']['Real Corriente 380V Normal'].sum())**2 + (df2[df2['Planta'] == 'Planta 2']['Imaginaria Corriente 380V Normal'].sum())**2)\n",
        "Corriente_Planta_3_380V_Normal = np.sqrt((df2[df2['Planta'] == 'Planta 3']['Real Corriente 380V Normal'].sum())**2 + (df2[df2['Planta'] == 'Planta 3']['Imaginaria Corriente 380V Normal'].sum())**2)\n",
        "Corriente_Planta_4_380V_Normal = np.sqrt((df2[df2['Planta'] == 'Planta 4']['Real Corriente 380V Normal'].sum())**2 + (df2[df2['Planta'] == 'Planta 4']['Imaginaria Corriente 380V Normal'].sum())**2)\n",
        "Corriente_Planta_5_380V_Normal = np.sqrt((df2[df2['Planta'] == 'Planta 5']['Real Corriente 380V Normal'].sum())**2 + (df2[df2['Planta'] == 'Planta 5']['Imaginaria Corriente 380V Normal'].sum())**2)\n",
        "\n",
        "dic_corriente_220 = [\n",
        "    {\"Planta\": \"Planta 1\", \"Corriente 220v\": Corriente_Planta_1_220V_Normal, \"Corriente 380v\": Corriente_Planta_1_380V_Normal},\n",
        "    {\"Planta\": \"Planta 2\", \"Corriente 220v\": Corriente_Planta_2_220V_Normal, \"Corriente 380v\": Corriente_Planta_2_380V_Normal},\n",
        "    {\"Planta\": \"Planta 3\", \"Corriente 220v\": Corriente_Planta_3_220V_Normal, \"Corriente 380v\": Corriente_Planta_3_380V_Normal},\n",
        "    {\"Planta\": \"Planta 4\", \"Corriente 220v\": Corriente_Planta_4_220V_Normal, \"Corriente 380v\": Corriente_Planta_4_380V_Normal},\n",
        "    {\"Planta\": \"Planta 5\", \"Corriente 220v\": Corriente_Planta_5_220V_Normal, \"Corriente 380v\": Corriente_Planta_5_380V_Normal}\n",
        "]\n",
        "\n",
        "df_corriente_220 = pd.DataFrame(dic_corriente_220)"
      ]
    },
    {
      "cell_type": "code",
      "execution_count": 197,
      "metadata": {},
      "outputs": [],
      "source": [
        "#potencia activa por planta\n",
        "potencia_activa_planta1 = df2[df2[\"Planta\"] == \"Planta 1\"][\"Potencia Entrada (W)\"].sum()\n",
        "potencia_activa_planta2 = df2[df2[\"Planta\"] == \"Planta 2\"][\"Potencia Entrada (W)\"].sum()\n",
        "potencia_activa_planta3 = df2[df2[\"Planta\"] == \"Planta 3\"][\"Potencia Entrada (W)\"].sum()\n",
        "potencia_activa_planta4 = df2[df2[\"Planta\"] == \"Planta 4\"][\"Potencia Entrada (W)\"].sum()\n",
        "potencia_activa_planta5 = df2[df2[\"Planta\"] == \"Planta 5\"][\"Potencia Entrada (W)\"].sum()\n",
        "\n",
        "#potencia reactiva por planta a 220V\n",
        "potencia_reactiva_planta1_220 = df2[df2[\"Planta\"] == \"Planta 1\"][\"Potencia Reactiva (VAR) 220V\"].sum()\n",
        "potencia_reactiva_planta2_220 = df2[df2[\"Planta\"] == \"Planta 2\"][\"Potencia Reactiva (VAR) 220V\"].sum()\n",
        "potencia_reactiva_planta3_220 = df2[df2[\"Planta\"] == \"Planta 3\"][\"Potencia Reactiva (VAR) 220V\"].sum()\n",
        "potencia_reactiva_planta4_220 = df2[df2[\"Planta\"] == \"Planta 4\"][\"Potencia Reactiva (VAR) 220V\"].sum()\n",
        "potencia_reactiva_planta5_220 = df2[df2[\"Planta\"] == \"Planta 5\"][\"Potencia Reactiva (VAR) 220V\"].sum()\n",
        "\n",
        "#potencia reactiva por planta a 380V\n",
        "potencia_reactiva_planta1_380 = df2[df2[\"Planta\"] == \"Planta 1\"][\"Potencia Reactiva (VAR) 380V\"].sum()\n",
        "potencia_reactiva_planta2_380 = df2[df2[\"Planta\"] == \"Planta 2\"][\"Potencia Reactiva (VAR) 380V\"].sum()\n",
        "potencia_reactiva_planta3_380 = df2[df2[\"Planta\"] == \"Planta 3\"][\"Potencia Reactiva (VAR) 380V\"].sum()\n",
        "potencia_reactiva_planta4_380 = df2[df2[\"Planta\"] == \"Planta 4\"][\"Potencia Reactiva (VAR) 380V\"].sum()\n",
        "potencia_reactiva_planta5_380 = df2[df2[\"Planta\"] == \"Planta 5\"][\"Potencia Reactiva (VAR) 380V\"].sum()\n",
        "\n",
        "#potencia aparente por planta a 220V\n",
        "potencia_aparente_planta1_220 = df2[df2[\"Planta\"] == \"Planta 1\"][\"Potencia aparente (VA) 220V\"].sum()\n",
        "potencia_aparente_planta2_220 = df2[df2[\"Planta\"] == \"Planta 2\"][\"Potencia aparente (VA) 220V\"].sum()\n",
        "potencia_aparente_planta3_220 = df2[df2[\"Planta\"] == \"Planta 3\"][\"Potencia aparente (VA) 220V\"].sum()\n",
        "potencia_aparente_planta4_220 = df2[df2[\"Planta\"] == \"Planta 4\"][\"Potencia aparente (VA) 220V\"].sum()\n",
        "potencia_aparente_planta5_220 = df2[df2[\"Planta\"] == \"Planta 5\"][\"Potencia aparente (VA) 220V\"].sum()\n",
        "\n",
        "#potencia aparente por planta a 380V\n",
        "potencia_aparente_planta1_380 = df2[df2[\"Planta\"] == \"Planta 1\"][\"Potencia aparente (VA) 380V\"].sum()\n",
        "potencia_aparente_planta2_380 = df2[df2[\"Planta\"] == \"Planta 2\"][\"Potencia aparente (VA) 380V\"].sum()\n",
        "potencia_aparente_planta3_380 = df2[df2[\"Planta\"] == \"Planta 3\"][\"Potencia aparente (VA) 380V\"].sum()\n",
        "potencia_aparente_planta4_380 = df2[df2[\"Planta\"] == \"Planta 4\"][\"Potencia aparente (VA) 380V\"].sum()\n",
        "potencia_aparente_planta5_380 = df2[df2[\"Planta\"] == \"Planta 5\"][\"Potencia aparente (VA) 380V\"].sum()\n",
        "\n",
        "lista_potencias_planta = [{\"Planta\": \"Planta 1\", \"Potencia Activa\": potencia_activa_planta1, \"Potencia Reactiva 220V\": potencia_reactiva_planta1_220, \"Potencia Reactiva 380V\": potencia_reactiva_planta1_380, \"Potencia Aparente 220V\": potencia_aparente_planta1_220, \"Potencia Aparente 380V\": potencia_aparente_planta1_380},\n",
        "                          {\"Planta\": \"Planta 2\", \"Potencia Activa\": potencia_activa_planta2, \"Potencia Reactiva 220V\": potencia_reactiva_planta2_220, \"Potencia Reactiva 380V\": potencia_reactiva_planta2_380, \"Potencia Aparente 220V\": potencia_aparente_planta2_220, \"Potencia Aparente 380V\": potencia_aparente_planta2_380},\n",
        "                          {\"Planta\": \"Planta 3\", \"Potencia Activa\": potencia_activa_planta3, \"Potencia Reactiva 220V\": potencia_reactiva_planta3_220, \"Potencia Reactiva 380V\": potencia_reactiva_planta3_380, \"Potencia Aparente 220V\": potencia_aparente_planta3_220, \"Potencia Aparente 380V\": potencia_aparente_planta3_380},\n",
        "                          {\"Planta\": \"Planta 4\", \"Potencia Activa\": potencia_activa_planta4, \"Potencia Reactiva 220V\": potencia_reactiva_planta4_220, \"Potencia Reactiva 380V\": potencia_reactiva_planta4_380, \"Potencia Aparente 220V\": potencia_aparente_planta4_220, \"Potencia Aparente 380V\": potencia_aparente_planta4_380},\n",
        "                          {\"Planta\": \"Planta 5\", \"Potencia Activa\": potencia_activa_planta5, \"Potencia Reactiva 220V\": potencia_reactiva_planta5_220, \"Potencia Reactiva 380V\": potencia_reactiva_planta5_380, \"Potencia Aparente 220V\": potencia_aparente_planta5_220, \"Potencia Aparente 380V\": potencia_aparente_planta5_380}]\n",
        "\n",
        "df_potencias_planta = pd.DataFrame(lista_potencias_planta)"
      ]
    },
    {
      "cell_type": "code",
      "execution_count": 198,
      "metadata": {},
      "outputs": [],
      "source": [
        "df_potencias_planta.to_excel('tablas/potencias_por_planta.xlsx', index=False)"
      ]
    },
    {
      "cell_type": "markdown",
      "metadata": {
        "id": "82p_yybpGuJt"
      },
      "source": [
        "# PARA 220V"
      ]
    },
    {
      "cell_type": "markdown",
      "metadata": {
        "id": "D6OyubzMGq6c"
      },
      "source": [
        "Magnitud de corriente a 220V para determinar el total de la corriente que se usará para dimensionar el grosor del cable sobre la Planta 1"
      ]
    },
    {
      "cell_type": "code",
      "execution_count": 199,
      "metadata": {
        "colab": {
          "base_uri": "https://localhost:8080/"
        },
        "id": "pGxPmbYuGrXf",
        "outputId": "cecaa736-20ea-41c0-e443-6c5117e5bbfc"
      },
      "outputs": [
        {
          "name": "stdout",
          "output_type": "stream",
          "text": [
            "Magnitud de corriente a 220V para los motores de la planta 1: 740.8613845652662 A\n"
          ]
        }
      ],
      "source": [
        "Corriente_Planta_1_220V = np.sqrt((df2[df2['Planta'] == 'Planta 1']['Real Corriente 220V +25%'].sum())**2 + (df2[df2['Planta'] == 'Planta 1']['Imaginaria Corriente 220V +25%'].sum())**2)\n",
        "print(f'Magnitud de corriente a 220V para los motores de la planta 1: {Corriente_Planta_1_220V} A')"
      ]
    },
    {
      "cell_type": "markdown",
      "metadata": {
        "id": "Nrq_t7VDG44S"
      },
      "source": [
        "Magnitud de corriente a 220V para determinar el total de la corriente que se usará para dimensionar el grosor del cable sobre la Planta 2"
      ]
    },
    {
      "cell_type": "code",
      "execution_count": 200,
      "metadata": {
        "colab": {
          "base_uri": "https://localhost:8080/"
        },
        "id": "49uL3GyTGyLQ",
        "outputId": "2892c000-1ec4-48e9-cdf2-33135bf65621"
      },
      "outputs": [
        {
          "name": "stdout",
          "output_type": "stream",
          "text": [
            "Magnitud de corriente a 220V para los motores de la planta 2: 1055.846103440497 A\n"
          ]
        }
      ],
      "source": [
        "Corriente_Planta_2_220V = np.sqrt((df2[df2['Planta'] == 'Planta 2']['Real Corriente 220V +25%'].sum())**2 + (df2[df2['Planta'] == 'Planta 2']['Imaginaria Corriente 220V +25%'].sum())**2)\n",
        "print(f'Magnitud de corriente a 220V para los motores de la planta 2: {Corriente_Planta_2_220V} A')"
      ]
    },
    {
      "cell_type": "markdown",
      "metadata": {
        "id": "nvutnbNHHADO"
      },
      "source": [
        "Magnitud de corriente a 220V para determinar el total de la corriente que se usará para dimensionar el grosor del cable sobre la Planta 3"
      ]
    },
    {
      "cell_type": "code",
      "execution_count": 201,
      "metadata": {
        "colab": {
          "base_uri": "https://localhost:8080/"
        },
        "id": "VIKRVR_pHAXc",
        "outputId": "0e9bd11d-1d4f-4f30-ae84-5f5ddff2ac7b"
      },
      "outputs": [
        {
          "name": "stdout",
          "output_type": "stream",
          "text": [
            "Magnitud de corriente a 220V para los motores de la planta 3: 1184.1293915625126 A\n"
          ]
        }
      ],
      "source": [
        "Corriente_Planta_3_220V = np.sqrt((df2[df2['Planta'] == 'Planta 3']['Real Corriente 220V +25%'].sum())**2 + (df2[df2['Planta'] == 'Planta 3']['Imaginaria Corriente 220V +25%'].sum())**2)\n",
        "print(f'Magnitud de corriente a 220V para los motores de la planta 3: {Corriente_Planta_3_220V} A')"
      ]
    },
    {
      "cell_type": "markdown",
      "metadata": {
        "id": "CP5aF3ojHFly"
      },
      "source": [
        "Magnitud de corriente a 220V para determinar el total de la corriente que se usará para dimensionar el grosor del cable sobre la Planta 4"
      ]
    },
    {
      "cell_type": "code",
      "execution_count": 202,
      "metadata": {
        "colab": {
          "base_uri": "https://localhost:8080/"
        },
        "id": "UJJENGhsHFHX",
        "outputId": "8eeb84d7-b641-4ec1-9a91-318a1e656d06"
      },
      "outputs": [
        {
          "name": "stdout",
          "output_type": "stream",
          "text": [
            "Magnitud de corriente a 220V para los motores de la planta 4: 774.7133890486778 A\n"
          ]
        }
      ],
      "source": [
        "Corriente_Planta_4_220V = np.sqrt((df2[df2['Planta'] == 'Planta 4']['Real Corriente 220V +25%'].sum())**2 + (df2[df2['Planta'] == 'Planta 4']['Imaginaria Corriente 220V +25%'].sum())**2)\n",
        "print(f'Magnitud de corriente a 220V para los motores de la planta 4: {Corriente_Planta_4_220V} A')"
      ]
    },
    {
      "cell_type": "markdown",
      "metadata": {
        "id": "P-Chg5ZPHJIM"
      },
      "source": [
        "Magnitud de corriente a 220V para determinar el total de la corriente que se usará para dimensionar el grosor del cable sobre la Planta 5"
      ]
    },
    {
      "cell_type": "code",
      "execution_count": 203,
      "metadata": {
        "colab": {
          "base_uri": "https://localhost:8080/"
        },
        "id": "ruugeKKLHL7W",
        "outputId": "94a8900f-d679-42ce-a0a5-120651571660"
      },
      "outputs": [
        {
          "name": "stdout",
          "output_type": "stream",
          "text": [
            "Magnitud de corriente a 220V para los motores de la planta 5: 1396.9715056603966 A\n"
          ]
        }
      ],
      "source": [
        "Corriente_Planta_5_220V = np.sqrt((df2[df2['Planta'] == 'Planta 5']['Real Corriente 220V +25%'].sum())**2 + (df2[df2['Planta'] == 'Planta 5']['Imaginaria Corriente 220V +25%'].sum())**2)\n",
        "print(f'Magnitud de corriente a 220V para los motores de la planta 5: {Corriente_Planta_5_220V} A')"
      ]
    },
    {
      "cell_type": "markdown",
      "metadata": {
        "id": "TNzNCGgPHTaw"
      },
      "source": [
        "# PARA 380V"
      ]
    },
    {
      "cell_type": "markdown",
      "metadata": {
        "id": "mYgky64NHeQq"
      },
      "source": [
        "Magnitud de corriente a 380V para determinar el total de la corriente que se usará para dimensionar el grosor del cable sobre la Planta 1"
      ]
    },
    {
      "cell_type": "code",
      "execution_count": 204,
      "metadata": {
        "colab": {
          "base_uri": "https://localhost:8080/"
        },
        "id": "rCR8wgELHRXK",
        "outputId": "f28be510-6ac3-49cf-e683-1bfafec30980"
      },
      "outputs": [
        {
          "name": "stdout",
          "output_type": "stream",
          "text": [
            "Magnitud de corriente a 380V para los motores de la planta 1: 428.91974895883834 A\n"
          ]
        }
      ],
      "source": [
        "Corriente_Planta_1_380V = np.sqrt((df2[df2['Planta'] == 'Planta 1']['Real Corriente 380V +25%'].sum())**2 + (df2[df2['Planta'] == 'Planta 1']['Imaginaria Corriente 380V +25%'].sum())**2)\n",
        "print(f'Magnitud de corriente a 380V para los motores de la planta 1: {Corriente_Planta_1_380V} A')"
      ]
    },
    {
      "cell_type": "markdown",
      "metadata": {
        "id": "xIZjBtagHhUa"
      },
      "source": [
        "Magnitud de corriente a 380V para determinar el total de la corriente que se usará para dimensionar el grosor del cable sobre la Planta 2"
      ]
    },
    {
      "cell_type": "code",
      "execution_count": 205,
      "metadata": {
        "colab": {
          "base_uri": "https://localhost:8080/"
        },
        "id": "fReZ_nphHj7L",
        "outputId": "1e4dd1f7-5c05-48d0-d1f3-4584853450b2"
      },
      "outputs": [
        {
          "name": "stdout",
          "output_type": "stream",
          "text": [
            "Magnitud de corriente a 380V para los motores de la planta 2: 611.2793230444981 A\n"
          ]
        }
      ],
      "source": [
        "Corriente_Planta_2_380V = np.sqrt((df2[df2['Planta'] == 'Planta 2']['Real Corriente 380V +25%'].sum())**2 + (df2[df2['Planta'] == 'Planta 2']['Imaginaria Corriente 380V +25%'].sum())**2)\n",
        "print(f'Magnitud de corriente a 380V para los motores de la planta 2: {Corriente_Planta_2_380V} A')"
      ]
    },
    {
      "cell_type": "markdown",
      "metadata": {
        "id": "xyw-T6sdHnd6"
      },
      "source": [
        "Magnitud de corriente a 380V para determinar el total de la corriente que se usará para dimensionar el grosor del cable sobre la Planta 3"
      ]
    },
    {
      "cell_type": "code",
      "execution_count": 206,
      "metadata": {
        "colab": {
          "base_uri": "https://localhost:8080/"
        },
        "id": "-emr-hA0Hr_D",
        "outputId": "477e27b9-5fb1-477e-b04f-2de4e5a78e94"
      },
      "outputs": [
        {
          "name": "stdout",
          "output_type": "stream",
          "text": [
            "Magnitud de corriente a 380V para los motores de la planta 3: 685.5485951151388 A\n"
          ]
        }
      ],
      "source": [
        "Corriente_Planta_3_380V = np.sqrt((df2[df2['Planta'] == 'Planta 3']['Real Corriente 380V +25%'].sum())**2 + (df2[df2['Planta'] == 'Planta 3']['Imaginaria Corriente 380V +25%'].sum())**2)\n",
        "print(f'Magnitud de corriente a 380V para los motores de la planta 3: {Corriente_Planta_3_380V} A')"
      ]
    },
    {
      "cell_type": "markdown",
      "metadata": {
        "id": "1lTW9v4wHuSL"
      },
      "source": [
        "Magnitud de corriente a 380V para determinar el total de la corriente que se usará para dimensionar el grosor del cable sobre la Planta 4"
      ]
    },
    {
      "cell_type": "code",
      "execution_count": 207,
      "metadata": {
        "colab": {
          "base_uri": "https://localhost:8080/"
        },
        "id": "BPc_5FIjHulX",
        "outputId": "665b00e7-c4d7-494b-d0b7-5056f2cbae32"
      },
      "outputs": [
        {
          "name": "stdout",
          "output_type": "stream",
          "text": [
            "Magnitud de corriente a 380V para los motores de la planta 4: 448.51827787028714 A\n"
          ]
        }
      ],
      "source": [
        "Corriente_Planta_4_380V = np.sqrt((df2[df2['Planta'] == 'Planta 4']['Real Corriente 380V +25%'].sum())**2 + (df2[df2['Planta'] == 'Planta 4']['Imaginaria Corriente 380V +25%'].sum())**2)\n",
        "print(f'Magnitud de corriente a 380V para los motores de la planta 4: {Corriente_Planta_4_380V} A')"
      ]
    },
    {
      "cell_type": "markdown",
      "metadata": {
        "id": "6WyDuU5kH1ft"
      },
      "source": [
        "Magnitud de corriente a 380V para determinar el total de la corriente que se usará para dimensionar el grosor del cable sobre la Planta 5"
      ]
    },
    {
      "cell_type": "code",
      "execution_count": 208,
      "metadata": {
        "colab": {
          "base_uri": "https://localhost:8080/"
        },
        "id": "Nfbz0CjLHzor",
        "outputId": "d9bf158b-9207-43b8-dac7-5bbaeacfbb63"
      },
      "outputs": [
        {
          "name": "stdout",
          "output_type": "stream",
          "text": [
            "Magnitud de corriente a 380V para los motores de la planta 5: 808.7729769612822 A\n"
          ]
        }
      ],
      "source": [
        "Corriente_Planta_5_380V = np.sqrt((df2[df2['Planta'] == 'Planta 5']['Real Corriente 380V +25%'].sum())**2 + (df2[df2['Planta'] == 'Planta 5']['Imaginaria Corriente 380V +25%'].sum())**2)\n",
        "print(f'Magnitud de corriente a 380V para los motores de la planta 5: {Corriente_Planta_5_380V} A')"
      ]
    },
    {
      "cell_type": "markdown",
      "metadata": {
        "id": "1Q5Epr3kNm0n"
      },
      "source": [
        "Debido a que existen consumos auxiliares, se tiene que estos consumen 480kW, se puede partir de que poseen un factor de potencia de FP = 1, por lo tanto es pertinente calcular su consumo de corriente a 220V que es al voltaje al cual se encuentran conectados, suponiendo que son cargas puramente resistivas, estas no cuentan con desfase por lo tanto no poseen parte imaginaria, por lo que:"
      ]
    },
    {
      "cell_type": "code",
      "execution_count": 209,
      "metadata": {
        "colab": {
          "base_uri": "https://localhost:8080/"
        },
        "id": "u9weJoqjNm0n",
        "outputId": "ba5b9f45-2e9f-41e5-96c1-2255f58d3f0b"
      },
      "outputs": [
        {
          "name": "stdout",
          "output_type": "stream",
          "text": [
            "Magnitud de corriente a 220V para los Auxiliares: 1259.6733145955473 A\n"
          ]
        }
      ],
      "source": [
        "FP_aux = 1\n",
        "Corriente_Auxiliares = 480000/(np.sqrt(3)*220*FP_aux)\n",
        "print(f'Magnitud de corriente a 220V para los Auxiliares: {Corriente_Auxiliares} A')"
      ]
    },
    {
      "cell_type": "markdown",
      "metadata": {
        "id": "NplsdOIuH5tz"
      },
      "source": [
        "## CAMBIO DE MOTORES ##"
      ]
    },
    {
      "cell_type": "markdown",
      "metadata": {
        "id": "IQ4Ax2WkNm0n"
      },
      "source": [
        "Dado un transformador de 13200/220V, según el documento de publicación de tarifas del mes de mayo de 2024, se tiene que para un transformador de este tipo se encuentra en el Nivel II de consumo por lo que la tarifa a pagar por poseer un contador antes del transformador es de:"
      ]
    },
    {
      "cell_type": "markdown",
      "metadata": {
        "id": "9GaOw-KzNm0o"
      },
      "source": [
        "Dado un transformador de 44000/220V, según el documento de publicación de tarifas del mes de mayo de 2024, se tiene que para un transformador de este tipo se encuentra en el Nivel III de consumo por lo que la tarifa a pagar por poseer un contador antes del transformador es de:"
      ]
    },
    {
      "cell_type": "code",
      "execution_count": 210,
      "metadata": {
        "id": "fYaB2SVgcjFf"
      },
      "outputs": [],
      "source": [
        "def actualizar_valores(row,df_filtro,potencia_seleccionada,potencia_real):\n",
        "    potencia_real_02                            = potencia_real + potencia_real* 0.2\n",
        "    costo_año_anterior_NIVEL2                          = row[\"costo/año_NIVEL2\"]\n",
        "    costo_año_anterior_NIVEL3                          = row[\"costo/año_NIVEL3\"]\n",
        "    row[\"Potencia (HP)\"]                        = potencia_seleccionada\n",
        "    row[\"Factor de carga maximo\"]               = potencia_real_02 / potencia_seleccionada\n",
        "    row[\"Eficiencia (%)\"]                       = df_filtro.iloc[0][\"Eficiencia %\"] / 100\n",
        "    row[\"Potencia Entrada (W)\"]                 = (potencia_real * 746) / (row[\"Eficiencia (%)\"])\n",
        "    row['Potencia Salida (W)']                  = (potencia_real * 746)\n",
        "    row[\"Corriente a 220V (A)\"]                 = row[\"Potencia Entrada (W)\"] / (np.sqrt(3) * 220 * row[\"Factor de potencia\"])\n",
        "    row['Corriente a 380V (A)']                 = row['Potencia Entrada (W)'] / (np.sqrt(3) * 380 * row['Factor de potencia'])\n",
        "    row['Pérdidas Motor (W)']                   = row['Potencia Entrada (W)'] - row['Potencia Salida (W)']\n",
        "    row['Corriente a 220V (A) +25%']            = row['Corriente a 220V (A)']*1.25\n",
        "    row['Corriente a 380V (A) +25%']            = row['Corriente a 380V (A)']*1.25\n",
        "    row[\"Velocidad real (RPM)\"]                 = df_filtro.iloc[0][\"Velocidad rpm\"]\n",
        "    row['Deslizamiento (RPM)']                  = row['Velocidad síncrona (RPM)'] - row['Velocidad real (RPM)']\n",
        "    row['Deslizamiento (%)']                    = ((row['Velocidad síncrona (RPM)'] - row['Velocidad real (RPM)']) / row['Velocidad síncrona (RPM)'])*100\n",
        "    row['Torque (N.m)']                         = (row['Potencia (HP)'] * 746 * (row['Factor de carga maximo'])) / ((row['Velocidad real (RPM)'] * 2 * np.pi)/60)\n",
        "    row['theta (°)']                            = np.degrees(np.arccos(row['Factor de potencia']))\n",
        "    row[\"Potencia Reactiva (VAR) 220V\"]         = 220 * row['Corriente a 220V (A)'] * np.sin(np.radians(row['theta (°)']))\n",
        "    row[\"Potencia Reactiva (VAR) 380V\"]         = 380 * row['Corriente a 380V (A)'] * np.sin(np.radians(row['theta (°)']))\n",
        "    row[\"Potencia aparente (VA) 220V\"]          = row['Potencia Entrada (W)'] / np.cos(np.radians(row['theta (°)']))\n",
        "    row[\"Potencia aparente (VA) 380V\"]          = row['Potencia Entrada (W)'] / np.cos(np.radians(row['theta (°)']))\n",
        "    row['Real Corriente 220V Normal']           = row['Corriente a 220V (A)'] * np.cos(np.radians(row['theta (°)']))\n",
        "    row['Imaginaria Corriente 220V Normal']     = row['Corriente a 220V (A)'] * np.sin(np.radians(row['theta (°)']))\n",
        "    row['Real Corriente 380V Normal']           = row['Corriente a 380V (A)'] * np.cos(np.radians(row['theta (°)']))\n",
        "    row['Imaginaria Corriente 380V Normal']     = row['Corriente a 380V (A)'] * np.sin(np.radians(row['theta (°)']))\n",
        "    row['Real Corriente 220V +25%']             = row['Corriente a 220V (A) +25%'] * np.cos(np.radians(row['theta (°)']))\n",
        "    row['Imaginaria Corriente 220V +25%']       = row['Corriente a 220V (A) +25%'] * np.sin(np.radians(row['theta (°)']))\n",
        "    row['Real Corriente 380V +25%']             = row['Corriente a 380V (A) +25%'] * np.cos(np.radians(row['theta (°)']))\n",
        "    row['Imaginaria Corriente 380V +25%']       = row['Corriente a 380V (A) +25%'] * np.sin(np.radians(row['theta (°)']))\n",
        "    row[\"kw por año\"]                           = (row[\"Potencia Entrada (W)\"]/1000) * TOTALHORAS\n",
        "    row[\"costo por año NIVEL 2\"]                        = row[\"kw por año\"] * TARIFA_T1\n",
        "    row[\"costo por año NIVEL 3\"]                        = row[\"kw por año\"] * TARIFA_T2\n",
        "    row[\"costo por año motor anterior NIVEL 2\"]         = costo_año_anterior_NIVEL2\n",
        "    row[\"costo por año motor anterior NIVEL 3\"]         = costo_año_anterior_NIVEL3\n",
        "    row[\"ahorro por año NIVEL 2\"]                       = row[\"costo por año motor anterior NIVEL 2\"] - row[\"costo por año NIVEL 2\"] \n",
        "    row[\"ahorro por mes NIVEL 2\"]                       = row[\"ahorro por año NIVEL 2\"] / 12\n",
        "    row[\"ahorro por año NIVEL 3\"]                       = row[\"costo por año motor anterior NIVEL 3\"] - row[\"costo por año NIVEL 3\"] \n",
        "    row[\"ahorro por mes NIVEL 3\"]                       = row[\"ahorro por año NIVEL 3\"] / 12\n",
        "    row[\"costo motor pesos\"]                    = df_filtro.iloc[0][\"costo_Pesos\"]\n",
        "    row[\"tiempo retribucion en meses NIVEL 2\"]                   = df_filtro.iloc[0][\"costo_Pesos\"] / row[\"ahorro por mes NIVEL 2\"]\n",
        "    row[\"tiempo retribucion en meses NIVEL 3\"]                   = df_filtro.iloc[0][\"costo_Pesos\"] / row[\"ahorro por mes NIVEL 3\"]\n",
        "    return row\n",
        " "
      ]
    },
    {
      "cell_type": "code",
      "execution_count": 211,
      "metadata": {
        "id": "07JIRbO2H_Tw"
      },
      "outputs": [],
      "source": [
        "df_catalogo = pd.read_csv(\"catalogo_motores_completo.csv\")\n",
        "df_catalogo = df_catalogo[df_catalogo[\"rpm\"]==3600]\n",
        "def cambio(row):\n",
        "\n",
        "    cambio_fc         = False\n",
        "    cambio_eficiencia = False\n",
        "    #se debe verificar si el cambio es por factor de carga o factor de potencia\n",
        "    if  row['cambio FC'] == 'Si':\n",
        "        potencia_real     = row['Potencia (HP)'] * row[\"Factor de carga maximo\"]\n",
        "\n",
        "        #calculo del valor, mas un 20%\n",
        "        potencia_real_02  = potencia_real + potencia_real* 0.2\n",
        "\n",
        "        #buscamos en el catalogo los motores mayores al valor y escogemos el primero\n",
        "        df_filtro               = df_catalogo[df_catalogo[\"Potencia HP\"] >= potencia_real_02].sort_values(by=\"Potencia HP\", ascending=True).copy()\n",
        "        potencia_seleccionada   = df_filtro.iloc[0][\"Potencia HP\"]\n",
        "        # print(row['Potencia (HP)'],row[\"Factor de carga maximo\"],potencia_real,potencia_real_02,potencia_seleccionada)\n",
        "\n",
        "        if potencia_seleccionada == row['Potencia (HP)']:\n",
        "            # print(\"no hay cambio debido a que el motor que se encontro, es del mismo tamaño que el que se tiene\")\n",
        "            cambio_fc = False\n",
        "        else:\n",
        "            # print(\"se encontro un motor de menor tamaño al que se le puede aplicar el cambio\")\n",
        "            cambio_fc = True\n",
        "\n",
        "            #se procede a actualizar el resto de calculos para este valor\n",
        "            row = actualizar_valores(row,df_filtro,potencia_seleccionada,potencia_real)\n",
        "\n",
        "\n",
        "    #si no hay cambio por factor de carga, se verifica si lo hay por eficiencia\n",
        "    if cambio_fc == False and row['cambio Eficiencia'] == 'Si':\n",
        "          df_filtro     = df_catalogo[df_catalogo[\"Potencia HP\"] == row[\"Potencia (HP)\"]].copy()\n",
        "          #row,df_filtro,potencia_seleccionada,potencia_real\n",
        "          row           = actualizar_valores(row,df_filtro,row[\"Potencia (HP)\"],row[\"Potencia (HP)\"]*row[\"Factor de carga maximo\"])\n",
        "          cambio_eficiencia = True\n",
        "    else:\n",
        "        cambio_eficiencia = False\n",
        "\n",
        "\n",
        "    if cambio_eficiencia == True or cambio_fc == True:\n",
        "        row[\"cambio\"] = \"Si\"\n",
        "    else:\n",
        "        row[\"cambio\"] = \"No\"\n",
        "\n",
        "    return row\n",
        "\n"
      ]
    },
    {
      "cell_type": "code",
      "execution_count": 212,
      "metadata": {
        "id": "qCB1Sc_JIDMl"
      },
      "outputs": [],
      "source": [
        "df3 = df2.copy()\n",
        "df3 = df3.apply(cambio, axis=1)"
      ]
    },
    {
      "cell_type": "code",
      "execution_count": 213,
      "metadata": {},
      "outputs": [],
      "source": [
        "df3_orden = ['Planta', 'Distancia', 'Motor', 'Potencia (HP)', 'Eficiencia (%)',\n",
        "             'Factor de carga maximo', 'Factor de potencia','Potencia Entrada (W)','Potencia Salida (W)','Pérdidas Motor (W)',\n",
        "             'Potencia Reactiva (VAR) 220V','Potencia Reactiva (VAR) 380V','Potencia aparente (VA) 220V','Potencia aparente (VA) 380V',\n",
        "             'Corriente a 220V (A)','Corriente a 220V (A) +25%','Corriente a 380V (A)','Corriente a 380V (A) +25%',\n",
        "             'Real Corriente 220V Normal','Imaginaria Corriente 220V Normal','Real Corriente 380V Normal','Imaginaria Corriente 380V Normal',\n",
        "             'Real Corriente 220V +25%','Imaginaria Corriente 220V +25%','Real Corriente 380V +25%','Imaginaria Corriente 380V +25%','theta (°)',\n",
        "             'Velocidad síncrona (RPM)','Velocidad real (RPM)','Deslizamiento (RPM)','Deslizamiento (%)','Torque (N.m)',\n",
        "             'kw por año','cambio','costo motor pesos','costo por año motor anterior NIVEL 2','costo por año motor anterior NIVEL 3',\n",
        "             'costo por año NIVEL 2','costo por año NIVEL 3','ahorro por año NIVEL 2','ahorro por año NIVEL 3',\n",
        "             'ahorro por mes NIVEL 2','ahorro por mes NIVEL 3','tiempo retribucion en meses NIVEL 2','tiempo retribucion en meses NIVEL 3']\n",
        "df3     = df3[df3_orden]"
      ]
    },
    {
      "cell_type": "code",
      "execution_count": 214,
      "metadata": {},
      "outputs": [],
      "source": [
        "df3.to_excel('tablas/calculos_motores_cambiados.xlsx', index=False)"
      ]
    },
    {
      "cell_type": "code",
      "execution_count": 215,
      "metadata": {
        "id": "mllDKvwYSSOr"
      },
      "outputs": [],
      "source": [
        "Corriente_Planta_1_220V_Normal_cambio = np.sqrt((df3[df3['Planta'] == 'Planta 1']['Real Corriente 220V Normal'].sum())**2 + (df3[df3['Planta'] == 'Planta 1']['Imaginaria Corriente 220V Normal'].sum())**2)\n",
        "Corriente_Planta_2_220V_Normal_cambio = np.sqrt((df3[df3['Planta'] == 'Planta 2']['Real Corriente 220V Normal'].sum())**2 + (df3[df3['Planta'] == 'Planta 2']['Imaginaria Corriente 220V Normal'].sum())**2)\n",
        "Corriente_Planta_3_220V_Normal_cambio = np.sqrt((df3[df3['Planta'] == 'Planta 3']['Real Corriente 220V Normal'].sum())**2 + (df3[df3['Planta'] == 'Planta 3']['Imaginaria Corriente 220V Normal'].sum())**2)\n",
        "Corriente_Planta_4_220V_Normal_cambio = np.sqrt((df3[df3['Planta'] == 'Planta 4']['Real Corriente 220V Normal'].sum())**2 + (df3[df3['Planta'] == 'Planta 4']['Imaginaria Corriente 220V Normal'].sum())**2)\n",
        "Corriente_Planta_5_220V_Normal_cambio = np.sqrt((df3[df3['Planta'] == 'Planta 5']['Real Corriente 220V Normal'].sum())**2 + (df3[df3['Planta'] == 'Planta 5']['Imaginaria Corriente 220V Normal'].sum())**2)\n",
        "\n",
        "Corriente_Planta_1_380V_Normal_cambio = np.sqrt((df3[df3['Planta'] == 'Planta 1']['Real Corriente 380V Normal'].sum())**2 + (df3[df3['Planta'] == 'Planta 1']['Imaginaria Corriente 380V Normal'].sum())**2)\n",
        "Corriente_Planta_2_380V_Normal_cambio = np.sqrt((df3[df3['Planta'] == 'Planta 2']['Real Corriente 380V Normal'].sum())**2 + (df3[df3['Planta'] == 'Planta 2']['Imaginaria Corriente 380V Normal'].sum())**2)\n",
        "Corriente_Planta_3_380V_Normal_cambio = np.sqrt((df3[df3['Planta'] == 'Planta 3']['Real Corriente 380V Normal'].sum())**2 + (df3[df3['Planta'] == 'Planta 3']['Imaginaria Corriente 380V Normal'].sum())**2)\n",
        "Corriente_Planta_4_380V_Normal_cambio = np.sqrt((df3[df3['Planta'] == 'Planta 4']['Real Corriente 380V Normal'].sum())**2 + (df3[df3['Planta'] == 'Planta 4']['Imaginaria Corriente 380V Normal'].sum())**2)\n",
        "Corriente_Planta_5_380V_Normal_cambio = np.sqrt((df3[df3['Planta'] == 'Planta 5']['Real Corriente 380V Normal'].sum())**2 + (df3[df3['Planta'] == 'Planta 5']['Imaginaria Corriente 380V Normal'].sum())**2)\n"
      ]
    },
    {
      "cell_type": "code",
      "execution_count": 216,
      "metadata": {},
      "outputs": [],
      "source": [
        "#potencia activa por planta\n",
        "potencia_activa_planta1_cambio = df3[df3[\"Planta\"] == \"Planta 1\"][\"Potencia Entrada (W)\"].sum()\n",
        "potencia_activa_planta2_cambio = df3[df3[\"Planta\"] == \"Planta 2\"][\"Potencia Entrada (W)\"].sum()\n",
        "potencia_activa_planta3_cambio = df3[df3[\"Planta\"] == \"Planta 3\"][\"Potencia Entrada (W)\"].sum()\n",
        "potencia_activa_planta4_cambio = df3[df3[\"Planta\"] == \"Planta 4\"][\"Potencia Entrada (W)\"].sum()\n",
        "potencia_activa_planta5_cambio = df3[df3[\"Planta\"] == \"Planta 5\"][\"Potencia Entrada (W)\"].sum()\n",
        "\n",
        "#potencia reactiva por planta a 220V\n",
        "potencia_reactiva_planta1_220_cambio = df3[df3[\"Planta\"] == \"Planta 1\"][\"Potencia Reactiva (VAR) 220V\"].sum()\n",
        "potencia_reactiva_planta2_220_cambio = df3[df3[\"Planta\"] == \"Planta 2\"][\"Potencia Reactiva (VAR) 220V\"].sum()\n",
        "potencia_reactiva_planta3_220_cambio = df3[df3[\"Planta\"] == \"Planta 3\"][\"Potencia Reactiva (VAR) 220V\"].sum()\n",
        "potencia_reactiva_planta4_220_cambio = df3[df3[\"Planta\"] == \"Planta 4\"][\"Potencia Reactiva (VAR) 220V\"].sum()\n",
        "potencia_reactiva_planta5_220_cambio = df3[df3[\"Planta\"] == \"Planta 5\"][\"Potencia Reactiva (VAR) 220V\"].sum()\n",
        "\n",
        "#potencia reactiva por planta a 380V\n",
        "potencia_reactiva_planta1_380_cambio = df3[df3[\"Planta\"] == \"Planta 1\"][\"Potencia Reactiva (VAR) 380V\"].sum()\n",
        "potencia_reactiva_planta2_380_cambio = df3[df3[\"Planta\"] == \"Planta 2\"][\"Potencia Reactiva (VAR) 380V\"].sum()\n",
        "potencia_reactiva_planta3_380_cambio = df3[df3[\"Planta\"] == \"Planta 3\"][\"Potencia Reactiva (VAR) 380V\"].sum()\n",
        "potencia_reactiva_planta4_380_cambio = df3[df3[\"Planta\"] == \"Planta 4\"][\"Potencia Reactiva (VAR) 380V\"].sum()\n",
        "potencia_reactiva_planta5_380_cambio = df3[df3[\"Planta\"] == \"Planta 5\"][\"Potencia Reactiva (VAR) 380V\"].sum()\n",
        "\n",
        "#potencia aparente por planta a 220V\n",
        "potencia_aparente_planta1_220_cambio = df3[df3[\"Planta\"] == \"Planta 1\"][\"Potencia aparente (VA) 220V\"].sum()\n",
        "potencia_aparente_planta2_220_cambio = df3[df3[\"Planta\"] == \"Planta 2\"][\"Potencia aparente (VA) 220V\"].sum()\n",
        "potencia_aparente_planta3_220_cambio = df3[df3[\"Planta\"] == \"Planta 3\"][\"Potencia aparente (VA) 220V\"].sum()\n",
        "potencia_aparente_planta4_220_cambio = df3[df3[\"Planta\"] == \"Planta 4\"][\"Potencia aparente (VA) 220V\"].sum()\n",
        "potencia_aparente_planta5_220_cambio = df3[df3[\"Planta\"] == \"Planta 5\"][\"Potencia aparente (VA) 220V\"].sum()\n",
        "\n",
        "#potencia aparente por planta a 380V\n",
        "potencia_aparente_planta1_380_cambio = df3[df3[\"Planta\"] == \"Planta 1\"][\"Potencia aparente (VA) 380V\"].sum()\n",
        "potencia_aparente_planta2_380_cambio = df3[df3[\"Planta\"] == \"Planta 2\"][\"Potencia aparente (VA) 380V\"].sum()\n",
        "potencia_aparente_planta3_380_cambio = df3[df3[\"Planta\"] == \"Planta 3\"][\"Potencia aparente (VA) 380V\"].sum()\n",
        "potencia_aparente_planta4_380_cambio = df3[df3[\"Planta\"] == \"Planta 4\"][\"Potencia aparente (VA) 380V\"].sum()\n",
        "potencia_aparente_planta5_380_cambio = df3[df3[\"Planta\"] == \"Planta 5\"][\"Potencia aparente (VA) 380V\"].sum()\n",
        "\n",
        "lista_potencias_planta_cambio = [{\"Planta\": \"Planta 1\", \"Potencia Activa\": potencia_activa_planta1_cambio, \"Potencia Reactiva 220V\": potencia_reactiva_planta1_220_cambio, \"Potencia Reactiva 380V\": potencia_reactiva_planta1_380_cambio, \"Potencia Aparente 220V\": potencia_aparente_planta1_220_cambio, \"Potencia Aparente 380V\": potencia_aparente_planta1_380_cambio},\n",
        "                                {\"Planta\": \"Planta 2\", \"Potencia Activa\": potencia_activa_planta2_cambio, \"Potencia Reactiva 220V\": potencia_reactiva_planta2_220_cambio, \"Potencia Reactiva 380V\": potencia_reactiva_planta2_380_cambio, \"Potencia Aparente 220V\": potencia_aparente_planta2_220_cambio, \"Potencia Aparente 380V\": potencia_aparente_planta2_380_cambio},\n",
        "                                {\"Planta\": \"Planta 3\", \"Potencia Activa\": potencia_activa_planta3_cambio, \"Potencia Reactiva 220V\": potencia_reactiva_planta3_220_cambio, \"Potencia Reactiva 380V\": potencia_reactiva_planta3_380_cambio, \"Potencia Aparente 220V\": potencia_aparente_planta3_220_cambio, \"Potencia Aparente 380V\": potencia_aparente_planta3_380_cambio},\n",
        "                                {\"Planta\": \"Planta 4\", \"Potencia Activa\": potencia_activa_planta4_cambio, \"Potencia Reactiva 220V\": potencia_reactiva_planta4_220_cambio, \"Potencia Reactiva 380V\": potencia_reactiva_planta4_380_cambio, \"Potencia Aparente 220V\": potencia_aparente_planta4_220_cambio, \"Potencia Aparente 380V\": potencia_aparente_planta4_380_cambio},\n",
        "                                {\"Planta\": \"Planta 5\", \"Potencia Activa\": potencia_activa_planta5_cambio, \"Potencia Reactiva 220V\": potencia_reactiva_planta5_220_cambio, \"Potencia Reactiva 380V\": potencia_reactiva_planta5_380_cambio, \"Potencia Aparente 220V\": potencia_aparente_planta5_220_cambio, \"Potencia Aparente 380V\": potencia_aparente_planta5_380_cambio}]\n",
        "\n",
        "df_potencias_planta_cambio  = pd.DataFrame(lista_potencias_planta_cambio)"
      ]
    },
    {
      "cell_type": "code",
      "execution_count": 217,
      "metadata": {},
      "outputs": [],
      "source": [
        "df_potencias_planta_cambio.to_excel('tablas/potencias_por_planta_cambio.xlsx', index=False)"
      ]
    },
    {
      "cell_type": "markdown",
      "metadata": {
        "id": "PyQaqljxNm0o"
      },
      "source": [
        "Según [Tabla verde, luego paso el link], dado un calibre de 500 mm2 se tiene una resistencia DC de Ohm/km para un cable de cobre, se tiene que posee una resistencia de 0.0366 Ohm por lo que si se requiere de una corriente determinada para alimentar cada planta a 220V o 380V es necesario aplicar una regla de 3 inversa para extraer el valor de la resistencia de pérdida a partir de https://www.gt-engineering.it/en/technical-standards/ul-and-nfpa-standards/ul-508a/cable-ampacity-ul-508a/, también es de anotar que es posible alimentar con un solo cable a partir de suma de corrientes, es decir, con corrientes menores por cada cable que se use para complementar la corriente objetivo a usar."
      ]
    },
    {
      "cell_type": "markdown",
      "metadata": {
        "id": "_eulO5hWNm0r"
      },
      "source": [
        "# PARA 220V"
      ]
    },
    {
      "cell_type": "markdown",
      "metadata": {
        "id": "XDM5aXUHNm0r"
      },
      "source": [
        "Grosor del cable sobre la Planta 1, a 220V:"
      ]
    },
    {
      "cell_type": "code",
      "execution_count": 218,
      "metadata": {
        "id": "j9RrGMigNm0r",
        "outputId": "adba4327-5a66-4744-aada-659f6d7a1f2c"
      },
      "outputs": [
        {
          "name": "stdout",
          "output_type": "stream",
          "text": [
            "La corriente necesaria es de 740.8613845652662 A para la planta 1, por lo que se necesita de dos cables que soporten 380 A de cobre, el cual corresponde a un valor de 500 kcmil.\n",
            "El grosor del cable necesario para 380 A es de 253 mm², por lo cual la regla de 3 inversa necesaria para obtener la resistencia de Ohm/km es de 0.07233201581027668 Ohm\n",
            "Ahora bien, la Planta 1 se encuentra a 200 metros del transformador, por lo cual la resistencia de pérdida será menor, esta equivale a 0.014466403162055335 Ohm\n"
          ]
        }
      ],
      "source": [
        "print(f'La corriente necesaria es de {Corriente_Planta_1_220V} A para la planta 1, por lo que se necesita de dos cables que soporten 380 A de cobre, el cual corresponde a un valor de 500 kcmil.')\n",
        "\n",
        "R_km_P1_220 = (500/253)*0.0366\n",
        "print(f'El grosor del cable necesario para 380 A es de 253 mm\\u00B2, por lo cual la regla de 3 inversa necesaria para obtener la resistencia de Ohm/km es de {R_km_P1_220} Ohm')\n",
        "\n",
        "Resistencia_Final_P1_220 = (200*R_km_P1_220)/1000\n",
        "print(f'Ahora bien, la Planta 1 se encuentra a 200 metros del transformador, por lo cual la resistencia de pérdida será menor, esta equivale a {Resistencia_Final_P1_220} Ohm')"
      ]
    },
    {
      "cell_type": "code",
      "execution_count": 219,
      "metadata": {
        "id": "waUff8lcNm0r",
        "outputId": "a0eae194-e3ac-4a42-b0f7-7957a8d84af8"
      },
      "outputs": [
        {
          "name": "stdout",
          "output_type": "stream",
          "text": [
            "0.007233201581027668\n",
            "592.689107652213\n",
            "La pérdida asociada a la corriente a 220V para la planta 1 de una sola línea son de 2540.8817879174903 W\n",
            "La pérdida asociada a la corrient e a 220V para la planta 1 para las 3 líneas son de 7622.645363752471 W\n"
          ]
        }
      ],
      "source": [
        "Paralelo_R_km_P1_220 = Resistencia_Final_P1_220/2\n",
        "print(Paralelo_R_km_P1_220)\n",
        "Perdida_P1_220 = Corriente_Planta_1_220V_Normal**2 * (Paralelo_R_km_P1_220)\n",
        "print(Corriente_Planta_1_220V_Normal)\n",
        "print(f'La pérdida asociada a la corriente a 220V para la planta 1 de una sola línea son de {Perdida_P1_220} W')\n",
        "Perdida_P1_220_Tri = 3*Perdida_P1_220\n",
        "print(f'La pérdida asociada a la corrient e a 220V para la planta 1 para las 3 líneas son de {Perdida_P1_220_Tri} W')"
      ]
    },
    {
      "cell_type": "markdown",
      "metadata": {
        "id": "eohsLb0tNm0r"
      },
      "source": [
        "Grosor del cable sobre la Planta 2, a 220V:"
      ]
    },
    {
      "cell_type": "code",
      "execution_count": 220,
      "metadata": {
        "id": "khRTiedGNm0s",
        "outputId": "391073ac-8b04-4090-9eae-f82a1c2f0ef0"
      },
      "outputs": [
        {
          "name": "stdout",
          "output_type": "stream",
          "text": [
            "La corriente necesaria es de 1055.846103440497 A para la planta 1, por lo que se necesita de dos cables que soporten 545 A de cobre, el cual corresponde a un valor de 1000 kcmil.\n",
            "El grosor del cable necesario para 545 A es de 506 mm², por lo cual la regla de 3 inversa necesaria para obtener la resistencia de Ohm/km es de 0.03616600790513834 Ohm\n",
            "Ahora bien, la Planta 2 se encuentra a 300 metros del transformador, por lo cual la resistencia de pérdida será menor, esta equivale a 0.010849802371541501 Ohm\n"
          ]
        }
      ],
      "source": [
        "print(f'La corriente necesaria es de {Corriente_Planta_2_220V} A para la planta 1, por lo que se necesita de dos cables que soporten 545 A de cobre, el cual corresponde a un valor de 1000 kcmil.')\n",
        "\n",
        "R_km_P2_220 = (500/506)*0.0366\n",
        "print(f'El grosor del cable necesario para 545 A es de 506 mm\\u00B2, por lo cual la regla de 3 inversa necesaria para obtener la resistencia de Ohm/km es de {R_km_P2_220} Ohm')\n",
        "\n",
        "Resistencia_Final_P2_220 = (300*R_km_P2_220)/1000\n",
        "print(f'Ahora bien, la Planta 2 se encuentra a 300 metros del transformador, por lo cual la resistencia de pérdida será menor, esta equivale a {Resistencia_Final_P2_220} Ohm')"
      ]
    },
    {
      "cell_type": "code",
      "execution_count": 221,
      "metadata": {
        "id": "nRNsel9JNm0s",
        "outputId": "c7a2160e-c587-49c9-9f69-b7dac7ff7367"
      },
      "outputs": [
        {
          "name": "stdout",
          "output_type": "stream",
          "text": [
            "La pérdida asociada a la corriente a 220V para la planta 2 son de 3870.553269809416 W\n",
            "La pérdida asociada a la corriente a 220V para la planta 1 para las 3 líneas son de 11611.659809428249 W\n"
          ]
        }
      ],
      "source": [
        "Paralelo_R_km_P2_220 = Resistencia_Final_P2_220/2\n",
        "Perdida_P2_220 = Corriente_Planta_2_220V_Normal**2 * (Paralelo_R_km_P2_220)\n",
        "print(f'La pérdida asociada a la corriente a 220V para la planta 2 son de {Perdida_P2_220} W')\n",
        "Perdida_P2_220_Tri = 3*Perdida_P2_220\n",
        "print(f'La pérdida asociada a la corriente a 220V para la planta 1 para las 3 líneas son de {Perdida_P2_220_Tri} W')"
      ]
    },
    {
      "cell_type": "markdown",
      "metadata": {
        "id": "0iilwY7nNm0s"
      },
      "source": [
        "Grosor del cable sobre la Planta 3, a 220V:"
      ]
    },
    {
      "cell_type": "code",
      "execution_count": 222,
      "metadata": {
        "id": "d5gjfywUNm0s",
        "outputId": "cd7e7292-877d-4e4f-d9ad-1a2ccb53031a"
      },
      "outputs": [
        {
          "name": "stdout",
          "output_type": "stream",
          "text": [
            "La corriente necesaria es de 1184.1293915625126 A para la planta 1, por lo que se necesita de dos cables que soporten 625 A de cobre, el cual corresponde a un valor de 1500 kcmil.\n",
            "El grosor del cable necesario para 625 A es de 887 mm², por lo cual la regla de 3 inversa necesaria para obtener la resistencia de Ohm/km es de 0.020631341600901916 Ohm\n",
            "Ahora bien, la Planta 3 se encuentra a 350 metros del transformador, por lo cual la resistencia de pérdida será menor, esta equivale a 0.00722096956031567 Ohm\n"
          ]
        }
      ],
      "source": [
        "print(f'La corriente necesaria es de {Corriente_Planta_3_220V} A para la planta 1, por lo que se necesita de dos cables que soporten 625 A de cobre, el cual corresponde a un valor de 1500 kcmil.')\n",
        "\n",
        "R_km_P3_220 = (500/887)*0.0366\n",
        "print(f'El grosor del cable necesario para 625 A es de 887 mm\\u00B2, por lo cual la regla de 3 inversa necesaria para obtener la resistencia de Ohm/km es de {R_km_P3_220} Ohm')\n",
        "\n",
        "Resistencia_Final_P3_220 = (350*R_km_P3_220)/1000\n",
        "print(f'Ahora bien, la Planta 3 se encuentra a 350 metros del transformador, por lo cual la resistencia de pérdida será menor, esta equivale a {Resistencia_Final_P3_220} Ohm')"
      ]
    },
    {
      "cell_type": "code",
      "execution_count": 223,
      "metadata": {
        "id": "cUSOyoVGNm0s",
        "outputId": "167ec6de-89e8-4d7f-8e15-3871db65db47"
      },
      "outputs": [
        {
          "name": "stdout",
          "output_type": "stream",
          "text": [
            "La pérdida asociada a la corriente a 220V para la planta 3 son de 3239.991079770167 W\n",
            "La pérdida asociada a la corrient e a 220V para la planta 1 para las 3 líneas son de 9719.9732393105 W\n"
          ]
        }
      ],
      "source": [
        "Paralelo_R_km_P3_220 = Resistencia_Final_P3_220/2\n",
        "Perdida_P3_220 = Corriente_Planta_3_220V_Normal**2 * (Paralelo_R_km_P3_220)\n",
        "print(f'La pérdida asociada a la corriente a 220V para la planta 3 son de {Perdida_P3_220} W')\n",
        "Perdida_P3_220_Tri = 3*Perdida_P3_220\n",
        "print(f'La pérdida asociada a la corrient e a 220V para la planta 1 para las 3 líneas son de {Perdida_P3_220_Tri} W')"
      ]
    },
    {
      "cell_type": "markdown",
      "metadata": {
        "id": "MFi5Wg8uNm0s"
      },
      "source": [
        "Grosor del cable sobre la Planta 4, a 220V:"
      ]
    },
    {
      "cell_type": "code",
      "execution_count": 224,
      "metadata": {
        "id": "q83eBdOQNm0s",
        "outputId": "e790d56a-bd29-4a04-d0fa-ace4dcd074b6"
      },
      "outputs": [
        {
          "name": "stdout",
          "output_type": "stream",
          "text": [
            "La corriente necesaria es de 774.7133890486778 A para la planta 1, por lo que se necesita de dos cables que soporten 420 A de cobre, el cual corresponde a un valor de 600 kcmil.\n",
            "El grosor del cable necesario para 420 A es de 304 mm², por lo cual la regla de 3 inversa necesaria para obtener la resistencia de Ohm/km es de 0.06019736842105263 Ohm\n",
            "Ahora bien, la Planta 4 se encuentra a 300 metros del transformador, por lo cual la resistencia de pérdida será menor, esta equivale a 0.018059210526315792 Ohm\n"
          ]
        }
      ],
      "source": [
        "print(f'La corriente necesaria es de {Corriente_Planta_4_220V} A para la planta 1, por lo que se necesita de dos cables que soporten 420 A de cobre, el cual corresponde a un valor de 600 kcmil.')\n",
        "\n",
        "R_km_P4_220 = (500/304)*0.0366\n",
        "print(f'El grosor del cable necesario para 420 A es de 304 mm\\u00B2, por lo cual la regla de 3 inversa necesaria para obtener la resistencia de Ohm/km es de {R_km_P4_220} Ohm')\n",
        "\n",
        "Resistencia_Final_P4_220 = (300*R_km_P4_220)/1000\n",
        "print(f'Ahora bien, la Planta 4 se encuentra a 300 metros del transformador, por lo cual la resistencia de pérdida será menor, esta equivale a {Resistencia_Final_P4_220} Ohm')"
      ]
    },
    {
      "cell_type": "code",
      "execution_count": 225,
      "metadata": {
        "id": "hZPZ-pftNm0s",
        "outputId": "cce3ab1c-69b4-409d-a90a-b223c9a24cfd"
      },
      "outputs": [
        {
          "name": "stdout",
          "output_type": "stream",
          "text": [
            "La pérdida asociada a la corriente a 220V para la planta 4 son de 3468.4134579898637 W\n",
            "La pérdida asociada a la corrient e a 220V para la planta 1 para las 3 líneas son de 10405.240373969591 W\n"
          ]
        }
      ],
      "source": [
        "Paralelo_R_km_P4_220 = Resistencia_Final_P4_220/2\n",
        "Perdida_P4_220 = Corriente_Planta_4_220V_Normal**2 * (Paralelo_R_km_P4_220)\n",
        "print(f'La pérdida asociada a la corriente a 220V para la planta 4 son de {Perdida_P4_220} W')\n",
        "Perdida_P4_220_Tri = 3*Perdida_P4_220\n",
        "print(f'La pérdida asociada a la corrient e a 220V para la planta 1 para las 3 líneas son de {Perdida_P4_220_Tri} W')"
      ]
    },
    {
      "cell_type": "markdown",
      "metadata": {
        "id": "ZOv91P6lNm0s"
      },
      "source": [
        "Grosor del cable sobre la Planta 5, a 220V:"
      ]
    },
    {
      "cell_type": "code",
      "execution_count": 226,
      "metadata": {
        "id": "okzK7_UeNm0s",
        "outputId": "26d8c281-1260-416f-d379-605dd9a741e5"
      },
      "outputs": [
        {
          "name": "stdout",
          "output_type": "stream",
          "text": [
            "La corriente necesaria es de 1396.9715056603966 A para la planta 1, por lo que se necesita de tres cables que soporten 475 A de cobre, el cual corresponde a un valor de 750 kcmil.\n",
            "El grosor del cable necesario para 475 A es de 380 mm², por lo cual la regla de 3 inversa necesaria para obtener la resistencia de Ohm/km es de 0.04815789473684211 Ohm\n",
            "Ahora bien, la Planta 5 se encuentra a 500 metros del transformador, por lo cual la resistencia de pérdida será menor, esta equivale a 0.024078947368421054 Ohm\n"
          ]
        }
      ],
      "source": [
        "print(f'La corriente necesaria es de {Corriente_Planta_5_220V} A para la planta 1, por lo que se necesita de tres cables que soporten 475 A de cobre, el cual corresponde a un valor de 750 kcmil.')\n",
        "\n",
        "R_km_P5_220 = (500/380)*0.0366\n",
        "print(f'El grosor del cable necesario para 475 A es de 380 mm\\u00B2, por lo cual la regla de 3 inversa necesaria para obtener la resistencia de Ohm/km es de {R_km_P5_220} Ohm')\n",
        "\n",
        "Resistencia_Final_P5_220 = (500*R_km_P5_220)/1000\n",
        "print(f'Ahora bien, la Planta 5 se encuentra a 500 metros del transformador, por lo cual la resistencia de pérdida será menor, esta equivale a {Resistencia_Final_P5_220} Ohm')"
      ]
    },
    {
      "cell_type": "code",
      "execution_count": 227,
      "metadata": {
        "id": "nEBxKDE4Nm0s",
        "outputId": "a8c22a12-84a7-4253-ab0a-826229670f15"
      },
      "outputs": [
        {
          "name": "stdout",
          "output_type": "stream",
          "text": [
            "La pérdida asociada a la corriente a 220V para la planta 5 son de 10024.698328021188 W\n",
            "La pérdida asociada a la corrient e a 220V para la planta 1 para las 3 líneas son de 30074.094984063566 W\n"
          ]
        }
      ],
      "source": [
        "Paralelo_R_km_P5_220 = Resistencia_Final_P5_220/3\n",
        "Perdida_P5_220 = Corriente_Planta_5_220V_Normal**2 * (Paralelo_R_km_P5_220)\n",
        "print(f'La pérdida asociada a la corriente a 220V para la planta 5 son de {Perdida_P5_220} W')\n",
        "Perdida_P5_220_Tri = 3*Perdida_P5_220\n",
        "print(f'La pérdida asociada a la corrient e a 220V para la planta 1 para las 3 líneas son de {Perdida_P5_220_Tri} W')"
      ]
    },
    {
      "cell_type": "markdown",
      "metadata": {
        "id": "2Axthjx_Nm0t"
      },
      "source": [
        "# PARA 380V"
      ]
    },
    {
      "cell_type": "markdown",
      "metadata": {
        "id": "TWGELF8UNm0t"
      },
      "source": [
        "Grosor del cable sobre la Planta 1, a 380V:"
      ]
    },
    {
      "cell_type": "code",
      "execution_count": 228,
      "metadata": {
        "id": "kfW5OgzYNm0t",
        "outputId": "3975379e-f691-4e37-92c5-9d1bc59d1f33"
      },
      "outputs": [
        {
          "name": "stdout",
          "output_type": "stream",
          "text": [
            "La corriente necesaria es de 428.91974895883834 A para la planta 1, por lo que se necesita de un solo cable que soporte 445 A de aluminio, el cual corresponde a un valor de 1000 kcmil.\n",
            "El grosor del cable necesario para 445 A es de 506 mm², por lo cual la regla de 3 inversa necesaria para obtener la resistencia de Ohm/km es de 0.06027667984189723 Ohm\n",
            "Ahora bien, la Planta 1 se encuentra a 200 metros del transformador, por lo cual la resistencia de pérdida será menor, esta equivale a 0.012055335968379446 Ohm\n"
          ]
        }
      ],
      "source": [
        "print(f'La corriente necesaria es de {Corriente_Planta_1_380V} A para la planta 1, por lo que se necesita de un solo cable que soporte 445 A de aluminio, el cual corresponde a un valor de 1000 kcmil.')\n",
        "\n",
        "R_km_P1_380 = (500/506)*0.061\n",
        "print(f'El grosor del cable necesario para 445 A es de 506 mm\\u00B2, por lo cual la regla de 3 inversa necesaria para obtener la resistencia de Ohm/km es de {R_km_P1_380} Ohm')\n",
        "\n",
        "Resistencia_Final_P1_380 = (200*R_km_P1_380)/1000\n",
        "print(f'Ahora bien, la Planta 1 se encuentra a 200 metros del transformador, por lo cual la resistencia de pérdida será menor, esta equivale a {Resistencia_Final_P1_380} Ohm')"
      ]
    },
    {
      "cell_type": "code",
      "execution_count": 229,
      "metadata": {
        "id": "_SKHQqWxNm0t",
        "outputId": "69d83f82-a933-457c-a75e-a0b1cfc8e2b1"
      },
      "outputs": [
        {
          "name": "stdout",
          "output_type": "stream",
          "text": [
            "La pérdida asociada a la corriente a 380V para la planta 1 son de 1419.4214974054307 W\n",
            "La pérdida asociada a la corrient e a 220V para la planta 1 para las 3 líneas son de 4258.264492216293 W\n"
          ]
        }
      ],
      "source": [
        "Perdida_P1_380 = Corriente_Planta_1_380V_Normal**2 * (Resistencia_Final_P1_380)\n",
        "print(f'La pérdida asociada a la corriente a 380V para la planta 1 son de {Perdida_P1_380} W')\n",
        "Perdida_P1_380_Tri = 3*Perdida_P1_380\n",
        "print(f'La pérdida asociada a la corrient e a 220V para la planta 1 para las 3 líneas son de {Perdida_P1_380_Tri} W')"
      ]
    },
    {
      "cell_type": "markdown",
      "metadata": {
        "id": "G7NDNTPCNm0t"
      },
      "source": [
        "Grosor del cable sobre la Planta 2, a 380V:"
      ]
    },
    {
      "cell_type": "code",
      "execution_count": 230,
      "metadata": {
        "id": "f_oobBlvNm0t",
        "outputId": "7702f15d-bfb7-4b9d-f4d4-56b92773f28a"
      },
      "outputs": [
        {
          "name": "stdout",
          "output_type": "stream",
          "text": [
            "La corriente necesaria es de 611.2793230444981 A para la planta 1, por lo que se necesita de un solo cable que soporte 625 A de cobre, el cual corresponde a un valor de 1500 kcmil.\n",
            "El grosor del cable necesario para 625 A es de 760 mm², por lo cual la regla de 3 inversa necesaria para obtener la resistencia de Ohm/km es de 0.024078947368421054 Ohm\n",
            "Ahora bien, la Planta 2 se encuentra a 300 metros del transformador, por lo cual la resistencia de pérdida será menor, esta equivale a 0.007223684210526316 Ohm\n"
          ]
        }
      ],
      "source": [
        "print(f'La corriente necesaria es de {Corriente_Planta_2_380V} A para la planta 1, por lo que se necesita de un solo cable que soporte 625 A de cobre, el cual corresponde a un valor de 1500 kcmil.')\n",
        "\n",
        "R_km_P2_380 = (500/760)*0.0366\n",
        "print(f'El grosor del cable necesario para 625 A es de 760 mm\\u00B2, por lo cual la regla de 3 inversa necesaria para obtener la resistencia de Ohm/km es de {R_km_P2_380} Ohm')\n",
        "\n",
        "Resistencia_Final_P2_380 = (300*R_km_P2_380)/1000\n",
        "print(f'Ahora bien, la Planta 2 se encuentra a 300 metros del transformador, por lo cual la resistencia de pérdida será menor, esta equivale a {Resistencia_Final_P2_380} Ohm')"
      ]
    },
    {
      "cell_type": "code",
      "execution_count": 231,
      "metadata": {
        "id": "aMHgt5WCNm0t",
        "outputId": "896ec892-287c-44bf-cd90-44fd697f045a"
      },
      "outputs": [
        {
          "name": "stdout",
          "output_type": "stream",
          "text": [
            "La pérdida asociada a la corriente a 380V para la planta 2 son de 1727.5003243720023 W\n",
            "La pérdida asociada a la corrient e a 220V para la planta 1 para las 3 líneas son de 1727.5003243720023 W\n"
          ]
        }
      ],
      "source": [
        "Perdida_P2_380 = Corriente_Planta_2_380V_Normal**2 * (Resistencia_Final_P2_380)\n",
        "print(f'La pérdida asociada a la corriente a 380V para la planta 2 son de {Perdida_P2_380} W')\n",
        "Perdida_P2_380_Tri = Perdida_P2_380\n",
        "print(f'La pérdida asociada a la corrient e a 220V para la planta 1 para las 3 líneas son de {Perdida_P2_380_Tri} W')"
      ]
    },
    {
      "cell_type": "markdown",
      "metadata": {
        "id": "ugzyIp5cNm0t"
      },
      "source": [
        "Grosor del cable sobre la Planta 3, a 380V:"
      ]
    },
    {
      "cell_type": "code",
      "execution_count": 232,
      "metadata": {
        "id": "WstGvOUiNm0t",
        "outputId": "c6c40b62-9306-48dc-da2d-57c3f266ff52"
      },
      "outputs": [
        {
          "name": "stdout",
          "output_type": "stream",
          "text": [
            "La corriente necesaria es de 685.5485951151388 A para la planta 1, por lo que se necesita de dos cables que soporte 375 A de aluminio, el cual corresponde a un valor de 700 kcmil.\n",
            "El grosor del cable necesario para 375 A es de 355 mm², por lo cual la regla de 3 inversa necesaria para obtener la resistencia de Ohm/km es de 0.08591549295774648 Ohm\n",
            "Ahora bien, la Planta 3 se encuentra a 350 metros del transformador, por lo cual la resistencia de pérdida será menor, esta equivale a 0.030070422535211267 Ohm\n"
          ]
        }
      ],
      "source": [
        "print(f'La corriente necesaria es de {Corriente_Planta_3_380V} A para la planta 1, por lo que se necesita de dos cables que soporte 375 A de aluminio, el cual corresponde a un valor de 700 kcmil.')\n",
        "\n",
        "R_km_P3_380 = (500/355)*0.061\n",
        "print(f'El grosor del cable necesario para 375 A es de 355 mm\\u00B2, por lo cual la regla de 3 inversa necesaria para obtener la resistencia de Ohm/km es de {R_km_P3_380} Ohm')\n",
        "\n",
        "Resistencia_Final_P3_380 = (350*R_km_P3_380)/1000\n",
        "print(f'Ahora bien, la Planta 3 se encuentra a 350 metros del transformador, por lo cual la resistencia de pérdida será menor, esta equivale a {Resistencia_Final_P3_380} Ohm')"
      ]
    },
    {
      "cell_type": "code",
      "execution_count": 233,
      "metadata": {
        "id": "-Ak3kxOvNm0t",
        "outputId": "8aeb9112-8f15-44f1-e3b3-b656bac68bb4"
      },
      "outputs": [
        {
          "name": "stdout",
          "output_type": "stream",
          "text": [
            "La pérdida asociada a la corriente a 220V para la planta 5 son de 1085.9803896182552 W\n",
            "La pérdida asociada a la corrient e a 220V para la planta 1 para las 3 líneas son de 3257.9411688547657 W\n"
          ]
        }
      ],
      "source": [
        "Paralelo_R_km_P3_380 = Resistencia_Final_P3_220/2\n",
        "Perdida_P3_380 = Corriente_Planta_3_380V_Normal**2 * (Paralelo_R_km_P3_380)\n",
        "print(f'La pérdida asociada a la corriente a 220V para la planta 5 son de {Perdida_P3_380} W')\n",
        "Perdida_P3_380_Tri = 3*Perdida_P3_380\n",
        "print(f'La pérdida asociada a la corrient e a 220V para la planta 1 para las 3 líneas son de {Perdida_P3_380_Tri} W')"
      ]
    },
    {
      "cell_type": "markdown",
      "metadata": {
        "id": "YSHKOq-YNm0t"
      },
      "source": [
        "Grosor del cable sobre la Planta 4, a 380V:"
      ]
    },
    {
      "cell_type": "code",
      "execution_count": 234,
      "metadata": {
        "id": "aJyPEZ8MNm0u",
        "outputId": "1f8983bf-0098-4b68-b7ec-8ebf2a2c1f31"
      },
      "outputs": [
        {
          "name": "stdout",
          "output_type": "stream",
          "text": [
            "La corriente necesaria es de 448.51827787028714 A para la planta 1, por lo que se necesita de un solo cable que soporte 460 A de cobre, el cual corresponde a un valor de 750 kcmil.\n",
            "El grosor del cable necesario para 460 A es de 355 mm², por lo cual la regla de 3 inversa necesaria para obtener la resistencia de Ohm/km es de 0.05154929577464788 Ohm\n",
            "Ahora bien, la Planta 4 se encuentra a 300 metros del transformador, por lo cual la resistencia de pérdida será menor, esta equivale a 0.015464788732394364 Ohm\n"
          ]
        }
      ],
      "source": [
        "print(f'La corriente necesaria es de {Corriente_Planta_4_380V} A para la planta 1, por lo que se necesita de un solo cable que soporte 460 A de cobre, el cual corresponde a un valor de 750 kcmil.')\n",
        "\n",
        "R_km_P4_380 = (500/355)*0.0366\n",
        "print(f'El grosor del cable necesario para 460 A es de 355 mm\\u00B2, por lo cual la regla de 3 inversa necesaria para obtener la resistencia de Ohm/km es de {R_km_P4_380} Ohm')\n",
        "\n",
        "Resistencia_Final_P4_380 = (300*R_km_P4_380)/1000\n",
        "print(f'Ahora bien, la Planta 4 se encuentra a 300 metros del transformador, por lo cual la resistencia de pérdida será menor, esta equivale a {Resistencia_Final_P4_380} Ohm')"
      ]
    },
    {
      "cell_type": "code",
      "execution_count": 235,
      "metadata": {
        "id": "sLzmXeyDNm0u",
        "outputId": "c4c55ab1-9565-48cb-d420-be94c791ea0c"
      },
      "outputs": [
        {
          "name": "stdout",
          "output_type": "stream",
          "text": [
            "La pérdida asociada a la corriente a 380V para la planta 2 son de 1991.0595862619343 W\n",
            "La pérdida asociada a la corrient e a 220V para la planta 1 para las 3 líneas son de 5973.178758785803 W\n"
          ]
        }
      ],
      "source": [
        "Perdida_P4_380 = Corriente_Planta_4_380V_Normal**2 * (Resistencia_Final_P4_380)\n",
        "print(f'La pérdida asociada a la corriente a 380V para la planta 2 son de {Perdida_P4_380} W')\n",
        "Perdida_P4_380_Tri = 3*Perdida_P4_380\n",
        "print(f'La pérdida asociada a la corrient e a 220V para la planta 1 para las 3 líneas son de {Perdida_P4_380_Tri} W')"
      ]
    },
    {
      "cell_type": "markdown",
      "metadata": {
        "id": "quRSz87-Nm0u"
      },
      "source": [
        "Grosor del cable sobre la Planta 5, a 380V:"
      ]
    },
    {
      "cell_type": "code",
      "execution_count": 236,
      "metadata": {
        "id": "G14h_5YgNm0u",
        "outputId": "c524ddf8-552c-46e8-e476-4e17a0c802a6"
      },
      "outputs": [
        {
          "name": "stdout",
          "output_type": "stream",
          "text": [
            "La corriente necesaria es de 808.7729769612822 A para la planta 1, por lo que se necesita de dos cables que soporte 420 A de cobre, el cual corresponde a un valor de 600 kcmil.\n",
            "El grosor del cable necesario para 420 A es de 304 mm², por lo cual la regla de 3 inversa necesaria para obtener la resistencia de Ohm/km es de 0.04357142857142857 Ohm\n",
            "Ahora bien, la Planta 3 se encuentra a 500 metros del transformador, por lo cual la resistencia de pérdida será menor, esta equivale a 0.021785714285714287 Ohm\n"
          ]
        }
      ],
      "source": [
        "print(f'La corriente necesaria es de {Corriente_Planta_5_380V} A para la planta 1, por lo que se necesita de dos cables que soporte 420 A de cobre, el cual corresponde a un valor de 600 kcmil.')\n",
        "\n",
        "R_km_P5_380 = (500/420)*0.0366\n",
        "print(f'El grosor del cable necesario para 420 A es de 304 mm\\u00B2, por lo cual la regla de 3 inversa necesaria para obtener la resistencia de Ohm/km es de {R_km_P5_380} Ohm')\n",
        "\n",
        "Resistencia_Final_P5_380 = (500*R_km_P5_380)/1000\n",
        "print(f'Ahora bien, la Planta 3 se encuentra a 500 metros del transformador, por lo cual la resistencia de pérdida será menor, esta equivale a {Resistencia_Final_P5_380} Ohm')"
      ]
    },
    {
      "cell_type": "code",
      "execution_count": 237,
      "metadata": {
        "id": "6zSenYi3Nm0u",
        "outputId": "b8de1f73-9497-41d4-eb93-4e8838eb78b7"
      },
      "outputs": [
        {
          "name": "stdout",
          "output_type": "stream",
          "text": [
            "La pérdida asociada a la corriente a 220V para la planta 5 son de 4560.107134175054 W\n",
            "La pérdida asociada a la corrient e a 220V para la planta 1 para las 3 líneas son de 13680.321402525162 W\n"
          ]
        }
      ],
      "source": [
        "Paralelo_R_km_P5_380 = Resistencia_Final_P5_380/2\n",
        "Perdida_P5_380 = Corriente_Planta_5_380V_Normal**2 * (Paralelo_R_km_P5_380)\n",
        "print(f'La pérdida asociada a la corriente a 220V para la planta 5 son de {Perdida_P5_380} W')\n",
        "Perdida_P5_380_Tri = 3*Perdida_P5_380\n",
        "print(f'La pérdida asociada a la corrient e a 220V para la planta 1 para las 3 líneas son de {Perdida_P5_380_Tri} W')"
      ]
    },
    {
      "cell_type": "markdown",
      "metadata": {
        "id": "i79Gf4hLNm0u"
      },
      "source": [
        "Esta ecuación es para cuando es a 220 o 380\n",
        "\n",
        "PotenciaEntradaTransformador_sinAuxiliares = PotenciaEntradaTransformador_sinAuxiliares + (PotenciaPlanta(i) + PerdidasPlanta(i))/EficienciaTransformador\n",
        "\n",
        "PotenciaEntradaTransformador = PotenciaEntradaTransformador_sinAuxiliares + Potencia_Auxiliares\n",
        "\n",
        "CostoTotalAnual = PotenciaEntradaTransformador * DíasTrabajo_Año * Precio(Nivel 2 o 3)\n"
      ]
    },
    {
      "cell_type": "code",
      "execution_count": 238,
      "metadata": {
        "id": "VnR2gsVyNm0u",
        "outputId": "452a2a86-a005-4411-9460-01da024263c9"
      },
      "outputs": [
        {
          "name": "stdout",
          "output_type": "stream",
          "text": [
            "La potencia de entrada del transformador a 220V es de 1,953,406.0115619865 W\n"
          ]
        }
      ],
      "source": [
        "PerdidasXPlanta_Trifasica_220   = [Perdida_P1_220_Tri, Perdida_P2_220_Tri, Perdida_P3_220_Tri, Perdida_P4_220_Tri, Perdida_P5_220_Tri]\n",
        "PotenciaXPlanta                 = [potencia_activa_planta1, potencia_activa_planta2, potencia_activa_planta3, potencia_activa_planta4, potencia_activa_planta5]\n",
        "\n",
        "PotenciaEntradaTransformador_sinAuxiliares_220  = 0\n",
        "Eficiencia_Transformador                        = 0.9\n",
        "Potencia_Auxiliares                             = 480000\n",
        "\n",
        "for i in range(len(PerdidasXPlanta_Trifasica_220)):\n",
        "    PotenciaEntradaTransformador_sinAuxiliares_220 += (PerdidasXPlanta_Trifasica_220[i] + PotenciaXPlanta[i])/Eficiencia_Transformador\n",
        "\n",
        "PotenciaEntradaTransformador_220 = PotenciaEntradaTransformador_sinAuxiliares_220 + Potencia_Auxiliares\n",
        "\n",
        "print(f'La potencia de entrada del transformador a 220V es de {PotenciaEntradaTransformador_220:,} W')"
      ]
    },
    {
      "cell_type": "code",
      "execution_count": 239,
      "metadata": {
        "id": "s9Hf_3cKNm0u",
        "outputId": "dfedb24e-0654-4dfb-9ace-71726e9f387a"
      },
      "outputs": [
        {
          "name": "stdout",
          "output_type": "stream",
          "text": [
            "La potencia de entrada del transformador a 380V es de 1,908,365.5586466861 W\n"
          ]
        }
      ],
      "source": [
        "PerdidasXPlanta_Trifasica_380   = [Perdida_P1_380_Tri, Perdida_P2_380_Tri, Perdida_P3_380_Tri, Perdida_P4_380_Tri, Perdida_P5_380_Tri]\n",
        "PotenciaXPlanta                 = [potencia_activa_planta1, potencia_activa_planta2, potencia_activa_planta3, potencia_activa_planta4, potencia_activa_planta5]\n",
        "\n",
        "PotenciaEntradaTransformador_sinAuxiliares_380  = 0\n",
        "Eficiencia_Transformador                        = 0.9\n",
        "Potencia_Auxiliares                             = 480000\n",
        "\n",
        "for i in range(len(PerdidasXPlanta_Trifasica_380)):\n",
        "    PotenciaEntradaTransformador_sinAuxiliares_380 += (PerdidasXPlanta_Trifasica_380[i] + PotenciaXPlanta[i])/Eficiencia_Transformador\n",
        "\n",
        "PotenciaEntradaTransformador_380 = PotenciaEntradaTransformador_sinAuxiliares_380 + Potencia_Auxiliares\n",
        "\n",
        "print(f'La potencia de entrada del transformador a 380V es de {PotenciaEntradaTransformador_380:,} W')"
      ]
    },
    {
      "cell_type": "code",
      "execution_count": 240,
      "metadata": {
        "id": "DIXUzrZ8Nm0u",
        "notebookRunGroups": {
          "groupValue": ""
        },
        "outputId": "c2969348-c2ea-48e8-ac24-223234a73505"
      },
      "outputs": [
        {
          "name": "stdout",
          "output_type": "stream",
          "text": [
            "El costo total de la energía eléctrica consumida por los motores a 220V con un trasnformador de 13200/220 es de 7,990,837,664.706774 pesos\n",
            "El costo total de la energía eléctrica consumida por los motores a 380V con un trasnformador de 13200/220 es de 7,806,589,768.74415 pesos\n",
            "El costo total de la energía eléctrica consumida por los motores a 220V con un trasnformador de 44000/220 es de 6,977,573,149.288577 pesos\n",
            "El costo total de la energía eléctrica consumida por los motores a 380V con un trasnformador de 44000/220 es de 6,816,688,492.93273 pesos\n"
          ]
        }
      ],
      "source": [
        "CostoTotal_220_13200 = (PotenciaEntradaTransformador_220/1000) * TOTALHORAS * TARIFA_T1\n",
        "CostoTotal_380_13200 = (PotenciaEntradaTransformador_380/1000) * TOTALHORAS * TARIFA_T1\n",
        "print(f'El costo total de la energía eléctrica consumida por los motores a 220V con un trasnformador de 13200/220 es de {CostoTotal_220_13200:,} pesos')\n",
        "print(f'El costo total de la energía eléctrica consumida por los motores a 380V con un trasnformador de 13200/220 es de {CostoTotal_380_13200:,} pesos')\n",
        "\n",
        "CostoTotal_220_44000 = (PotenciaEntradaTransformador_220/1000) * TOTALHORAS * TARIFA_T2\n",
        "CostoTotal_380_44000 = (PotenciaEntradaTransformador_380/1000) * TOTALHORAS * TARIFA_T2\n",
        "print(f'El costo total de la energía eléctrica consumida por los motores a 220V con un trasnformador de 44000/220 es de {CostoTotal_220_44000:,} pesos')\n",
        "print(f'El costo total de la energía eléctrica consumida por los motores a 380V con un trasnformador de 44000/220 es de {CostoTotal_380_44000:,} pesos')"
      ]
    },
    {
      "cell_type": "markdown",
      "metadata": {},
      "source": [
        "# PARA 220V CAMBIO DE MOTOR"
      ]
    },
    {
      "cell_type": "markdown",
      "metadata": {},
      "source": [
        "Magnitud de corriente a 220V para determinar el total de la corriente que se usará para dimensionar el grosor del cable sobre la Planta 1"
      ]
    },
    {
      "cell_type": "code",
      "execution_count": 241,
      "metadata": {},
      "outputs": [
        {
          "name": "stdout",
          "output_type": "stream",
          "text": [
            "Magnitud de corriente a 220V para los motores de la planta 1: 654.1128222688013 A\n"
          ]
        }
      ],
      "source": [
        "Corriente_Planta_1_220V_cambio = np.sqrt((df3[df3['Planta'] == 'Planta 1']['Real Corriente 220V +25%'].sum())**2 + (df3[df3['Planta'] == 'Planta 1']['Imaginaria Corriente 220V +25%'].sum())**2)\n",
        "print(f'Magnitud de corriente a 220V para los motores de la planta 1: {Corriente_Planta_1_220V_cambio} A')"
      ]
    },
    {
      "cell_type": "markdown",
      "metadata": {},
      "source": [
        "Magnitud de corriente a 220V para determinar el total de la corriente que se usará para dimensionar el grosor del cable sobre la Planta 2"
      ]
    },
    {
      "cell_type": "code",
      "execution_count": 242,
      "metadata": {},
      "outputs": [
        {
          "name": "stdout",
          "output_type": "stream",
          "text": [
            "Magnitud de corriente a 220V para los motores de la planta 2: 988.3047326449503 A\n"
          ]
        }
      ],
      "source": [
        "Corriente_Planta_2_220V_cambio = np.sqrt((df3[df3['Planta'] == 'Planta 2']['Real Corriente 220V +25%'].sum())**2 + (df3[df3['Planta'] == 'Planta 2']['Imaginaria Corriente 220V +25%'].sum())**2)\n",
        "print(f'Magnitud de corriente a 220V para los motores de la planta 2: {Corriente_Planta_2_220V_cambio} A')"
      ]
    },
    {
      "cell_type": "markdown",
      "metadata": {},
      "source": [
        "Magnitud de corriente a 220V para determinar el total de la corriente que se usará para dimensionar el grosor del cable sobre la Planta 3"
      ]
    },
    {
      "cell_type": "code",
      "execution_count": 243,
      "metadata": {},
      "outputs": [
        {
          "name": "stdout",
          "output_type": "stream",
          "text": [
            "Magnitud de corriente a 220V para los motores de la planta 3: 1128.8194722091384 A\n"
          ]
        }
      ],
      "source": [
        "Corriente_Planta_3_220V_cambio = np.sqrt((df3[df3['Planta'] == 'Planta 3']['Real Corriente 220V +25%'].sum())**2 + (df3[df3['Planta'] == 'Planta 3']['Imaginaria Corriente 220V +25%'].sum())**2)\n",
        "print(f'Magnitud de corriente a 220V para los motores de la planta 3: {Corriente_Planta_3_220V_cambio} A')"
      ]
    },
    {
      "cell_type": "markdown",
      "metadata": {},
      "source": [
        "Magnitud de corriente a 220V para determinar el total de la corriente que se usará para dimensionar el grosor del cable sobre la Planta 4"
      ]
    },
    {
      "cell_type": "code",
      "execution_count": 244,
      "metadata": {},
      "outputs": [
        {
          "name": "stdout",
          "output_type": "stream",
          "text": [
            "Magnitud de corriente a 220V para los motores de la planta 4: 737.4429373393467 A\n"
          ]
        }
      ],
      "source": [
        "Corriente_Planta_4_220V_cambio = np.sqrt((df3[df3['Planta'] == 'Planta 4']['Real Corriente 220V +25%'].sum())**2 + (df3[df3['Planta'] == 'Planta 4']['Imaginaria Corriente 220V +25%'].sum())**2)\n",
        "print(f'Magnitud de corriente a 220V para los motores de la planta 4: {Corriente_Planta_4_220V_cambio} A')"
      ]
    },
    {
      "cell_type": "markdown",
      "metadata": {},
      "source": [
        "Magnitud de corriente a 220V para determinar el total de la corriente que se usará para dimensionar el grosor del cable sobre la Planta 5"
      ]
    },
    {
      "cell_type": "code",
      "execution_count": 245,
      "metadata": {},
      "outputs": [
        {
          "name": "stdout",
          "output_type": "stream",
          "text": [
            "Magnitud de corriente a 220V para los motores de la planta 5: 1364.6728177373398 A\n"
          ]
        }
      ],
      "source": [
        "Corriente_Planta_5_220V_cambio = np.sqrt((df3[df3['Planta'] == 'Planta 5']['Real Corriente 220V +25%'].sum())**2 + (df3[df3['Planta'] == 'Planta 5']['Imaginaria Corriente 220V +25%'].sum())**2)\n",
        "print(f'Magnitud de corriente a 220V para los motores de la planta 5: {Corriente_Planta_5_220V_cambio} A')"
      ]
    },
    {
      "cell_type": "markdown",
      "metadata": {},
      "source": [
        "# PARA 380V CAMBIO DE MOTOR"
      ]
    },
    {
      "cell_type": "markdown",
      "metadata": {},
      "source": [
        "Magnitud de corriente a 380V para determinar el total de la corriente que se usará para dimensionar el grosor del cable sobre la Planta 1"
      ]
    },
    {
      "cell_type": "code",
      "execution_count": 246,
      "metadata": {},
      "outputs": [
        {
          "name": "stdout",
          "output_type": "stream",
          "text": [
            "Magnitud de corriente a 380V para los motores de la planta 1: 378.69689710299025 A\n"
          ]
        }
      ],
      "source": [
        "Corriente_Planta_1_380V_cambio = np.sqrt((df3[df3['Planta'] == 'Planta 1']['Real Corriente 380V +25%'].sum())**2 + (df3[df3['Planta'] == 'Planta 1']['Imaginaria Corriente 380V +25%'].sum())**2)\n",
        "print(f'Magnitud de corriente a 380V para los motores de la planta 1: {Corriente_Planta_1_380V_cambio} A')"
      ]
    },
    {
      "cell_type": "markdown",
      "metadata": {},
      "source": [
        "Magnitud de corriente a 380V para determinar el total de la corriente que se usará para dimensionar el grosor del cable sobre la Planta 2"
      ]
    },
    {
      "cell_type": "code",
      "execution_count": 247,
      "metadata": {},
      "outputs": [
        {
          "name": "stdout",
          "output_type": "stream",
          "text": [
            "Magnitud de corriente a 380V para los motores de la planta 2: 572.1764241628659 A\n"
          ]
        }
      ],
      "source": [
        "Corriente_Planta_2_380V_cambio = np.sqrt((df3[df3['Planta'] == 'Planta 2']['Real Corriente 380V +25%'].sum())**2 + (df3[df3['Planta'] == 'Planta 2']['Imaginaria Corriente 380V +25%'].sum())**2)\n",
        "print(f'Magnitud de corriente a 380V para los motores de la planta 2: {Corriente_Planta_2_380V_cambio} A')"
      ]
    },
    {
      "cell_type": "markdown",
      "metadata": {},
      "source": [
        "Magnitud de corriente a 380V para determinar el total de la corriente que se usará para dimensionar el grosor del cable sobre la Planta 3"
      ]
    },
    {
      "cell_type": "code",
      "execution_count": 248,
      "metadata": {},
      "outputs": [
        {
          "name": "stdout",
          "output_type": "stream",
          "text": [
            "Magnitud de corriente a 380V para los motores de la planta 3: 653.5270628579223 A\n"
          ]
        }
      ],
      "source": [
        "Corriente_Planta_3_380V_cambio = np.sqrt((df3[df3['Planta'] == 'Planta 3']['Real Corriente 380V +25%'].sum())**2 + (df3[df3['Planta'] == 'Planta 3']['Imaginaria Corriente 380V +25%'].sum())**2)\n",
        "print(f'Magnitud de corriente a 380V para los motores de la planta 3: {Corriente_Planta_3_380V_cambio} A')"
      ]
    },
    {
      "cell_type": "markdown",
      "metadata": {},
      "source": [
        "Magnitud de corriente a 380V para determinar el total de la corriente que se usará para dimensionar el grosor del cable sobre la Planta 4"
      ]
    },
    {
      "cell_type": "code",
      "execution_count": 249,
      "metadata": {},
      "outputs": [
        {
          "name": "stdout",
          "output_type": "stream",
          "text": [
            "Magnitud de corriente a 380V para los motores de la planta 4: 426.9406479333061 A\n"
          ]
        }
      ],
      "source": [
        "Corriente_Planta_4_380V_cambio = np.sqrt((df3[df3['Planta'] == 'Planta 4']['Real Corriente 380V +25%'].sum())**2 + (df3[df3['Planta'] == 'Planta 4']['Imaginaria Corriente 380V +25%'].sum())**2)\n",
        "print(f'Magnitud de corriente a 380V para los motores de la planta 4: {Corriente_Planta_4_380V_cambio} A')"
      ]
    },
    {
      "cell_type": "markdown",
      "metadata": {},
      "source": [
        "Magnitud de corriente a 380V para determinar el total de la corriente que se usará para dimensionar el grosor del cable sobre la Planta 5"
      ]
    },
    {
      "cell_type": "code",
      "execution_count": 250,
      "metadata": {},
      "outputs": [
        {
          "name": "stdout",
          "output_type": "stream",
          "text": [
            "Magnitud de corriente a 380V para los motores de la planta 5: 790.0737365847755 A\n"
          ]
        }
      ],
      "source": [
        "Corriente_Planta_5_380V_cambio = np.sqrt((df3[df3['Planta'] == 'Planta 5']['Real Corriente 380V +25%'].sum())**2 + (df3[df3['Planta'] == 'Planta 5']['Imaginaria Corriente 380V +25%'].sum())**2)\n",
        "print(f'Magnitud de corriente a 380V para los motores de la planta 5: {Corriente_Planta_5_380V_cambio} A')"
      ]
    },
    {
      "cell_type": "markdown",
      "metadata": {},
      "source": [
        "Debido a que existen consumos auxiliares, se tiene que estos consumen 480kW, se puede partir de que poseen un factor de potencia de FP = 1, por lo tanto es pertinente calcular su consumo de corriente a 220V que es al voltaje al cual se encuentran conectados, suponiendo que son cargas puramente resistivas, estas no cuentan con desfase por lo tanto no poseen parte imaginaria, por lo que:"
      ]
    },
    {
      "cell_type": "code",
      "execution_count": 251,
      "metadata": {},
      "outputs": [
        {
          "name": "stdout",
          "output_type": "stream",
          "text": [
            "Magnitud de corriente a 220V para los Auxiliares: 1259.6733145955473 A\n"
          ]
        }
      ],
      "source": [
        "FP_aux = 1\n",
        "Corriente_Auxiliares = 480000/(np.sqrt(3)*220*FP_aux)\n",
        "print(f'Magnitud de corriente a 220V para los Auxiliares: {Corriente_Auxiliares} A')"
      ]
    },
    {
      "cell_type": "markdown",
      "metadata": {},
      "source": [
        "# DIMENSIONAMIENTO DEL CABLE CUANDO SE CAMBIAN LOS MOTORES"
      ]
    },
    {
      "cell_type": "markdown",
      "metadata": {},
      "source": [
        "Según [Tabla verde, luego paso el link], dado un calibre de 500 mm2 se tiene una resistencia DC de Ohm/km para un cable de cobre, se tiene que posee una resistencia de 0.0366 Ohm por lo que si se requiere de una corriente determinada para alimentar cada planta a 220V o 380V es necesario aplicar una regla de 3 compuesta para extraer el valor de la resistencia de pérdida a partir de https://www.gt-engineering.it/en/technical-standards/ul-and-nfpa-standards/ul-508a/cable-ampacity-ul-508a/, también es de anotar que es posible alimentar con un solo cable a partir de suma de corrientes, es decir, con corrientes menores por cada cable que se use para complementar la corriente objetivo a usar."
      ]
    },
    {
      "cell_type": "markdown",
      "metadata": {},
      "source": [
        "# PARA 220V"
      ]
    },
    {
      "cell_type": "markdown",
      "metadata": {},
      "source": [
        "Grosor del cable sobre la Planta 1, a 220V:"
      ]
    },
    {
      "cell_type": "code",
      "execution_count": 252,
      "metadata": {},
      "outputs": [
        {
          "name": "stdout",
          "output_type": "stream",
          "text": [
            "La corriente necesaria es de 654.1128222688013 A para la planta 1, por lo que se necesita un solo cable que soporten 665 A de cobre, el cual corresponde a un valor de 2000 kcmil.\n",
            "El grosor del cable necesario para 665 A es de 1013 mm², por lo cual la regla de 3 inversa necesaria para obtener la resistencia de Ohm/km es de 0.018065153010858835 Ohm\n",
            "Ahora bien, la Planta 1 se encuentra a 200 metros del transformador, por lo cual la resistencia de pérdida será menor, esta equivale a 0.003613030602171767 Ohm\n"
          ]
        }
      ],
      "source": [
        "print(f'La corriente necesaria es de {Corriente_Planta_1_220V_cambio} A para la planta 1, por lo que se necesita un solo cable que soporten 665 A de cobre, el cual corresponde a un valor de 2000 kcmil.')\n",
        "\n",
        "R_km_P1_220_cambio = (500/1013)*0.0366\n",
        "print(f'El grosor del cable necesario para 665 A es de 1013 mm\\u00B2, por lo cual la regla de 3 inversa necesaria para obtener la resistencia de Ohm/km es de {R_km_P1_220_cambio} Ohm')\n",
        "\n",
        "Resistencia_Final_P1_220_cambio = (200*R_km_P1_220_cambio)/1000\n",
        "print(f'Ahora bien, la Planta 1 se encuentra a 200 metros del transformador, por lo cual la resistencia de pérdida será menor, esta equivale a {Resistencia_Final_P1_220_cambio} Ohm')"
      ]
    },
    {
      "cell_type": "code",
      "execution_count": 253,
      "metadata": {},
      "outputs": [
        {
          "name": "stdout",
          "output_type": "stream",
          "text": [
            "La pérdida asociada a la corriente a 220V para la planta 1 de una sola línea son de 989.3659030230248 W\n",
            "La pérdida asociada a la corrient e a 220V para la planta 1 para las 3 líneas son de 2968.0977090690744 W\n"
          ]
        }
      ],
      "source": [
        "Perdida_P1_220_cambio = Corriente_Planta_1_220V_Normal_cambio**2 * (Resistencia_Final_P1_220_cambio)\n",
        "print(f'La pérdida asociada a la corriente a 220V para la planta 1 de una sola línea son de {Perdida_P1_220_cambio} W')\n",
        "Perdida_P1_220_Tri_cambio = 3*Perdida_P1_220_cambio\n",
        "print(f'La pérdida asociada a la corrient e a 220V para la planta 1 para las 3 líneas son de {Perdida_P1_220_Tri_cambio} W')"
      ]
    },
    {
      "cell_type": "markdown",
      "metadata": {},
      "source": [
        "Grosor del cable sobre la Planta 2, a 220V:"
      ]
    },
    {
      "cell_type": "code",
      "execution_count": 254,
      "metadata": {},
      "outputs": [
        {
          "name": "stdout",
          "output_type": "stream",
          "text": [
            "La corriente necesaria es de 988.3047326449503 A para la planta 1, por lo que se necesita de dos cables que soporten 520 A de cobre, el cual corresponde a un valor de 900 kcmil.\n",
            "El grosor del cable necesario para 545 A es de 456 mm², por lo cual la regla de 3 inversa necesaria para obtener la resistencia de Ohm/km es de 0.04013157894736843 Ohm\n",
            "Ahora bien, la Planta 2 se encuentra a 300 metros del transformador, por lo cual la resistencia de pérdida será menor, esta equivale a 0.012039473684210529 Ohm\n"
          ]
        }
      ],
      "source": [
        "print(f'La corriente necesaria es de {Corriente_Planta_2_220V_cambio} A para la planta 1, por lo que se necesita de dos cables que soporten 520 A de cobre, el cual corresponde a un valor de 900 kcmil.')\n",
        "\n",
        "R_km_P2_220_cambio = (500/456)*0.0366\n",
        "print(f'El grosor del cable necesario para 545 A es de 456 mm\\u00B2, por lo cual la regla de 3 inversa necesaria para obtener la resistencia de Ohm/km es de {R_km_P2_220_cambio} Ohm')\n",
        "\n",
        "Resistencia_Final_P2_220_cambio = (300*R_km_P2_220_cambio)/1000\n",
        "print(f'Ahora bien, la Planta 2 se encuentra a 300 metros del transformador, por lo cual la resistencia de pérdida será menor, esta equivale a {Resistencia_Final_P2_220_cambio} Ohm')"
      ]
    },
    {
      "cell_type": "code",
      "execution_count": 255,
      "metadata": {},
      "outputs": [
        {
          "name": "stdout",
          "output_type": "stream",
          "text": [
            "La pérdida asociada a la corriente a 220V para la planta 2 son de 3763.0434264424944 W\n",
            "La pérdida asociada a la corrient e a 220V para la planta 1 para las 3 líneas son de 11289.130279327483 W\n"
          ]
        }
      ],
      "source": [
        "Paralelo_R_km_P2_220_cambio = Resistencia_Final_P2_220_cambio/2\n",
        "Perdida_P2_220_cambio = Corriente_Planta_2_220V_Normal_cambio**2 * (Paralelo_R_km_P2_220_cambio)\n",
        "print(f'La pérdida asociada a la corriente a 220V para la planta 2 son de {Perdida_P2_220_cambio} W')\n",
        "Perdida_P2_220_Tri_cambio = 3*Perdida_P2_220_cambio\n",
        "print(f'La pérdida asociada a la corrient e a 220V para la planta 1 para las 3 líneas son de {Perdida_P2_220_Tri_cambio} W')"
      ]
    },
    {
      "cell_type": "markdown",
      "metadata": {},
      "source": [
        "Grosor del cable sobre la Planta 3, a 220V:"
      ]
    },
    {
      "cell_type": "code",
      "execution_count": 256,
      "metadata": {},
      "outputs": [
        {
          "name": "stdout",
          "output_type": "stream",
          "text": [
            "La corriente necesaria es de 1128.8194722091384 A para la planta 1, por lo que se necesita de dos cables que soporten 590 A de cobre, el cual corresponde a un valor de 1250 kcmil.\n",
            "El grosor del cable necesario para 590 A es de 633 mm², por lo cual la regla de 3 inversa necesaria para obtener la resistencia de Ohm/km es de 0.02890995260663507 Ohm\n",
            "Ahora bien, la Planta 3 se encuentra a 350 metros del transformador, por lo cual la resistencia de pérdida será menor, esta equivale a 0.010118483412322275 Ohm\n"
          ]
        }
      ],
      "source": [
        "print(f'La corriente necesaria es de {Corriente_Planta_3_220V_cambio} A para la planta 1, por lo que se necesita de dos cables que soporten 590 A de cobre, el cual corresponde a un valor de 1250 kcmil.')\n",
        "\n",
        "R_km_P3_220_cambio = (500/633)*0.0366\n",
        "print(f'El grosor del cable necesario para 590 A es de 633 mm\\u00B2, por lo cual la regla de 3 inversa necesaria para obtener la resistencia de Ohm/km es de {R_km_P3_220_cambio} Ohm')\n",
        "\n",
        "Resistencia_Final_P3_220_cambio = (350*R_km_P3_220_cambio)/1000\n",
        "print(f'Ahora bien, la Planta 3 se encuentra a 350 metros del transformador, por lo cual la resistencia de pérdida será menor, esta equivale a {Resistencia_Final_P3_220_cambio} Ohm')"
      ]
    },
    {
      "cell_type": "code",
      "execution_count": 257,
      "metadata": {},
      "outputs": [
        {
          "name": "stdout",
          "output_type": "stream",
          "text": [
            "La pérdida asociada a la corriente a 220V para la planta 3 son de 4125.859049539694 W\n",
            "La pérdida asociada a la corrient e a 220V para la planta 1 para las 3 líneas son de 12377.577148619082 W\n"
          ]
        }
      ],
      "source": [
        "Paralelo_R_km_P3_220_cambio = Resistencia_Final_P3_220_cambio/2\n",
        "Perdida_P3_220_cambio = Corriente_Planta_3_220V_Normal_cambio**2 * (Paralelo_R_km_P3_220_cambio)\n",
        "print(f'La pérdida asociada a la corriente a 220V para la planta 3 son de {Perdida_P3_220_cambio} W')\n",
        "Perdida_P3_220_Tri_cambio = 3*Perdida_P3_220_cambio\n",
        "print(f'La pérdida asociada a la corrient e a 220V para la planta 1 para las 3 líneas son de {Perdida_P3_220_Tri_cambio} W')"
      ]
    },
    {
      "cell_type": "markdown",
      "metadata": {},
      "source": [
        "Grosor del cable sobre la Planta 4, a 220V:"
      ]
    },
    {
      "cell_type": "code",
      "execution_count": 258,
      "metadata": {},
      "outputs": [
        {
          "name": "stdout",
          "output_type": "stream",
          "text": [
            "La corriente necesaria es de 737.4429373393467 A para la planta 1, por lo que se necesita de dos cables que soporten 375 A de aluminio, el cual corresponde a un valor de 700 kcmil.\n",
            "El grosor del cable necesario para 375 A es de 355 mm², por lo cual la regla de 3 inversa necesaria para obtener la resistencia de Ohm/km es de 0.08591549295774648 Ohm\n",
            "Ahora bien, la Planta 4 se encuentra a 300 metros del transformador, por lo cual la resistencia de pérdida será menor, esta equivale a 0.025774647887323945 Ohm\n"
          ]
        }
      ],
      "source": [
        "print(f'La corriente necesaria es de {Corriente_Planta_4_220V_cambio} A para la planta 1, por lo que se necesita de dos cables que soporten 375 A de aluminio, el cual corresponde a un valor de 700 kcmil.')\n",
        "\n",
        "R_km_P4_220_cambio = (500/355)*0.061\n",
        "print(f'El grosor del cable necesario para 375 A es de 355 mm\\u00B2, por lo cual la regla de 3 inversa necesaria para obtener la resistencia de Ohm/km es de {R_km_P4_220_cambio} Ohm')\n",
        "\n",
        "Resistencia_Final_P4_220_cambio = (300*R_km_P4_220_cambio)/1000\n",
        "print(f'Ahora bien, la Planta 4 se encuentra a 300 metros del transformador, por lo cual la resistencia de pérdida será menor, esta equivale a {Resistencia_Final_P4_220_cambio} Ohm')"
      ]
    },
    {
      "cell_type": "code",
      "execution_count": 259,
      "metadata": {},
      "outputs": [
        {
          "name": "stdout",
          "output_type": "stream",
          "text": [
            "La pérdida asociada a la corriente a 220V para la planta 4 son de 4485.3832882117495 W\n",
            "La pérdida asociada a la corrient e a 220V para la planta 1 para las 3 líneas son de 13456.149864635248 W\n"
          ]
        }
      ],
      "source": [
        "Paralelo_R_km_P4_220_cambio = Resistencia_Final_P4_220_cambio/2\n",
        "Perdida_P4_220_cambio = Corriente_Planta_4_220V_Normal_cambio**2 * (Paralelo_R_km_P4_220_cambio)\n",
        "print(f'La pérdida asociada a la corriente a 220V para la planta 4 son de {Perdida_P4_220_cambio} W')\n",
        "Perdida_P4_220_Tri_cambio = 3*Perdida_P4_220_cambio\n",
        "print(f'La pérdida asociada a la corrient e a 220V para la planta 1 para las 3 líneas son de {Perdida_P4_220_Tri_cambio} W')"
      ]
    },
    {
      "cell_type": "markdown",
      "metadata": {},
      "source": [
        "Grosor del cable sobre la Planta 5, a 220V:"
      ]
    },
    {
      "cell_type": "code",
      "execution_count": 260,
      "metadata": {},
      "outputs": [
        {
          "name": "stdout",
          "output_type": "stream",
          "text": [
            "La corriente necesaria es de 1364.6728177373398 A para la planta 1, por lo que se necesita de tres cables que soporten 460 A de cobre, el cual corresponde a un valor de 700 kcmil.\n",
            "El grosor del cable necesario para 460 A es de 355 mm², por lo cual la regla de 3 inversa necesaria para obtener la resistencia de Ohm/km es de 0.05154929577464788 Ohm\n",
            "Ahora bien, la Planta 5 se encuentra a 500 metros del transformador, por lo cual la resistencia de pérdida será menor, esta equivale a 0.02577464788732394 Ohm\n"
          ]
        }
      ],
      "source": [
        "print(f'La corriente necesaria es de {Corriente_Planta_5_220V_cambio} A para la planta 1, por lo que se necesita de tres cables que soporten 460 A de cobre, el cual corresponde a un valor de 700 kcmil.')\n",
        "\n",
        "R_km_P5_220_cambio = (500/355)*0.0366\n",
        "print(f'El grosor del cable necesario para 460 A es de 355 mm\\u00B2, por lo cual la regla de 3 inversa necesaria para obtener la resistencia de Ohm/km es de {R_km_P5_220_cambio} Ohm')\n",
        "\n",
        "Resistencia_Final_P5_220_cambio = (500*R_km_P5_220_cambio)/1000\n",
        "print(f'Ahora bien, la Planta 5 se encuentra a 500 metros del transformador, por lo cual la resistencia de pérdida será menor, esta equivale a {Resistencia_Final_P5_220_cambio} Ohm')"
      ]
    },
    {
      "cell_type": "code",
      "execution_count": 261,
      "metadata": {},
      "outputs": [
        {
          "name": "stdout",
          "output_type": "stream",
          "text": [
            "La pérdida asociada a la corriente a 220V para la planta 5 son de 10240.202444416127 W\n",
            "La pérdida asociada a la corrient e a 220V para la planta 1 para las 3 líneas son de 30720.60733324838 W\n"
          ]
        }
      ],
      "source": [
        "Paralelo_R_km_P5_220_cambio = Resistencia_Final_P5_220_cambio/3\n",
        "Perdida_P5_220_cambio = Corriente_Planta_5_220V_Normal_cambio**2 * (Paralelo_R_km_P5_220_cambio)\n",
        "print(f'La pérdida asociada a la corriente a 220V para la planta 5 son de {Perdida_P5_220_cambio} W')\n",
        "Perdida_P5_220_Tri_cambio = 3*Perdida_P5_220_cambio\n",
        "print(f'La pérdida asociada a la corrient e a 220V para la planta 1 para las 3 líneas son de {Perdida_P5_220_Tri_cambio} W')"
      ]
    },
    {
      "cell_type": "markdown",
      "metadata": {},
      "source": [
        "# PARA 380V"
      ]
    },
    {
      "cell_type": "markdown",
      "metadata": {},
      "source": [
        "Grosor del cable sobre la Planta 1, a 380V:"
      ]
    },
    {
      "cell_type": "code",
      "execution_count": 262,
      "metadata": {},
      "outputs": [
        {
          "name": "stdout",
          "output_type": "stream",
          "text": [
            "La corriente necesaria es de 378.69689710299025 A para la planta 1, por lo que se necesita de un solo cable que soporte 380 A de cobre, el cual corresponde a un valor de 500 kcmil.\n",
            "El grosor del cable necesario para 380 A es de 253 mm², por lo cual la regla de 3 inversa necesaria para obtener la resistencia de Ohm/km es de 0.07233201581027668 Ohm\n",
            "Ahora bien, la Planta 1 se encuentra a 200 metros del transformador, por lo cual la resistencia de pérdida será menor, esta equivale a 0.014466403162055335 Ohm\n"
          ]
        }
      ],
      "source": [
        "print(f'La corriente necesaria es de {Corriente_Planta_1_380V_cambio} A para la planta 1, por lo que se necesita de un solo cable que soporte 380 A de cobre, el cual corresponde a un valor de 500 kcmil.')\n",
        "\n",
        "R_km_P1_380_cambio = (500/253)*0.0366\n",
        "print(f'El grosor del cable necesario para 380 A es de 253 mm\\u00B2, por lo cual la regla de 3 inversa necesaria para obtener la resistencia de Ohm/km es de {R_km_P1_380_cambio} Ohm')\n",
        "\n",
        "Resistencia_Final_P1_380_cambio = (200*R_km_P1_380_cambio)/1000\n",
        "print(f'Ahora bien, la Planta 1 se encuentra a 200 metros del transformador, por lo cual la resistencia de pérdida será menor, esta equivale a {Resistencia_Final_P1_380_cambio} Ohm')"
      ]
    },
    {
      "cell_type": "code",
      "execution_count": 263,
      "metadata": {},
      "outputs": [
        {
          "name": "stdout",
          "output_type": "stream",
          "text": [
            "La pérdida asociada a la corriente a 380V para la planta 1 son de 1327.7736068150743 W\n",
            "La pérdida asociada a la corrient e a 220V para la planta 1 para las 3 líneas son de 3983.320820445223 W\n"
          ]
        }
      ],
      "source": [
        "Perdida_P1_380_cambio = Corriente_Planta_1_380V_Normal_cambio**2 * (Resistencia_Final_P1_380_cambio)\n",
        "print(f'La pérdida asociada a la corriente a 380V para la planta 1 son de {Perdida_P1_380_cambio} W')\n",
        "Perdida_P1_380_Tri_cambio = 3*Perdida_P1_380_cambio\n",
        "print(f'La pérdida asociada a la corrient e a 220V para la planta 1 para las 3 líneas son de {Perdida_P1_380_Tri_cambio} W')"
      ]
    },
    {
      "cell_type": "markdown",
      "metadata": {},
      "source": [
        "Grosor del cable sobre la Planta 2, a 380V:"
      ]
    },
    {
      "cell_type": "code",
      "execution_count": 264,
      "metadata": {},
      "outputs": [
        {
          "name": "stdout",
          "output_type": "stream",
          "text": [
            "La corriente necesaria es de 572.1764241628659 A para la planta 1, por lo que se necesita de un solo cable que soporte 590 A de cobre, el cual corresponde a un valor de 1250 kcmil.\n",
            "El grosor del cable necesario para 590 A es de 633 mm², por lo cual la regla de 3 inversa necesaria para obtener la resistencia de Ohm/km es de 0.02890995260663507 Ohm\n",
            "Ahora bien, la Planta 2 se encuentra a 300 metros del transformador, por lo cual la resistencia de pérdida será menor, esta equivale a 0.00867298578199052 Ohm\n"
          ]
        }
      ],
      "source": [
        "print(f'La corriente necesaria es de {Corriente_Planta_2_380V_cambio} A para la planta 1, por lo que se necesita de un solo cable que soporte 590 A de cobre, el cual corresponde a un valor de 1250 kcmil.')\n",
        "\n",
        "R_km_P2_380_cambio = (500/633)*0.0366\n",
        "print(f'El grosor del cable necesario para 590 A es de 633 mm\\u00B2, por lo cual la regla de 3 inversa necesaria para obtener la resistencia de Ohm/km es de {R_km_P2_380_cambio} Ohm')\n",
        "\n",
        "Resistencia_Final_P2_380_cambio = (300*R_km_P2_380_cambio)/1000\n",
        "print(f'Ahora bien, la Planta 2 se encuentra a 300 metros del transformador, por lo cual la resistencia de pérdida será menor, esta equivale a {Resistencia_Final_P2_380_cambio} Ohm')"
      ]
    },
    {
      "cell_type": "code",
      "execution_count": 265,
      "metadata": {},
      "outputs": [
        {
          "name": "stdout",
          "output_type": "stream",
          "text": [
            "La pérdida asociada a la corriente a 380V para la planta 2 son de 1817.224263804606 W\n",
            "La pérdida asociada a la corrient e a 220V para la planta 1 para las 3 líneas son de 1817.224263804606 W\n"
          ]
        }
      ],
      "source": [
        "Perdida_P2_380_cambio = Corriente_Planta_2_380V_Normal_cambio**2 * (Resistencia_Final_P2_380_cambio)\n",
        "print(f'La pérdida asociada a la corriente a 380V para la planta 2 son de {Perdida_P2_380_cambio} W')\n",
        "Perdida_P2_380_Tri_cambio = Perdida_P2_380_cambio\n",
        "print(f'La pérdida asociada a la corrient e a 220V para la planta 1 para las 3 líneas son de {Perdida_P2_380_Tri_cambio} W')"
      ]
    },
    {
      "cell_type": "markdown",
      "metadata": {},
      "source": [
        "Grosor del cable sobre la Planta 3, a 380V:"
      ]
    },
    {
      "cell_type": "code",
      "execution_count": 266,
      "metadata": {},
      "outputs": [
        {
          "name": "stdout",
          "output_type": "stream",
          "text": [
            "La corriente necesaria es de 653.5270628579223 A para la planta 1, por lo que se necesita de un solo cable que soporte 665 A de cobre, el cual corresponde a un valor de 2000 kcmil.\n",
            "El grosor del cable necesario para 665 A es de 1013 mm², por lo cual la regla de 3 inversa necesaria para obtener la resistencia de Ohm/km es de 0.018065153010858835 Ohm\n",
            "Ahora bien, la Planta 3 se encuentra a 350 metros del transformador, por lo cual la resistencia de pérdida será menor, esta equivale a 0.006322803553800592 Ohm\n"
          ]
        }
      ],
      "source": [
        "print(f'La corriente necesaria es de {Corriente_Planta_3_380V_cambio} A para la planta 1, por lo que se necesita de un solo cable que soporte 665 A de cobre, el cual corresponde a un valor de 2000 kcmil.')\n",
        "\n",
        "R_km_P3_380_cambio = (500/1013)*0.0366\n",
        "print(f'El grosor del cable necesario para 665 A es de 1013 mm\\u00B2, por lo cual la regla de 3 inversa necesaria para obtener la resistencia de Ohm/km es de {R_km_P3_380_cambio} Ohm')\n",
        "\n",
        "Resistencia_Final_P3_380_cambio = (350*R_km_P3_380_cambio)/1000\n",
        "print(f'Ahora bien, la Planta 3 se encuentra a 350 metros del transformador, por lo cual la resistencia de pérdida será menor, esta equivale a {Resistencia_Final_P3_380_cambio} Ohm')"
      ]
    },
    {
      "cell_type": "code",
      "execution_count": 267,
      "metadata": {},
      "outputs": [
        {
          "name": "stdout",
          "output_type": "stream",
          "text": [
            "La pérdida asociada a la corriente a 220V para la planta 5 son de 1728.2907913544634 W\n",
            "La pérdida asociada a la corrient e a 220V para la planta 1 para las 3 líneas son de 5184.87237406339 W\n"
          ]
        }
      ],
      "source": [
        "Perdida_P3_380_cambio = Corriente_Planta_3_380V_Normal_cambio**2 * (Resistencia_Final_P3_380_cambio)\n",
        "print(f'La pérdida asociada a la corriente a 220V para la planta 5 son de {Perdida_P3_380_cambio} W')\n",
        "Perdida_P3_380_Tri_cambio = 3*Perdida_P3_380_cambio\n",
        "print(f'La pérdida asociada a la corrient e a 220V para la planta 1 para las 3 líneas son de {Perdida_P3_380_Tri_cambio} W')"
      ]
    },
    {
      "cell_type": "markdown",
      "metadata": {},
      "source": [
        "Grosor del cable sobre la Planta 4, a 380V:"
      ]
    },
    {
      "cell_type": "code",
      "execution_count": 268,
      "metadata": {},
      "outputs": [
        {
          "name": "stdout",
          "output_type": "stream",
          "text": [
            "La corriente necesaria es de 426.9406479333061 A para la planta 1, por lo que se necesita de un solo cable que soporte 445 A de aluminio, el cual corresponde a un valor de 1000 kcmil.\n",
            "El grosor del cable necesario para 445 A es de 506 mm², por lo cual la regla de 3 inversa necesaria para obtener la resistencia de Ohm/km es de 0.06027667984189723 Ohm\n",
            "Ahora bien, la Planta 4 se encuentra a 300 metros del transformador, por lo cual la resistencia de pérdida será menor, esta equivale a 0.01808300395256917 Ohm\n"
          ]
        }
      ],
      "source": [
        "print(f'La corriente necesaria es de {Corriente_Planta_4_380V_cambio} A para la planta 1, por lo que se necesita de un solo cable que soporte 445 A de aluminio, el cual corresponde a un valor de 1000 kcmil.')\n",
        "\n",
        "R_km_P4_380_cambio = (500/506)*0.061\n",
        "print(f'El grosor del cable necesario para 445 A es de 506 mm\\u00B2, por lo cual la regla de 3 inversa necesaria para obtener la resistencia de Ohm/km es de {R_km_P4_380_cambio} Ohm')\n",
        "\n",
        "Resistencia_Final_P4_380_cambio = (300*R_km_P4_380_cambio)/1000\n",
        "print(f'Ahora bien, la Planta 4 se encuentra a 300 metros del transformador, por lo cual la resistencia de pérdida será menor, esta equivale a {Resistencia_Final_P4_380_cambio} Ohm')"
      ]
    },
    {
      "cell_type": "code",
      "execution_count": 269,
      "metadata": {},
      "outputs": [
        {
          "name": "stdout",
          "output_type": "stream",
          "text": [
            "La pérdida asociada a la corriente a 380V para la planta 2 son de 2109.529295491614 W\n",
            "La pérdida asociada a la corrient e a 220V para la planta 1 para las 3 líneas son de 6328.587886474842 W\n"
          ]
        }
      ],
      "source": [
        "Perdida_P4_380_cambio = Corriente_Planta_4_380V_Normal_cambio**2 * (Resistencia_Final_P4_380_cambio)\n",
        "print(f'La pérdida asociada a la corriente a 380V para la planta 2 son de {Perdida_P4_380_cambio} W')\n",
        "Perdida_P4_380_Tri_cambio = 3*Perdida_P4_380_cambio\n",
        "print(f'La pérdida asociada a la corrient e a 220V para la planta 1 para las 3 líneas son de {Perdida_P4_380_Tri_cambio} W')"
      ]
    },
    {
      "cell_type": "markdown",
      "metadata": {},
      "source": [
        "Grosor del cable sobre la Planta 5, a 380V:"
      ]
    },
    {
      "cell_type": "code",
      "execution_count": 270,
      "metadata": {},
      "outputs": [
        {
          "name": "stdout",
          "output_type": "stream",
          "text": [
            "La corriente necesaria es de 790.0737365847755 A para la planta 1, por lo que se necesita de dos cables que soporte 420 A de cobre, el cual corresponde a un valor de 600 kcmil.\n",
            "El grosor del cable necesario para 420 A es de 304 mm², por lo cual la regla de 3 inversa necesaria para obtener la resistencia de Ohm/km es de 0.06019736842105263 Ohm\n",
            "Ahora bien, la Planta 3 se encuentra a 500 metros del transformador, por lo cual la resistencia de pérdida será menor, esta equivale a 0.030098684210526316 Ohm\n"
          ]
        }
      ],
      "source": [
        "print(f'La corriente necesaria es de {Corriente_Planta_5_380V_cambio} A para la planta 1, por lo que se necesita de dos cables que soporte 420 A de cobre, el cual corresponde a un valor de 600 kcmil.')\n",
        "\n",
        "R_km_P5_380_cambio = (500/304)*0.0366\n",
        "print(f'El grosor del cable necesario para 420 A es de 304 mm\\u00B2, por lo cual la regla de 3 inversa necesaria para obtener la resistencia de Ohm/km es de {R_km_P5_380_cambio} Ohm')\n",
        "\n",
        "Resistencia_Final_P5_380_cambio = (500*R_km_P5_380_cambio)/1000\n",
        "print(f'Ahora bien, la Planta 3 se encuentra a 500 metros del transformador, por lo cual la resistencia de pérdida será menor, esta equivale a {Resistencia_Final_P5_380_cambio} Ohm')"
      ]
    },
    {
      "cell_type": "code",
      "execution_count": 271,
      "metadata": {},
      "outputs": [
        {
          "name": "stdout",
          "output_type": "stream",
          "text": [
            "La pérdida asociada a la corriente a 220V para la planta 5 son de 6012.190589005704 W\n",
            "La pérdida asociada a la corrient e a 220V para la planta 1 para las 3 líneas son de 18036.571767017114 W\n"
          ]
        }
      ],
      "source": [
        "Paralelo_R_km_P5_380_cambio = Resistencia_Final_P5_380_cambio/2\n",
        "Perdida_P5_380_cambio = Corriente_Planta_5_380V_Normal_cambio**2 * (Paralelo_R_km_P5_380_cambio)\n",
        "print(f'La pérdida asociada a la corriente a 220V para la planta 5 son de {Perdida_P5_380_cambio} W')\n",
        "Perdida_P5_380_Tri_cambio = 3*Perdida_P5_380_cambio\n",
        "print(f'La pérdida asociada a la corrient e a 220V para la planta 1 para las 3 líneas son de {Perdida_P5_380_Tri_cambio} W')"
      ]
    },
    {
      "cell_type": "markdown",
      "metadata": {},
      "source": [
        "# POTENCIA A LA ENTRADA DEL TRANSFORMADOR AL CAMBIAR MOTORES"
      ]
    },
    {
      "cell_type": "code",
      "execution_count": 272,
      "metadata": {},
      "outputs": [
        {
          "name": "stdout",
          "output_type": "stream",
          "text": [
            "La potencia de entrada del transformador a 220V es de 1,880,163.243842155 W\n"
          ]
        }
      ],
      "source": [
        "PerdidasXPlanta_Trifasica_220_cambio    = [Perdida_P1_220_Tri_cambio, Perdida_P2_220_Tri_cambio, Perdida_P3_220_Tri_cambio, Perdida_P4_220_Tri_cambio, Perdida_P5_220_Tri_cambio]\n",
        "PotenciaXPlanta_cambio                  = [potencia_activa_planta1_cambio, potencia_activa_planta2_cambio, potencia_activa_planta3_cambio, potencia_activa_planta4_cambio, potencia_activa_planta5_cambio]\n",
        "\n",
        "PotenciaEntradaTransformador_sinAuxiliares_220_cambio = 0\n",
        "Eficiencia_Transformador = 0.9\n",
        "Potencia_Auxiliares = 480000\n",
        "\n",
        "for i in range(len(PerdidasXPlanta_Trifasica_220_cambio)):\n",
        "    PotenciaEntradaTransformador_sinAuxiliares_220_cambio += (PerdidasXPlanta_Trifasica_220_cambio[i] + PotenciaXPlanta_cambio[i])/Eficiencia_Transformador\n",
        "\n",
        "PotenciaEntradaTransformador_220_cambio = PotenciaEntradaTransformador_sinAuxiliares_220_cambio + Potencia_Auxiliares\n",
        "\n",
        "print(f'La potencia de entrada del transformador a 220V es de {PotenciaEntradaTransformador_220_cambio:,} W')"
      ]
    },
    {
      "cell_type": "code",
      "execution_count": 273,
      "metadata": {},
      "outputs": [
        {
          "name": "stdout",
          "output_type": "stream",
          "text": [
            "La potencia de entrada del transformador a 380V es de 1,840,762.1491498284 W\n"
          ]
        }
      ],
      "source": [
        "PerdidasXPlanta_Trifasica_380_cambio    = [Perdida_P1_380_Tri_cambio, Perdida_P2_380_Tri_cambio, Perdida_P3_380_Tri_cambio, Perdida_P4_380_Tri_cambio, Perdida_P5_380_Tri_cambio]\n",
        "PotenciaXPlanta_cambio              = [potencia_activa_planta1_cambio, potencia_activa_planta2_cambio, potencia_activa_planta3_cambio, potencia_activa_planta4_cambio, potencia_activa_planta5_cambio]\n",
        "\n",
        "PotenciaEntradaTransformador_sinAuxiliares_380_cambio = 0\n",
        "Eficiencia_Transformador = 0.9\n",
        "Potencia_Auxiliares = 480000\n",
        "\n",
        "for i in range(len(PerdidasXPlanta_Trifasica_380_cambio)):\n",
        "    PotenciaEntradaTransformador_sinAuxiliares_380_cambio += (PerdidasXPlanta_Trifasica_380_cambio[i] + PotenciaXPlanta_cambio[i])/Eficiencia_Transformador\n",
        "\n",
        "PotenciaEntradaTransformador_380_cambio = PotenciaEntradaTransformador_sinAuxiliares_380_cambio + Potencia_Auxiliares\n",
        "\n",
        "print(f'La potencia de entrada del transformador a 380V es de {PotenciaEntradaTransformador_380_cambio:,} W')"
      ]
    },
    {
      "cell_type": "code",
      "execution_count": 274,
      "metadata": {},
      "outputs": [
        {
          "name": "stdout",
          "output_type": "stream",
          "text": [
            "El costo total de la energía eléctrica consumida por los motores a 220V con un trasnformador de 13200/220 es de 7,691,221,986.502219 pesos\n",
            "El costo total de la energía eléctrica consumida por los motores a 380V con un trasnformador de 13200/220 es de 7,530,043,127.814073 pesos\n",
            "El costo total de la energía eléctrica consumida por los motores a 220V con un trasnformador de 44000/220 es de 6,715,949,725.178797 pesos\n",
            "El costo total de la energía eléctrica consumida por los motores a 380V con un trasnformador de 44000/220 es de 6,575,208,876.245952 pesos\n"
          ]
        }
      ],
      "source": [
        "CostoTotal_220_13200_cambio = (PotenciaEntradaTransformador_220_cambio/1000) * TOTALHORAS * TARIFA_T1\n",
        "CostoTotal_380_13200_cambio = (PotenciaEntradaTransformador_380_cambio/1000) * TOTALHORAS * TARIFA_T1\n",
        "print(f'El costo total de la energía eléctrica consumida por los motores a 220V con un trasnformador de 13200/220 es de {CostoTotal_220_13200_cambio:,} pesos')\n",
        "print(f'El costo total de la energía eléctrica consumida por los motores a 380V con un trasnformador de 13200/220 es de {CostoTotal_380_13200_cambio:,} pesos')\n",
        "\n",
        "CostoTotal_220_44000_cambio = (PotenciaEntradaTransformador_220_cambio/1000) * TOTALHORAS * TARIFA_T2\n",
        "CostoTotal_380_44000_cambio = (PotenciaEntradaTransformador_380_cambio/1000) * TOTALHORAS * TARIFA_T2\n",
        "print(f'El costo total de la energía eléctrica consumida por los motores a 220V con un trasnformador de 44000/220 es de {CostoTotal_220_44000_cambio:,} pesos')\n",
        "print(f'El costo total de la energía eléctrica consumida por los motores a 380V con un trasnformador de 44000/220 es de {CostoTotal_380_44000_cambio:,} pesos')"
      ]
    }
  ],
  "metadata": {
    "colab": {
      "provenance": []
    },
    "kernelspec": {
      "display_name": "Python 3",
      "name": "python3"
    },
    "language_info": {
      "codemirror_mode": {
        "name": "ipython",
        "version": 3
      },
      "file_extension": ".py",
      "mimetype": "text/x-python",
      "name": "python",
      "nbconvert_exporter": "python",
      "pygments_lexer": "ipython3",
      "version": "3.11.9"
    }
  },
  "nbformat": 4,
  "nbformat_minor": 0
}
