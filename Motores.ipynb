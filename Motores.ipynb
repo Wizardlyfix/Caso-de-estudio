{
  "cells": [
    {
      "cell_type": "code",
      "execution_count": 1,
      "metadata": {
        "id": "zkmw0sdHGWHS"
      },
      "outputs": [],
      "source": [
        "import pandas as pd\n",
        "import numpy as np\n",
        "df1 = pd.read_csv('data_motores.csv')\n",
        "pd.set_option('display.max_columns', None)"
      ]
    },
    {
      "cell_type": "code",
      "execution_count": 2,
      "metadata": {
        "id": "IVlCQOLJGbhV"
      },
      "outputs": [],
      "source": [
        "df1[\"Eficiencia (%)\"]               = df1[\"Eficiencia (%)\"]/100\n",
        "df1[\"Factor de carga maximo\"]       = df1[\"Factor de carga maximo\"]/100\n",
        "df1['Potencia Entrada (W)']         = (df1['Potencia (HP)'] * 746 * (df1['Factor de carga maximo'])) / (df1['Eficiencia (%)'])\n",
        "df1['Potencia Salida (W)']  = (df1['Potencia (HP)'] * 746 * (df1['Factor de carga maximo']))\n",
        "df1['Pérdidas Motor (W)']           = df1['Potencia Entrada (W)'] - df1['Potencia Salida (W)']\n",
        "df1['Corriente a 220V (A)']         = df1['Potencia Entrada (W)'] / (np.sqrt(3) * 220 * df1['Factor de potencia'])\n",
        "df1['Corriente a 380V (A)']         = df1['Potencia Entrada (W)'] / (np.sqrt(3) * 380 * df1['Factor de potencia'])\n",
        "df1['Corriente a 220V (A) +25%']    = df1['Corriente a 220V (A)']*1.25\n",
        "df1['Corriente a 380V (A) +25%']    = df1['Corriente a 380V (A)']*1.25\n",
        "df1['Velocidad síncrona (RPM)']     = 3600"
      ]
    },
    {
      "cell_type": "code",
      "execution_count": 3,
      "metadata": {
        "id": "mtQ_YB-KGjpm"
      },
      "outputs": [],
      "source": [
        "catalogo                            = pd.read_csv('catalogo_motores.csv')\n",
        "catalogo['Potencia HP']             = catalogo['Potencia HP'].astype(int)\n",
        "df2                                 = pd.merge(df1, catalogo[['Potencia HP', 'Velocidad rpm']], left_on='Potencia (HP)', right_on='Potencia HP', how='left')\n",
        "df2.drop(columns=['Potencia HP'], inplace=True)\n",
        "df2                                 = df2.rename(columns={'Velocidad rpm': 'Velocidad real (RPM)'})\n",
        "df2['Deslizamiento (RPM)']          = df2['Velocidad síncrona (RPM)'] - df2['Velocidad real (RPM)']\n",
        "df2['Deslizamiento (%)']            = ((df2['Velocidad síncrona (RPM)'] - df2['Velocidad real (RPM)']) / df2['Velocidad síncrona (RPM)'])*100\n",
        "df2['Torque (N.m)']                 = (df2['Potencia (HP)'] * 746 * (df1['Factor de carga maximo'])) / ((df2['Velocidad real (RPM)'] * 2 * np.pi)/60)\n",
        "df2['theta (°)']                    = np.degrees(np.arccos(df2['Factor de potencia']))\n",
        "df2['Real Corriente 220V Normal']          = df2['Corriente a 220V (A)'] * np.cos(np.radians(df2['theta (°)']))\n",
        "df2['Imaginaria Corriente 220V Normal']    = df2['Corriente a 220V (A)'] * np.sin(np.radians(df2['theta (°)']))\n",
        "df2['Real Corriente 380V Normal']          = df2['Corriente a 380V (A)'] * np.cos(np.radians(df2['theta (°)']))\n",
        "df2['Imaginaria Corriente 380V Normal']    = df2['Corriente a 380V (A)'] * np.sin(np.radians(df2['theta (°)']))\n",
        "df2['Real Corriente 220V +25%']          = df2['Corriente a 220V (A) +25%'] * np.cos(np.radians(df2['theta (°)']))\n",
        "df2['Imaginaria Corriente 220V +25%']    = df2['Corriente a 220V (A) +25%'] * np.sin(np.radians(df2['theta (°)']))\n",
        "df2['Real Corriente 380V +25%']          = df2['Corriente a 380V (A) +25%'] * np.cos(np.radians(df2['theta (°)']))\n",
        "df2['Imaginaria Corriente 380V +25%']    = df2['Corriente a 380V (A) +25%'] * np.sin(np.radians(df2['theta (°)']))\n",
        "df2[\"kw/año\"]                       = (df2[\"Potencia Entrada (W)\"]/1000) * 6696\n",
        "df2[\"costo/año\"]                    = df2[\"kw/año\"] * 1009.04\n",
        "\n",
        "df2[\"cambio FC\"]                    = np.where(df2[\"Factor de carga maximo\"] < 0.8, \"Si\", \"No\")\n",
        "df2[\"cambio Eficiencia\"]            = np.where(df2[\"Eficiencia (%)\"] < 0.85, \"Si\", \"No\")\n",
        "df2[\"cambio\"]                       = np.where((df2[\"cambio FC\"] == \"Si\") | (df2[\"cambio Eficiencia\"] == \"Si\"), \"Si\", \"No\")"
      ]
    },
    {
      "cell_type": "code",
      "execution_count": 4,
      "metadata": {
        "id": "OfJCugcRGmOG"
      },
      "outputs": [],
      "source": [
        "df2.to_csv('data_motores_procesada.csv', index=False)"
      ]
    },
    {
      "cell_type": "code",
      "execution_count": 5,
      "metadata": {},
      "outputs": [],
      "source": [
        "Corriente_Planta_1_220V_Normal = np.sqrt((df2[df2['Planta'] == 'Planta 1']['Real Corriente 220V Normal'].sum())**2 + (df2[df2['Planta'] == 'Planta 1']['Imaginaria Corriente 220V Normal'].sum())**2)\n",
        "Corriente_Planta_2_220V_Normal = np.sqrt((df2[df2['Planta'] == 'Planta 2']['Real Corriente 220V Normal'].sum())**2 + (df2[df2['Planta'] == 'Planta 2']['Imaginaria Corriente 220V Normal'].sum())**2)\n",
        "Corriente_Planta_3_220V_Normal = np.sqrt((df2[df2['Planta'] == 'Planta 3']['Real Corriente 220V Normal'].sum())**2 + (df2[df2['Planta'] == 'Planta 3']['Imaginaria Corriente 220V Normal'].sum())**2)\n",
        "Corriente_Planta_4_220V_Normal = np.sqrt((df2[df2['Planta'] == 'Planta 4']['Real Corriente 220V Normal'].sum())**2 + (df2[df2['Planta'] == 'Planta 4']['Imaginaria Corriente 220V Normal'].sum())**2)\n",
        "Corriente_Planta_5_220V_Normal = np.sqrt((df2[df2['Planta'] == 'Planta 5']['Real Corriente 220V Normal'].sum())**2 + (df2[df2['Planta'] == 'Planta 5']['Imaginaria Corriente 220V Normal'].sum())**2)\n",
        "\n",
        "Corriente_Planta_1_380V_Normal = np.sqrt((df2[df2['Planta'] == 'Planta 1']['Real Corriente 380V Normal'].sum())**2 + (df2[df2['Planta'] == 'Planta 1']['Imaginaria Corriente 380V Normal'].sum())**2)\n",
        "Corriente_Planta_2_380V_Normal = np.sqrt((df2[df2['Planta'] == 'Planta 2']['Real Corriente 380V Normal'].sum())**2 + (df2[df2['Planta'] == 'Planta 2']['Imaginaria Corriente 380V Normal'].sum())**2)\n",
        "Corriente_Planta_3_380V_Normal = np.sqrt((df2[df2['Planta'] == 'Planta 3']['Real Corriente 380V Normal'].sum())**2 + (df2[df2['Planta'] == 'Planta 3']['Imaginaria Corriente 380V Normal'].sum())**2)\n",
        "Corriente_Planta_4_380V_Normal = np.sqrt((df2[df2['Planta'] == 'Planta 4']['Real Corriente 380V Normal'].sum())**2 + (df2[df2['Planta'] == 'Planta 4']['Imaginaria Corriente 380V Normal'].sum())**2)\n",
        "Corriente_Planta_5_380V_Normal = np.sqrt((df2[df2['Planta'] == 'Planta 5']['Real Corriente 380V Normal'].sum())**2 + (df2[df2['Planta'] == 'Planta 5']['Imaginaria Corriente 380V Normal'].sum())**2)\n",
        "\n",
        "Potencia_Planta_1_220 = 220*Corriente_Planta_1_220V_Normal\n",
        "Potencia_Planta_2_220 = 220*Corriente_Planta_2_220V_Normal\n",
        "Potencia_Planta_3_220 = 220*Corriente_Planta_3_220V_Normal\n",
        "Potencia_Planta_4_220 = 220*Corriente_Planta_4_220V_Normal\n",
        "Potencia_Planta_5_220 = 220*Corriente_Planta_5_220V_Normal\n",
        "\n",
        "Potencia_Planta_1_380 = 380*Corriente_Planta_1_380V_Normal\n",
        "Potencia_Planta_2_380 = 380*Corriente_Planta_2_380V_Normal\n",
        "Potencia_Planta_3_380 = 380*Corriente_Planta_3_380V_Normal\n",
        "Potencia_Planta_4_380 = 380*Corriente_Planta_4_380V_Normal\n",
        "Potencia_Planta_5_380 = 380*Corriente_Planta_5_380V_Normal"
      ]
    },
    {
      "cell_type": "markdown",
      "metadata": {
        "id": "82p_yybpGuJt"
      },
      "source": [
        "# PARA 220V"
      ]
    },
    {
      "cell_type": "markdown",
      "metadata": {
        "id": "D6OyubzMGq6c"
      },
      "source": [
        "Magnitud de corriente a 220V para determinar el total de la corriente que se usará para dimensionar el grosor del cable sobre la Planta 1"
      ]
    },
    {
      "cell_type": "code",
      "execution_count": 6,
      "metadata": {
        "id": "pGxPmbYuGrXf"
      },
      "outputs": [
        {
          "name": "stdout",
          "output_type": "stream",
          "text": [
            "Magnitud de corriente a 220V para los motores de la planta 1: 740.8613845652662 A\n"
          ]
        }
      ],
      "source": [
        "Corriente_Planta_1_220V = np.sqrt((df2[df2['Planta'] == 'Planta 1']['Real Corriente 220V +25%'].sum())**2 + (df2[df2['Planta'] == 'Planta 1']['Imaginaria Corriente 220V +25%'].sum())**2)\n",
        "print(f'Magnitud de corriente a 220V para los motores de la planta 1: {Corriente_Planta_1_220V} A')"
      ]
    },
    {
      "cell_type": "markdown",
      "metadata": {
        "id": "Nrq_t7VDG44S"
      },
      "source": [
        "Magnitud de corriente a 220V para determinar el total de la corriente que se usará para dimensionar el grosor del cable sobre la Planta 2"
      ]
    },
    {
      "cell_type": "code",
      "execution_count": 7,
      "metadata": {
        "id": "49uL3GyTGyLQ"
      },
      "outputs": [
        {
          "name": "stdout",
          "output_type": "stream",
          "text": [
            "Magnitud de corriente a 220V para los motores de la planta 2: 1055.846103440497 A\n"
          ]
        }
      ],
      "source": [
        "Corriente_Planta_2_220V = np.sqrt((df2[df2['Planta'] == 'Planta 2']['Real Corriente 220V +25%'].sum())**2 + (df2[df2['Planta'] == 'Planta 2']['Imaginaria Corriente 220V +25%'].sum())**2)\n",
        "print(f'Magnitud de corriente a 220V para los motores de la planta 2: {Corriente_Planta_2_220V} A')"
      ]
    },
    {
      "cell_type": "markdown",
      "metadata": {
        "id": "nvutnbNHHADO"
      },
      "source": [
        "Magnitud de corriente a 220V para determinar el total de la corriente que se usará para dimensionar el grosor del cable sobre la Planta 3"
      ]
    },
    {
      "cell_type": "code",
      "execution_count": 8,
      "metadata": {
        "id": "VIKRVR_pHAXc"
      },
      "outputs": [
        {
          "name": "stdout",
          "output_type": "stream",
          "text": [
            "Magnitud de corriente a 220V para los motores de la planta 3: 1184.1293915625126 A\n"
          ]
        }
      ],
      "source": [
        "Corriente_Planta_3_220V = np.sqrt((df2[df2['Planta'] == 'Planta 3']['Real Corriente 220V +25%'].sum())**2 + (df2[df2['Planta'] == 'Planta 3']['Imaginaria Corriente 220V +25%'].sum())**2)\n",
        "print(f'Magnitud de corriente a 220V para los motores de la planta 3: {Corriente_Planta_3_220V} A')"
      ]
    },
    {
      "cell_type": "markdown",
      "metadata": {
        "id": "CP5aF3ojHFly"
      },
      "source": [
        "Magnitud de corriente a 220V para determinar el total de la corriente que se usará para dimensionar el grosor del cable sobre la Planta 4"
      ]
    },
    {
      "cell_type": "code",
      "execution_count": 9,
      "metadata": {
        "id": "UJJENGhsHFHX"
      },
      "outputs": [
        {
          "name": "stdout",
          "output_type": "stream",
          "text": [
            "Magnitud de corriente a 220V para los motores de la planta 4: 774.7133890486778 A\n"
          ]
        }
      ],
      "source": [
        "Corriente_Planta_4_220V = np.sqrt((df2[df2['Planta'] == 'Planta 4']['Real Corriente 220V +25%'].sum())**2 + (df2[df2['Planta'] == 'Planta 4']['Imaginaria Corriente 220V +25%'].sum())**2)\n",
        "print(f'Magnitud de corriente a 220V para los motores de la planta 4: {Corriente_Planta_4_220V} A')"
      ]
    },
    {
      "cell_type": "markdown",
      "metadata": {
        "id": "P-Chg5ZPHJIM"
      },
      "source": [
        "Magnitud de corriente a 220V para determinar el total de la corriente que se usará para dimensionar el grosor del cable sobre la Planta 5"
      ]
    },
    {
      "cell_type": "code",
      "execution_count": 10,
      "metadata": {
        "id": "ruugeKKLHL7W"
      },
      "outputs": [
        {
          "name": "stdout",
          "output_type": "stream",
          "text": [
            "Magnitud de corriente a 220V para los motores de la planta 5: 1396.9715056603966 A\n"
          ]
        }
      ],
      "source": [
        "Corriente_Planta_5_220V = np.sqrt((df2[df2['Planta'] == 'Planta 5']['Real Corriente 220V +25%'].sum())**2 + (df2[df2['Planta'] == 'Planta 5']['Imaginaria Corriente 220V +25%'].sum())**2)\n",
        "print(f'Magnitud de corriente a 220V para los motores de la planta 5: {Corriente_Planta_5_220V} A')"
      ]
    },
    {
      "cell_type": "markdown",
      "metadata": {
        "id": "TNzNCGgPHTaw"
      },
      "source": [
        "# PARA 380V"
      ]
    },
    {
      "cell_type": "markdown",
      "metadata": {
        "id": "mYgky64NHeQq"
      },
      "source": [
        "Magnitud de corriente a 380V para determinar el total de la corriente que se usará para dimensionar el grosor del cable sobre la Planta 1"
      ]
    },
    {
      "cell_type": "code",
      "execution_count": 11,
      "metadata": {
        "id": "rCR8wgELHRXK"
      },
      "outputs": [
        {
          "name": "stdout",
          "output_type": "stream",
          "text": [
            "Magnitud de corriente a 380V para los motores de la planta 1: 428.91974895883834 A\n"
          ]
        }
      ],
      "source": [
        "Corriente_Planta_1_380V = np.sqrt((df2[df2['Planta'] == 'Planta 1']['Real Corriente 380V +25%'].sum())**2 + (df2[df2['Planta'] == 'Planta 1']['Imaginaria Corriente 380V +25%'].sum())**2)\n",
        "print(f'Magnitud de corriente a 380V para los motores de la planta 1: {Corriente_Planta_1_380V} A')"
      ]
    },
    {
      "cell_type": "markdown",
      "metadata": {
        "id": "xIZjBtagHhUa"
      },
      "source": [
        "Magnitud de corriente a 380V para determinar el total de la corriente que se usará para dimensionar el grosor del cable sobre la Planta 2"
      ]
    },
    {
      "cell_type": "code",
      "execution_count": 12,
      "metadata": {
        "id": "fReZ_nphHj7L"
      },
      "outputs": [
        {
          "name": "stdout",
          "output_type": "stream",
          "text": [
            "Magnitud de corriente a 380V para los motores de la planta 2: 611.2793230444981 A\n"
          ]
        }
      ],
      "source": [
        "Corriente_Planta_2_380V = np.sqrt((df2[df2['Planta'] == 'Planta 2']['Real Corriente 380V +25%'].sum())**2 + (df2[df2['Planta'] == 'Planta 2']['Imaginaria Corriente 380V +25%'].sum())**2)\n",
        "print(f'Magnitud de corriente a 380V para los motores de la planta 2: {Corriente_Planta_2_380V} A')"
      ]
    },
    {
      "cell_type": "markdown",
      "metadata": {
        "id": "xyw-T6sdHnd6"
      },
      "source": [
        "Magnitud de corriente a 380V para determinar el total de la corriente que se usará para dimensionar el grosor del cable sobre la Planta 3"
      ]
    },
    {
      "cell_type": "code",
      "execution_count": 13,
      "metadata": {
        "id": "-emr-hA0Hr_D"
      },
      "outputs": [
        {
          "name": "stdout",
          "output_type": "stream",
          "text": [
            "Magnitud de corriente a 380V para los motores de la planta 3: 685.5485951151388 A\n"
          ]
        }
      ],
      "source": [
        "Corriente_Planta_3_380V = np.sqrt((df2[df2['Planta'] == 'Planta 3']['Real Corriente 380V +25%'].sum())**2 + (df2[df2['Planta'] == 'Planta 3']['Imaginaria Corriente 380V +25%'].sum())**2)\n",
        "print(f'Magnitud de corriente a 380V para los motores de la planta 3: {Corriente_Planta_3_380V} A')"
      ]
    },
    {
      "cell_type": "markdown",
      "metadata": {
        "id": "1lTW9v4wHuSL"
      },
      "source": [
        "Magnitud de corriente a 380V para determinar el total de la corriente que se usará para dimensionar el grosor del cable sobre la Planta 4"
      ]
    },
    {
      "cell_type": "code",
      "execution_count": 14,
      "metadata": {
        "id": "BPc_5FIjHulX"
      },
      "outputs": [
        {
          "name": "stdout",
          "output_type": "stream",
          "text": [
            "Magnitud de corriente a 380V para los motores de la planta 4: 448.51827787028714 A\n"
          ]
        }
      ],
      "source": [
        "Corriente_Planta_4_380V = np.sqrt((df2[df2['Planta'] == 'Planta 4']['Real Corriente 380V +25%'].sum())**2 + (df2[df2['Planta'] == 'Planta 4']['Imaginaria Corriente 380V +25%'].sum())**2)\n",
        "print(f'Magnitud de corriente a 380V para los motores de la planta 4: {Corriente_Planta_4_380V} A')"
      ]
    },
    {
      "cell_type": "markdown",
      "metadata": {
        "id": "6WyDuU5kH1ft"
      },
      "source": [
        "Magnitud de corriente a 380V para determinar el total de la corriente que se usará para dimensionar el grosor del cable sobre la Planta 5"
      ]
    },
    {
      "cell_type": "code",
      "execution_count": 15,
      "metadata": {
        "id": "Nfbz0CjLHzor"
      },
      "outputs": [
        {
          "name": "stdout",
          "output_type": "stream",
          "text": [
            "Magnitud de corriente a 380V para los motores de la planta 5: 808.7729769612822 A\n"
          ]
        }
      ],
      "source": [
        "Corriente_Planta_5_380V = np.sqrt((df2[df2['Planta'] == 'Planta 5']['Real Corriente 380V +25%'].sum())**2 + (df2[df2['Planta'] == 'Planta 5']['Imaginaria Corriente 380V +25%'].sum())**2)\n",
        "print(f'Magnitud de corriente a 380V para los motores de la planta 5: {Corriente_Planta_5_380V} A')"
      ]
    },
    {
      "cell_type": "markdown",
      "metadata": {},
      "source": [
        "Debido a que existen consumos auxiliares, se tiene que estos consumen 480kW, se puede partir de que poseen un factor de potencia de FP = 1, por lo tanto es pertinente calcular su consumo de corriente a 220V que es al voltaje al cual se encuentran conectados, suponiendo que son cargas puramente resistivas, estas no cuentan con desfase por lo tanto no poseen parte imaginaria, por lo que:"
      ]
    },
    {
      "cell_type": "code",
      "execution_count": 16,
      "metadata": {},
      "outputs": [
        {
          "name": "stdout",
          "output_type": "stream",
          "text": [
            "Magnitud de corriente a 220V para los Auxiliares: 1259.6733145955473 A\n"
          ]
        }
      ],
      "source": [
        "FP_aux = 1\n",
        "Corriente_Auxiliares = 480000/(np.sqrt(3)*220*FP_aux)\n",
        "print(f'Magnitud de corriente a 220V para los Auxiliares: {Corriente_Auxiliares} A')"
      ]
    },
    {
      "cell_type": "markdown",
      "metadata": {
        "id": "NplsdOIuH5tz"
      },
      "source": [
        "## CAMBIO DE MOTORES ##"
      ]
    },
    {
      "cell_type": "code",
      "execution_count": 17,
      "metadata": {
        "id": "J6BjzNSdH6IQ"
      },
      "outputs": [],
      "source": [
        "#calculo de 11 meses, donde se trabaja continuamente 16 horas al dia de lunes a sabado\n",
        "diasXmes        = 24\n",
        "horasXdia       = 16\n",
        "horasXmes       = diasXmes * horasXdia\n",
        "meses           = 11\n",
        "horasX11meses   = horasXmes * meses\n",
        "\n",
        "#calculo para el mes de diciembre\n",
        "diasDiciembre   = 15\n",
        "horasDiciembre  = diasDiciembre * horasXdia\n",
        "\n",
        "#total horas por año\n",
        "TOTALHORAS     = horasX11meses + horasDiciembre"
      ]
    },
    {
      "cell_type": "markdown",
      "metadata": {},
      "source": [
        "Dado un transformador de 13200/220V, según el documento de publicación de tarifas del mes de mayo de 2024, se tiene que para un transformador de este tipo se encuentra en el Nivel II de consumo por lo que la tarifa a pagar por poseer un contador antes del transformador es de:"
      ]
    },
    {
      "cell_type": "code",
      "execution_count": 18,
      "metadata": {},
      "outputs": [
        {
          "data": {
            "text/plain": [
              "916.38"
            ]
          },
          "execution_count": 18,
          "metadata": {},
          "output_type": "execute_result"
        }
      ],
      "source": [
        "TARIFA_T1 = (914.75 + 918.01)/2\n",
        "TARIFA_T1"
      ]
    },
    {
      "cell_type": "markdown",
      "metadata": {},
      "source": [
        "Dado un transformador de 44000/220V, según el documento de publicación de tarifas del mes de mayo de 2024, se tiene que para un transformador de este tipo se encuentra en el Nivel III de consumo por lo que la tarifa a pagar por poseer un contador antes del transformador es de:"
      ]
    },
    {
      "cell_type": "code",
      "execution_count": 19,
      "metadata": {},
      "outputs": [
        {
          "data": {
            "text/plain": [
              "800.1800000000001"
            ]
          },
          "execution_count": 19,
          "metadata": {},
          "output_type": "execute_result"
        }
      ],
      "source": [
        "TARIFA_T2 = (798.52 + 801.84)/2\n",
        "TARIFA_T2"
      ]
    },
    {
      "cell_type": "code",
      "execution_count": 20,
      "metadata": {
        "id": "07JIRbO2H_Tw"
      },
      "outputs": [],
      "source": [
        "df_catalogo = pd.read_csv(\"catalogo_motores_completo.csv\")\n",
        "def cambio(fc,potencia_hp,velocidad_sincronica,potencia_actual):\n",
        "    #factor de carga, potencia_hp, potencia_actual\n",
        "    costoXaño = (potencia_actual / 1000) * TOTALHORAS * TARIFA_T1 #Reemplazar TARIFA_T1 por TARIFA_T2 si se desea calcular con la tarifa T2\n",
        "    df_filtro                           = df_catalogo[(df_catalogo[\"Potencia HP\"] == potencia_hp) & (df_catalogo[\"rpm\"] == velocidad_sincronica)].copy()\n",
        "    df_filtro['Potencia Entrada (W)']   = (df_filtro ['Potencia HP'] * 746 * (fc)) / (df_filtro ['Eficiencia %']/100)\n",
        "    df_filtro[\"kw/año\"]                 = (df_filtro[\"Potencia Entrada (W)\"]/1000) * TOTALHORAS\n",
        "    df_filtro[\"costo/año\"]              = df_filtro[\"kw/año\"] * TARIFA_T1\n",
        "    df_filtro[\"costo_anterior\"]         = costoXaño\n",
        "    df_filtro[\"ahorroXmes\"]             = (df_filtro[\"costo_anterior\"] - df_filtro[\"costo/año\"]) / 12\n",
        "    df_filtro[\"tiempo_retribucion\"]     = df_filtro[\"costo_Pesos\"] / df_filtro[\"ahorroXmes\"]\n",
        "    return df_filtro"
      ]
    },
    {
      "cell_type": "code",
      "execution_count": 21,
      "metadata": {
        "id": "j-MkYpmQIBOR"
      },
      "outputs": [
        {
          "data": {
            "text/html": [
              "<div>\n",
              "<style scoped>\n",
              "    .dataframe tbody tr th:only-of-type {\n",
              "        vertical-align: middle;\n",
              "    }\n",
              "\n",
              "    .dataframe tbody tr th {\n",
              "        vertical-align: top;\n",
              "    }\n",
              "\n",
              "    .dataframe thead th {\n",
              "        text-align: right;\n",
              "    }\n",
              "</style>\n",
              "<table border=\"1\" class=\"dataframe\">\n",
              "  <thead>\n",
              "    <tr style=\"text-align: right;\">\n",
              "      <th></th>\n",
              "      <th>No. de Depósito</th>\n",
              "      <th>Referencia</th>\n",
              "      <th>Potencia kW</th>\n",
              "      <th>Potencia HP</th>\n",
              "      <th>Tamaño constructivo</th>\n",
              "      <th>Velocidad rpm</th>\n",
              "      <th>Torque Nm</th>\n",
              "      <th>Corriente nominal 220VDD A</th>\n",
              "      <th>Corriente nominal 380VYY A</th>\n",
              "      <th>Corriente nominal 440VD A</th>\n",
              "      <th>Eficiencia %</th>\n",
              "      <th>Peso neto (IM B3) kg</th>\n",
              "      <th>Precio de lista USD</th>\n",
              "      <th>rpm</th>\n",
              "      <th>polos</th>\n",
              "      <th>costo_Pesos</th>\n",
              "      <th>(%) deslizamiento</th>\n",
              "      <th>Potencia Entrada (W)</th>\n",
              "      <th>kw/año</th>\n",
              "      <th>costo/año</th>\n",
              "      <th>costo_anterior</th>\n",
              "      <th>ahorroXmes</th>\n",
              "      <th>tiempo_retribucion</th>\n",
              "    </tr>\n",
              "  </thead>\n",
              "  <tbody>\n",
              "    <tr>\n",
              "      <th>13</th>\n",
              "      <td>100664589</td>\n",
              "      <td>1LE0143-2BA16-4AA4-Z D80+D81</td>\n",
              "      <td>37.0</td>\n",
              "      <td>50.0</td>\n",
              "      <td>225M</td>\n",
              "      <td>3570</td>\n",
              "      <td>99.0</td>\n",
              "      <td>118.0</td>\n",
              "      <td>68.0</td>\n",
              "      <td>59.0</td>\n",
              "      <td>93.0</td>\n",
              "      <td>320.0</td>\n",
              "      <td>4502.5</td>\n",
              "      <td>3600</td>\n",
              "      <td>2</td>\n",
              "      <td>17487710.0</td>\n",
              "      <td>0.833333</td>\n",
              "      <td>32086.021505</td>\n",
              "      <td>143232.0</td>\n",
              "      <td>1.312549e+08</td>\n",
              "      <td>1.436083e+08</td>\n",
              "      <td>1.029451e+06</td>\n",
              "      <td>16.987422</td>\n",
              "    </tr>\n",
              "  </tbody>\n",
              "</table>\n",
              "</div>"
            ],
            "text/plain": [
              "    No. de Depósito                    Referencia  Potencia kW  Potencia HP  \\\n",
              "13        100664589  1LE0143-2BA16-4AA4-Z D80+D81         37.0         50.0   \n",
              "\n",
              "   Tamaño constructivo  Velocidad rpm  Torque Nm  Corriente nominal 220VDD A  \\\n",
              "13                225M           3570       99.0                       118.0   \n",
              "\n",
              "    Corriente nominal 380VYY A  Corriente nominal 440VD A  Eficiencia %  \\\n",
              "13                        68.0                       59.0          93.0   \n",
              "\n",
              "    Peso neto (IM B3) kg  Precio de lista USD   rpm  polos  costo_Pesos  \\\n",
              "13                 320.0               4502.5  3600      2   17487710.0   \n",
              "\n",
              "    (%) deslizamiento  Potencia Entrada (W)    kw/año     costo/año  \\\n",
              "13           0.833333          32086.021505  143232.0  1.312549e+08   \n",
              "\n",
              "    costo_anterior    ahorroXmes  tiempo_retribucion  \n",
              "13    1.436083e+08  1.029451e+06           16.987422  "
            ]
          },
          "execution_count": 21,
          "metadata": {},
          "output_type": "execute_result"
        }
      ],
      "source": [
        "#factor de carga, potencia_hp, potencia_actual\n",
        "df_cambio = cambio(0.8,50,3600,35105.882352941175)\n",
        "df_cambio"
      ]
    },
    {
      "cell_type": "code",
      "execution_count": 22,
      "metadata": {
        "id": "qCB1Sc_JIDMl"
      },
      "outputs": [
        {
          "data": {
            "text/html": [
              "<div>\n",
              "<style scoped>\n",
              "    .dataframe tbody tr th:only-of-type {\n",
              "        vertical-align: middle;\n",
              "    }\n",
              "\n",
              "    .dataframe tbody tr th {\n",
              "        vertical-align: top;\n",
              "    }\n",
              "\n",
              "    .dataframe thead th {\n",
              "        text-align: right;\n",
              "    }\n",
              "</style>\n",
              "<table border=\"1\" class=\"dataframe\">\n",
              "  <thead>\n",
              "    <tr style=\"text-align: right;\">\n",
              "      <th></th>\n",
              "      <th>Planta</th>\n",
              "      <th>Distancia</th>\n",
              "      <th>Motor</th>\n",
              "      <th>Potencia (HP)</th>\n",
              "      <th>Eficiencia (%)</th>\n",
              "      <th>Factor de carga maximo</th>\n",
              "      <th>Factor de potencia</th>\n",
              "      <th>Potencia Entrada (W)</th>\n",
              "      <th>Corriente a 220V (A)</th>\n",
              "      <th>Corriente a 380V (A)</th>\n",
              "      <th>Potencia Salida (W)</th>\n",
              "      <th>Pérdidas Motor (W)</th>\n",
              "      <th>Corriente a 220V (A) +25%</th>\n",
              "      <th>Corriente a 380V (A) +25%</th>\n",
              "      <th>Velocidad síncrona (RPM)</th>\n",
              "      <th>Velocidad real (RPM)</th>\n",
              "      <th>Deslizamiento (RPM)</th>\n",
              "      <th>Deslizamiento (%)</th>\n",
              "      <th>Torque (N.m)</th>\n",
              "      <th>theta (°)</th>\n",
              "      <th>Real Corriente 220V Normal</th>\n",
              "      <th>Imaginaria Corriente 220V Normal</th>\n",
              "      <th>Real Corriente 380V Normal</th>\n",
              "      <th>Imaginaria Corriente 380V Normal</th>\n",
              "      <th>Real Corriente 220V +25%</th>\n",
              "      <th>Imaginaria Corriente 220V +25%</th>\n",
              "      <th>Real Corriente 380V +25%</th>\n",
              "      <th>Imaginaria Corriente 380V +25%</th>\n",
              "      <th>kw/año</th>\n",
              "      <th>costo/año</th>\n",
              "      <th>cambio FC</th>\n",
              "      <th>cambio Eficiencia</th>\n",
              "      <th>cambio</th>\n",
              "    </tr>\n",
              "  </thead>\n",
              "  <tbody>\n",
              "    <tr>\n",
              "      <th>0</th>\n",
              "      <td>Planta 1</td>\n",
              "      <td>200</td>\n",
              "      <td>1</td>\n",
              "      <td>30</td>\n",
              "      <td>0.70</td>\n",
              "      <td>0.8</td>\n",
              "      <td>0.74</td>\n",
              "      <td>25577.142857</td>\n",
              "      <td>90.706206</td>\n",
              "      <td>52.514119</td>\n",
              "      <td>17904.0</td>\n",
              "      <td>7673.142857</td>\n",
              "      <td>113.382757</td>\n",
              "      <td>65.642649</td>\n",
              "      <td>3600</td>\n",
              "      <td>3540</td>\n",
              "      <td>60</td>\n",
              "      <td>1.666667</td>\n",
              "      <td>48.296781</td>\n",
              "      <td>42.268584</td>\n",
              "      <td>67.122592</td>\n",
              "      <td>61.009617</td>\n",
              "      <td>38.860448</td>\n",
              "      <td>35.321357</td>\n",
              "      <td>83.903240</td>\n",
              "      <td>76.262021</td>\n",
              "      <td>48.575560</td>\n",
              "      <td>44.151697</td>\n",
              "      <td>171264.548571</td>\n",
              "      <td>1.728128e+08</td>\n",
              "      <td>No</td>\n",
              "      <td>Si</td>\n",
              "      <td>Si</td>\n",
              "    </tr>\n",
              "    <tr>\n",
              "      <th>1</th>\n",
              "      <td>Planta 2</td>\n",
              "      <td>300</td>\n",
              "      <td>1</td>\n",
              "      <td>40</td>\n",
              "      <td>0.79</td>\n",
              "      <td>0.8</td>\n",
              "      <td>0.82</td>\n",
              "      <td>30217.721519</td>\n",
              "      <td>96.708479</td>\n",
              "      <td>55.989120</td>\n",
              "      <td>23872.0</td>\n",
              "      <td>6345.721519</td>\n",
              "      <td>120.885599</td>\n",
              "      <td>69.986399</td>\n",
              "      <td>3600</td>\n",
              "      <td>3565</td>\n",
              "      <td>35</td>\n",
              "      <td>0.972222</td>\n",
              "      <td>63.944126</td>\n",
              "      <td>34.915206</td>\n",
              "      <td>79.300953</td>\n",
              "      <td>55.352406</td>\n",
              "      <td>45.911078</td>\n",
              "      <td>32.046130</td>\n",
              "      <td>99.126191</td>\n",
              "      <td>69.190507</td>\n",
              "      <td>57.388848</td>\n",
              "      <td>40.057662</td>\n",
              "      <td>202337.863291</td>\n",
              "      <td>2.041670e+08</td>\n",
              "      <td>No</td>\n",
              "      <td>Si</td>\n",
              "      <td>Si</td>\n",
              "    </tr>\n",
              "    <tr>\n",
              "      <th>2</th>\n",
              "      <td>Planta 3</td>\n",
              "      <td>350</td>\n",
              "      <td>1</td>\n",
              "      <td>60</td>\n",
              "      <td>0.85</td>\n",
              "      <td>0.6</td>\n",
              "      <td>0.78</td>\n",
              "      <td>31595.294118</td>\n",
              "      <td>106.302748</td>\n",
              "      <td>61.543696</td>\n",
              "      <td>26856.0</td>\n",
              "      <td>4739.294118</td>\n",
              "      <td>132.878435</td>\n",
              "      <td>76.929620</td>\n",
              "      <td>3600</td>\n",
              "      <td>3570</td>\n",
              "      <td>30</td>\n",
              "      <td>0.833333</td>\n",
              "      <td>71.836389</td>\n",
              "      <td>38.739425</td>\n",
              "      <td>82.916143</td>\n",
              "      <td>66.522082</td>\n",
              "      <td>48.004083</td>\n",
              "      <td>38.512784</td>\n",
              "      <td>103.645179</td>\n",
              "      <td>83.152602</td>\n",
              "      <td>60.005104</td>\n",
              "      <td>48.140980</td>\n",
              "      <td>211562.089412</td>\n",
              "      <td>2.134746e+08</td>\n",
              "      <td>Si</td>\n",
              "      <td>No</td>\n",
              "      <td>Si</td>\n",
              "    </tr>\n",
              "    <tr>\n",
              "      <th>3</th>\n",
              "      <td>Planta 4</td>\n",
              "      <td>300</td>\n",
              "      <td>1</td>\n",
              "      <td>30</td>\n",
              "      <td>0.82</td>\n",
              "      <td>0.6</td>\n",
              "      <td>0.78</td>\n",
              "      <td>16375.609756</td>\n",
              "      <td>55.095936</td>\n",
              "      <td>31.897647</td>\n",
              "      <td>13428.0</td>\n",
              "      <td>2947.609756</td>\n",
              "      <td>68.869921</td>\n",
              "      <td>39.872059</td>\n",
              "      <td>3600</td>\n",
              "      <td>3540</td>\n",
              "      <td>60</td>\n",
              "      <td>1.666667</td>\n",
              "      <td>36.222586</td>\n",
              "      <td>38.739425</td>\n",
              "      <td>42.974830</td>\n",
              "      <td>34.477908</td>\n",
              "      <td>24.880165</td>\n",
              "      <td>19.960894</td>\n",
              "      <td>53.718538</td>\n",
              "      <td>43.097385</td>\n",
              "      <td>31.100206</td>\n",
              "      <td>24.951118</td>\n",
              "      <td>109651.082927</td>\n",
              "      <td>1.106423e+08</td>\n",
              "      <td>Si</td>\n",
              "      <td>Si</td>\n",
              "      <td>Si</td>\n",
              "    </tr>\n",
              "    <tr>\n",
              "      <th>4</th>\n",
              "      <td>Planta 5</td>\n",
              "      <td>500</td>\n",
              "      <td>1</td>\n",
              "      <td>100</td>\n",
              "      <td>0.91</td>\n",
              "      <td>0.6</td>\n",
              "      <td>0.81</td>\n",
              "      <td>49186.813187</td>\n",
              "      <td>159.360381</td>\n",
              "      <td>92.261273</td>\n",
              "      <td>44760.0</td>\n",
              "      <td>4426.813187</td>\n",
              "      <td>199.200476</td>\n",
              "      <td>115.326591</td>\n",
              "      <td>3600</td>\n",
              "      <td>3570</td>\n",
              "      <td>30</td>\n",
              "      <td>0.833333</td>\n",
              "      <td>119.727315</td>\n",
              "      <td>35.904069</td>\n",
              "      <td>129.081908</td>\n",
              "      <td>93.453688</td>\n",
              "      <td>74.731631</td>\n",
              "      <td>54.104767</td>\n",
              "      <td>161.352385</td>\n",
              "      <td>116.817110</td>\n",
              "      <td>93.414539</td>\n",
              "      <td>67.630959</td>\n",
              "      <td>329354.901099</td>\n",
              "      <td>3.323323e+08</td>\n",
              "      <td>Si</td>\n",
              "      <td>No</td>\n",
              "      <td>Si</td>\n",
              "    </tr>\n",
              "  </tbody>\n",
              "</table>\n",
              "</div>"
            ],
            "text/plain": [
              "     Planta  Distancia  Motor  Potencia (HP)  Eficiencia (%)  \\\n",
              "0  Planta 1        200      1             30            0.70   \n",
              "1  Planta 2        300      1             40            0.79   \n",
              "2  Planta 3        350      1             60            0.85   \n",
              "3  Planta 4        300      1             30            0.82   \n",
              "4  Planta 5        500      1            100            0.91   \n",
              "\n",
              "   Factor de carga maximo  Factor de potencia  Potencia Entrada (W)  \\\n",
              "0                     0.8                0.74          25577.142857   \n",
              "1                     0.8                0.82          30217.721519   \n",
              "2                     0.6                0.78          31595.294118   \n",
              "3                     0.6                0.78          16375.609756   \n",
              "4                     0.6                0.81          49186.813187   \n",
              "\n",
              "   Corriente a 220V (A)  Corriente a 380V (A)  Potencia Salida (W)  \\\n",
              "0             90.706206             52.514119              17904.0   \n",
              "1             96.708479             55.989120              23872.0   \n",
              "2            106.302748             61.543696              26856.0   \n",
              "3             55.095936             31.897647              13428.0   \n",
              "4            159.360381             92.261273              44760.0   \n",
              "\n",
              "   Pérdidas Motor (W)  Corriente a 220V (A) +25%  Corriente a 380V (A) +25%  \\\n",
              "0         7673.142857                 113.382757                  65.642649   \n",
              "1         6345.721519                 120.885599                  69.986399   \n",
              "2         4739.294118                 132.878435                  76.929620   \n",
              "3         2947.609756                  68.869921                  39.872059   \n",
              "4         4426.813187                 199.200476                 115.326591   \n",
              "\n",
              "   Velocidad síncrona (RPM)  Velocidad real (RPM)  Deslizamiento (RPM)  \\\n",
              "0                      3600                  3540                   60   \n",
              "1                      3600                  3565                   35   \n",
              "2                      3600                  3570                   30   \n",
              "3                      3600                  3540                   60   \n",
              "4                      3600                  3570                   30   \n",
              "\n",
              "   Deslizamiento (%)  Torque (N.m)  theta (°)  Real Corriente 220V Normal  \\\n",
              "0           1.666667     48.296781  42.268584                   67.122592   \n",
              "1           0.972222     63.944126  34.915206                   79.300953   \n",
              "2           0.833333     71.836389  38.739425                   82.916143   \n",
              "3           1.666667     36.222586  38.739425                   42.974830   \n",
              "4           0.833333    119.727315  35.904069                  129.081908   \n",
              "\n",
              "   Imaginaria Corriente 220V Normal  Real Corriente 380V Normal  \\\n",
              "0                         61.009617                   38.860448   \n",
              "1                         55.352406                   45.911078   \n",
              "2                         66.522082                   48.004083   \n",
              "3                         34.477908                   24.880165   \n",
              "4                         93.453688                   74.731631   \n",
              "\n",
              "   Imaginaria Corriente 380V Normal  Real Corriente 220V +25%  \\\n",
              "0                         35.321357                 83.903240   \n",
              "1                         32.046130                 99.126191   \n",
              "2                         38.512784                103.645179   \n",
              "3                         19.960894                 53.718538   \n",
              "4                         54.104767                161.352385   \n",
              "\n",
              "   Imaginaria Corriente 220V +25%  Real Corriente 380V +25%  \\\n",
              "0                       76.262021                 48.575560   \n",
              "1                       69.190507                 57.388848   \n",
              "2                       83.152602                 60.005104   \n",
              "3                       43.097385                 31.100206   \n",
              "4                      116.817110                 93.414539   \n",
              "\n",
              "   Imaginaria Corriente 380V +25%         kw/año     costo/año cambio FC  \\\n",
              "0                       44.151697  171264.548571  1.728128e+08        No   \n",
              "1                       40.057662  202337.863291  2.041670e+08        No   \n",
              "2                       48.140980  211562.089412  2.134746e+08        Si   \n",
              "3                       24.951118  109651.082927  1.106423e+08        Si   \n",
              "4                       67.630959  329354.901099  3.323323e+08        Si   \n",
              "\n",
              "  cambio Eficiencia cambio  \n",
              "0                Si     Si  \n",
              "1                Si     Si  \n",
              "2                No     Si  \n",
              "3                Si     Si  \n",
              "4                No     Si  "
            ]
          },
          "execution_count": 22,
          "metadata": {},
          "output_type": "execute_result"
        }
      ],
      "source": [
        "df2.head()"
      ]
    },
    {
      "cell_type": "markdown",
      "metadata": {},
      "source": [
        "Según [Tabla verde, luego paso el link], dado un calibre de 500 mm2 se tiene una resistencia DC de Ohm/km para un cable de cobre, se tiene que posee una resistencia de 0.0366 Ohm por lo que si se requiere de una corriente determinada para alimentar cada planta a 220V o 380V es necesario aplicar una regla de 3 compuesta para extraer el valor de la resistencia de pérdida a partir de https://www.gt-engineering.it/en/technical-standards/ul-and-nfpa-standards/ul-508a/cable-ampacity-ul-508a/, también es de anotar que es posible alimentar con un solo cable a partir de suma de corrientes, es decir, con corrientes menores por cada cable que se use para complementar la corriente objetivo a usar."
      ]
    },
    {
      "cell_type": "markdown",
      "metadata": {},
      "source": [
        "# PARA 220V"
      ]
    },
    {
      "cell_type": "markdown",
      "metadata": {},
      "source": [
        "Grosor del cable sobre la Planta 1, a 220V:"
      ]
    },
    {
      "cell_type": "code",
      "execution_count": 23,
      "metadata": {},
      "outputs": [
        {
          "name": "stdout",
          "output_type": "stream",
          "text": [
            "La corriente necesaria es de 740.8613845652662 A para la planta 1, por lo que se necesita de dos cables que soporten 380 A de cobre, el cual corresponde a un valor de 500 kcmil.\n",
            "El grosor del cable necesario para 380 A es de 253 mm², por lo cual la regla de 3 inversa necesaria para obtener la resistencia de Ohm/km es de 0.07233201581027668 Ohm\n",
            "Ahora bien, la Planta 1 se encuentra a 200 metros del transformador, por lo cual la resistencia de pérdida será menor, esta equivale a 0.014466403162055335 Ohm\n"
          ]
        }
      ],
      "source": [
        "print(f'La corriente necesaria es de {Corriente_Planta_1_220V} A para la planta 1, por lo que se necesita de dos cables que soporten 380 A de cobre, el cual corresponde a un valor de 500 kcmil.')\n",
        "\n",
        "R_km_P1_220 = (500/253)*0.0366\n",
        "print(f'El grosor del cable necesario para 380 A es de 253 mm\\u00B2, por lo cual la regla de 3 inversa necesaria para obtener la resistencia de Ohm/km es de {R_km_P1_220} Ohm')\n",
        "\n",
        "Resistencia_Final_P1_220 = (200*R_km_P1_220)/1000\n",
        "print(f'Ahora bien, la Planta 1 se encuentra a 200 metros del transformador, por lo cual la resistencia de pérdida será menor, esta equivale a {Resistencia_Final_P1_220} Ohm')"
      ]
    },
    {
      "cell_type": "code",
      "execution_count": 24,
      "metadata": {},
      "outputs": [
        {
          "name": "stdout",
          "output_type": "stream",
          "text": [
            "0.007233201581027668\n",
            "592.689107652213\n",
            "La pérdida asociada a la corriente a 220V para la planta 1 de una sola línea son de 2540.8817879174903 W\n",
            "La pérdida asociada a la corrient e a 220V para la planta 1 para las 3 líneas son de 7622.645363752471 W\n"
          ]
        }
      ],
      "source": [
        "Paralelo_R_km_P1_220 = Resistencia_Final_P1_220/2\n",
        "print(Paralelo_R_km_P1_220)\n",
        "Perdida_P1_220 = Corriente_Planta_1_220V_Normal**2 * (Paralelo_R_km_P1_220)\n",
        "print(Corriente_Planta_1_220V_Normal) \n",
        "print(f'La pérdida asociada a la corriente a 220V para la planta 1 de una sola línea son de {Perdida_P1_220} W')\n",
        "Perdida_P1_220_Tri = 3*Perdida_P1_220\n",
        "print(f'La pérdida asociada a la corrient e a 220V para la planta 1 para las 3 líneas son de {Perdida_P1_220_Tri} W')"
      ]
    },
    {
      "cell_type": "markdown",
      "metadata": {},
      "source": [
        "Grosor del cable sobre la Planta 2, a 220V:"
      ]
    },
    {
      "cell_type": "code",
      "execution_count": 25,
      "metadata": {},
      "outputs": [
        {
          "name": "stdout",
          "output_type": "stream",
          "text": [
            "La corriente necesaria es de 1055.846103440497 A para la planta 1, por lo que se necesita de dos cables que soporten 545 A de cobre, el cual corresponde a un valor de 1000 kcmil.\n",
            "El grosor del cable necesario para 545 A es de 506 mm², por lo cual la regla de 3 inversa necesaria para obtener la resistencia de Ohm/km es de 0.03616600790513834 Ohm\n",
            "Ahora bien, la Planta 2 se encuentra a 300 metros del transformador, por lo cual la resistencia de pérdida será menor, esta equivale a 0.010849802371541501 Ohm\n"
          ]
        }
      ],
      "source": [
        "print(f'La corriente necesaria es de {Corriente_Planta_2_220V} A para la planta 1, por lo que se necesita de dos cables que soporten 545 A de cobre, el cual corresponde a un valor de 1000 kcmil.')\n",
        "\n",
        "R_km_P2_220 = (500/506)*0.0366\n",
        "print(f'El grosor del cable necesario para 545 A es de 506 mm\\u00B2, por lo cual la regla de 3 inversa necesaria para obtener la resistencia de Ohm/km es de {R_km_P2_220} Ohm')\n",
        "\n",
        "Resistencia_Final_P2_220 = (300*R_km_P2_220)/1000\n",
        "print(f'Ahora bien, la Planta 2 se encuentra a 300 metros del transformador, por lo cual la resistencia de pérdida será menor, esta equivale a {Resistencia_Final_P2_220} Ohm')"
      ]
    },
    {
      "cell_type": "code",
      "execution_count": 26,
      "metadata": {},
      "outputs": [
        {
          "name": "stdout",
          "output_type": "stream",
          "text": [
            "La pérdida asociada a la corriente a 220V para la planta 2 son de 3870.553269809416 W\n",
            "La pérdida asociada a la corrient e a 220V para la planta 1 para las 3 líneas son de 11611.659809428249 W\n"
          ]
        }
      ],
      "source": [
        "Paralelo_R_km_P2_220 = Resistencia_Final_P2_220/2\n",
        "Perdida_P2_220 = Corriente_Planta_2_220V_Normal**2 * (Paralelo_R_km_P2_220)\n",
        "print(f'La pérdida asociada a la corriente a 220V para la planta 2 son de {Perdida_P2_220} W')\n",
        "Perdida_P2_220_Tri = 3*Perdida_P2_220\n",
        "print(f'La pérdida asociada a la corrient e a 220V para la planta 1 para las 3 líneas son de {Perdida_P2_220_Tri} W')"
      ]
    },
    {
      "cell_type": "markdown",
      "metadata": {},
      "source": [
        "Grosor del cable sobre la Planta 3, a 220V:"
      ]
    },
    {
      "cell_type": "code",
      "execution_count": 27,
      "metadata": {},
      "outputs": [
        {
          "name": "stdout",
          "output_type": "stream",
          "text": [
            "La corriente necesaria es de 1184.1293915625126 A para la planta 1, por lo que se necesita de dos cables que soporten 625 A de cobre, el cual corresponde a un valor de 1500 kcmil.\n",
            "El grosor del cable necesario para 625 A es de 887 mm², por lo cual la regla de 3 inversa necesaria para obtener la resistencia de Ohm/km es de 0.020631341600901916 Ohm\n",
            "Ahora bien, la Planta 3 se encuentra a 350 metros del transformador, por lo cual la resistencia de pérdida será menor, esta equivale a 0.00722096956031567 Ohm\n"
          ]
        }
      ],
      "source": [
        "print(f'La corriente necesaria es de {Corriente_Planta_3_220V} A para la planta 1, por lo que se necesita de dos cables que soporten 625 A de cobre, el cual corresponde a un valor de 1500 kcmil.')\n",
        "\n",
        "R_km_P3_220 = (500/887)*0.0366\n",
        "print(f'El grosor del cable necesario para 625 A es de 887 mm\\u00B2, por lo cual la regla de 3 inversa necesaria para obtener la resistencia de Ohm/km es de {R_km_P3_220} Ohm')\n",
        "\n",
        "Resistencia_Final_P3_220 = (350*R_km_P3_220)/1000\n",
        "print(f'Ahora bien, la Planta 3 se encuentra a 350 metros del transformador, por lo cual la resistencia de pérdida será menor, esta equivale a {Resistencia_Final_P3_220} Ohm')"
      ]
    },
    {
      "cell_type": "code",
      "execution_count": 28,
      "metadata": {},
      "outputs": [
        {
          "name": "stdout",
          "output_type": "stream",
          "text": [
            "La pérdida asociada a la corriente a 220V para la planta 3 son de 3239.991079770167 W\n",
            "La pérdida asociada a la corrient e a 220V para la planta 1 para las 3 líneas son de 9719.9732393105 W\n"
          ]
        }
      ],
      "source": [
        "Paralelo_R_km_P3_220 = Resistencia_Final_P3_220/2\n",
        "Perdida_P3_220 = Corriente_Planta_3_220V_Normal**2 * (Paralelo_R_km_P3_220)\n",
        "print(f'La pérdida asociada a la corriente a 220V para la planta 3 son de {Perdida_P3_220} W')\n",
        "Perdida_P3_220_Tri = 3*Perdida_P3_220\n",
        "print(f'La pérdida asociada a la corrient e a 220V para la planta 1 para las 3 líneas son de {Perdida_P3_220_Tri} W')"
      ]
    },
    {
      "cell_type": "markdown",
      "metadata": {},
      "source": [
        "Grosor del cable sobre la Planta 4, a 220V:"
      ]
    },
    {
      "cell_type": "code",
      "execution_count": 29,
      "metadata": {},
      "outputs": [
        {
          "name": "stdout",
          "output_type": "stream",
          "text": [
            "La corriente necesaria es de 774.7133890486778 A para la planta 1, por lo que se necesita de dos cables que soporten 420 A de cobre, el cual corresponde a un valor de 600 kcmil.\n",
            "El grosor del cable necesario para 420 A es de 304 mm², por lo cual la regla de 3 inversa necesaria para obtener la resistencia de Ohm/km es de 0.06019736842105263 Ohm\n",
            "Ahora bien, la Planta 4 se encuentra a 300 metros del transformador, por lo cual la resistencia de pérdida será menor, esta equivale a 0.018059210526315792 Ohm\n"
          ]
        }
      ],
      "source": [
        "print(f'La corriente necesaria es de {Corriente_Planta_4_220V} A para la planta 1, por lo que se necesita de dos cables que soporten 420 A de cobre, el cual corresponde a un valor de 600 kcmil.')\n",
        "\n",
        "R_km_P4_220 = (500/304)*0.0366\n",
        "print(f'El grosor del cable necesario para 420 A es de 304 mm\\u00B2, por lo cual la regla de 3 inversa necesaria para obtener la resistencia de Ohm/km es de {R_km_P4_220} Ohm')\n",
        "\n",
        "Resistencia_Final_P4_220 = (300*R_km_P4_220)/1000\n",
        "print(f'Ahora bien, la Planta 4 se encuentra a 300 metros del transformador, por lo cual la resistencia de pérdida será menor, esta equivale a {Resistencia_Final_P4_220} Ohm')"
      ]
    },
    {
      "cell_type": "code",
      "execution_count": 30,
      "metadata": {},
      "outputs": [
        {
          "name": "stdout",
          "output_type": "stream",
          "text": [
            "La pérdida asociada a la corriente a 220V para la planta 4 son de 3468.4134579898637 W\n",
            "La pérdida asociada a la corrient e a 220V para la planta 1 para las 3 líneas son de 10405.240373969591 W\n"
          ]
        }
      ],
      "source": [
        "Paralelo_R_km_P4_220 = Resistencia_Final_P4_220/2\n",
        "Perdida_P4_220 = Corriente_Planta_4_220V_Normal**2 * (Paralelo_R_km_P4_220)\n",
        "print(f'La pérdida asociada a la corriente a 220V para la planta 4 son de {Perdida_P4_220} W')\n",
        "Perdida_P4_220_Tri = 3*Perdida_P4_220\n",
        "print(f'La pérdida asociada a la corrient e a 220V para la planta 1 para las 3 líneas son de {Perdida_P4_220_Tri} W')"
      ]
    },
    {
      "cell_type": "markdown",
      "metadata": {},
      "source": [
        "Grosor del cable sobre la Planta 5, a 220V:"
      ]
    },
    {
      "cell_type": "code",
      "execution_count": 31,
      "metadata": {},
      "outputs": [
        {
          "name": "stdout",
          "output_type": "stream",
          "text": [
            "La corriente necesaria es de 1396.9715056603966 A para la planta 1, por lo que se necesita de tres cables que soporten 475 A de cobre, el cual corresponde a un valor de 750 kcmil.\n",
            "El grosor del cable necesario para 475 A es de 380 mm², por lo cual la regla de 3 inversa necesaria para obtener la resistencia de Ohm/km es de 0.04815789473684211 Ohm\n",
            "Ahora bien, la Planta 5 se encuentra a 500 metros del transformador, por lo cual la resistencia de pérdida será menor, esta equivale a 0.024078947368421054 Ohm\n"
          ]
        }
      ],
      "source": [
        "print(f'La corriente necesaria es de {Corriente_Planta_5_220V} A para la planta 1, por lo que se necesita de tres cables que soporten 475 A de cobre, el cual corresponde a un valor de 750 kcmil.')\n",
        "\n",
        "R_km_P5_220 = (500/380)*0.0366\n",
        "print(f'El grosor del cable necesario para 475 A es de 380 mm\\u00B2, por lo cual la regla de 3 inversa necesaria para obtener la resistencia de Ohm/km es de {R_km_P5_220} Ohm')\n",
        "\n",
        "Resistencia_Final_P5_220 = (500*R_km_P5_220)/1000\n",
        "print(f'Ahora bien, la Planta 5 se encuentra a 500 metros del transformador, por lo cual la resistencia de pérdida será menor, esta equivale a {Resistencia_Final_P5_220} Ohm')"
      ]
    },
    {
      "cell_type": "code",
      "execution_count": 32,
      "metadata": {},
      "outputs": [
        {
          "name": "stdout",
          "output_type": "stream",
          "text": [
            "La pérdida asociada a la corriente a 220V para la planta 5 son de 10024.698328021188 W\n",
            "La pérdida asociada a la corrient e a 220V para la planta 1 para las 3 líneas son de 30074.094984063566 W\n"
          ]
        }
      ],
      "source": [
        "Paralelo_R_km_P5_220 = Resistencia_Final_P5_220/3\n",
        "Perdida_P5_220 = Corriente_Planta_5_220V_Normal**2 * (Paralelo_R_km_P5_220)\n",
        "print(f'La pérdida asociada a la corriente a 220V para la planta 5 son de {Perdida_P5_220} W')\n",
        "Perdida_P5_220_Tri = 3*Perdida_P5_220\n",
        "print(f'La pérdida asociada a la corrient e a 220V para la planta 1 para las 3 líneas son de {Perdida_P5_220_Tri} W')"
      ]
    },
    {
      "cell_type": "markdown",
      "metadata": {},
      "source": [
        "# PARA 380V"
      ]
    },
    {
      "cell_type": "markdown",
      "metadata": {},
      "source": [
        "Grosor del cable sobre la Planta 1, a 380V:"
      ]
    },
    {
      "cell_type": "code",
      "execution_count": 33,
      "metadata": {},
      "outputs": [
        {
          "name": "stdout",
          "output_type": "stream",
          "text": [
            "La corriente necesaria es de 428.91974895883834 A para la planta 1, por lo que se necesita de un solo cable que soporte 445 A de aluminio, el cual corresponde a un valor de 1000 kcmil.\n",
            "El grosor del cable necesario para 445 A es de 506 mm², por lo cual la regla de 3 inversa necesaria para obtener la resistencia de Ohm/km es de 0.06027667984189723 Ohm\n",
            "Ahora bien, la Planta 1 se encuentra a 200 metros del transformador, por lo cual la resistencia de pérdida será menor, esta equivale a 0.012055335968379446 Ohm\n"
          ]
        }
      ],
      "source": [
        "print(f'La corriente necesaria es de {Corriente_Planta_1_380V} A para la planta 1, por lo que se necesita de un solo cable que soporte 445 A de aluminio, el cual corresponde a un valor de 1000 kcmil.')\n",
        "\n",
        "R_km_P1_380 = (500/506)*0.061\n",
        "print(f'El grosor del cable necesario para 445 A es de 506 mm\\u00B2, por lo cual la regla de 3 inversa necesaria para obtener la resistencia de Ohm/km es de {R_km_P1_380} Ohm')\n",
        "\n",
        "Resistencia_Final_P1_380 = (200*R_km_P1_380)/1000\n",
        "print(f'Ahora bien, la Planta 1 se encuentra a 200 metros del transformador, por lo cual la resistencia de pérdida será menor, esta equivale a {Resistencia_Final_P1_380} Ohm')"
      ]
    },
    {
      "cell_type": "code",
      "execution_count": 34,
      "metadata": {},
      "outputs": [
        {
          "name": "stdout",
          "output_type": "stream",
          "text": [
            "La pérdida asociada a la corriente a 380V para la planta 1 son de 1419.4214974054307 W\n",
            "La pérdida asociada a la corrient e a 220V para la planta 1 para las 3 líneas son de 4258.264492216293 W\n"
          ]
        }
      ],
      "source": [
        "Perdida_P1_380 = Corriente_Planta_1_380V_Normal**2 * (Resistencia_Final_P1_380)\n",
        "print(f'La pérdida asociada a la corriente a 380V para la planta 1 son de {Perdida_P1_380} W')\n",
        "Perdida_P1_380_Tri = 3*Perdida_P1_380\n",
        "print(f'La pérdida asociada a la corrient e a 220V para la planta 1 para las 3 líneas son de {Perdida_P1_380_Tri} W')"
      ]
    },
    {
      "cell_type": "markdown",
      "metadata": {},
      "source": [
        "Grosor del cable sobre la Planta 2, a 380V:"
      ]
    },
    {
      "cell_type": "code",
      "execution_count": 35,
      "metadata": {},
      "outputs": [
        {
          "name": "stdout",
          "output_type": "stream",
          "text": [
            "La corriente necesaria es de 611.2793230444981 A para la planta 1, por lo que se necesita de un solo cable que soporte 625 A de cobre, el cual corresponde a un valor de 1500 kcmil.\n",
            "El grosor del cable necesario para 545 A es de 760 mm², por lo cual la regla de 3 inversa necesaria para obtener la resistencia de Ohm/km es de 0.024078947368421054 Ohm\n",
            "Ahora bien, la Planta 2 se encuentra a 300 metros del transformador, por lo cual la resistencia de pérdida será menor, esta equivale a 0.007223684210526316 Ohm\n"
          ]
        }
      ],
      "source": [
        "print(f'La corriente necesaria es de {Corriente_Planta_2_380V} A para la planta 1, por lo que se necesita de un solo cable que soporte 625 A de cobre, el cual corresponde a un valor de 1500 kcmil.')\n",
        "\n",
        "R_km_P2_380 = (500/760)*0.0366\n",
        "print(f'El grosor del cable necesario para 545 A es de 760 mm\\u00B2, por lo cual la regla de 3 inversa necesaria para obtener la resistencia de Ohm/km es de {R_km_P2_380} Ohm')\n",
        "\n",
        "Resistencia_Final_P2_380 = (300*R_km_P2_380)/1000\n",
        "print(f'Ahora bien, la Planta 2 se encuentra a 300 metros del transformador, por lo cual la resistencia de pérdida será menor, esta equivale a {Resistencia_Final_P2_380} Ohm')"
      ]
    },
    {
      "cell_type": "code",
      "execution_count": 36,
      "metadata": {},
      "outputs": [
        {
          "name": "stdout",
          "output_type": "stream",
          "text": [
            "La pérdida asociada a la corriente a 380V para la planta 2 son de 1727.5003243720023 W\n",
            "La pérdida asociada a la corrient e a 220V para la planta 1 para las 3 líneas son de 1727.5003243720023 W\n"
          ]
        }
      ],
      "source": [
        "Perdida_P2_380 = Corriente_Planta_2_380V_Normal**2 * (Resistencia_Final_P2_380)\n",
        "print(f'La pérdida asociada a la corriente a 380V para la planta 2 son de {Perdida_P2_380} W')\n",
        "Perdida_P2_380_Tri = Perdida_P2_380\n",
        "print(f'La pérdida asociada a la corrient e a 220V para la planta 1 para las 3 líneas son de {Perdida_P2_380_Tri} W')"
      ]
    },
    {
      "cell_type": "markdown",
      "metadata": {},
      "source": [
        "Grosor del cable sobre la Planta 3, a 380V:"
      ]
    },
    {
      "cell_type": "code",
      "execution_count": 37,
      "metadata": {},
      "outputs": [
        {
          "name": "stdout",
          "output_type": "stream",
          "text": [
            "La corriente necesaria es de 685.5485951151388 A para la planta 1, por lo que se necesita de dos cables que soporte 375 A de aluminio, el cual corresponde a un valor de 700 kcmil.\n",
            "El grosor del cable necesario para 375 A es de 355 mm², por lo cual la regla de 3 inversa necesaria para obtener la resistencia de Ohm/km es de 0.08591549295774648 Ohm\n",
            "Ahora bien, la Planta 3 se encuentra a 350 metros del transformador, por lo cual la resistencia de pérdida será menor, esta equivale a 0.030070422535211267 Ohm\n"
          ]
        }
      ],
      "source": [
        "print(f'La corriente necesaria es de {Corriente_Planta_3_380V} A para la planta 1, por lo que se necesita de dos cables que soporte 375 A de aluminio, el cual corresponde a un valor de 700 kcmil.')\n",
        "\n",
        "R_km_P3_380 = (500/355)*0.061\n",
        "print(f'El grosor del cable necesario para 375 A es de 355 mm\\u00B2, por lo cual la regla de 3 inversa necesaria para obtener la resistencia de Ohm/km es de {R_km_P3_380} Ohm')\n",
        "\n",
        "Resistencia_Final_P3_380 = (350*R_km_P3_380)/1000\n",
        "print(f'Ahora bien, la Planta 3 se encuentra a 350 metros del transformador, por lo cual la resistencia de pérdida será menor, esta equivale a {Resistencia_Final_P3_380} Ohm')"
      ]
    },
    {
      "cell_type": "code",
      "execution_count": 38,
      "metadata": {},
      "outputs": [
        {
          "name": "stdout",
          "output_type": "stream",
          "text": [
            "La pérdida asociada a la corriente a 220V para la planta 5 son de 1085.9803896182552 W\n",
            "La pérdida asociada a la corrient e a 220V para la planta 1 para las 3 líneas son de 3257.9411688547657 W\n"
          ]
        }
      ],
      "source": [
        "Paralelo_R_km_P3_380 = Resistencia_Final_P3_220/2\n",
        "Perdida_P3_380 = Corriente_Planta_3_380V_Normal**2 * (Paralelo_R_km_P3_380)\n",
        "print(f'La pérdida asociada a la corriente a 220V para la planta 5 son de {Perdida_P3_380} W')\n",
        "Perdida_P3_380_Tri = 3*Perdida_P3_380\n",
        "print(f'La pérdida asociada a la corrient e a 220V para la planta 1 para las 3 líneas son de {Perdida_P3_380_Tri} W')"
      ]
    },
    {
      "cell_type": "markdown",
      "metadata": {},
      "source": [
        "Grosor del cable sobre la Planta 4, a 380V:"
      ]
    },
    {
      "cell_type": "code",
      "execution_count": 39,
      "metadata": {},
      "outputs": [
        {
          "name": "stdout",
          "output_type": "stream",
          "text": [
            "La corriente necesaria es de 448.51827787028714 A para la planta 1, por lo que se necesita de un solo cable que soporte 460 A de cobre, el cual corresponde a un valor de 750 kcmil.\n",
            "El grosor del cable necesario para 460 A es de 355 mm², por lo cual la regla de 3 inversa necesaria para obtener la resistencia de Ohm/km es de 0.05154929577464788 Ohm\n",
            "Ahora bien, la Planta 4 se encuentra a 300 metros del transformador, por lo cual la resistencia de pérdida será menor, esta equivale a 0.015464788732394364 Ohm\n"
          ]
        }
      ],
      "source": [
        "print(f'La corriente necesaria es de {Corriente_Planta_4_380V} A para la planta 1, por lo que se necesita de un solo cable que soporte 460 A de cobre, el cual corresponde a un valor de 750 kcmil.')\n",
        "\n",
        "R_km_P4_380 = (500/355)*0.0366\n",
        "print(f'El grosor del cable necesario para 460 A es de 355 mm\\u00B2, por lo cual la regla de 3 inversa necesaria para obtener la resistencia de Ohm/km es de {R_km_P4_380} Ohm')\n",
        "\n",
        "Resistencia_Final_P4_380 = (300*R_km_P4_380)/1000\n",
        "print(f'Ahora bien, la Planta 4 se encuentra a 300 metros del transformador, por lo cual la resistencia de pérdida será menor, esta equivale a {Resistencia_Final_P4_380} Ohm')"
      ]
    },
    {
      "cell_type": "code",
      "execution_count": 40,
      "metadata": {},
      "outputs": [
        {
          "name": "stdout",
          "output_type": "stream",
          "text": [
            "La pérdida asociada a la corriente a 380V para la planta 2 son de 1991.0595862619343 W\n",
            "La pérdida asociada a la corrient e a 220V para la planta 1 para las 3 líneas son de 5973.178758785803 W\n"
          ]
        }
      ],
      "source": [
        "Perdida_P4_380 = Corriente_Planta_4_380V_Normal**2 * (Resistencia_Final_P4_380)\n",
        "print(f'La pérdida asociada a la corriente a 380V para la planta 2 son de {Perdida_P4_380} W')\n",
        "Perdida_P4_380_Tri = 3*Perdida_P4_380\n",
        "print(f'La pérdida asociada a la corrient e a 220V para la planta 1 para las 3 líneas son de {Perdida_P4_380_Tri} W')"
      ]
    },
    {
      "cell_type": "markdown",
      "metadata": {},
      "source": [
        "Grosor del cable sobre la Planta 5, a 380V:"
      ]
    },
    {
      "cell_type": "code",
      "execution_count": 41,
      "metadata": {},
      "outputs": [
        {
          "name": "stdout",
          "output_type": "stream",
          "text": [
            "La corriente necesaria es de 808.7729769612822 A para la planta 1, por lo que se necesita de dos cables que soporte 420 A de cobre, el cual corresponde a un valor de 600 kcmil.\n",
            "El grosor del cable necesario para 420 A es de 304 mm², por lo cual la regla de 3 inversa necesaria para obtener la resistencia de Ohm/km es de 0.04357142857142857 Ohm\n",
            "Ahora bien, la Planta 3 se encuentra a 500 metros del transformador, por lo cual la resistencia de pérdida será menor, esta equivale a 0.021785714285714287 Ohm\n"
          ]
        }
      ],
      "source": [
        "print(f'La corriente necesaria es de {Corriente_Planta_5_380V} A para la planta 1, por lo que se necesita de dos cables que soporte 420 A de cobre, el cual corresponde a un valor de 600 kcmil.')\n",
        "\n",
        "R_km_P5_380 = (500/420)*0.0366\n",
        "print(f'El grosor del cable necesario para 420 A es de 304 mm\\u00B2, por lo cual la regla de 3 inversa necesaria para obtener la resistencia de Ohm/km es de {R_km_P5_380} Ohm')\n",
        "\n",
        "Resistencia_Final_P5_380 = (500*R_km_P5_380)/1000\n",
        "print(f'Ahora bien, la Planta 3 se encuentra a 500 metros del transformador, por lo cual la resistencia de pérdida será menor, esta equivale a {Resistencia_Final_P5_380} Ohm')"
      ]
    },
    {
      "cell_type": "code",
      "execution_count": 42,
      "metadata": {},
      "outputs": [
        {
          "name": "stdout",
          "output_type": "stream",
          "text": [
            "La pérdida asociada a la corriente a 220V para la planta 5 son de 4560.107134175054 W\n",
            "La pérdida asociada a la corrient e a 220V para la planta 1 para las 3 líneas son de 13680.321402525162 W\n"
          ]
        }
      ],
      "source": [
        "Paralelo_R_km_P5_380 = Resistencia_Final_P5_380/2\n",
        "Perdida_P5_380 = Corriente_Planta_5_380V_Normal**2 * (Paralelo_R_km_P5_380)\n",
        "print(f'La pérdida asociada a la corriente a 220V para la planta 5 son de {Perdida_P5_380} W')\n",
        "Perdida_P5_380_Tri = 3*Perdida_P5_380\n",
        "print(f'La pérdida asociada a la corrient e a 220V para la planta 1 para las 3 líneas son de {Perdida_P5_380_Tri} W')"
      ]
    },
    {
      "cell_type": "markdown",
      "metadata": {},
      "source": [
        "Esta ecuación es para cuando es a 220 o 380\n",
        "\n",
        "PotenciaEntradaTransformador_sinAuxiliares = PotenciaEntradaTransformador_sinAuxiliares + (PotenciaPlanta(i) + PerdidasPlanta(i))/EficienciaTransformador\n",
        "\n",
        "PotenciaEntradaTransformador = PotenciaEntradaTransformador_sinAuxiliares + Potencia_Auxiliares\n",
        "\n",
        "CostoTotalAnual = PotenciaEntradaTransformador * DíasTrabajo_Año * Precio(Nivel 2 o 3)\n"
      ]
    },
    {
      "cell_type": "code",
      "execution_count": 43,
      "metadata": {},
      "outputs": [
        {
          "name": "stdout",
          "output_type": "stream",
          "text": [
            "La potencia de entrada del transformador a 220V es de 1,564,752.717825931 W\n"
          ]
        }
      ],
      "source": [
        "PerdidasXPlanta_Trifasica_220 = [Perdida_P1_220_Tri, Perdida_P2_220_Tri, Perdida_P3_220_Tri, Perdida_P4_220_Tri, Perdida_P5_220_Tri]\n",
        "PotenciaXPlanta_220 = [Potencia_Planta_1_220, Potencia_Planta_2_220, Potencia_Planta_3_220, Potencia_Planta_4_220, Potencia_Planta_5_220]\n",
        "\n",
        "PotenciaEntradaTransformador_sinAuxiliares_220 = 0\n",
        "Eficiencia_Transformador = 0.9\n",
        "Potencia_Auxiliares = 480000\n",
        "\n",
        "for i in range(len(PerdidasXPlanta_Trifasica_220)):\n",
        "    PotenciaEntradaTransformador_sinAuxiliares_220 += (PerdidasXPlanta_Trifasica_220[i] + PotenciaXPlanta_220[i])/Eficiencia_Transformador\n",
        "\n",
        "PotenciaEntradaTransformador_220 = PotenciaEntradaTransformador_sinAuxiliares_220 + Potencia_Auxiliares\n",
        "\n",
        "print(f'La potencia de entrada del transformador a 220V es de {PotenciaEntradaTransformador_220:,} W')"
      ]
    },
    {
      "cell_type": "code",
      "execution_count": 44,
      "metadata": {},
      "outputs": [
        {
          "name": "stdout",
          "output_type": "stream",
          "text": [
            "La potencia de entrada del transformador a 380V es de 1,519,712.2649106306 W\n"
          ]
        }
      ],
      "source": [
        "PerdidasXPlanta_Trifasica_380 = [Perdida_P1_380_Tri, Perdida_P2_380_Tri, Perdida_P3_380_Tri, Perdida_P4_380_Tri, Perdida_P5_380_Tri]\n",
        "PotenciaXPlanta_380 = [Potencia_Planta_1_380, Potencia_Planta_2_380, Potencia_Planta_3_380, Potencia_Planta_4_380, Potencia_Planta_5_380]\n",
        "\n",
        "PotenciaEntradaTransformador_sinAuxiliares_380 = 0\n",
        "Eficiencia_Transformador = 0.9\n",
        "Potencia_Auxiliares = 480000\n",
        "\n",
        "for i in range(len(PerdidasXPlanta_Trifasica_380)):\n",
        "    PotenciaEntradaTransformador_sinAuxiliares_380 += (PerdidasXPlanta_Trifasica_380[i] + PotenciaXPlanta_380[i])/Eficiencia_Transformador\n",
        "\n",
        "PotenciaEntradaTransformador_380 = PotenciaEntradaTransformador_sinAuxiliares_380 + Potencia_Auxiliares\n",
        "\n",
        "print(f'La potencia de entrada del transformador a 380V es de {PotenciaEntradaTransformador_380:,} W')"
      ]
    },
    {
      "cell_type": "code",
      "execution_count": 45,
      "metadata": {
        "notebookRunGroups": {
          "groupValue": ""
        }
      },
      "outputs": [
        {
          "name": "stdout",
          "output_type": "stream",
          "text": [
            "El costo total de la energía eléctrica consumida por los motores a 220V con un trasnformador de 13200/220 es de 6,400,965,738.585762 pesos\n",
            "El costo total de la energía eléctrica consumida por los motores a 380V con un trasnformador de 13200/220 es de 6,216,717,842.62314 pesos\n",
            "El costo total de la energía eléctrica consumida por los motores a 220V con un trasnformador de 44000/220 es de 5,589,302,216.003793 pesos\n",
            "El costo total de la energía eléctrica consumida por los motores a 380V con un trasnformador de 44000/220 es de 5,428,417,559.647945 pesos\n"
          ]
        }
      ],
      "source": [
        "CostoTotal_220_13200 = (PotenciaEntradaTransformador_220/1000) * TOTALHORAS * TARIFA_T1\n",
        "CostoTotal_380_13200 = (PotenciaEntradaTransformador_380/1000) * TOTALHORAS * TARIFA_T1\n",
        "print(f'El costo total de la energía eléctrica consumida por los motores a 220V con un trasnformador de 13200/220 es de {CostoTotal_220_13200:,} pesos')\n",
        "print(f'El costo total de la energía eléctrica consumida por los motores a 380V con un trasnformador de 13200/220 es de {CostoTotal_380_13200:,} pesos')\n",
        "\n",
        "CostoTotal_220_44000 = (PotenciaEntradaTransformador_220/1000) * TOTALHORAS * TARIFA_T2\n",
        "CostoTotal_380_44000 = (PotenciaEntradaTransformador_380/1000) * TOTALHORAS * TARIFA_T2\n",
        "print(f'El costo total de la energía eléctrica consumida por los motores a 220V con un trasnformador de 44000/220 es de {CostoTotal_220_44000:,} pesos')\n",
        "print(f'El costo total de la energía eléctrica consumida por los motores a 380V con un trasnformador de 44000/220 es de {CostoTotal_380_44000:,} pesos')"
      ]
    }
  ],
  "metadata": {
    "colab": {
      "provenance": []
    },
    "kernelspec": {
      "display_name": "Python 3",
      "name": "python3"
    },
    "language_info": {
      "codemirror_mode": {
        "name": "ipython",
        "version": 3
      },
      "file_extension": ".py",
      "mimetype": "text/x-python",
      "name": "python",
      "nbconvert_exporter": "python",
      "pygments_lexer": "ipython3",
      "version": "3.11.8"
    }
  },
  "nbformat": 4,
  "nbformat_minor": 0
}
