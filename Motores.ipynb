{
 "cells": [
  {
   "cell_type": "code",
   "execution_count": 1,
   "metadata": {},
   "outputs": [],
   "source": [
    "import pandas as pd\n",
    "import numpy as np\n",
    "df1 = pd.read_csv('data_motores.csv')\n",
    "pd.set_option('display.max_columns', None)"
   ]
  },
  {
   "cell_type": "code",
   "execution_count": 2,
   "metadata": {},
   "outputs": [],
   "source": [
    "df1[\"Eficiencia (%)\"]               = df1[\"Eficiencia (%)\"]/100\n",
    "df1[\"Factor de carga maximo\"]       = df1[\"Factor de carga maximo\"]/100\n",
    "df1['Potencia Entrada (W)']         = (df1['Potencia (HP)'] * 746 * (df1['Factor de carga maximo'])) / (df1['Eficiencia (%)'])\n",
    "df1['Corriente a 220V (A)']         = df1['Potencia Entrada (W)'] / (np.sqrt(3) * 220 * df1['Factor de potencia'])\n",
    "df1['Corriente a 380V (A)']         = df1['Potencia Entrada (W)'] / (np.sqrt(3) * 380 * df1['Factor de potencia'])\n",
    "df1['Corriente a 220V (A) +25%']    = df1['Corriente a 220V (A)']*1.25\n",
    "df1['Corriente a 380V (A) +25%']    = df1['Corriente a 380V (A)']*1.25\n",
    "df1['Velocidad síncrona (RPM)']     = 3600"
   ]
  },
  {
   "cell_type": "code",
   "execution_count": 3,
   "metadata": {},
   "outputs": [],
   "source": [
    "catalogo                            = pd.read_csv('catalogo_motores.csv')\n",
    "catalogo['Potencia HP']             = catalogo['Potencia HP'].astype(int)\n",
    "df2                                 = pd.merge(df1, catalogo[['Potencia HP', 'Velocidad rpm']], left_on='Potencia (HP)', right_on='Potencia HP', how='left')\n",
    "df2.drop(columns=['Potencia HP'], inplace=True)\n",
    "df2                                 = df2.rename(columns={'Velocidad rpm': 'Velocidad real (RPM)'})\n",
    "df2['Deslizamiento (RPM)']          = df2['Velocidad síncrona (RPM)'] - df2['Velocidad real (RPM)'] \n",
    "df2['Deslizamiento (%)']            = ((df2['Velocidad síncrona (RPM)'] - df2['Velocidad real (RPM)']) / df2['Velocidad síncrona (RPM)'])*100\n",
    "df2['Torque (N.m)']                 = (df2['Potencia (HP)'] * 746 * (df1['Factor de carga maximo'])) / ((df2['Velocidad real (RPM)'] * 2 * np.pi)/60)\n",
    "df2['theta (°)']                    = np.arccos(df2['Factor de potencia'])\n",
    "df2['Real Corriente 220V']          = df2['Corriente a 220V (A) +25%'] * np.cos(df2['theta (°)']) \n",
    "df2['Imaginaria Corriente 220V']    = df2['Corriente a 220V (A) +25%'] * np.sin(df2['theta (°)'])\n",
    "df2['Real Corriente 380V']          = df2['Corriente a 380V (A) +25%'] * np.cos(df2['theta (°)']) \n",
    "df2['Imaginaria Corriente 380V']    = df2['Corriente a 380V (A) +25%'] * np.sin(df2['theta (°)'])\n",
    "df2[\"kw/año\"]                       = (df2[\"Potencia Entrada (W)\"]/1000) * 6696\n",
    "df2[\"costo/año\"]                    = df2[\"kw/año\"] * 1009.04\n",
    "\n",
    "df2[\"cambio FC\"]                    = np.where(df2[\"Factor de carga maximo\"] < 0.8, \"Si\", \"No\")\n",
    "df2[\"cambio Eficiencia\"]            = np.where(df2[\"Eficiencia (%)\"] < 0.85, \"Si\", \"No\")\n",
    "df2[\"cambio\"]                       = np.where((df2[\"cambio FC\"] == \"Si\") | (df2[\"cambio Eficiencia\"] == \"Si\"), \"Si\", \"No\")"
   ]
  },
  {
   "cell_type": "code",
   "execution_count": 4,
   "metadata": {},
   "outputs": [],
   "source": [
    "df2.to_csv('data_motores_procesada.csv', index=False)"
   ]
  },
  {
   "cell_type": "markdown",
   "metadata": {},
   "source": [
    "# PARA 220V"
   ]
  },
  {
   "cell_type": "markdown",
   "metadata": {},
   "source": [
    "Magnitud de corriente a 220V para determinar el total de la corriente que se usará para dimensionar el grosor del cable sobre la Planta 1"
   ]
  },
  {
   "cell_type": "code",
   "execution_count": 5,
   "metadata": {},
   "outputs": [
    {
     "name": "stdout",
     "output_type": "stream",
     "text": [
      "Magnitud de corriente a 220V para los motores de la planta 1: 740.8613845652662 A\n"
     ]
    }
   ],
   "source": [
    "Corriente_Planta_1_220V = np.sqrt((df2[df2['Planta'] == 'Planta 1']['Real Corriente 220V'].sum())**2 + (df2[df2['Planta'] == 'Planta 1']['Imaginaria Corriente 220V'].sum())**2)\n",
    "print(f'Magnitud de corriente a 220V para los motores de la planta 1: {Corriente_Planta_1_220V} A')"
   ]
  },
  {
   "cell_type": "markdown",
   "metadata": {},
   "source": [
    "Magnitud de corriente a 220V para determinar el total de la corriente que se usará para dimensionar el grosor del cable sobre la Planta 2"
   ]
  },
  {
   "cell_type": "code",
   "execution_count": 6,
   "metadata": {},
   "outputs": [
    {
     "name": "stdout",
     "output_type": "stream",
     "text": [
      "Magnitud de corriente a 220V para los motores de la planta 2: 1055.846103440497 A\n"
     ]
    }
   ],
   "source": [
    "Corriente_Planta_2_220V = np.sqrt((df2[df2['Planta'] == 'Planta 2']['Real Corriente 220V'].sum())**2 + (df2[df2['Planta'] == 'Planta 2']['Imaginaria Corriente 220V'].sum())**2)\n",
    "print(f'Magnitud de corriente a 220V para los motores de la planta 2: {Corriente_Planta_2_220V} A')"
   ]
  },
  {
   "cell_type": "markdown",
   "metadata": {},
   "source": [
    "Magnitud de corriente a 220V para determinar el total de la corriente que se usará para dimensionar el grosor del cable sobre la Planta 3"
   ]
  },
  {
   "cell_type": "code",
   "execution_count": 7,
   "metadata": {},
   "outputs": [
    {
     "name": "stdout",
     "output_type": "stream",
     "text": [
      "Magnitud de corriente a 220V para los motores de la planta 3: 1184.1293915625126 A\n"
     ]
    }
   ],
   "source": [
    "Corriente_Planta_3_220V = np.sqrt((df2[df2['Planta'] == 'Planta 3']['Real Corriente 220V'].sum())**2 + (df2[df2['Planta'] == 'Planta 3']['Imaginaria Corriente 220V'].sum())**2)\n",
    "print(f'Magnitud de corriente a 220V para los motores de la planta 3: {Corriente_Planta_3_220V} A')"
   ]
  },
  {
   "cell_type": "markdown",
   "metadata": {},
   "source": [
    "Magnitud de corriente a 220V para determinar el total de la corriente que se usará para dimensionar el grosor del cable sobre la Planta 4"
   ]
  },
  {
   "cell_type": "code",
   "execution_count": 8,
   "metadata": {},
   "outputs": [
    {
     "name": "stdout",
     "output_type": "stream",
     "text": [
      "Magnitud de corriente a 220V para los motores de la planta 4: 774.7133890486778 A\n"
     ]
    }
   ],
   "source": [
    "Corriente_Planta_4_220V = np.sqrt((df2[df2['Planta'] == 'Planta 4']['Real Corriente 220V'].sum())**2 + (df2[df2['Planta'] == 'Planta 4']['Imaginaria Corriente 220V'].sum())**2)\n",
    "print(f'Magnitud de corriente a 220V para los motores de la planta 4: {Corriente_Planta_4_220V} A')"
   ]
  },
  {
   "cell_type": "markdown",
   "metadata": {},
   "source": [
    "Magnitud de corriente a 220V para determinar el total de la corriente que se usará para dimensionar el grosor del cable sobre la Planta 5"
   ]
  },
  {
   "cell_type": "code",
   "execution_count": 9,
   "metadata": {},
   "outputs": [
    {
     "name": "stdout",
     "output_type": "stream",
     "text": [
      "Magnitud de corriente a 220V para los motores de la planta 5: 1396.9715056603966 A\n"
     ]
    }
   ],
   "source": [
    "Corriente_Planta_5_220V = np.sqrt((df2[df2['Planta'] == 'Planta 5']['Real Corriente 220V'].sum())**2 + (df2[df2['Planta'] == 'Planta 5']['Imaginaria Corriente 220V'].sum())**2)\n",
    "print(f'Magnitud de corriente a 220V para los motores de la planta 5: {Corriente_Planta_5_220V} A')"
   ]
  },
  {
   "cell_type": "markdown",
   "metadata": {},
   "source": [
    "# PARA 380V"
   ]
  },
  {
   "cell_type": "markdown",
   "metadata": {},
   "source": [
    "Magnitud de corriente a 380V para determinar el total de la corriente que se usará para dimensionar el grosor del cable sobre la Planta 1"
   ]
  },
  {
   "cell_type": "code",
   "execution_count": 10,
   "metadata": {},
   "outputs": [
    {
     "name": "stdout",
     "output_type": "stream",
     "text": [
      "Magnitud de corriente a 380V para los motores de la planta 1: 428.91974895883834 A\n"
     ]
    }
   ],
   "source": [
    "Corriente_Planta_1_380V = np.sqrt((df2[df2['Planta'] == 'Planta 1']['Real Corriente 380V'].sum())**2 + (df2[df2['Planta'] == 'Planta 1']['Imaginaria Corriente 380V'].sum())**2)\n",
    "print(f'Magnitud de corriente a 380V para los motores de la planta 1: {Corriente_Planta_1_380V} A')"
   ]
  },
  {
   "cell_type": "markdown",
   "metadata": {},
   "source": [
    "Magnitud de corriente a 380V para determinar el total de la corriente que se usará para dimensionar el grosor del cable sobre la Planta 2"
   ]
  },
  {
   "cell_type": "code",
   "execution_count": 11,
   "metadata": {},
   "outputs": [
    {
     "name": "stdout",
     "output_type": "stream",
     "text": [
      "Magnitud de corriente a 380V para los motores de la planta 2: 611.2793230444981 A\n"
     ]
    }
   ],
   "source": [
    "Corriente_Planta_2_380V = np.sqrt((df2[df2['Planta'] == 'Planta 2']['Real Corriente 380V'].sum())**2 + (df2[df2['Planta'] == 'Planta 2']['Imaginaria Corriente 380V'].sum())**2)\n",
    "print(f'Magnitud de corriente a 380V para los motores de la planta 2: {Corriente_Planta_2_380V} A')"
   ]
  },
  {
   "cell_type": "markdown",
   "metadata": {},
   "source": [
    "Magnitud de corriente a 380V para determinar el total de la corriente que se usará para dimensionar el grosor del cable sobre la Planta 3"
   ]
  },
  {
   "cell_type": "code",
   "execution_count": 12,
   "metadata": {},
   "outputs": [
    {
     "name": "stdout",
     "output_type": "stream",
     "text": [
      "Magnitud de corriente a 380V para los motores de la planta 3: 685.5485951151388 A\n"
     ]
    }
   ],
   "source": [
    "Corriente_Planta_3_380V = np.sqrt((df2[df2['Planta'] == 'Planta 3']['Real Corriente 380V'].sum())**2 + (df2[df2['Planta'] == 'Planta 3']['Imaginaria Corriente 380V'].sum())**2)\n",
    "print(f'Magnitud de corriente a 380V para los motores de la planta 3: {Corriente_Planta_3_380V} A')"
   ]
  },
  {
   "cell_type": "markdown",
   "metadata": {},
   "source": [
    "Magnitud de corriente a 380V para determinar el total de la corriente que se usará para dimensionar el grosor del cable sobre la Planta 4"
   ]
  },
  {
   "cell_type": "code",
   "execution_count": 13,
   "metadata": {},
   "outputs": [
    {
     "name": "stdout",
     "output_type": "stream",
     "text": [
      "Magnitud de corriente a 380V para los motores de la planta 4: 448.51827787028714 A\n"
     ]
    }
   ],
   "source": [
    "Corriente_Planta_4_380V = np.sqrt((df2[df2['Planta'] == 'Planta 4']['Real Corriente 380V'].sum())**2 + (df2[df2['Planta'] == 'Planta 4']['Imaginaria Corriente 380V'].sum())**2)\n",
    "print(f'Magnitud de corriente a 380V para los motores de la planta 4: {Corriente_Planta_4_380V} A')"
   ]
  },
  {
   "cell_type": "markdown",
   "metadata": {},
   "source": [
    "Magnitud de corriente a 380V para determinar el total de la corriente que se usará para dimensionar el grosor del cable sobre la Planta 5"
   ]
  },
  {
   "cell_type": "code",
   "execution_count": 14,
   "metadata": {},
   "outputs": [
    {
     "name": "stdout",
     "output_type": "stream",
     "text": [
      "Magnitud de corriente a 380V para los motores de la planta 5: 808.7729769612822 A\n"
     ]
    }
   ],
   "source": [
    "Corriente_Planta_5_380V = np.sqrt((df2[df2['Planta'] == 'Planta 5']['Real Corriente 380V'].sum())**2 + (df2[df2['Planta'] == 'Planta 5']['Imaginaria Corriente 380V'].sum())**2)\n",
    "print(f'Magnitud de corriente a 380V para los motores de la planta 5: {Corriente_Planta_5_380V} A')"
   ]
  },
  {
   "cell_type": "markdown",
   "metadata": {},
   "source": [
    "## CAMBIO DE MOTORES ##"
   ]
  },
  {
   "cell_type": "code",
   "execution_count": 15,
   "metadata": {},
   "outputs": [],
   "source": [
    "#calculo de 11 meses, donde se trabaja continuamente 16 horas al dia de lunes a sabado\n",
    "diasXmes        = 24\n",
    "horasXdia       = 16\n",
    "horasXmes       = diasXmes * horasXdia\n",
    "meses           = 11\n",
    "horasX11meses   = horasXmes * meses\n",
    "\n",
    "#calculo para el mes de diciembre\n",
    "diasDiciembre   = 15\n",
    "horasDiciembre  = diasDiciembre * horasXdia\n",
    "\n",
    "#total horas por año\n",
    "TOTALHORAS     = horasX11meses + horasDiciembre"
   ]
  },
  {
   "cell_type": "code",
   "execution_count": 21,
   "metadata": {},
   "outputs": [
    {
     "data": {
      "text/html": [
       "<div>\n",
       "<style scoped>\n",
       "    .dataframe tbody tr th:only-of-type {\n",
       "        vertical-align: middle;\n",
       "    }\n",
       "\n",
       "    .dataframe tbody tr th {\n",
       "        vertical-align: top;\n",
       "    }\n",
       "\n",
       "    .dataframe thead th {\n",
       "        text-align: right;\n",
       "    }\n",
       "</style>\n",
       "<table border=\"1\" class=\"dataframe\">\n",
       "  <thead>\n",
       "    <tr style=\"text-align: right;\">\n",
       "      <th></th>\n",
       "      <th>No. de Depósito</th>\n",
       "      <th>Referencia</th>\n",
       "      <th>Potencia kW</th>\n",
       "      <th>Potencia HP</th>\n",
       "      <th>Tamaño constructivo</th>\n",
       "      <th>Velocidad rpm</th>\n",
       "      <th>Torque Nm</th>\n",
       "      <th>Corriente nominal 220VDD A</th>\n",
       "      <th>Corriente nominal 380VYY A</th>\n",
       "      <th>Corriente nominal 440VD A</th>\n",
       "      <th>Eficiencia %</th>\n",
       "      <th>Peso neto (IM B3) kg</th>\n",
       "      <th>Precio de lista USD</th>\n",
       "      <th>rpm</th>\n",
       "      <th>polos</th>\n",
       "      <th>costo_Pesos</th>\n",
       "      <th>(%) deslizamiento</th>\n",
       "    </tr>\n",
       "  </thead>\n",
       "  <tbody>\n",
       "    <tr>\n",
       "      <th>0</th>\n",
       "      <td>100664611</td>\n",
       "      <td>1LE0143-0DA26-4AA4-Z D80+D81</td>\n",
       "      <td>0.75</td>\n",
       "      <td>1.0</td>\n",
       "      <td>80M</td>\n",
       "      <td>3450</td>\n",
       "      <td>2.1</td>\n",
       "      <td>3.15</td>\n",
       "      <td>1.82</td>\n",
       "      <td>1.57</td>\n",
       "      <td>77.0</td>\n",
       "      <td>15.0</td>\n",
       "      <td>270.0</td>\n",
       "      <td>3600</td>\n",
       "      <td>2</td>\n",
       "      <td>1048680.0</td>\n",
       "      <td>4.166667</td>\n",
       "    </tr>\n",
       "    <tr>\n",
       "      <th>1</th>\n",
       "      <td>100664612</td>\n",
       "      <td>1LE0143-0DA36-4AA4-Z D80+D81</td>\n",
       "      <td>1.10</td>\n",
       "      <td>1.5</td>\n",
       "      <td>80M</td>\n",
       "      <td>3480</td>\n",
       "      <td>3.0</td>\n",
       "      <td>4.30</td>\n",
       "      <td>2.50</td>\n",
       "      <td>2.15</td>\n",
       "      <td>84.0</td>\n",
       "      <td>18.0</td>\n",
       "      <td>300.4</td>\n",
       "      <td>3600</td>\n",
       "      <td>2</td>\n",
       "      <td>1166753.6</td>\n",
       "      <td>3.333333</td>\n",
       "    </tr>\n",
       "    <tr>\n",
       "      <th>2</th>\n",
       "      <td>100664613</td>\n",
       "      <td>1LE0143-0DA86-4AA4-Z D80+D81</td>\n",
       "      <td>1.50</td>\n",
       "      <td>2.0</td>\n",
       "      <td>80M</td>\n",
       "      <td>3465</td>\n",
       "      <td>4.1</td>\n",
       "      <td>5.70</td>\n",
       "      <td>3.25</td>\n",
       "      <td>2.85</td>\n",
       "      <td>85.5</td>\n",
       "      <td>18.5</td>\n",
       "      <td>373.8</td>\n",
       "      <td>3600</td>\n",
       "      <td>2</td>\n",
       "      <td>1451839.2</td>\n",
       "      <td>3.750000</td>\n",
       "    </tr>\n",
       "    <tr>\n",
       "      <th>3</th>\n",
       "      <td>100664614</td>\n",
       "      <td>1LE0143-0EA46-4AA4-Z D80+D81</td>\n",
       "      <td>2.20</td>\n",
       "      <td>3.0</td>\n",
       "      <td>90L</td>\n",
       "      <td>3500</td>\n",
       "      <td>6.0</td>\n",
       "      <td>7.80</td>\n",
       "      <td>4.50</td>\n",
       "      <td>3.90</td>\n",
       "      <td>86.5</td>\n",
       "      <td>29.0</td>\n",
       "      <td>453.9</td>\n",
       "      <td>3600</td>\n",
       "      <td>2</td>\n",
       "      <td>1762947.6</td>\n",
       "      <td>2.777778</td>\n",
       "    </tr>\n",
       "    <tr>\n",
       "      <th>4</th>\n",
       "      <td>100664615</td>\n",
       "      <td>1LE0143-0EA86-4AA4-Z D80+D81</td>\n",
       "      <td>3.00</td>\n",
       "      <td>4.0</td>\n",
       "      <td>90L</td>\n",
       "      <td>3515</td>\n",
       "      <td>8.2</td>\n",
       "      <td>10.70</td>\n",
       "      <td>6.20</td>\n",
       "      <td>5.30</td>\n",
       "      <td>88.5</td>\n",
       "      <td>29.0</td>\n",
       "      <td>521.4</td>\n",
       "      <td>3600</td>\n",
       "      <td>2</td>\n",
       "      <td>2025117.6</td>\n",
       "      <td>2.361111</td>\n",
       "    </tr>\n",
       "  </tbody>\n",
       "</table>\n",
       "</div>"
      ],
      "text/plain": [
       "   No. de Depósito                    Referencia  Potencia kW  Potencia HP  \\\n",
       "0        100664611  1LE0143-0DA26-4AA4-Z D80+D81         0.75          1.0   \n",
       "1        100664612  1LE0143-0DA36-4AA4-Z D80+D81         1.10          1.5   \n",
       "2        100664613  1LE0143-0DA86-4AA4-Z D80+D81         1.50          2.0   \n",
       "3        100664614  1LE0143-0EA46-4AA4-Z D80+D81         2.20          3.0   \n",
       "4        100664615  1LE0143-0EA86-4AA4-Z D80+D81         3.00          4.0   \n",
       "\n",
       "  Tamaño constructivo  Velocidad rpm  Torque Nm  Corriente nominal 220VDD A  \\\n",
       "0                 80M           3450        2.1                        3.15   \n",
       "1                 80M           3480        3.0                        4.30   \n",
       "2                 80M           3465        4.1                        5.70   \n",
       "3                 90L           3500        6.0                        7.80   \n",
       "4                 90L           3515        8.2                       10.70   \n",
       "\n",
       "   Corriente nominal 380VYY A  Corriente nominal 440VD A  Eficiencia %  \\\n",
       "0                        1.82                       1.57          77.0   \n",
       "1                        2.50                       2.15          84.0   \n",
       "2                        3.25                       2.85          85.5   \n",
       "3                        4.50                       3.90          86.5   \n",
       "4                        6.20                       5.30          88.5   \n",
       "\n",
       "   Peso neto (IM B3) kg  Precio de lista USD   rpm  polos  costo_Pesos  \\\n",
       "0                  15.0                270.0  3600      2    1048680.0   \n",
       "1                  18.0                300.4  3600      2    1166753.6   \n",
       "2                  18.5                373.8  3600      2    1451839.2   \n",
       "3                  29.0                453.9  3600      2    1762947.6   \n",
       "4                  29.0                521.4  3600      2    2025117.6   \n",
       "\n",
       "   (%) deslizamiento  \n",
       "0           4.166667  \n",
       "1           3.333333  \n",
       "2           3.750000  \n",
       "3           2.777778  \n",
       "4           2.361111  "
      ]
     },
     "execution_count": 21,
     "metadata": {},
     "output_type": "execute_result"
    }
   ],
   "source": [
    "df_catalogo.head()"
   ]
  },
  {
   "cell_type": "code",
   "execution_count": 22,
   "metadata": {},
   "outputs": [],
   "source": [
    "df_catalogo = pd.read_csv(\"catalogo_motores_completo.csv\")\n",
    "def cambio(fc,potencia_hp,velocidad_sincronica,potencia_actual):\n",
    "    #factor de carga, potencia_hp, potencia_actual\n",
    "    costoXaño = (potencia_actual / 1000) * TOTALHORAS * 1009.04\n",
    "    df_filtro                           = df_catalogo[(df_catalogo[\"Potencia HP\"] == potencia_hp) & (df_catalogo[\"rpm\"] == velocidad_sincronica)].copy()\n",
    "    df_filtro['Potencia Entrada (W)']   = (df_filtro ['Potencia HP'] * 746 * (fc)) / (df_filtro ['Eficiencia %']/100)\n",
    "    df_filtro[\"kw/año\"]                 = (df_filtro[\"Potencia Entrada (W)\"]/1000) * TOTALHORAS\n",
    "    df_filtro[\"costo/año\"]              = df_filtro[\"kw/año\"] * 1009.04\n",
    "    df_filtro[\"costo_anterior\"]         = costoXaño\n",
    "    df_filtro[\"ahorroXmes\"]             = (df_filtro[\"costo_anterior\"] - df_filtro[\"costo/año\"]) / 12\n",
    "    df_filtro[\"tiempo_retribucion\"]     = df_filtro[\"costo_Pesos\"] / df_filtro[\"ahorroXmes\"]\n",
    "    return df_filtro"
   ]
  },
  {
   "cell_type": "code",
   "execution_count": 23,
   "metadata": {},
   "outputs": [
    {
     "data": {
      "text/html": [
       "<div>\n",
       "<style scoped>\n",
       "    .dataframe tbody tr th:only-of-type {\n",
       "        vertical-align: middle;\n",
       "    }\n",
       "\n",
       "    .dataframe tbody tr th {\n",
       "        vertical-align: top;\n",
       "    }\n",
       "\n",
       "    .dataframe thead th {\n",
       "        text-align: right;\n",
       "    }\n",
       "</style>\n",
       "<table border=\"1\" class=\"dataframe\">\n",
       "  <thead>\n",
       "    <tr style=\"text-align: right;\">\n",
       "      <th></th>\n",
       "      <th>No. de Depósito</th>\n",
       "      <th>Referencia</th>\n",
       "      <th>Potencia kW</th>\n",
       "      <th>Potencia HP</th>\n",
       "      <th>Tamaño constructivo</th>\n",
       "      <th>Velocidad rpm</th>\n",
       "      <th>Torque Nm</th>\n",
       "      <th>Corriente nominal 220VDD A</th>\n",
       "      <th>Corriente nominal 380VYY A</th>\n",
       "      <th>Corriente nominal 440VD A</th>\n",
       "      <th>Eficiencia %</th>\n",
       "      <th>Peso neto (IM B3) kg</th>\n",
       "      <th>Precio de lista USD</th>\n",
       "      <th>rpm</th>\n",
       "      <th>polos</th>\n",
       "      <th>costo_Pesos</th>\n",
       "      <th>(%) deslizamiento</th>\n",
       "      <th>Potencia Entrada (W)</th>\n",
       "      <th>kw/año</th>\n",
       "      <th>costo/año</th>\n",
       "      <th>costo_anterior</th>\n",
       "      <th>ahorroXmes</th>\n",
       "      <th>tiempo_retribucion</th>\n",
       "    </tr>\n",
       "  </thead>\n",
       "  <tbody>\n",
       "    <tr>\n",
       "      <th>13</th>\n",
       "      <td>100664589</td>\n",
       "      <td>1LE0143-2BA16-4AA4-Z D80+D81</td>\n",
       "      <td>37.0</td>\n",
       "      <td>50.0</td>\n",
       "      <td>225M</td>\n",
       "      <td>3570</td>\n",
       "      <td>99.0</td>\n",
       "      <td>118.0</td>\n",
       "      <td>68.0</td>\n",
       "      <td>59.0</td>\n",
       "      <td>93.0</td>\n",
       "      <td>320.0</td>\n",
       "      <td>4502.5</td>\n",
       "      <td>3600</td>\n",
       "      <td>2</td>\n",
       "      <td>17487710.0</td>\n",
       "      <td>0.833333</td>\n",
       "      <td>32086.021505</td>\n",
       "      <td>143232.0</td>\n",
       "      <td>1.445268e+08</td>\n",
       "      <td>1.581293e+08</td>\n",
       "      <td>1.133544e+06</td>\n",
       "      <td>15.427469</td>\n",
       "    </tr>\n",
       "  </tbody>\n",
       "</table>\n",
       "</div>"
      ],
      "text/plain": [
       "    No. de Depósito                    Referencia  Potencia kW  Potencia HP  \\\n",
       "13        100664589  1LE0143-2BA16-4AA4-Z D80+D81         37.0         50.0   \n",
       "\n",
       "   Tamaño constructivo  Velocidad rpm  Torque Nm  Corriente nominal 220VDD A  \\\n",
       "13                225M           3570       99.0                       118.0   \n",
       "\n",
       "    Corriente nominal 380VYY A  Corriente nominal 440VD A  Eficiencia %  \\\n",
       "13                        68.0                       59.0          93.0   \n",
       "\n",
       "    Peso neto (IM B3) kg  Precio de lista USD   rpm  polos  costo_Pesos  \\\n",
       "13                 320.0               4502.5  3600      2   17487710.0   \n",
       "\n",
       "    (%) deslizamiento  Potencia Entrada (W)    kw/año     costo/año  \\\n",
       "13           0.833333          32086.021505  143232.0  1.445268e+08   \n",
       "\n",
       "    costo_anterior    ahorroXmes  tiempo_retribucion  \n",
       "13    1.581293e+08  1.133544e+06           15.427469  "
      ]
     },
     "execution_count": 23,
     "metadata": {},
     "output_type": "execute_result"
    }
   ],
   "source": [
    "#factor de carga, potencia_hp, potencia_actual\n",
    "df_cambio = cambio(0.8,50,3600,35105.882352941175)\n",
    "df_cambio"
   ]
  },
  {
   "cell_type": "code",
   "execution_count": 18,
   "metadata": {},
   "outputs": [
    {
     "data": {
      "text/html": [
       "<div>\n",
       "<style scoped>\n",
       "    .dataframe tbody tr th:only-of-type {\n",
       "        vertical-align: middle;\n",
       "    }\n",
       "\n",
       "    .dataframe tbody tr th {\n",
       "        vertical-align: top;\n",
       "    }\n",
       "\n",
       "    .dataframe thead th {\n",
       "        text-align: right;\n",
       "    }\n",
       "</style>\n",
       "<table border=\"1\" class=\"dataframe\">\n",
       "  <thead>\n",
       "    <tr style=\"text-align: right;\">\n",
       "      <th></th>\n",
       "      <th>Planta</th>\n",
       "      <th>Distancia</th>\n",
       "      <th>Motor</th>\n",
       "      <th>Potencia (HP)</th>\n",
       "      <th>Eficiencia (%)</th>\n",
       "      <th>Factor de carga maximo</th>\n",
       "      <th>Factor de potencia</th>\n",
       "      <th>Potencia Entrada (W)</th>\n",
       "      <th>Corriente a 220V (A)</th>\n",
       "      <th>Corriente a 380V (A)</th>\n",
       "      <th>Corriente a 220V (A) +25%</th>\n",
       "      <th>Corriente a 380V (A) +25%</th>\n",
       "      <th>Velocidad síncrona (RPM)</th>\n",
       "      <th>Velocidad real (RPM)</th>\n",
       "      <th>Deslizamiento (RPM)</th>\n",
       "      <th>Deslizamiento (%)</th>\n",
       "      <th>Torque (N.m)</th>\n",
       "      <th>theta (°)</th>\n",
       "      <th>Real Corriente 220V</th>\n",
       "      <th>Imaginaria Corriente 220V</th>\n",
       "      <th>Real Corriente 380V</th>\n",
       "      <th>Imaginaria Corriente 380V</th>\n",
       "      <th>kw/año</th>\n",
       "      <th>costo/año</th>\n",
       "      <th>cambio FC</th>\n",
       "      <th>cambio Eficiencia</th>\n",
       "      <th>cambio</th>\n",
       "    </tr>\n",
       "  </thead>\n",
       "  <tbody>\n",
       "    <tr>\n",
       "      <th>0</th>\n",
       "      <td>Planta 1</td>\n",
       "      <td>200</td>\n",
       "      <td>1</td>\n",
       "      <td>30</td>\n",
       "      <td>0.70</td>\n",
       "      <td>0.8</td>\n",
       "      <td>0.74</td>\n",
       "      <td>25577.142857</td>\n",
       "      <td>90.706206</td>\n",
       "      <td>52.514119</td>\n",
       "      <td>113.382757</td>\n",
       "      <td>65.642649</td>\n",
       "      <td>3600</td>\n",
       "      <td>3540</td>\n",
       "      <td>60</td>\n",
       "      <td>1.666667</td>\n",
       "      <td>48.296781</td>\n",
       "      <td>0.737726</td>\n",
       "      <td>83.903240</td>\n",
       "      <td>76.262021</td>\n",
       "      <td>48.575560</td>\n",
       "      <td>44.151697</td>\n",
       "      <td>171264.548571</td>\n",
       "      <td>1.728128e+08</td>\n",
       "      <td>No</td>\n",
       "      <td>Si</td>\n",
       "      <td>Si</td>\n",
       "    </tr>\n",
       "    <tr>\n",
       "      <th>1</th>\n",
       "      <td>Planta 2</td>\n",
       "      <td>300</td>\n",
       "      <td>1</td>\n",
       "      <td>40</td>\n",
       "      <td>0.79</td>\n",
       "      <td>0.8</td>\n",
       "      <td>0.82</td>\n",
       "      <td>30217.721519</td>\n",
       "      <td>96.708479</td>\n",
       "      <td>55.989120</td>\n",
       "      <td>120.885599</td>\n",
       "      <td>69.986399</td>\n",
       "      <td>3600</td>\n",
       "      <td>3565</td>\n",
       "      <td>35</td>\n",
       "      <td>0.972222</td>\n",
       "      <td>63.944126</td>\n",
       "      <td>0.609385</td>\n",
       "      <td>99.126191</td>\n",
       "      <td>69.190507</td>\n",
       "      <td>57.388848</td>\n",
       "      <td>40.057662</td>\n",
       "      <td>202337.863291</td>\n",
       "      <td>2.041670e+08</td>\n",
       "      <td>No</td>\n",
       "      <td>Si</td>\n",
       "      <td>Si</td>\n",
       "    </tr>\n",
       "    <tr>\n",
       "      <th>2</th>\n",
       "      <td>Planta 3</td>\n",
       "      <td>350</td>\n",
       "      <td>1</td>\n",
       "      <td>60</td>\n",
       "      <td>0.85</td>\n",
       "      <td>0.6</td>\n",
       "      <td>0.78</td>\n",
       "      <td>31595.294118</td>\n",
       "      <td>106.302748</td>\n",
       "      <td>61.543696</td>\n",
       "      <td>132.878435</td>\n",
       "      <td>76.929620</td>\n",
       "      <td>3600</td>\n",
       "      <td>3570</td>\n",
       "      <td>30</td>\n",
       "      <td>0.833333</td>\n",
       "      <td>71.836389</td>\n",
       "      <td>0.676131</td>\n",
       "      <td>103.645179</td>\n",
       "      <td>83.152602</td>\n",
       "      <td>60.005104</td>\n",
       "      <td>48.140980</td>\n",
       "      <td>211562.089412</td>\n",
       "      <td>2.134746e+08</td>\n",
       "      <td>Si</td>\n",
       "      <td>No</td>\n",
       "      <td>Si</td>\n",
       "    </tr>\n",
       "    <tr>\n",
       "      <th>3</th>\n",
       "      <td>Planta 4</td>\n",
       "      <td>300</td>\n",
       "      <td>1</td>\n",
       "      <td>30</td>\n",
       "      <td>0.82</td>\n",
       "      <td>0.6</td>\n",
       "      <td>0.78</td>\n",
       "      <td>16375.609756</td>\n",
       "      <td>55.095936</td>\n",
       "      <td>31.897647</td>\n",
       "      <td>68.869921</td>\n",
       "      <td>39.872059</td>\n",
       "      <td>3600</td>\n",
       "      <td>3540</td>\n",
       "      <td>60</td>\n",
       "      <td>1.666667</td>\n",
       "      <td>36.222586</td>\n",
       "      <td>0.676131</td>\n",
       "      <td>53.718538</td>\n",
       "      <td>43.097385</td>\n",
       "      <td>31.100206</td>\n",
       "      <td>24.951118</td>\n",
       "      <td>109651.082927</td>\n",
       "      <td>1.106423e+08</td>\n",
       "      <td>Si</td>\n",
       "      <td>Si</td>\n",
       "      <td>Si</td>\n",
       "    </tr>\n",
       "    <tr>\n",
       "      <th>4</th>\n",
       "      <td>Planta 5</td>\n",
       "      <td>500</td>\n",
       "      <td>1</td>\n",
       "      <td>100</td>\n",
       "      <td>0.91</td>\n",
       "      <td>0.6</td>\n",
       "      <td>0.81</td>\n",
       "      <td>49186.813187</td>\n",
       "      <td>159.360381</td>\n",
       "      <td>92.261273</td>\n",
       "      <td>199.200476</td>\n",
       "      <td>115.326591</td>\n",
       "      <td>3600</td>\n",
       "      <td>3570</td>\n",
       "      <td>30</td>\n",
       "      <td>0.833333</td>\n",
       "      <td>119.727315</td>\n",
       "      <td>0.626644</td>\n",
       "      <td>161.352385</td>\n",
       "      <td>116.817110</td>\n",
       "      <td>93.414539</td>\n",
       "      <td>67.630959</td>\n",
       "      <td>329354.901099</td>\n",
       "      <td>3.323323e+08</td>\n",
       "      <td>Si</td>\n",
       "      <td>No</td>\n",
       "      <td>Si</td>\n",
       "    </tr>\n",
       "  </tbody>\n",
       "</table>\n",
       "</div>"
      ],
      "text/plain": [
       "     Planta  Distancia  Motor  Potencia (HP)  Eficiencia (%)  \\\n",
       "0  Planta 1        200      1             30            0.70   \n",
       "1  Planta 2        300      1             40            0.79   \n",
       "2  Planta 3        350      1             60            0.85   \n",
       "3  Planta 4        300      1             30            0.82   \n",
       "4  Planta 5        500      1            100            0.91   \n",
       "\n",
       "   Factor de carga maximo  Factor de potencia  Potencia Entrada (W)  \\\n",
       "0                     0.8                0.74          25577.142857   \n",
       "1                     0.8                0.82          30217.721519   \n",
       "2                     0.6                0.78          31595.294118   \n",
       "3                     0.6                0.78          16375.609756   \n",
       "4                     0.6                0.81          49186.813187   \n",
       "\n",
       "   Corriente a 220V (A)  Corriente a 380V (A)  Corriente a 220V (A) +25%  \\\n",
       "0             90.706206             52.514119                 113.382757   \n",
       "1             96.708479             55.989120                 120.885599   \n",
       "2            106.302748             61.543696                 132.878435   \n",
       "3             55.095936             31.897647                  68.869921   \n",
       "4            159.360381             92.261273                 199.200476   \n",
       "\n",
       "   Corriente a 380V (A) +25%  Velocidad síncrona (RPM)  Velocidad real (RPM)  \\\n",
       "0                  65.642649                      3600                  3540   \n",
       "1                  69.986399                      3600                  3565   \n",
       "2                  76.929620                      3600                  3570   \n",
       "3                  39.872059                      3600                  3540   \n",
       "4                 115.326591                      3600                  3570   \n",
       "\n",
       "   Deslizamiento (RPM)  Deslizamiento (%)  Torque (N.m)  theta (°)  \\\n",
       "0                   60           1.666667     48.296781   0.737726   \n",
       "1                   35           0.972222     63.944126   0.609385   \n",
       "2                   30           0.833333     71.836389   0.676131   \n",
       "3                   60           1.666667     36.222586   0.676131   \n",
       "4                   30           0.833333    119.727315   0.626644   \n",
       "\n",
       "   Real Corriente 220V  Imaginaria Corriente 220V  Real Corriente 380V  \\\n",
       "0            83.903240                  76.262021            48.575560   \n",
       "1            99.126191                  69.190507            57.388848   \n",
       "2           103.645179                  83.152602            60.005104   \n",
       "3            53.718538                  43.097385            31.100206   \n",
       "4           161.352385                 116.817110            93.414539   \n",
       "\n",
       "   Imaginaria Corriente 380V         kw/año     costo/año cambio FC  \\\n",
       "0                  44.151697  171264.548571  1.728128e+08        No   \n",
       "1                  40.057662  202337.863291  2.041670e+08        No   \n",
       "2                  48.140980  211562.089412  2.134746e+08        Si   \n",
       "3                  24.951118  109651.082927  1.106423e+08        Si   \n",
       "4                  67.630959  329354.901099  3.323323e+08        Si   \n",
       "\n",
       "  cambio Eficiencia cambio  \n",
       "0                Si     Si  \n",
       "1                Si     Si  \n",
       "2                No     Si  \n",
       "3                Si     Si  \n",
       "4                No     Si  "
      ]
     },
     "execution_count": 18,
     "metadata": {},
     "output_type": "execute_result"
    }
   ],
   "source": [
    "df2.head()"
   ]
  }
 ],
 "metadata": {
  "kernelspec": {
   "display_name": "Python 3",
   "language": "python",
   "name": "python3"
  },
  "language_info": {
   "codemirror_mode": {
    "name": "ipython",
    "version": 3
   },
   "file_extension": ".py",
   "mimetype": "text/x-python",
   "name": "python",
   "nbconvert_exporter": "python",
   "pygments_lexer": "ipython3",
   "version": "3.11.8"


  }
 },
 "nbformat": 4,
 "nbformat_minor": 2
}
