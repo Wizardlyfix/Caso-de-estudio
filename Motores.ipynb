{
 "cells": [
  {
   "cell_type": "code",
   "execution_count": 1,
   "metadata": {},
   "outputs": [],
   "source": [
    "import pandas as pd\n",
    "import numpy as np\n",
    "df1 = pd.read_csv('data_motores.csv')\n",
    "pd.set_option('display.max_columns', None)"
   ]
  },
  {
   "cell_type": "code",
   "execution_count": 2,
   "metadata": {},
   "outputs": [],
   "source": [
    "df1[\"Eficiencia (%)\"]               = df1[\"Eficiencia (%)\"]/100\n",
    "df1[\"Factor de carga maximo\"]       = df1[\"Factor de carga maximo\"]/100\n",
    "df1['Potencia Entrada (W)']         = (df1['Potencia (HP)'] * 746 * (df1['Factor de carga maximo'])) / (df1['Eficiencia (%)'])\n",
    "df1['Corriente a 220V (A)']         = df1['Potencia Entrada (W)'] / (np.sqrt(3) * 220 * df1['Factor de potencia'])\n",
    "df1['Corriente a 380V (A)']         = df1['Potencia Entrada (W)'] / (np.sqrt(3) * 380 * df1['Factor de potencia'])\n",
    "df1['Corriente a 220V (A) +25%']    = df1['Corriente a 220V (A)']*1.25\n",
    "df1['Corriente a 380V (A) +25%']    = df1['Corriente a 380V (A)']*1.25\n",
    "df1['Velocidad síncrona (RPM)']     = 3600"
   ]
  },
  {
   "cell_type": "code",
   "execution_count": 3,
   "metadata": {},
   "outputs": [],
   "source": [
    "catalogo                            = pd.read_csv('catalogo_motores.csv')\n",
    "catalogo['Potencia HP']             = catalogo['Potencia HP'].astype(int)\n",
    "df2                                 = pd.merge(df1, catalogo[['Potencia HP', 'Velocidad rpm']], left_on='Potencia (HP)', right_on='Potencia HP', how='left')\n",
    "df2.drop(columns=['Potencia HP'], inplace=True)\n",
    "df2                                 = df2.rename(columns={'Velocidad rpm': 'Velocidad real (RPM)'})\n",
    "df2['Deslizamiento (RPM)']          = df2['Velocidad síncrona (RPM)'] - df2['Velocidad real (RPM)'] \n",
    "df2['Deslizamiento (%)']            = ((df2['Velocidad síncrona (RPM)'] - df2['Velocidad real (RPM)']) / df2['Velocidad síncrona (RPM)'])*100\n",
    "df2['Torque (N.m)']                 = (df2['Potencia (HP)'] * 746 * (df1['Factor de carga maximo'])) / ((df2['Velocidad real (RPM)'] * 2 * np.pi)/60)\n",
    "df2['theta (°)']                    = np.arccos(df2['Factor de potencia'])\n",
    "df2['Real Corriente 220V']          = df2['Corriente a 220V (A) +25%'] * np.cos(df2['theta (°)']) \n",
    "df2['Imaginaria Corriente 220V']    = df2['Corriente a 220V (A) +25%'] * np.sin(df2['theta (°)'])\n",
    "df2['Real Corriente 380V']          = df2['Corriente a 380V (A) +25%'] * np.cos(df2['theta (°)']) \n",
    "df2['Imaginaria Corriente 380V']    = df2['Corriente a 380V (A) +25%'] * np.sin(df2['theta (°)'])\n",
    "df2[\"kw/año\"]                       = (df2[\"Potencia Entrada (W)\"]/1000) * 6696\n",
    "df2[\"costo/año\"]                    = df2[\"kw/año\"] * 1009.04\n",
    "\n",
    "df2[\"cambio FC\"]                    = np.where(df2[\"Factor de carga maximo\"] < 0.8, \"Si\", \"No\")\n",
    "df2[\"cambio Eficiencia\"]            = np.where(df2[\"Eficiencia (%)\"] < 0.85, \"Si\", \"No\")\n",
    "df2[\"cambio\"]                       = np.where((df2[\"cambio FC\"] == \"Si\") | (df2[\"cambio Eficiencia\"] == \"Si\"), \"Si\", \"No\")"
   ]
  },
  {
   "cell_type": "code",
   "execution_count": 4,
   "metadata": {},
   "outputs": [],
   "source": [
    "df2.to_csv('data_motores_procesada.csv', index=False)"
   ]
  },
  {
   "cell_type": "markdown",
   "metadata": {},
   "source": [
    "# PARA 220V"
   ]
  },
  {
   "cell_type": "markdown",
   "metadata": {},
   "source": [
    "Magnitud de corriente a 220V para determinar el total de la corriente que se usará para dimensionar el grosor del cable sobre la Planta 1"
   ]
  },
  {
   "cell_type": "code",
   "execution_count": 5,
   "metadata": {},
   "outputs": [
    {
     "name": "stdout",
     "output_type": "stream",
     "text": [
      "Magnitud de corriente a 220V para los motores de la planta 1: 740.8613845652662 A\n"
     ]
    }
   ],
   "source": [
    "Corriente_Planta_1_220V = np.sqrt((df2[df2['Planta'] == 'Planta 1']['Real Corriente 220V'].sum())**2 + (df2[df2['Planta'] == 'Planta 1']['Imaginaria Corriente 220V'].sum())**2)\n",
    "print(f'Magnitud de corriente a 220V para los motores de la planta 1: {Corriente_Planta_1_220V} A')"
   ]
  },
  {
   "cell_type": "markdown",
   "metadata": {},
   "source": [
    "Magnitud de corriente a 220V para determinar el total de la corriente que se usará para dimensionar el grosor del cable sobre la Planta 2"
   ]
  },
  {
   "cell_type": "code",
   "execution_count": 6,
   "metadata": {},
   "outputs": [
    {
     "name": "stdout",
     "output_type": "stream",
     "text": [
      "Magnitud de corriente a 220V para los motores de la planta 2: 1055.846103440497 A\n"
     ]
    }
   ],
   "source": [
    "Corriente_Planta_2_220V = np.sqrt((df2[df2['Planta'] == 'Planta 2']['Real Corriente 220V'].sum())**2 + (df2[df2['Planta'] == 'Planta 2']['Imaginaria Corriente 220V'].sum())**2)\n",
    "print(f'Magnitud de corriente a 220V para los motores de la planta 2: {Corriente_Planta_2_220V} A')"
   ]
  },
  {
   "cell_type": "markdown",
   "metadata": {},
   "source": [
    "Magnitud de corriente a 220V para determinar el total de la corriente que se usará para dimensionar el grosor del cable sobre la Planta 3"
   ]
  },
  {
   "cell_type": "code",
   "execution_count": 7,
   "metadata": {},
   "outputs": [
    {
     "name": "stdout",
     "output_type": "stream",
     "text": [
      "Magnitud de corriente a 220V para los motores de la planta 3: 1184.1293915625126 A\n"
     ]
    }
   ],
   "source": [
    "Corriente_Planta_3_220V = np.sqrt((df2[df2['Planta'] == 'Planta 3']['Real Corriente 220V'].sum())**2 + (df2[df2['Planta'] == 'Planta 3']['Imaginaria Corriente 220V'].sum())**2)\n",
    "print(f'Magnitud de corriente a 220V para los motores de la planta 3: {Corriente_Planta_3_220V} A')"
   ]
  },
  {
   "cell_type": "markdown",
   "metadata": {},
   "source": [
    "Magnitud de corriente a 220V para determinar el total de la corriente que se usará para dimensionar el grosor del cable sobre la Planta 4"
   ]
  },
  {
   "cell_type": "code",
   "execution_count": 8,
   "metadata": {},
   "outputs": [
    {
     "name": "stdout",
     "output_type": "stream",
     "text": [
      "Magnitud de corriente a 220V para los motores de la planta 4: 774.7133890486778 A\n"
     ]
    }
   ],
   "source": [
    "Corriente_Planta_4_220V = np.sqrt((df2[df2['Planta'] == 'Planta 4']['Real Corriente 220V'].sum())**2 + (df2[df2['Planta'] == 'Planta 4']['Imaginaria Corriente 220V'].sum())**2)\n",
    "print(f'Magnitud de corriente a 220V para los motores de la planta 4: {Corriente_Planta_4_220V} A')"
   ]
  },
  {
   "cell_type": "markdown",
   "metadata": {},
   "source": [
    "Magnitud de corriente a 220V para determinar el total de la corriente que se usará para dimensionar el grosor del cable sobre la Planta 5"
   ]
  },
  {
   "cell_type": "code",
   "execution_count": 9,
   "metadata": {},
   "outputs": [
    {
     "name": "stdout",
     "output_type": "stream",
     "text": [
      "Magnitud de corriente a 220V para los motores de la planta 5: 1396.9715056603966 A\n"
     ]
    }
   ],
   "source": [
    "Corriente_Planta_5_220V = np.sqrt((df2[df2['Planta'] == 'Planta 5']['Real Corriente 220V'].sum())**2 + (df2[df2['Planta'] == 'Planta 5']['Imaginaria Corriente 220V'].sum())**2)\n",
    "print(f'Magnitud de corriente a 220V para los motores de la planta 5: {Corriente_Planta_5_220V} A')"
   ]
  },
  {
   "cell_type": "markdown",
   "metadata": {},
   "source": [
    "# PARA 380V"
   ]
  },
  {
   "cell_type": "markdown",
   "metadata": {},
   "source": [
    "Magnitud de corriente a 380V para determinar el total de la corriente que se usará para dimensionar el grosor del cable sobre la Planta 1"
   ]
  },
  {
   "cell_type": "code",
   "execution_count": 10,
   "metadata": {},
   "outputs": [
    {
     "name": "stdout",
     "output_type": "stream",
     "text": [
      "Magnitud de corriente a 380V para los motores de la planta 1: 428.91974895883834 A\n"
     ]
    }
   ],
   "source": [
    "Corriente_Planta_1_380V = np.sqrt((df2[df2['Planta'] == 'Planta 1']['Real Corriente 380V'].sum())**2 + (df2[df2['Planta'] == 'Planta 1']['Imaginaria Corriente 380V'].sum())**2)\n",
    "print(f'Magnitud de corriente a 380V para los motores de la planta 1: {Corriente_Planta_1_380V} A')"
   ]
  },
  {
   "cell_type": "markdown",
   "metadata": {},
   "source": [
    "Magnitud de corriente a 380V para determinar el total de la corriente que se usará para dimensionar el grosor del cable sobre la Planta 2"
   ]
  },
  {
   "cell_type": "code",
   "execution_count": 11,
   "metadata": {},
   "outputs": [
    {
     "name": "stdout",
     "output_type": "stream",
     "text": [
      "Magnitud de corriente a 380V para los motores de la planta 2: 611.2793230444981 A\n"
     ]
    }
   ],
   "source": [
    "Corriente_Planta_2_380V = np.sqrt((df2[df2['Planta'] == 'Planta 2']['Real Corriente 380V'].sum())**2 + (df2[df2['Planta'] == 'Planta 2']['Imaginaria Corriente 380V'].sum())**2)\n",
    "print(f'Magnitud de corriente a 380V para los motores de la planta 2: {Corriente_Planta_2_380V} A')"
   ]
  },
  {
   "cell_type": "markdown",
   "metadata": {},
   "source": [
    "Magnitud de corriente a 380V para determinar el total de la corriente que se usará para dimensionar el grosor del cable sobre la Planta 3"
   ]
  },
  {
   "cell_type": "code",
   "execution_count": 12,
   "metadata": {},
   "outputs": [
    {
     "name": "stdout",
     "output_type": "stream",
     "text": [
      "Magnitud de corriente a 380V para los motores de la planta 3: 685.5485951151388 A\n"
     ]
    }
   ],
   "source": [
    "Corriente_Planta_3_380V = np.sqrt((df2[df2['Planta'] == 'Planta 3']['Real Corriente 380V'].sum())**2 + (df2[df2['Planta'] == 'Planta 3']['Imaginaria Corriente 380V'].sum())**2)\n",
    "print(f'Magnitud de corriente a 380V para los motores de la planta 3: {Corriente_Planta_3_380V} A')"
   ]
  },
  {
   "cell_type": "markdown",
   "metadata": {},
   "source": [
    "Magnitud de corriente a 380V para determinar el total de la corriente que se usará para dimensionar el grosor del cable sobre la Planta 4"
   ]
  },
  {
   "cell_type": "code",
   "execution_count": 13,
   "metadata": {},
   "outputs": [
    {
     "name": "stdout",
     "output_type": "stream",
     "text": [
      "Magnitud de corriente a 380V para los motores de la planta 4: 448.51827787028714 A\n"
     ]
    }
   ],
   "source": [
    "Corriente_Planta_4_380V = np.sqrt((df2[df2['Planta'] == 'Planta 4']['Real Corriente 380V'].sum())**2 + (df2[df2['Planta'] == 'Planta 4']['Imaginaria Corriente 380V'].sum())**2)\n",
    "print(f'Magnitud de corriente a 380V para los motores de la planta 4: {Corriente_Planta_4_380V} A')"
   ]
  },
  {
   "cell_type": "markdown",
   "metadata": {},
   "source": [
    "Magnitud de corriente a 380V para determinar el total de la corriente que se usará para dimensionar el grosor del cable sobre la Planta 5"
   ]
  },
  {
   "cell_type": "code",
   "execution_count": 14,
   "metadata": {},
   "outputs": [
    {
     "name": "stdout",
     "output_type": "stream",
     "text": [
      "Magnitud de corriente a 380V para los motores de la planta 5: 808.7729769612822 A\n"
     ]
    }
   ],
   "source": [
    "Corriente_Planta_5_380V = np.sqrt((df2[df2['Planta'] == 'Planta 5']['Real Corriente 380V'].sum())**2 + (df2[df2['Planta'] == 'Planta 5']['Imaginaria Corriente 380V'].sum())**2)\n",
    "print(f'Magnitud de corriente a 380V para los motores de la planta 5: {Corriente_Planta_5_380V} A')"
   ]
  },
  {
   "cell_type": "markdown",
   "metadata": {},
   "source": [
    "## CAMBIO DE MOTORES ##"
   ]
  },
  {
   "cell_type": "code",
   "execution_count": 15,
   "metadata": {},
   "outputs": [],
   "source": [
    "#calculo de 11 meses, donde se trabaja continuamente 16 horas al dia de lunes a sabado\n",
    "diasXmes        = 24\n",
    "horasXdia       = 16\n",
    "horasXmes       = diasXmes * horasXdia\n",
    "meses           = 11\n",
    "horasX11meses   = horasXmes * meses\n",
    "\n",
    "#calculo para el mes de diciembre\n",
    "diasDiciembre   = 15\n",
    "horasDiciembre  = diasDiciembre * horasXdia\n",
    "\n",
    "#total horas por año\n",
    "TOTALHORAS     = horasX11meses + horasDiciembre"
   ]
  },
  {
   "cell_type": "code",
   "execution_count": 16,
   "metadata": {},
   "outputs": [],
   "source": [
    "df_catalogo = pd.read_csv(\"catalogo_motores_completo.csv\")\n",
    "def cambio(fc,potencia_hp,potencia_actual):\n",
    "    #factor de carga, potencia_hp, potencia_actual\n",
    "    costoXaño = (potencia_actual / 1000) * TOTALHORAS * 1009.04\n",
    "    df_filtro                           = df_catalogo[df_catalogo[\"Potencia HP\"] == potencia_hp].copy()\n",
    "    df_filtro['Potencia Entrada (W)']   = (df_filtro ['Potencia HP'] * 746 * (fc)) / (df_filtro ['Eficiencia %']/100)\n",
    "    df_filtro[\"kw/año\"]                 = (df_filtro[\"Potencia Entrada (W)\"]/1000) * TOTALHORAS\n",
    "    df_filtro[\"costo/año\"]              = df_filtro[\"kw/año\"] * 1009.04\n",
    "    df_filtro[\"costo_anterior\"]         = costoXaño\n",
    "    df_filtro[\"ahorroXmes\"]             = (df_filtro[\"costo_anterior\"] - df_filtro[\"costo/año\"]) / 12\n",
    "    df_filtro[\"tiempo_retribucion\"]     = df_filtro[\"costo_Pesos\"] / df_filtro[\"ahorroXmes\"]\n",
    "    return df_filtro"
   ]
  },
  {
   "cell_type": "code",
   "execution_count": 18,
   "metadata": {},
   "outputs": [
    {
     "data": {
      "text/html": [
       "<div>\n",
       "<style scoped>\n",
       "    .dataframe tbody tr th:only-of-type {\n",
       "        vertical-align: middle;\n",
       "    }\n",
       "\n",
       "    .dataframe tbody tr th {\n",
       "        vertical-align: top;\n",
       "    }\n",
       "\n",
       "    .dataframe thead th {\n",
       "        text-align: right;\n",
       "    }\n",
       "</style>\n",
       "<table border=\"1\" class=\"dataframe\">\n",
       "  <thead>\n",
       "    <tr style=\"text-align: right;\">\n",
       "      <th></th>\n",
       "      <th>No. de Depósito</th>\n",
       "      <th>Referencia</th>\n",
       "      <th>Potencia kW</th>\n",
       "      <th>Potencia HP</th>\n",
       "      <th>Tamaño constructivo</th>\n",
       "      <th>Velocidad rpm</th>\n",
       "      <th>Torque Nm</th>\n",
       "      <th>Corriente nominal 220VDD A</th>\n",
       "      <th>Corriente nominal 380VYY A</th>\n",
       "      <th>Corriente nominal 440VD A</th>\n",
       "      <th>Eficiencia %</th>\n",
       "      <th>Peso neto (IM B3) kg</th>\n",
       "      <th>Precio de lista USD</th>\n",
       "      <th>rpm</th>\n",
       "      <th>polos</th>\n",
       "      <th>costo_Pesos</th>\n",
       "      <th>(%) deslizamiento</th>\n",
       "      <th>Potencia Entrada (W)</th>\n",
       "      <th>kw/año</th>\n",
       "      <th>costo/año</th>\n",
       "      <th>costo_anterior</th>\n",
       "      <th>ahorroXmes</th>\n",
       "      <th>tiempo_retribucion</th>\n",
       "    </tr>\n",
       "  </thead>\n",
       "  <tbody>\n",
       "    <tr>\n",
       "      <th>13</th>\n",
       "      <td>100664589</td>\n",
       "      <td>1LE0143-2BA16-4AA4-Z D80+D81</td>\n",
       "      <td>37.0</td>\n",
       "      <td>50.0</td>\n",
       "      <td>225M</td>\n",
       "      <td>3570</td>\n",
       "      <td>99.0</td>\n",
       "      <td>118.0</td>\n",
       "      <td>68.0</td>\n",
       "      <td>59.0</td>\n",
       "      <td>93.0</td>\n",
       "      <td>320.0</td>\n",
       "      <td>4502.5</td>\n",
       "      <td>3600</td>\n",
       "      <td>2</td>\n",
       "      <td>17487710.0</td>\n",
       "      <td>0.833333</td>\n",
       "      <td>32086.021505</td>\n",
       "      <td>143232.000000</td>\n",
       "      <td>1.445268e+08</td>\n",
       "      <td>1.581293e+08</td>\n",
       "      <td>1.133544e+06</td>\n",
       "      <td>15.427469</td>\n",
       "    </tr>\n",
       "    <tr>\n",
       "      <th>35</th>\n",
       "      <td>100664718</td>\n",
       "      <td>1LE0143-2BB06-4AA4-Z D80+D81</td>\n",
       "      <td>37.0</td>\n",
       "      <td>50.0</td>\n",
       "      <td>225M</td>\n",
       "      <td>1785</td>\n",
       "      <td>198.0</td>\n",
       "      <td>123.0</td>\n",
       "      <td>71.0</td>\n",
       "      <td>62.0</td>\n",
       "      <td>94.5</td>\n",
       "      <td>345.0</td>\n",
       "      <td>4514.8</td>\n",
       "      <td>1800</td>\n",
       "      <td>4</td>\n",
       "      <td>17535483.2</td>\n",
       "      <td>0.833333</td>\n",
       "      <td>31576.719577</td>\n",
       "      <td>140958.476190</td>\n",
       "      <td>1.422327e+08</td>\n",
       "      <td>1.581293e+08</td>\n",
       "      <td>1.324717e+06</td>\n",
       "      <td>13.237157</td>\n",
       "    </tr>\n",
       "    <tr>\n",
       "      <th>57</th>\n",
       "      <td>100664792</td>\n",
       "      <td>1LE0143-2CC26-4AA4-Z D80+D81</td>\n",
       "      <td>37.0</td>\n",
       "      <td>50.0</td>\n",
       "      <td>250M</td>\n",
       "      <td>1190</td>\n",
       "      <td>297.0</td>\n",
       "      <td>130.0</td>\n",
       "      <td>75.0</td>\n",
       "      <td>65.0</td>\n",
       "      <td>94.1</td>\n",
       "      <td>479.0</td>\n",
       "      <td>7170.0</td>\n",
       "      <td>1200</td>\n",
       "      <td>6</td>\n",
       "      <td>27848280.0</td>\n",
       "      <td>0.833333</td>\n",
       "      <td>31710.945802</td>\n",
       "      <td>141557.662062</td>\n",
       "      <td>1.428373e+08</td>\n",
       "      <td>1.581293e+08</td>\n",
       "      <td>1.274333e+06</td>\n",
       "      <td>21.853218</td>\n",
       "    </tr>\n",
       "  </tbody>\n",
       "</table>\n",
       "</div>"
      ],
      "text/plain": [
       "    No. de Depósito                    Referencia  Potencia kW  Potencia HP  \\\n",
       "13        100664589  1LE0143-2BA16-4AA4-Z D80+D81         37.0         50.0   \n",
       "35        100664718  1LE0143-2BB06-4AA4-Z D80+D81         37.0         50.0   \n",
       "57        100664792  1LE0143-2CC26-4AA4-Z D80+D81         37.0         50.0   \n",
       "\n",
       "   Tamaño constructivo  Velocidad rpm  Torque Nm  Corriente nominal 220VDD A  \\\n",
       "13                225M           3570       99.0                       118.0   \n",
       "35                225M           1785      198.0                       123.0   \n",
       "57                250M           1190      297.0                       130.0   \n",
       "\n",
       "    Corriente nominal 380VYY A  Corriente nominal 440VD A  Eficiencia %  \\\n",
       "13                        68.0                       59.0          93.0   \n",
       "35                        71.0                       62.0          94.5   \n",
       "57                        75.0                       65.0          94.1   \n",
       "\n",
       "    Peso neto (IM B3) kg  Precio de lista USD   rpm  polos  costo_Pesos  \\\n",
       "13                 320.0               4502.5  3600      2   17487710.0   \n",
       "35                 345.0               4514.8  1800      4   17535483.2   \n",
       "57                 479.0               7170.0  1200      6   27848280.0   \n",
       "\n",
       "    (%) deslizamiento  Potencia Entrada (W)         kw/año     costo/año  \\\n",
       "13           0.833333          32086.021505  143232.000000  1.445268e+08   \n",
       "35           0.833333          31576.719577  140958.476190  1.422327e+08   \n",
       "57           0.833333          31710.945802  141557.662062  1.428373e+08   \n",
       "\n",
       "    costo_anterior    ahorroXmes  tiempo_retribucion  \n",
       "13    1.581293e+08  1.133544e+06           15.427469  \n",
       "35    1.581293e+08  1.324717e+06           13.237157  \n",
       "57    1.581293e+08  1.274333e+06           21.853218  "
      ]
     },
     "execution_count": 18,
     "metadata": {},
     "output_type": "execute_result"
    }
   ],
   "source": [
    "#factor de carga, potencia_hp, potencia_actual\n",
    "df_cambio = cambio(0.8,50,35105.882352941175)\n",
    "df_cambio"
   ]
  }
 ],
 "metadata": {
  "kernelspec": {
   "display_name": "Python 3",
   "language": "python",
   "name": "python3"
  },
  "language_info": {
   "codemirror_mode": {
    "name": "ipython",
    "version": 3
   },
   "file_extension": ".py",
   "mimetype": "text/x-python",
   "name": "python",
   "nbconvert_exporter": "python",
   "pygments_lexer": "ipython3",
   "version": "3.11.5"
  }
 },
 "nbformat": 4,
 "nbformat_minor": 2
}
