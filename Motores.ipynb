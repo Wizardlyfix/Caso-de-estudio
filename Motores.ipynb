{
 "cells": [
  {
   "cell_type": "code",
   "execution_count": 1,
   "metadata": {},
   "outputs": [],
   "source": [
    "import pandas as pd\n",
    "import numpy as np\n",
    "df1 = pd.read_csv('data_motores.csv')\n",
    "pd.set_option('display.max_columns', None)"
   ]
  },
  {
   "cell_type": "code",
   "execution_count": 2,
   "metadata": {},
   "outputs": [],
   "source": [
    "df1[\"Eficiencia (%)\"]               = df1[\"Eficiencia (%)\"]/100\n",
    "df1[\"Factor de carga maximo\"]       = df1[\"Factor de carga maximo\"]/100\n",
    "df1['Potencia Entrada (W)']         = (df1['Potencia (HP)'] * 746 * (df1['Factor de carga maximo'])) / (df1['Eficiencia (%)'])\n",
    "df1['Corriente a 220V (A)']         = df1['Potencia Entrada (W)'] / (np.sqrt(3) * 220 * df1['Factor de potencia'])\n",
    "df1['Corriente a 380V (A)']         = df1['Potencia Entrada (W)'] / (np.sqrt(3) * 380 * df1['Factor de potencia'])\n",
    "df1['Corriente a 220V (A) +25%']    = df1['Corriente a 220V (A)']*1.25\n",
    "df1['Corriente a 380V (A) +25%']    = df1['Corriente a 380V (A)']*1.25\n",
    "df1['Velocidad síncrona (RPM)']     = 3600"
   ]
  },
  {
   "cell_type": "code",
   "execution_count": 18,
   "metadata": {},
   "outputs": [],
   "source": [
    "catalogo                            = pd.read_csv('catalogo_motores.csv')\n",
    "catalogo['Potencia HP']             = catalogo['Potencia HP'].astype(int)\n",
    "df2                                 = pd.merge(df1, catalogo[['Potencia HP', 'Velocidad rpm']], left_on='Potencia (HP)', right_on='Potencia HP', how='left')\n",
    "df2.drop(columns=['Potencia HP'], inplace=True)\n",
    "df2                                 = df2.rename(columns={'Velocidad rpm': 'Velocidad real (RPM)'})\n",
    "df2['Deslizamiento (RPM)']          = df2['Velocidad síncrona (RPM)'] - df2['Velocidad real (RPM)'] \n",
    "df2['Deslizamiento (%)']            = ((df2['Velocidad síncrona (RPM)'] - df2['Velocidad real (RPM)']) / df2['Velocidad síncrona (RPM)'])*100\n",
    "df2['Torque (N.m)']                 = (df2['Potencia (HP)'] * 746 * (df1['Factor de carga maximo'])) / ((df2['Velocidad real (RPM)'] * 2 * np.pi)/60)\n",
    "df2['theta (°)']                    = np.arccos(df2['Factor de potencia'])\n",
    "df2['Real Corriente 220V']          = df2['Corriente a 220V (A) +25%'] * np.cos(df2['theta (°)']) \n",
    "df2['Imaginaria Corriente 220V']    = df2['Corriente a 220V (A) +25%'] * np.sin(df2['theta (°)'])\n",
    "df2['Real Corriente 380V']          = df2['Corriente a 380V (A) +25%'] * np.cos(df2['theta (°)']) \n",
    "df2['Imaginaria Corriente 380V']    = df2['Corriente a 380V (A) +25%'] * np.sin(df2['theta (°)'])\n",
    "df2[\"kw/año\"]                       = (df2[\"Potencia Entrada (W)\"]/1000) * 6696\n",
    "df2[\"costo/año\"]                    = df2[\"kw/año\"] * 1009.04\n",
    "\n",
    "df2[\"cambio FC\"]                    = np.where(df2[\"Factor de carga maximo\"] < 0.8, \"Si\", \"No\")\n",
    "df2[\"cambio Eficiencia\"]            = np.where(df2[\"Eficiencia (%)\"] < 0.85, \"Si\", \"No\")\n",
    "df2[\"cambio\"]                       = np.where((df2[\"cambio FC\"] == \"Si\") | (df2[\"cambio Eficiencia\"] == \"Si\"), \"Si\", \"No\")"
   ]
  },
  {
   "cell_type": "code",
   "execution_count": 4,
   "metadata": {},
   "outputs": [],
   "source": [
    "df2.to_csv('data_motores_procesada.csv', index=False)"
   ]
  },
  {
   "cell_type": "markdown",
   "metadata": {},
   "source": [
    "# PARA 220V"
   ]
  },
  {
   "cell_type": "markdown",
   "metadata": {},
   "source": [
    "Magnitud de corriente a 220V para determinar el total de la corriente que se usará para dimensionar el grosor del cable sobre la Planta 1"
   ]
  },
  {
   "cell_type": "code",
   "execution_count": 5,
   "metadata": {},
   "outputs": [
    {
     "name": "stdout",
     "output_type": "stream",
     "text": [
      "Magnitud de corriente a 220V para los motores de la planta 1: 741.2362705890761 A\n"
     ]
    }
   ],
   "source": [
    "Corriente_Planta_1_220V = np.sqrt((df2[df2['Planta'] == 'Planta 1']['Real Corriente 220V'].sum())**2 + (df2[df2['Planta'] == 'Planta 1']['Imaginaria Corriente 220V'].sum())**2)\n",
    "print(f'Magnitud de corriente a 220V para los motores de la planta 1: {Corriente_Planta_1_220V} A')"
   ]
  },
  {
   "cell_type": "markdown",
   "metadata": {},
   "source": [
    "Magnitud de corriente a 220V para determinar el total de la corriente que se usará para dimensionar el grosor del cable sobre la Planta 2"
   ]
  },
  {
   "cell_type": "code",
   "execution_count": 6,
   "metadata": {},
   "outputs": [
    {
     "name": "stdout",
     "output_type": "stream",
     "text": [
      "Magnitud de corriente a 220V para los motores de la planta 2: 1057.1743551531426 A\n"
     ]
    }
   ],
   "source": [
    "Corriente_Planta_2_220V = np.sqrt((df2[df2['Planta'] == 'Planta 2']['Real Corriente 220V'].sum())**2 + (df2[df2['Planta'] == 'Planta 2']['Imaginaria Corriente 220V'].sum())**2)\n",
    "print(f'Magnitud de corriente a 220V para los motores de la planta 2: {Corriente_Planta_2_220V} A')"
   ]
  },
  {
   "cell_type": "markdown",
   "metadata": {},
   "source": [
    "Magnitud de corriente a 220V para determinar el total de la corriente que se usará para dimensionar el grosor del cable sobre la Planta 3"
   ]
  },
  {
   "cell_type": "code",
   "execution_count": 7,
   "metadata": {},
   "outputs": [
    {
     "name": "stdout",
     "output_type": "stream",
     "text": [
      "Magnitud de corriente a 220V para los motores de la planta 3: 1184.1896564845972 A\n"
     ]
    }
   ],
   "source": [
    "Corriente_Planta_3_220V = np.sqrt((df2[df2['Planta'] == 'Planta 3']['Real Corriente 220V'].sum())**2 + (df2[df2['Planta'] == 'Planta 3']['Imaginaria Corriente 220V'].sum())**2)\n",
    "print(f'Magnitud de corriente a 220V para los motores de la planta 3: {Corriente_Planta_3_220V} A')"
   ]
  },
  {
   "cell_type": "markdown",
   "metadata": {},
   "source": [
    "Magnitud de corriente a 220V para determinar el total de la corriente que se usará para dimensionar el grosor del cable sobre la Planta 4"
   ]
  },
  {
   "cell_type": "code",
   "execution_count": 8,
   "metadata": {},
   "outputs": [
    {
     "name": "stdout",
     "output_type": "stream",
     "text": [
      "Magnitud de corriente a 220V para los motores de la planta 4: 774.7569545132952 A\n"
     ]
    }
   ],
   "source": [
    "Corriente_Planta_4_220V = np.sqrt((df2[df2['Planta'] == 'Planta 4']['Real Corriente 220V'].sum())**2 + (df2[df2['Planta'] == 'Planta 4']['Imaginaria Corriente 220V'].sum())**2)\n",
    "print(f'Magnitud de corriente a 220V para los motores de la planta 4: {Corriente_Planta_4_220V} A')"
   ]
  },
  {
   "cell_type": "markdown",
   "metadata": {},
   "source": [
    "Magnitud de corriente a 220V para determinar el total de la corriente que se usará para dimensionar el grosor del cable sobre la Planta 5"
   ]
  },
  {
   "cell_type": "code",
   "execution_count": 9,
   "metadata": {},
   "outputs": [
    {
     "name": "stdout",
     "output_type": "stream",
     "text": [
      "Magnitud de corriente a 220V para los motores de la planta 5: 1397.3174229028093 A\n"
     ]
    }
   ],
   "source": [
    "Corriente_Planta_5_220V = np.sqrt((df2[df2['Planta'] == 'Planta 5']['Real Corriente 220V'].sum())**2 + (df2[df2['Planta'] == 'Planta 5']['Imaginaria Corriente 220V'].sum())**2)\n",
    "print(f'Magnitud de corriente a 220V para los motores de la planta 5: {Corriente_Planta_5_220V} A')"
   ]
  },
  {
   "cell_type": "markdown",
   "metadata": {},
   "source": [
    "# PARA 380V"
   ]
  },
  {
   "cell_type": "markdown",
   "metadata": {},
   "source": [
    "Magnitud de corriente a 380V para determinar el total de la corriente que se usará para dimensionar el grosor del cable sobre la Planta 1"
   ]
  },
  {
   "cell_type": "code",
   "execution_count": 10,
   "metadata": {},
   "outputs": [
    {
     "name": "stdout",
     "output_type": "stream",
     "text": [
      "Magnitud de corriente a 380V para los motores de la planta 1: 429.1367882357809 A\n"
     ]
    }
   ],
   "source": [
    "Corriente_Planta_1_380V = np.sqrt((df2[df2['Planta'] == 'Planta 1']['Real Corriente 380V'].sum())**2 + (df2[df2['Planta'] == 'Planta 1']['Imaginaria Corriente 380V'].sum())**2)\n",
    "print(f'Magnitud de corriente a 380V para los motores de la planta 1: {Corriente_Planta_1_380V} A')"
   ]
  },
  {
   "cell_type": "markdown",
   "metadata": {},
   "source": [
    "Magnitud de corriente a 380V para determinar el total de la corriente que se usará para dimensionar el grosor del cable sobre la Planta 2"
   ]
  },
  {
   "cell_type": "code",
   "execution_count": 11,
   "metadata": {},
   "outputs": [
    {
     "name": "stdout",
     "output_type": "stream",
     "text": [
      "Magnitud de corriente a 380V para los motores de la planta 2: 612.0483108781352 A\n"
     ]
    }
   ],
   "source": [
    "Corriente_Planta_2_380V = np.sqrt((df2[df2['Planta'] == 'Planta 2']['Real Corriente 380V'].sum())**2 + (df2[df2['Planta'] == 'Planta 2']['Imaginaria Corriente 380V'].sum())**2)\n",
    "print(f'Magnitud de corriente a 380V para los motores de la planta 2: {Corriente_Planta_2_380V} A')"
   ]
  },
  {
   "cell_type": "markdown",
   "metadata": {},
   "source": [
    "Magnitud de corriente a 380V para determinar el total de la corriente que se usará para dimensionar el grosor del cable sobre la Planta 3"
   ]
  },
  {
   "cell_type": "code",
   "execution_count": 12,
   "metadata": {},
   "outputs": [
    {
     "name": "stdout",
     "output_type": "stream",
     "text": [
      "Magnitud de corriente a 380V para los motores de la planta 3: 685.5834853331879 A\n"
     ]
    }
   ],
   "source": [
    "Corriente_Planta_3_380V = np.sqrt((df2[df2['Planta'] == 'Planta 3']['Real Corriente 380V'].sum())**2 + (df2[df2['Planta'] == 'Planta 3']['Imaginaria Corriente 380V'].sum())**2)\n",
    "print(f'Magnitud de corriente a 380V para los motores de la planta 3: {Corriente_Planta_3_380V} A')"
   ]
  },
  {
   "cell_type": "markdown",
   "metadata": {},
   "source": [
    "Magnitud de corriente a 380V para determinar el total de la corriente que se usará para dimensionar el grosor del cable sobre la Planta 4"
   ]
  },
  {
   "cell_type": "code",
   "execution_count": 13,
   "metadata": {},
   "outputs": [
    {
     "name": "stdout",
     "output_type": "stream",
     "text": [
      "Magnitud de corriente a 380V para los motores de la planta 4: 448.54349998138144 A\n"
     ]
    }
   ],
   "source": [
    "Corriente_Planta_4_380V = np.sqrt((df2[df2['Planta'] == 'Planta 4']['Real Corriente 380V'].sum())**2 + (df2[df2['Planta'] == 'Planta 4']['Imaginaria Corriente 380V'].sum())**2)\n",
    "print(f'Magnitud de corriente a 380V para los motores de la planta 4: {Corriente_Planta_4_380V} A')"
   ]
  },
  {
   "cell_type": "markdown",
   "metadata": {},
   "source": [
    "Magnitud de corriente a 380V para determinar el total de la corriente que se usará para dimensionar el grosor del cable sobre la Planta 5"
   ]
  },
  {
   "cell_type": "code",
   "execution_count": 14,
   "metadata": {},
   "outputs": [
    {
     "name": "stdout",
     "output_type": "stream",
     "text": [
      "Magnitud de corriente a 380V para los motores de la planta 5: 808.9732448384685 A\n"
     ]
    }
   ],
   "source": [
    "Corriente_Planta_5_380V = np.sqrt((df2[df2['Planta'] == 'Planta 5']['Real Corriente 380V'].sum())**2 + (df2[df2['Planta'] == 'Planta 5']['Imaginaria Corriente 380V'].sum())**2)\n",
    "print(f'Magnitud de corriente a 380V para los motores de la planta 5: {Corriente_Planta_5_380V} A')"
   ]
  },
  {
   "cell_type": "markdown",
   "metadata": {},
   "source": [
    "## CAMBIO DE MOTORES ##"
   ]
  },
  {
   "cell_type": "code",
   "execution_count": 15,
   "metadata": {},
   "outputs": [],
   "source": [
    "df_catalogo = pd.read_csv(\"catalogo_motores_completo.csv\")\n",
    "def cambio(fc,potencia_hp,velocidad_sincronica,potencia_actual):\n",
    "    #factor de carga, potencia_hp, potencia_actual\n",
    "    costoXaño = (potencia_actual / 1000) * TOTALHORAS * 1009.04\n",
    "    df_filtro                           = df_catalogo[(df_catalogo[\"Potencia HP\"] == potencia_hp) & (df_catalogo[\"rpm\"] == velocidad_sincronica)].copy()\n",
    "    df_filtro['Potencia Entrada (W)']   = (df_filtro ['Potencia HP'] * 746 * (fc)) / (df_filtro ['Eficiencia %']/100)\n",
    "    df_filtro[\"kw/año\"]                 = (df_filtro[\"Potencia Entrada (W)\"]/1000) * TOTALHORAS\n",
    "    df_filtro[\"costo/año\"]              = df_filtro[\"kw/año\"] * 1009.04\n",
    "    df_filtro[\"costo_anterior\"]         = costoXaño\n",
    "    df_filtro[\"ahorroXmes\"]             = (df_filtro[\"costo_anterior\"] - df_filtro[\"costo/año\"]) / 12\n",
    "    df_filtro[\"tiempo_retribucion\"]     = df_filtro[\"costo_Pesos\"] / df_filtro[\"ahorroXmes\"]\n",
    "    return df_filtro"
   ]
  },
  {
   "cell_type": "code",
   "execution_count": 17,
   "metadata": {},
   "outputs": [
    {
     "ename": "NameError",
     "evalue": "name 'TOTALHORAS' is not defined",
     "output_type": "error",
     "traceback": [
      "\u001b[0;31m---------------------------------------------------------------------------\u001b[0m",
      "\u001b[0;31mNameError\u001b[0m                                 Traceback (most recent call last)",
      "Cell \u001b[0;32mIn[17], line 2\u001b[0m\n\u001b[1;32m      1\u001b[0m \u001b[38;5;66;03m#factor de carga, potencia_hp, potencia_actual\u001b[39;00m\n\u001b[0;32m----> 2\u001b[0m df_cambio \u001b[38;5;241m=\u001b[39m \u001b[43mcambio\u001b[49m\u001b[43m(\u001b[49m\u001b[38;5;241;43m0.8\u001b[39;49m\u001b[43m,\u001b[49m\u001b[38;5;241;43m50\u001b[39;49m\u001b[43m,\u001b[49m\u001b[38;5;241;43m3600\u001b[39;49m\u001b[43m,\u001b[49m\u001b[38;5;241;43m35105.882352941175\u001b[39;49m\u001b[43m)\u001b[49m\n\u001b[1;32m      3\u001b[0m df_cambio\n",
      "Cell \u001b[0;32mIn[15], line 4\u001b[0m, in \u001b[0;36mcambio\u001b[0;34m(fc, potencia_hp, velocidad_sincronica, potencia_actual)\u001b[0m\n\u001b[1;32m      2\u001b[0m \u001b[38;5;28;01mdef\u001b[39;00m \u001b[38;5;21mcambio\u001b[39m(fc,potencia_hp,velocidad_sincronica,potencia_actual):\n\u001b[1;32m      3\u001b[0m     \u001b[38;5;66;03m#factor de carga, potencia_hp, potencia_actual\u001b[39;00m\n\u001b[0;32m----> 4\u001b[0m     costoXaño \u001b[38;5;241m=\u001b[39m (potencia_actual \u001b[38;5;241m/\u001b[39m \u001b[38;5;241m1000\u001b[39m) \u001b[38;5;241m*\u001b[39m \u001b[43mTOTALHORAS\u001b[49m \u001b[38;5;241m*\u001b[39m \u001b[38;5;241m1009.04\u001b[39m\n\u001b[1;32m      5\u001b[0m     df_filtro                           \u001b[38;5;241m=\u001b[39m df_catalogo[(df_catalogo[\u001b[38;5;124m\"\u001b[39m\u001b[38;5;124mPotencia HP\u001b[39m\u001b[38;5;124m\"\u001b[39m] \u001b[38;5;241m==\u001b[39m potencia_hp) \u001b[38;5;241m&\u001b[39m (df_catalogo[\u001b[38;5;124m\"\u001b[39m\u001b[38;5;124mrpm\u001b[39m\u001b[38;5;124m\"\u001b[39m] \u001b[38;5;241m==\u001b[39m velocidad_sincronica)]\u001b[38;5;241m.\u001b[39mcopy()\n\u001b[1;32m      6\u001b[0m     df_filtro[\u001b[38;5;124m'\u001b[39m\u001b[38;5;124mPotencia Entrada (W)\u001b[39m\u001b[38;5;124m'\u001b[39m]   \u001b[38;5;241m=\u001b[39m (df_filtro [\u001b[38;5;124m'\u001b[39m\u001b[38;5;124mPotencia HP\u001b[39m\u001b[38;5;124m'\u001b[39m] \u001b[38;5;241m*\u001b[39m \u001b[38;5;241m746\u001b[39m \u001b[38;5;241m*\u001b[39m (fc)) \u001b[38;5;241m/\u001b[39m (df_filtro [\u001b[38;5;124m'\u001b[39m\u001b[38;5;124mEficiencia \u001b[39m\u001b[38;5;124m%\u001b[39m\u001b[38;5;124m'\u001b[39m]\u001b[38;5;241m/\u001b[39m\u001b[38;5;241m100\u001b[39m)\n",
      "\u001b[0;31mNameError\u001b[0m: name 'TOTALHORAS' is not defined"
     ]
    }
   ],
   "source": [
    "#factor de carga, potencia_hp, potencia_actual\n",
    "df_cambio = cambio(0.8,50,3600,35105.882352941175)\n",
    "df_cambio"
   ]
  },
  {
   "cell_type": "code",
   "execution_count": null,
   "metadata": {},
   "outputs": [
    {
     "data": {
      "text/html": [
       "<div>\n",
       "<style scoped>\n",
       "    .dataframe tbody tr th:only-of-type {\n",
       "        vertical-align: middle;\n",
       "    }\n",
       "\n",
       "    .dataframe tbody tr th {\n",
       "        vertical-align: top;\n",
       "    }\n",
       "\n",
       "    .dataframe thead th {\n",
       "        text-align: right;\n",
       "    }\n",
       "</style>\n",
       "<table border=\"1\" class=\"dataframe\">\n",
       "  <thead>\n",
       "    <tr style=\"text-align: right;\">\n",
       "      <th></th>\n",
       "      <th>Planta</th>\n",
       "      <th>Distancia</th>\n",
       "      <th>Motor</th>\n",
       "      <th>Potencia (HP)</th>\n",
       "      <th>Eficiencia (%)</th>\n",
       "      <th>Factor de carga maximo</th>\n",
       "      <th>Factor de potencia</th>\n",
       "      <th>Potencia Entrada (W)</th>\n",
       "      <th>Corriente a 220V (A)</th>\n",
       "      <th>Corriente a 380V (A)</th>\n",
       "      <th>Corriente a 220V (A) +25%</th>\n",
       "      <th>Corriente a 380V (A) +25%</th>\n",
       "      <th>Velocidad síncrona (RPM)</th>\n",
       "      <th>Velocidad real (RPM)</th>\n",
       "      <th>Deslizamiento (RPM)</th>\n",
       "      <th>Deslizamiento (%)</th>\n",
       "      <th>Torque (N.m)</th>\n",
       "      <th>theta (°)</th>\n",
       "      <th>Real Corriente 220V</th>\n",
       "      <th>Imaginaria Corriente 220V</th>\n",
       "      <th>Real Corriente 380V</th>\n",
       "      <th>Imaginaria Corriente 380V</th>\n",
       "      <th>kw/año</th>\n",
       "      <th>costo/año</th>\n",
       "      <th>cambio FC</th>\n",
       "      <th>cambio Eficiencia</th>\n",
       "      <th>cambio</th>\n",
       "    </tr>\n",
       "  </thead>\n",
       "  <tbody>\n",
       "    <tr>\n",
       "      <th>0</th>\n",
       "      <td>Planta 1</td>\n",
       "      <td>200</td>\n",
       "      <td>1</td>\n",
       "      <td>30</td>\n",
       "      <td>0.70</td>\n",
       "      <td>0.8</td>\n",
       "      <td>0.74</td>\n",
       "      <td>25577.142857</td>\n",
       "      <td>90.706206</td>\n",
       "      <td>52.514119</td>\n",
       "      <td>113.382757</td>\n",
       "      <td>65.642649</td>\n",
       "      <td>3600</td>\n",
       "      <td>3540</td>\n",
       "      <td>60</td>\n",
       "      <td>1.666667</td>\n",
       "      <td>48.296781</td>\n",
       "      <td>0.737726</td>\n",
       "      <td>83.903240</td>\n",
       "      <td>76.262021</td>\n",
       "      <td>48.575560</td>\n",
       "      <td>44.151697</td>\n",
       "      <td>171264.548571</td>\n",
       "      <td>1.728128e+08</td>\n",
       "      <td>No</td>\n",
       "      <td>Si</td>\n",
       "      <td>Si</td>\n",
       "    </tr>\n",
       "    <tr>\n",
       "      <th>1</th>\n",
       "      <td>Planta 2</td>\n",
       "      <td>300</td>\n",
       "      <td>1</td>\n",
       "      <td>40</td>\n",
       "      <td>0.79</td>\n",
       "      <td>0.8</td>\n",
       "      <td>0.82</td>\n",
       "      <td>30217.721519</td>\n",
       "      <td>96.708479</td>\n",
       "      <td>55.989120</td>\n",
       "      <td>120.885599</td>\n",
       "      <td>69.986399</td>\n",
       "      <td>3600</td>\n",
       "      <td>3565</td>\n",
       "      <td>35</td>\n",
       "      <td>0.972222</td>\n",
       "      <td>63.944126</td>\n",
       "      <td>0.609385</td>\n",
       "      <td>99.126191</td>\n",
       "      <td>69.190507</td>\n",
       "      <td>57.388848</td>\n",
       "      <td>40.057662</td>\n",
       "      <td>202337.863291</td>\n",
       "      <td>2.041670e+08</td>\n",
       "      <td>No</td>\n",
       "      <td>Si</td>\n",
       "      <td>Si</td>\n",
       "    </tr>\n",
       "    <tr>\n",
       "      <th>2</th>\n",
       "      <td>Planta 3</td>\n",
       "      <td>350</td>\n",
       "      <td>1</td>\n",
       "      <td>60</td>\n",
       "      <td>0.85</td>\n",
       "      <td>0.6</td>\n",
       "      <td>0.78</td>\n",
       "      <td>31595.294118</td>\n",
       "      <td>106.302748</td>\n",
       "      <td>61.543696</td>\n",
       "      <td>132.878435</td>\n",
       "      <td>76.929620</td>\n",
       "      <td>3600</td>\n",
       "      <td>3570</td>\n",
       "      <td>30</td>\n",
       "      <td>0.833333</td>\n",
       "      <td>71.836389</td>\n",
       "      <td>0.676131</td>\n",
       "      <td>103.645179</td>\n",
       "      <td>83.152602</td>\n",
       "      <td>60.005104</td>\n",
       "      <td>48.140980</td>\n",
       "      <td>211562.089412</td>\n",
       "      <td>2.134746e+08</td>\n",
       "      <td>Si</td>\n",
       "      <td>No</td>\n",
       "      <td>Si</td>\n",
       "    </tr>\n",
       "    <tr>\n",
       "      <th>3</th>\n",
       "      <td>Planta 4</td>\n",
       "      <td>300</td>\n",
       "      <td>1</td>\n",
       "      <td>30</td>\n",
       "      <td>0.82</td>\n",
       "      <td>0.6</td>\n",
       "      <td>0.78</td>\n",
       "      <td>16375.609756</td>\n",
       "      <td>55.095936</td>\n",
       "      <td>31.897647</td>\n",
       "      <td>68.869921</td>\n",
       "      <td>39.872059</td>\n",
       "      <td>3600</td>\n",
       "      <td>3540</td>\n",
       "      <td>60</td>\n",
       "      <td>1.666667</td>\n",
       "      <td>36.222586</td>\n",
       "      <td>0.676131</td>\n",
       "      <td>53.718538</td>\n",
       "      <td>43.097385</td>\n",
       "      <td>31.100206</td>\n",
       "      <td>24.951118</td>\n",
       "      <td>109651.082927</td>\n",
       "      <td>1.106423e+08</td>\n",
       "      <td>Si</td>\n",
       "      <td>Si</td>\n",
       "      <td>Si</td>\n",
       "    </tr>\n",
       "    <tr>\n",
       "      <th>4</th>\n",
       "      <td>Planta 5</td>\n",
       "      <td>500</td>\n",
       "      <td>1</td>\n",
       "      <td>100</td>\n",
       "      <td>0.91</td>\n",
       "      <td>0.6</td>\n",
       "      <td>0.81</td>\n",
       "      <td>49186.813187</td>\n",
       "      <td>159.360381</td>\n",
       "      <td>92.261273</td>\n",
       "      <td>199.200476</td>\n",
       "      <td>115.326591</td>\n",
       "      <td>3600</td>\n",
       "      <td>3570</td>\n",
       "      <td>30</td>\n",
       "      <td>0.833333</td>\n",
       "      <td>119.727315</td>\n",
       "      <td>0.626644</td>\n",
       "      <td>161.352385</td>\n",
       "      <td>116.817110</td>\n",
       "      <td>93.414539</td>\n",
       "      <td>67.630959</td>\n",
       "      <td>329354.901099</td>\n",
       "      <td>3.323323e+08</td>\n",
       "      <td>Si</td>\n",
       "      <td>No</td>\n",
       "      <td>Si</td>\n",
       "    </tr>\n",
       "  </tbody>\n",
       "</table>\n",
       "</div>"
      ],
      "text/plain": [
       "     Planta  Distancia  Motor  Potencia (HP)  Eficiencia (%)  \\\n",
       "0  Planta 1        200      1             30            0.70   \n",
       "1  Planta 2        300      1             40            0.79   \n",
       "2  Planta 3        350      1             60            0.85   \n",
       "3  Planta 4        300      1             30            0.82   \n",
       "4  Planta 5        500      1            100            0.91   \n",
       "\n",
       "   Factor de carga maximo  Factor de potencia  Potencia Entrada (W)  \\\n",
       "0                     0.8                0.74          25577.142857   \n",
       "1                     0.8                0.82          30217.721519   \n",
       "2                     0.6                0.78          31595.294118   \n",
       "3                     0.6                0.78          16375.609756   \n",
       "4                     0.6                0.81          49186.813187   \n",
       "\n",
       "   Corriente a 220V (A)  Corriente a 380V (A)  Corriente a 220V (A) +25%  \\\n",
       "0             90.706206             52.514119                 113.382757   \n",
       "1             96.708479             55.989120                 120.885599   \n",
       "2            106.302748             61.543696                 132.878435   \n",
       "3             55.095936             31.897647                  68.869921   \n",
       "4            159.360381             92.261273                 199.200476   \n",
       "\n",
       "   Corriente a 380V (A) +25%  Velocidad síncrona (RPM)  Velocidad real (RPM)  \\\n",
       "0                  65.642649                      3600                  3540   \n",
       "1                  69.986399                      3600                  3565   \n",
       "2                  76.929620                      3600                  3570   \n",
       "3                  39.872059                      3600                  3540   \n",
       "4                 115.326591                      3600                  3570   \n",
       "\n",
       "   Deslizamiento (RPM)  Deslizamiento (%)  Torque (N.m)  theta (°)  \\\n",
       "0                   60           1.666667     48.296781   0.737726   \n",
       "1                   35           0.972222     63.944126   0.609385   \n",
       "2                   30           0.833333     71.836389   0.676131   \n",
       "3                   60           1.666667     36.222586   0.676131   \n",
       "4                   30           0.833333    119.727315   0.626644   \n",
       "\n",
       "   Real Corriente 220V  Imaginaria Corriente 220V  Real Corriente 380V  \\\n",
       "0            83.903240                  76.262021            48.575560   \n",
       "1            99.126191                  69.190507            57.388848   \n",
       "2           103.645179                  83.152602            60.005104   \n",
       "3            53.718538                  43.097385            31.100206   \n",
       "4           161.352385                 116.817110            93.414539   \n",
       "\n",
       "   Imaginaria Corriente 380V         kw/año     costo/año cambio FC  \\\n",
       "0                  44.151697  171264.548571  1.728128e+08        No   \n",
       "1                  40.057662  202337.863291  2.041670e+08        No   \n",
       "2                  48.140980  211562.089412  2.134746e+08        Si   \n",
       "3                  24.951118  109651.082927  1.106423e+08        Si   \n",
       "4                  67.630959  329354.901099  3.323323e+08        Si   \n",
       "\n",
       "  cambio Eficiencia cambio  \n",
       "0                Si     Si  \n",
       "1                Si     Si  \n",
       "2                No     Si  \n",
       "3                Si     Si  \n",
       "4                No     Si  "
      ]
     },
     "execution_count": 18,
     "metadata": {},
     "output_type": "execute_result"
    }
   ],
   "source": [
    "df2.head()"
   ]
  }
 ],
 "metadata": {
  "kernelspec": {
   "display_name": "Python 3",
   "language": "python",
   "name": "python3"
  },
  "language_info": {
   "codemirror_mode": {
    "name": "ipython",
    "version": 3
   },
   "file_extension": ".py",
   "mimetype": "text/x-python",
   "name": "python",
   "nbconvert_exporter": "python",
   "pygments_lexer": "ipython3",
   "version": "3.11.8"
  }
 },
 "nbformat": 4,
 "nbformat_minor": 2
}
