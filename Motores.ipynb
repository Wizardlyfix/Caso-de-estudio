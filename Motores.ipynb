{
  "cells": [
    {
      "cell_type": "code",
      "execution_count": 8,
      "metadata": {
        "id": "zkmw0sdHGWHS"
      },
      "outputs": [],
      "source": [
        "import pandas as pd\n",
        "import numpy as np\n",
        "df1 = pd.read_csv('data_motores.csv')\n",
        "pd.set_option('display.max_columns', None)"
      ]
    },
    {
      "cell_type": "code",
      "execution_count": 9,
      "metadata": {
        "colab": {
          "base_uri": "https://localhost:8080/"
        },
        "id": "eYwPsMrjgJDp",
        "outputId": "9e41fb70-50aa-4b87-c30d-c214dc1f4193"
      },
      "outputs": [
        {
          "data": {
            "text/plain": [
              "800.1800000000001"
            ]
          },
          "execution_count": 9,
          "metadata": {},
          "output_type": "execute_result"
        }
      ],
      "source": [
        "TARIFA_T1 = (914.75 + 918.01)/2\n",
        "TARIFA_T1\n",
        "\n",
        "TARIFA_T2 = (798.52 + 801.84)/2\n",
        "TARIFA_T2"
      ]
    },
    {
      "cell_type": "code",
      "execution_count": 10,
      "metadata": {
        "id": "t-aJS_85gJf-"
      },
      "outputs": [],
      "source": [
        "#calculo de 11 meses, donde se trabaja continuamente 16 horas al dia de lunes a sabado\n",
        "diasXmes        = 24\n",
        "horasXdia       = 16\n",
        "horasXmes       = diasXmes * horasXdia\n",
        "meses           = 11\n",
        "horasX11meses   = horasXmes * meses\n",
        "\n",
        "#calculo para el mes de diciembre\n",
        "diasDiciembre   = 15\n",
        "horasDiciembre  = diasDiciembre * horasXdia\n",
        "\n",
        "#total horas por año\n",
        "TOTALHORAS     = horasX11meses + horasDiciembre"
      ]
    },
    {
      "cell_type": "code",
      "execution_count": 11,
      "metadata": {
        "id": "IVlCQOLJGbhV"
      },
      "outputs": [],
      "source": [
        "df1[\"Eficiencia (%)\"]               = df1[\"Eficiencia (%)\"]/100\n",
        "df1[\"Factor de carga maximo\"]       = df1[\"Factor de carga maximo\"]/100\n",
        "df1['Potencia Entrada (W)']         = (df1['Potencia (HP)'] * 746 * (df1['Factor de carga maximo'])) / (df1['Eficiencia (%)'])\n",
        "df1['Potencia Salida (W)']  = (df1['Potencia (HP)'] * 746 * (df1['Factor de carga maximo']))\n",
        "df1['Pérdidas Motor (W)']           = df1['Potencia Entrada (W)'] - df1['Potencia Salida (W)']\n",
        "df1['Corriente a 220V (A)']         = df1['Potencia Entrada (W)'] / (np.sqrt(3) * 220 * df1['Factor de potencia'])\n",
        "df1['Corriente a 380V (A)']         = df1['Potencia Entrada (W)'] / (np.sqrt(3) * 380 * df1['Factor de potencia'])\n",
        "df1['Corriente a 220V (A) +25%']    = df1['Corriente a 220V (A)']*1.25\n",
        "df1['Corriente a 380V (A) +25%']    = df1['Corriente a 380V (A)']*1.25\n",
        "df1['Velocidad síncrona (RPM)']     = 3600"
      ]
    },
    {
      "cell_type": "code",
      "execution_count": 12,
      "metadata": {
        "id": "mtQ_YB-KGjpm"
      },
      "outputs": [],
      "source": [
        "catalogo                            = pd.read_csv('catalogo_motores.csv')\n",
        "catalogo['Potencia HP']             = catalogo['Potencia HP'].astype(int)\n",
        "df2                                 = pd.merge(df1, catalogo[['Potencia HP', 'Velocidad rpm']], left_on='Potencia (HP)', right_on='Potencia HP', how='left')\n",
        "df2.drop(columns=['Potencia HP'], inplace=True)\n",
        "df2                                 = df2.rename(columns={'Velocidad rpm': 'Velocidad real (RPM)'})\n",
        "df2['Deslizamiento (RPM)']          = df2['Velocidad síncrona (RPM)'] - df2['Velocidad real (RPM)']\n",
        "df2['Deslizamiento (%)']            = ((df2['Velocidad síncrona (RPM)'] - df2['Velocidad real (RPM)']) / df2['Velocidad síncrona (RPM)'])*100\n",
        "df2['Torque (N.m)']                 = (df2['Potencia (HP)'] * 746 * (df1['Factor de carga maximo'])) / ((df2['Velocidad real (RPM)'] * 2 * np.pi)/60)\n",
        "df2['theta (°)']                    = np.degrees(np.arccos(df2['Factor de potencia']))\n",
        "df2['Real Corriente 220V Normal']          = df2['Corriente a 220V (A)'] * np.cos(np.radians(df2['theta (°)']))\n",
        "df2['Imaginaria Corriente 220V Normal']    = df2['Corriente a 220V (A)'] * np.sin(np.radians(df2['theta (°)']))\n",
        "df2['Real Corriente 380V Normal']          = df2['Corriente a 380V (A)'] * np.cos(np.radians(df2['theta (°)']))\n",
        "df2['Imaginaria Corriente 380V Normal']    = df2['Corriente a 380V (A)'] * np.sin(np.radians(df2['theta (°)']))\n",
        "df2['Real Corriente 220V +25%']          = df2['Corriente a 220V (A) +25%'] * np.cos(np.radians(df2['theta (°)']))\n",
        "df2['Imaginaria Corriente 220V +25%']    = df2['Corriente a 220V (A) +25%'] * np.sin(np.radians(df2['theta (°)']))\n",
        "df2['Real Corriente 380V +25%']          = df2['Corriente a 380V (A) +25%'] * np.cos(np.radians(df2['theta (°)']))\n",
        "df2['Imaginaria Corriente 380V +25%']    = df2['Corriente a 380V (A) +25%'] * np.sin(np.radians(df2['theta (°)']))\n",
        "df2[\"kw/año\"]                       = (df2[\"Potencia Entrada (W)\"]/1000) * TOTALHORAS\n",
        "df2[\"costo/año\"]                    = df2[\"kw/año\"] * TARIFA_T1\n",
        "\n",
        "df2[\"cambio FC\"]                    = np.where(df2[\"Factor de carga maximo\"] < 0.8, \"Si\", \"No\")\n",
        "df2[\"cambio Eficiencia\"]            = np.where(df2[\"Eficiencia (%)\"] < 0.9, \"Si\", \"No\")"
      ]
    },
    {
      "cell_type": "code",
      "execution_count": 13,
      "metadata": {
        "id": "OfJCugcRGmOG"
      },
      "outputs": [],
      "source": [
        "df2.to_csv('data_motores_procesada.csv', index=False)"
      ]
    },
    {
      "cell_type": "code",
      "execution_count": 14,
      "metadata": {
        "id": "IW_bWox3Nm0j"
      },
      "outputs": [],
      "source": [
        "Corriente_Planta_1_220V_Normal = np.sqrt((df2[df2['Planta'] == 'Planta 1']['Real Corriente 220V Normal'].sum())**2 + (df2[df2['Planta'] == 'Planta 1']['Imaginaria Corriente 220V Normal'].sum())**2)\n",
        "Corriente_Planta_2_220V_Normal = np.sqrt((df2[df2['Planta'] == 'Planta 2']['Real Corriente 220V Normal'].sum())**2 + (df2[df2['Planta'] == 'Planta 2']['Imaginaria Corriente 220V Normal'].sum())**2)\n",
        "Corriente_Planta_3_220V_Normal = np.sqrt((df2[df2['Planta'] == 'Planta 3']['Real Corriente 220V Normal'].sum())**2 + (df2[df2['Planta'] == 'Planta 3']['Imaginaria Corriente 220V Normal'].sum())**2)\n",
        "Corriente_Planta_4_220V_Normal = np.sqrt((df2[df2['Planta'] == 'Planta 4']['Real Corriente 220V Normal'].sum())**2 + (df2[df2['Planta'] == 'Planta 4']['Imaginaria Corriente 220V Normal'].sum())**2)\n",
        "Corriente_Planta_5_220V_Normal = np.sqrt((df2[df2['Planta'] == 'Planta 5']['Real Corriente 220V Normal'].sum())**2 + (df2[df2['Planta'] == 'Planta 5']['Imaginaria Corriente 220V Normal'].sum())**2)\n",
        "\n",
        "Corriente_Planta_1_380V_Normal = np.sqrt((df2[df2['Planta'] == 'Planta 1']['Real Corriente 380V Normal'].sum())**2 + (df2[df2['Planta'] == 'Planta 1']['Imaginaria Corriente 380V Normal'].sum())**2)\n",
        "Corriente_Planta_2_380V_Normal = np.sqrt((df2[df2['Planta'] == 'Planta 2']['Real Corriente 380V Normal'].sum())**2 + (df2[df2['Planta'] == 'Planta 2']['Imaginaria Corriente 380V Normal'].sum())**2)\n",
        "Corriente_Planta_3_380V_Normal = np.sqrt((df2[df2['Planta'] == 'Planta 3']['Real Corriente 380V Normal'].sum())**2 + (df2[df2['Planta'] == 'Planta 3']['Imaginaria Corriente 380V Normal'].sum())**2)\n",
        "Corriente_Planta_4_380V_Normal = np.sqrt((df2[df2['Planta'] == 'Planta 4']['Real Corriente 380V Normal'].sum())**2 + (df2[df2['Planta'] == 'Planta 4']['Imaginaria Corriente 380V Normal'].sum())**2)\n",
        "Corriente_Planta_5_380V_Normal = np.sqrt((df2[df2['Planta'] == 'Planta 5']['Real Corriente 380V Normal'].sum())**2 + (df2[df2['Planta'] == 'Planta 5']['Imaginaria Corriente 380V Normal'].sum())**2)\n",
        "\n",
        "Potencia_Planta_1_220 = 220*Corriente_Planta_1_220V_Normal\n",
        "Potencia_Planta_2_220 = 220*Corriente_Planta_2_220V_Normal\n",
        "Potencia_Planta_3_220 = 220*Corriente_Planta_3_220V_Normal\n",
        "Potencia_Planta_4_220 = 220*Corriente_Planta_4_220V_Normal\n",
        "Potencia_Planta_5_220 = 220*Corriente_Planta_5_220V_Normal\n",
        "\n",
        "Potencia_Planta_1_380 = 380*Corriente_Planta_1_380V_Normal\n",
        "Potencia_Planta_2_380 = 380*Corriente_Planta_2_380V_Normal\n",
        "Potencia_Planta_3_380 = 380*Corriente_Planta_3_380V_Normal\n",
        "Potencia_Planta_4_380 = 380*Corriente_Planta_4_380V_Normal\n",
        "Potencia_Planta_5_380 = 380*Corriente_Planta_5_380V_Normal"
      ]
    },
    {
      "cell_type": "markdown",
      "metadata": {
        "id": "82p_yybpGuJt"
      },
      "source": [
        "# PARA 220V"
      ]
    },
    {
      "cell_type": "markdown",
      "metadata": {
        "id": "D6OyubzMGq6c"
      },
      "source": [
        "Magnitud de corriente a 220V para determinar el total de la corriente que se usará para dimensionar el grosor del cable sobre la Planta 1"
      ]
    },
    {
      "cell_type": "code",
      "execution_count": 15,
      "metadata": {
        "colab": {
          "base_uri": "https://localhost:8080/"
        },
        "id": "pGxPmbYuGrXf",
        "outputId": "cecaa736-20ea-41c0-e443-6c5117e5bbfc"
      },
      "outputs": [
        {
          "name": "stdout",
          "output_type": "stream",
          "text": [
            "Magnitud de corriente a 220V para los motores de la planta 1: 740.8613845652662 A\n"
          ]
        }
      ],
      "source": [
        "Corriente_Planta_1_220V = np.sqrt((df2[df2['Planta'] == 'Planta 1']['Real Corriente 220V +25%'].sum())**2 + (df2[df2['Planta'] == 'Planta 1']['Imaginaria Corriente 220V +25%'].sum())**2)\n",
        "print(f'Magnitud de corriente a 220V para los motores de la planta 1: {Corriente_Planta_1_220V} A')"
      ]
    },
    {
      "cell_type": "markdown",
      "metadata": {
        "id": "Nrq_t7VDG44S"
      },
      "source": [
        "Magnitud de corriente a 220V para determinar el total de la corriente que se usará para dimensionar el grosor del cable sobre la Planta 2"
      ]
    },
    {
      "cell_type": "code",
      "execution_count": 16,
      "metadata": {
        "colab": {
          "base_uri": "https://localhost:8080/"
        },
        "id": "49uL3GyTGyLQ",
        "outputId": "2892c000-1ec4-48e9-cdf2-33135bf65621"
      },
      "outputs": [
        {
          "name": "stdout",
          "output_type": "stream",
          "text": [
            "Magnitud de corriente a 220V para los motores de la planta 2: 1055.846103440497 A\n"
          ]
        }
      ],
      "source": [
        "Corriente_Planta_2_220V = np.sqrt((df2[df2['Planta'] == 'Planta 2']['Real Corriente 220V +25%'].sum())**2 + (df2[df2['Planta'] == 'Planta 2']['Imaginaria Corriente 220V +25%'].sum())**2)\n",
        "print(f'Magnitud de corriente a 220V para los motores de la planta 2: {Corriente_Planta_2_220V} A')"
      ]
    },
    {
      "cell_type": "markdown",
      "metadata": {
        "id": "nvutnbNHHADO"
      },
      "source": [
        "Magnitud de corriente a 220V para determinar el total de la corriente que se usará para dimensionar el grosor del cable sobre la Planta 3"
      ]
    },
    {
      "cell_type": "code",
      "execution_count": 17,
      "metadata": {
        "colab": {
          "base_uri": "https://localhost:8080/"
        },
        "id": "VIKRVR_pHAXc",
        "outputId": "0e9bd11d-1d4f-4f30-ae84-5f5ddff2ac7b"
      },
      "outputs": [
        {
          "name": "stdout",
          "output_type": "stream",
          "text": [
            "Magnitud de corriente a 220V para los motores de la planta 3: 1184.1293915625126 A\n"
          ]
        }
      ],
      "source": [
        "Corriente_Planta_3_220V = np.sqrt((df2[df2['Planta'] == 'Planta 3']['Real Corriente 220V +25%'].sum())**2 + (df2[df2['Planta'] == 'Planta 3']['Imaginaria Corriente 220V +25%'].sum())**2)\n",
        "print(f'Magnitud de corriente a 220V para los motores de la planta 3: {Corriente_Planta_3_220V} A')"
      ]
    },
    {
      "cell_type": "markdown",
      "metadata": {
        "id": "CP5aF3ojHFly"
      },
      "source": [
        "Magnitud de corriente a 220V para determinar el total de la corriente que se usará para dimensionar el grosor del cable sobre la Planta 4"
      ]
    },
    {
      "cell_type": "code",
      "execution_count": 18,
      "metadata": {
        "colab": {
          "base_uri": "https://localhost:8080/"
        },
        "id": "UJJENGhsHFHX",
        "outputId": "8eeb84d7-b641-4ec1-9a91-318a1e656d06"
      },
      "outputs": [
        {
          "name": "stdout",
          "output_type": "stream",
          "text": [
            "Magnitud de corriente a 220V para los motores de la planta 4: 774.7133890486778 A\n"
          ]
        }
      ],
      "source": [
        "Corriente_Planta_4_220V = np.sqrt((df2[df2['Planta'] == 'Planta 4']['Real Corriente 220V +25%'].sum())**2 + (df2[df2['Planta'] == 'Planta 4']['Imaginaria Corriente 220V +25%'].sum())**2)\n",
        "print(f'Magnitud de corriente a 220V para los motores de la planta 4: {Corriente_Planta_4_220V} A')"
      ]
    },
    {
      "cell_type": "markdown",
      "metadata": {
        "id": "P-Chg5ZPHJIM"
      },
      "source": [
        "Magnitud de corriente a 220V para determinar el total de la corriente que se usará para dimensionar el grosor del cable sobre la Planta 5"
      ]
    },
    {
      "cell_type": "code",
      "execution_count": 19,
      "metadata": {
        "colab": {
          "base_uri": "https://localhost:8080/"
        },
        "id": "ruugeKKLHL7W",
        "outputId": "94a8900f-d679-42ce-a0a5-120651571660"
      },
      "outputs": [
        {
          "name": "stdout",
          "output_type": "stream",
          "text": [
            "Magnitud de corriente a 220V para los motores de la planta 5: 1396.9715056603966 A\n"
          ]
        }
      ],
      "source": [
        "Corriente_Planta_5_220V = np.sqrt((df2[df2['Planta'] == 'Planta 5']['Real Corriente 220V +25%'].sum())**2 + (df2[df2['Planta'] == 'Planta 5']['Imaginaria Corriente 220V +25%'].sum())**2)\n",
        "print(f'Magnitud de corriente a 220V para los motores de la planta 5: {Corriente_Planta_5_220V} A')"
      ]
    },
    {
      "cell_type": "markdown",
      "metadata": {
        "id": "TNzNCGgPHTaw"
      },
      "source": [
        "# PARA 380V"
      ]
    },
    {
      "cell_type": "markdown",
      "metadata": {
        "id": "mYgky64NHeQq"
      },
      "source": [
        "Magnitud de corriente a 380V para determinar el total de la corriente que se usará para dimensionar el grosor del cable sobre la Planta 1"
      ]
    },
    {
      "cell_type": "code",
      "execution_count": 20,
      "metadata": {
        "colab": {
          "base_uri": "https://localhost:8080/"
        },
        "id": "rCR8wgELHRXK",
        "outputId": "f28be510-6ac3-49cf-e683-1bfafec30980"
      },
      "outputs": [
        {
          "name": "stdout",
          "output_type": "stream",
          "text": [
            "Magnitud de corriente a 380V para los motores de la planta 1: 428.91974895883834 A\n"
          ]
        }
      ],
      "source": [
        "Corriente_Planta_1_380V = np.sqrt((df2[df2['Planta'] == 'Planta 1']['Real Corriente 380V +25%'].sum())**2 + (df2[df2['Planta'] == 'Planta 1']['Imaginaria Corriente 380V +25%'].sum())**2)\n",
        "print(f'Magnitud de corriente a 380V para los motores de la planta 1: {Corriente_Planta_1_380V} A')"
      ]
    },
    {
      "cell_type": "markdown",
      "metadata": {
        "id": "xIZjBtagHhUa"
      },
      "source": [
        "Magnitud de corriente a 380V para determinar el total de la corriente que se usará para dimensionar el grosor del cable sobre la Planta 2"
      ]
    },
    {
      "cell_type": "code",
      "execution_count": 21,
      "metadata": {
        "colab": {
          "base_uri": "https://localhost:8080/"
        },
        "id": "fReZ_nphHj7L",
        "outputId": "1e4dd1f7-5c05-48d0-d1f3-4584853450b2"
      },
      "outputs": [
        {
          "name": "stdout",
          "output_type": "stream",
          "text": [
            "Magnitud de corriente a 380V para los motores de la planta 2: 611.2793230444981 A\n"
          ]
        }
      ],
      "source": [
        "Corriente_Planta_2_380V = np.sqrt((df2[df2['Planta'] == 'Planta 2']['Real Corriente 380V +25%'].sum())**2 + (df2[df2['Planta'] == 'Planta 2']['Imaginaria Corriente 380V +25%'].sum())**2)\n",
        "print(f'Magnitud de corriente a 380V para los motores de la planta 2: {Corriente_Planta_2_380V} A')"
      ]
    },
    {
      "cell_type": "markdown",
      "metadata": {
        "id": "xyw-T6sdHnd6"
      },
      "source": [
        "Magnitud de corriente a 380V para determinar el total de la corriente que se usará para dimensionar el grosor del cable sobre la Planta 3"
      ]
    },
    {
      "cell_type": "code",
      "execution_count": 22,
      "metadata": {
        "colab": {
          "base_uri": "https://localhost:8080/"
        },
        "id": "-emr-hA0Hr_D",
        "outputId": "477e27b9-5fb1-477e-b04f-2de4e5a78e94"
      },
      "outputs": [
        {
          "name": "stdout",
          "output_type": "stream",
          "text": [
            "Magnitud de corriente a 380V para los motores de la planta 3: 685.5485951151388 A\n"
          ]
        }
      ],
      "source": [
        "Corriente_Planta_3_380V = np.sqrt((df2[df2['Planta'] == 'Planta 3']['Real Corriente 380V +25%'].sum())**2 + (df2[df2['Planta'] == 'Planta 3']['Imaginaria Corriente 380V +25%'].sum())**2)\n",
        "print(f'Magnitud de corriente a 380V para los motores de la planta 3: {Corriente_Planta_3_380V} A')"
      ]
    },
    {
      "cell_type": "markdown",
      "metadata": {
        "id": "1lTW9v4wHuSL"
      },
      "source": [
        "Magnitud de corriente a 380V para determinar el total de la corriente que se usará para dimensionar el grosor del cable sobre la Planta 4"
      ]
    },
    {
      "cell_type": "code",
      "execution_count": 23,
      "metadata": {
        "colab": {
          "base_uri": "https://localhost:8080/"
        },
        "id": "BPc_5FIjHulX",
        "outputId": "665b00e7-c4d7-494b-d0b7-5056f2cbae32"
      },
      "outputs": [
        {
          "name": "stdout",
          "output_type": "stream",
          "text": [
            "Magnitud de corriente a 380V para los motores de la planta 4: 448.51827787028714 A\n"
          ]
        }
      ],
      "source": [
        "Corriente_Planta_4_380V = np.sqrt((df2[df2['Planta'] == 'Planta 4']['Real Corriente 380V +25%'].sum())**2 + (df2[df2['Planta'] == 'Planta 4']['Imaginaria Corriente 380V +25%'].sum())**2)\n",
        "print(f'Magnitud de corriente a 380V para los motores de la planta 4: {Corriente_Planta_4_380V} A')"
      ]
    },
    {
      "cell_type": "markdown",
      "metadata": {
        "id": "6WyDuU5kH1ft"
      },
      "source": [
        "Magnitud de corriente a 380V para determinar el total de la corriente que se usará para dimensionar el grosor del cable sobre la Planta 5"
      ]
    },
    {
      "cell_type": "code",
      "execution_count": 24,
      "metadata": {
        "colab": {
          "base_uri": "https://localhost:8080/"
        },
        "id": "Nfbz0CjLHzor",
        "outputId": "d9bf158b-9207-43b8-dac7-5bbaeacfbb63"
      },
      "outputs": [
        {
          "name": "stdout",
          "output_type": "stream",
          "text": [
            "Magnitud de corriente a 380V para los motores de la planta 5: 808.7729769612822 A\n"
          ]
        }
      ],
      "source": [
        "Corriente_Planta_5_380V = np.sqrt((df2[df2['Planta'] == 'Planta 5']['Real Corriente 380V +25%'].sum())**2 + (df2[df2['Planta'] == 'Planta 5']['Imaginaria Corriente 380V +25%'].sum())**2)\n",
        "print(f'Magnitud de corriente a 380V para los motores de la planta 5: {Corriente_Planta_5_380V} A')"
      ]
    },
    {
      "cell_type": "markdown",
      "metadata": {
        "id": "1Q5Epr3kNm0n"
      },
      "source": [
        "Debido a que existen consumos auxiliares, se tiene que estos consumen 480kW, se puede partir de que poseen un factor de potencia de FP = 1, por lo tanto es pertinente calcular su consumo de corriente a 220V que es al voltaje al cual se encuentran conectados, suponiendo que son cargas puramente resistivas, estas no cuentan con desfase por lo tanto no poseen parte imaginaria, por lo que:"
      ]
    },
    {
      "cell_type": "code",
      "execution_count": 25,
      "metadata": {
        "colab": {
          "base_uri": "https://localhost:8080/"
        },
        "id": "u9weJoqjNm0n",
        "outputId": "ba5b9f45-2e9f-41e5-96c1-2255f58d3f0b"
      },
      "outputs": [
        {
          "name": "stdout",
          "output_type": "stream",
          "text": [
            "Magnitud de corriente a 220V para los Auxiliares: 1259.6733145955473 A\n"
          ]
        }
      ],
      "source": [
        "FP_aux = 1\n",
        "Corriente_Auxiliares = 480000/(np.sqrt(3)*220*FP_aux)\n",
        "print(f'Magnitud de corriente a 220V para los Auxiliares: {Corriente_Auxiliares} A')"
      ]
    },
    {
      "cell_type": "markdown",
      "metadata": {
        "id": "NplsdOIuH5tz"
      },
      "source": [
        "## CAMBIO DE MOTORES ##"
      ]
    },
    {
      "cell_type": "markdown",
      "metadata": {
        "id": "IQ4Ax2WkNm0n"
      },
      "source": [
        "Dado un transformador de 13200/220V, según el documento de publicación de tarifas del mes de mayo de 2024, se tiene que para un transformador de este tipo se encuentra en el Nivel II de consumo por lo que la tarifa a pagar por poseer un contador antes del transformador es de:"
      ]
    },
    {
      "cell_type": "markdown",
      "metadata": {
        "id": "9GaOw-KzNm0o"
      },
      "source": [
        "Dado un transformador de 44000/220V, según el documento de publicación de tarifas del mes de mayo de 2024, se tiene que para un transformador de este tipo se encuentra en el Nivel III de consumo por lo que la tarifa a pagar por poseer un contador antes del transformador es de:"
      ]
    },
    {
      "cell_type": "code",
      "execution_count": 26,
      "metadata": {
        "id": "fYaB2SVgcjFf"
      },
      "outputs": [],
      "source": [
        "def actualizar_valores(row,df_filtro,potencia_seleccionada,potencia_real):\n",
        "    potencia_real_02                            = potencia_real + potencia_real* 0.2\n",
        "    row[\"Potencia (HP)\"]                        = potencia_seleccionada\n",
        "    row[\"Factor de carga maximo\"]               = potencia_real_02 / potencia_seleccionada\n",
        "    row[\"Eficiencia (%)\"]                       = df_filtro.iloc[0][\"Eficiencia %\"] / 100\n",
        "    row[\"Potencia Entrada (W)\"]                 = (potencia_real * 746) / (row[\"Eficiencia (%)\"])\n",
        "    row['Potencia Salida (W)']                  = (potencia_real * 746)\n",
        "    row[\"Corriente a 220V (A)\"]                 = row[\"Potencia Entrada (W)\"] / (np.sqrt(3) * 220 * row[\"Factor de potencia\"])\n",
        "    row['Corriente a 380V (A)']                 = row['Potencia Entrada (W)'] / (np.sqrt(3) * 380 * row['Factor de potencia'])\n",
        "    row['Pérdidas Motor (W)']                   = row['Potencia Entrada (W)'] - row['Potencia Salida (W)']\n",
        "    row['Corriente a 220V (A) +25%']            = row['Corriente a 220V (A)']*1.25\n",
        "    row['Corriente a 380V (A) +25%']            = row['Corriente a 380V (A)']*1.25\n",
        "    row[\"Velocidad real (RPM)\"]                 = df_filtro.iloc[0][\"Velocidad rpm\"]\n",
        "    row['Deslizamiento (RPM)']                  = row['Velocidad síncrona (RPM)'] - row['Velocidad real (RPM)']\n",
        "    row['Deslizamiento (%)']                    = ((row['Velocidad síncrona (RPM)'] - row['Velocidad real (RPM)']) / row['Velocidad síncrona (RPM)'])*100\n",
        "    row['Torque (N.m)']                         = (row['Potencia (HP)'] * 746 * (row['Factor de carga maximo'])) / ((row['Velocidad real (RPM)'] * 2 * np.pi)/60)\n",
        "    row['theta (°)']                            = np.degrees(np.arccos(row['Factor de potencia']))\n",
        "    row['Real Corriente 220V Normal']           = row['Corriente a 220V (A)'] * np.cos(np.radians(row['theta (°)']))\n",
        "    row['Imaginaria Corriente 220V Normal']     = row['Corriente a 220V (A)'] * np.sin(np.radians(row['theta (°)']))\n",
        "    row['Real Corriente 380V Normal']           = row['Corriente a 380V (A)'] * np.cos(np.radians(row['theta (°)']))\n",
        "    row['Imaginaria Corriente 380V Normal']     = row['Corriente a 380V (A)'] * np.sin(np.radians(row['theta (°)']))\n",
        "    row['Real Corriente 220V +25%']             = row['Corriente a 220V (A) +25%'] * np.cos(np.radians(row['theta (°)']))\n",
        "    row['Imaginaria Corriente 220V +25%']       = row['Corriente a 220V (A) +25%'] * np.sin(np.radians(row['theta (°)']))\n",
        "    row['Real Corriente 380V +25%']             = row['Corriente a 380V (A) +25%'] * np.cos(np.radians(row['theta (°)']))\n",
        "    row['Imaginaria Corriente 380V +25%']       = row['Corriente a 380V (A) +25%'] * np.sin(np.radians(row['theta (°)']))\n",
        "    row[\"kw/año\"]                               = (row[\"Potencia Entrada (W)\"]/1000) * TOTALHORAS\n",
        "    row[\"costo/año\"]                            = row[\"kw/año\"] * TARIFA_T1\n",
        "    return row\n"
      ]
    },
    {
      "cell_type": "code",
      "execution_count": 27,
      "metadata": {
        "id": "07JIRbO2H_Tw"
      },
      "outputs": [],
      "source": [
        "df_catalogo = pd.read_csv(\"catalogo_motores_completo.csv\")\n",
        "df_catalogo = df_catalogo[df_catalogo[\"rpm\"]==3600]\n",
        "def cambio(row):\n",
        "\n",
        "    cambio_fc         = False\n",
        "    cambio_eficiencia = False\n",
        "    #se debe verificar si el cambio es por factor de carga o factor de potencia\n",
        "    if  row['cambio FC'] == 'Si':\n",
        "        potencia_real     = row['Potencia (HP)'] * row[\"Factor de carga maximo\"]\n",
        "\n",
        "        #calculo del valor, mas un 20%\n",
        "        potencia_real_02  = potencia_real + potencia_real* 0.2\n",
        "\n",
        "        #buscamos en el catalogo los motores mayores al valor y escogemos el primero\n",
        "        df_filtro               = df_catalogo[df_catalogo[\"Potencia HP\"] >= potencia_real_02].sort_values(by=\"Potencia HP\", ascending=True).copy()\n",
        "        potencia_seleccionada   = df_filtro.iloc[0][\"Potencia HP\"]\n",
        "        # print(row['Potencia (HP)'],row[\"Factor de carga maximo\"],potencia_real,potencia_real_02,potencia_seleccionada)\n",
        "\n",
        "        if potencia_seleccionada == row['Potencia (HP)']:\n",
        "            # print(\"no hay cambio debido a que el motor que se encontro, es del mismo tamaño que el que se tiene\")\n",
        "            cambio_fc = False\n",
        "        else:\n",
        "            # print(\"se encontro un motor de menor tamaño al que se le puede aplicar el cambio\")\n",
        "            cambio_fc = True\n",
        "\n",
        "            #se procede a actualizar el resto de calculos para este valor\n",
        "            row = actualizar_valores(row,df_filtro,potencia_seleccionada,potencia_real)\n",
        "\n",
        "\n",
        "    #si no hay cambio por factor de carga, se verifica si lo hay por eficiencia\n",
        "    if cambio_fc == False and row['cambio Eficiencia'] == 'Si':\n",
        "          df_filtro     = df_catalogo[df_catalogo[\"Potencia HP\"] == row[\"Potencia (HP)\"]].copy()\n",
        "          #row,df_filtro,potencia_seleccionada,potencia_real\n",
        "          row           = actualizar_valores(row,df_filtro,row[\"Potencia (HP)\"],row[\"Potencia (HP)\"]*row[\"Factor de carga maximo\"])\n",
        "          cambio_eficiencia = True\n",
        "    else:\n",
        "        cambio_eficiencia = False\n",
        "\n",
        "\n",
        "    if cambio_eficiencia == True or cambio_fc == True:\n",
        "        row[\"cambio\"] = \"Si\"\n",
        "    else:\n",
        "        row[\"cambio\"] = \"No\"\n",
        "\n",
        "    return row\n",
        "\n",
        "\n",
        "\n",
        "    #factor de carga, potencia_hp, potencia_actual\n",
        "    # costoXaño = (potencia_actual / 1000) * TOTALHORAS * TARIFA_T1 #Reemplazar TARIFA_T1 por TARIFA_T2 si se desea calcular con la tarifa T2\n",
        "    # df_filtro                           = df_catalogo[(df_catalogo[\"Potencia HP\"] == potencia_hp) & (df_catalogo[\"rpm\"] == velocidad_sincronica)].copy()\n",
        "    # df_filtro['Potencia Entrada (W)']   = (df_filtro ['Potencia HP'] * 746 * (fc)) / (df_filtro ['Eficiencia %']/100)\n",
        "    # df_filtro[\"kw/año\"]                 = (df_filtro[\"Potencia Entrada (W)\"]/1000) * TOTALHORAS\n",
        "    # df_filtro[\"costo/año\"]              = df_filtro[\"kw/año\"] * TARIFA_T1\n",
        "    # df_filtro[\"costo_anterior\"]         = costoXaño\n",
        "    # df_filtro[\"ahorroXmes\"]             = (df_filtro[\"costo_anterior\"] - df_filtro[\"costo/año\"]) / 12\n",
        "    # df_filtro[\"tiempo_retribucion\"]     = df_filtro[\"costo_Pesos\"] / df_filtro[\"ahorroXmes\"]\n"
      ]
    },
    {
      "cell_type": "code",
      "execution_count": 28,
      "metadata": {
        "colab": {
          "base_uri": "https://localhost:8080/"
        },
        "id": "EGulyoiDO_uD",
        "outputId": "1865ec42-67f0-446a-98b9-d92684f375bc"
      },
      "outputs": [
        {
          "data": {
            "text/plain": [
              "(23, 32)"
            ]
          },
          "execution_count": 28,
          "metadata": {},
          "output_type": "execute_result"
        }
      ],
      "source": [
        "df2[(df2[\"cambio FC\"] == \"Si\") | (df2[\"cambio Eficiencia\"] == \"Si\")].shape\n"
      ]
    },
    {
      "cell_type": "code",
      "execution_count": 29,
      "metadata": {
        "id": "qCB1Sc_JIDMl"
      },
      "outputs": [],
      "source": [
        "df3 = df2.copy()\n",
        "df3 = df3.apply(cambio, axis=1)\n",
        "orden = df2.columns.to_list()\n",
        "orden.append('cambio')\n",
        "df3 = df3[orden]"
      ]
    },
    {
      "cell_type": "code",
      "execution_count": 30,
      "metadata": {
        "id": "mllDKvwYSSOr"
      },
      "outputs": [],
      "source": [
        "Corriente_Planta_1_220V_Normal_cambio = np.sqrt((df3[df3['Planta'] == 'Planta 1']['Real Corriente 220V Normal'].sum())**2 + (df3[df3['Planta'] == 'Planta 1']['Imaginaria Corriente 220V Normal'].sum())**2)\n",
        "Corriente_Planta_2_220V_Normal_cambio = np.sqrt((df3[df3['Planta'] == 'Planta 2']['Real Corriente 220V Normal'].sum())**2 + (df3[df3['Planta'] == 'Planta 2']['Imaginaria Corriente 220V Normal'].sum())**2)\n",
        "Corriente_Planta_3_220V_Normal_cambio = np.sqrt((df3[df3['Planta'] == 'Planta 3']['Real Corriente 220V Normal'].sum())**2 + (df3[df3['Planta'] == 'Planta 3']['Imaginaria Corriente 220V Normal'].sum())**2)\n",
        "Corriente_Planta_4_220V_Normal_cambio = np.sqrt((df3[df3['Planta'] == 'Planta 4']['Real Corriente 220V Normal'].sum())**2 + (df3[df3['Planta'] == 'Planta 4']['Imaginaria Corriente 220V Normal'].sum())**2)\n",
        "Corriente_Planta_5_220V_Normal_cambio = np.sqrt((df3[df3['Planta'] == 'Planta 5']['Real Corriente 220V Normal'].sum())**2 + (df3[df3['Planta'] == 'Planta 5']['Imaginaria Corriente 220V Normal'].sum())**2)\n",
        "\n",
        "Corriente_Planta_1_380V_Normal_cambio = np.sqrt((df3[df3['Planta'] == 'Planta 1']['Real Corriente 380V Normal'].sum())**2 + (df3[df3['Planta'] == 'Planta 1']['Imaginaria Corriente 380V Normal'].sum())**2)\n",
        "Corriente_Planta_2_380V_Normal_cambio = np.sqrt((df3[df3['Planta'] == 'Planta 2']['Real Corriente 380V Normal'].sum())**2 + (df3[df3['Planta'] == 'Planta 2']['Imaginaria Corriente 380V Normal'].sum())**2)\n",
        "Corriente_Planta_3_380V_Normal_cambio = np.sqrt((df3[df3['Planta'] == 'Planta 3']['Real Corriente 380V Normal'].sum())**2 + (df3[df3['Planta'] == 'Planta 3']['Imaginaria Corriente 380V Normal'].sum())**2)\n",
        "Corriente_Planta_4_380V_Normal_cambio = np.sqrt((df3[df3['Planta'] == 'Planta 4']['Real Corriente 380V Normal'].sum())**2 + (df3[df3['Planta'] == 'Planta 4']['Imaginaria Corriente 380V Normal'].sum())**2)\n",
        "Corriente_Planta_5_380V_Normal_cambio = np.sqrt((df3[df3['Planta'] == 'Planta 5']['Real Corriente 380V Normal'].sum())**2 + (df3[df3['Planta'] == 'Planta 5']['Imaginaria Corriente 380V Normal'].sum())**2)\n",
        "\n",
        "Potencia_Planta_1_220_cambio = 220*Corriente_Planta_1_220V_Normal_cambio\n",
        "Potencia_Planta_2_220_cambio = 220*Corriente_Planta_2_220V_Normal_cambio\n",
        "Potencia_Planta_3_220_cambio = 220*Corriente_Planta_3_220V_Normal_cambio\n",
        "Potencia_Planta_4_220_cambio = 220*Corriente_Planta_4_220V_Normal_cambio\n",
        "Potencia_Planta_5_220_cambio = 220*Corriente_Planta_5_220V_Normal_cambio\n",
        "\n",
        "Potencia_Planta_1_380_cambio = 380*Corriente_Planta_1_380V_Normal_cambio\n",
        "Potencia_Planta_2_380_cambio = 380*Corriente_Planta_2_380V_Normal_cambio\n",
        "Potencia_Planta_3_380_cambio = 380*Corriente_Planta_3_380V_Normal_cambio\n",
        "Potencia_Planta_4_380_cambio = 380*Corriente_Planta_4_380V_Normal_cambio\n",
        "Potencia_Planta_5_380_cambio = 380*Corriente_Planta_5_380V_Normal_cambio"
      ]
    },
    {
      "cell_type": "code",
      "execution_count": 31,
      "metadata": {
        "colab": {
          "base_uri": "https://localhost:8080/"
        },
        "id": "HquAXKhPGi4j",
        "outputId": "48cadd3f-d53b-498c-92fd-69c603824f1c"
      },
      "outputs": [
        {
          "data": {
            "text/plain": [
              "Planta                                      Planta 1\n",
              "Distancia                                        200\n",
              "Motor                                              1\n",
              "Potencia (HP)                                     30\n",
              "Eficiencia (%)                                   0.7\n",
              "Factor de carga maximo                           0.8\n",
              "Factor de potencia                              0.74\n",
              "Potencia Entrada (W)                    25577.142857\n",
              "Corriente a 220V (A)                       90.706206\n",
              "Corriente a 380V (A)                       52.514119\n",
              "Potencia Salida (W)                          17904.0\n",
              "Pérdidas Motor (W)                       7673.142857\n",
              "Corriente a 220V (A) +25%                 113.382757\n",
              "Corriente a 380V (A) +25%                  65.642649\n",
              "Velocidad síncrona (RPM)                        3600\n",
              "Velocidad real (RPM)                            3540\n",
              "Deslizamiento (RPM)                               60\n",
              "Deslizamiento (%)                           1.666667\n",
              "Torque (N.m)                               48.296781\n",
              "theta (°)                                  42.268584\n",
              "Real Corriente 220V Normal                 67.122592\n",
              "Imaginaria Corriente 220V Normal           61.009617\n",
              "Real Corriente 380V Normal                 38.860448\n",
              "Imaginaria Corriente 380V Normal           35.321357\n",
              "Real Corriente 220V +25%                    83.90324\n",
              "Imaginaria Corriente 220V +25%             76.262021\n",
              "Real Corriente 380V +25%                    48.57556\n",
              "Imaginaria Corriente 380V +25%             44.151697\n",
              "kw/año                                 114176.365714\n",
              "costo/año                           104628938.013257\n",
              "cambio FC                                         No\n",
              "cambio Eficiencia                                 Si\n",
              "Name: 0, dtype: object"
            ]
          },
          "execution_count": 31,
          "metadata": {},
          "output_type": "execute_result"
        }
      ],
      "source": [
        "df2.iloc[0]"
      ]
    },
    {
      "cell_type": "code",
      "execution_count": 32,
      "metadata": {
        "colab": {
          "base_uri": "https://localhost:8080/"
        },
        "id": "jAgihe53GmCR",
        "outputId": "0e55a14c-8767-4aad-a703-3df8ad135449"
      },
      "outputs": [
        {
          "data": {
            "text/plain": [
              "Planta                                     Planta 1\n",
              "Distancia                                       200\n",
              "Motor                                             1\n",
              "Potencia (HP)                                  30.0\n",
              "Eficiencia (%)                                0.917\n",
              "Factor de carga maximo                         0.96\n",
              "Factor de potencia                             0.74\n",
              "Potencia Entrada (W)                   19524.536532\n",
              "Corriente a 220V (A)                      69.241379\n",
              "Corriente a 380V (A)                      40.087114\n",
              "Potencia Salida (W)                         17904.0\n",
              "Pérdidas Motor (W)                      1620.536532\n",
              "Corriente a 220V (A) +25%                 86.551723\n",
              "Corriente a 380V (A) +25%                 50.108892\n",
              "Velocidad síncrona (RPM)                       3600\n",
              "Velocidad real (RPM)                           3540\n",
              "Deslizamiento (RPM)                              60\n",
              "Deslizamiento (%)                          1.666667\n",
              "Torque (N.m)                              57.956138\n",
              "theta (°)                                 42.268584\n",
              "Real Corriente 220V Normal                 51.23862\n",
              "Imaginaria Corriente 220V Normal          46.572227\n",
              "Real Corriente 380V Normal                29.664464\n",
              "Imaginaria Corriente 380V Normal          26.962868\n",
              "Real Corriente 220V +25%                  64.048275\n",
              "Imaginaria Corriente 220V +25%            58.215283\n",
              "Real Corriente 380V +25%                   37.08058\n",
              "Imaginaria Corriente 380V +25%            33.703585\n",
              "kw/año                                  87157.53108\n",
              "costo/año                           79869418.330731\n",
              "cambio FC                                        No\n",
              "cambio Eficiencia                                Si\n",
              "cambio                                           Si\n",
              "Name: 0, dtype: object"
            ]
          },
          "execution_count": 32,
          "metadata": {},
          "output_type": "execute_result"
        }
      ],
      "source": [
        "df3.iloc[0]"
      ]
    },
    {
      "cell_type": "markdown",
      "metadata": {
        "id": "PyQaqljxNm0o"
      },
      "source": [
        "Según [Tabla verde, luego paso el link], dado un calibre de 500 mm2 se tiene una resistencia DC de Ohm/km para un cable de cobre, se tiene que posee una resistencia de 0.0366 Ohm por lo que si se requiere de una corriente determinada para alimentar cada planta a 220V o 380V es necesario aplicar una regla de 3 compuesta para extraer el valor de la resistencia de pérdida a partir de https://www.gt-engineering.it/en/technical-standards/ul-and-nfpa-standards/ul-508a/cable-ampacity-ul-508a/, también es de anotar que es posible alimentar con un solo cable a partir de suma de corrientes, es decir, con corrientes menores por cada cable que se use para complementar la corriente objetivo a usar."
      ]
    },
    {
      "cell_type": "markdown",
      "metadata": {
        "id": "_eulO5hWNm0r"
      },
      "source": [
        "# PARA 220V"
      ]
    },
    {
      "cell_type": "markdown",
      "metadata": {
        "id": "XDM5aXUHNm0r"
      },
      "source": [
        "Grosor del cable sobre la Planta 1, a 220V:"
      ]
    },
    {
      "cell_type": "code",
      "execution_count": 33,
      "metadata": {
        "id": "j9RrGMigNm0r",
        "outputId": "adba4327-5a66-4744-aada-659f6d7a1f2c"
      },
      "outputs": [
        {
          "name": "stdout",
          "output_type": "stream",
          "text": [
            "La corriente necesaria es de 740.8613845652662 A para la planta 1, por lo que se necesita de dos cables que soporten 380 A de cobre, el cual corresponde a un valor de 500 kcmil.\n",
            "El grosor del cable necesario para 380 A es de 253 mm², por lo cual la regla de 3 inversa necesaria para obtener la resistencia de Ohm/km es de 0.07233201581027668 Ohm\n",
            "Ahora bien, la Planta 1 se encuentra a 200 metros del transformador, por lo cual la resistencia de pérdida será menor, esta equivale a 0.014466403162055335 Ohm\n"
          ]
        }
      ],
      "source": [
        "print(f'La corriente necesaria es de {Corriente_Planta_1_220V} A para la planta 1, por lo que se necesita de dos cables que soporten 380 A de cobre, el cual corresponde a un valor de 500 kcmil.')\n",
        "\n",
        "R_km_P1_220 = (500/253)*0.0366\n",
        "print(f'El grosor del cable necesario para 380 A es de 253 mm\\u00B2, por lo cual la regla de 3 inversa necesaria para obtener la resistencia de Ohm/km es de {R_km_P1_220} Ohm')\n",
        "\n",
        "Resistencia_Final_P1_220 = (200*R_km_P1_220)/1000\n",
        "print(f'Ahora bien, la Planta 1 se encuentra a 200 metros del transformador, por lo cual la resistencia de pérdida será menor, esta equivale a {Resistencia_Final_P1_220} Ohm')"
      ]
    },
    {
      "cell_type": "code",
      "execution_count": 34,
      "metadata": {
        "id": "waUff8lcNm0r",
        "outputId": "a0eae194-e3ac-4a42-b0f7-7957a8d84af8"
      },
      "outputs": [
        {
          "name": "stdout",
          "output_type": "stream",
          "text": [
            "0.007233201581027668\n",
            "592.689107652213\n",
            "La pérdida asociada a la corriente a 220V para la planta 1 de una sola línea son de 2540.8817879174903 W\n",
            "La pérdida asociada a la corrient e a 220V para la planta 1 para las 3 líneas son de 7622.645363752471 W\n"
          ]
        }
      ],
      "source": [
        "Paralelo_R_km_P1_220 = Resistencia_Final_P1_220/2\n",
        "print(Paralelo_R_km_P1_220)\n",
        "Perdida_P1_220 = Corriente_Planta_1_220V_Normal**2 * (Paralelo_R_km_P1_220)\n",
        "print(Corriente_Planta_1_220V_Normal)\n",
        "print(f'La pérdida asociada a la corriente a 220V para la planta 1 de una sola línea son de {Perdida_P1_220} W')\n",
        "Perdida_P1_220_Tri = 3*Perdida_P1_220\n",
        "print(f'La pérdida asociada a la corrient e a 220V para la planta 1 para las 3 líneas son de {Perdida_P1_220_Tri} W')"
      ]
    },
    {
      "cell_type": "markdown",
      "metadata": {
        "id": "eohsLb0tNm0r"
      },
      "source": [
        "Grosor del cable sobre la Planta 2, a 220V:"
      ]
    },
    {
      "cell_type": "code",
      "execution_count": 35,
      "metadata": {
        "id": "khRTiedGNm0s",
        "outputId": "391073ac-8b04-4090-9eae-f82a1c2f0ef0"
      },
      "outputs": [
        {
          "name": "stdout",
          "output_type": "stream",
          "text": [
            "La corriente necesaria es de 1055.846103440497 A para la planta 1, por lo que se necesita de dos cables que soporten 545 A de cobre, el cual corresponde a un valor de 1000 kcmil.\n",
            "El grosor del cable necesario para 545 A es de 506 mm², por lo cual la regla de 3 inversa necesaria para obtener la resistencia de Ohm/km es de 0.03616600790513834 Ohm\n",
            "Ahora bien, la Planta 2 se encuentra a 300 metros del transformador, por lo cual la resistencia de pérdida será menor, esta equivale a 0.010849802371541501 Ohm\n"
          ]
        }
      ],
      "source": [
        "print(f'La corriente necesaria es de {Corriente_Planta_2_220V} A para la planta 1, por lo que se necesita de dos cables que soporten 545 A de cobre, el cual corresponde a un valor de 1000 kcmil.')\n",
        "\n",
        "R_km_P2_220 = (500/506)*0.0366\n",
        "print(f'El grosor del cable necesario para 545 A es de 506 mm\\u00B2, por lo cual la regla de 3 inversa necesaria para obtener la resistencia de Ohm/km es de {R_km_P2_220} Ohm')\n",
        "\n",
        "Resistencia_Final_P2_220 = (300*R_km_P2_220)/1000\n",
        "print(f'Ahora bien, la Planta 2 se encuentra a 300 metros del transformador, por lo cual la resistencia de pérdida será menor, esta equivale a {Resistencia_Final_P2_220} Ohm')"
      ]
    },
    {
      "cell_type": "code",
      "execution_count": 36,
      "metadata": {
        "id": "nRNsel9JNm0s",
        "outputId": "c7a2160e-c587-49c9-9f69-b7dac7ff7367"
      },
      "outputs": [
        {
          "name": "stdout",
          "output_type": "stream",
          "text": [
            "La pérdida asociada a la corriente a 220V para la planta 2 son de 3870.553269809416 W\n",
            "La pérdida asociada a la corrient e a 220V para la planta 1 para las 3 líneas son de 11611.659809428249 W\n"
          ]
        }
      ],
      "source": [
        "Paralelo_R_km_P2_220 = Resistencia_Final_P2_220/2\n",
        "Perdida_P2_220 = Corriente_Planta_2_220V_Normal**2 * (Paralelo_R_km_P2_220)\n",
        "print(f'La pérdida asociada a la corriente a 220V para la planta 2 son de {Perdida_P2_220} W')\n",
        "Perdida_P2_220_Tri = 3*Perdida_P2_220\n",
        "print(f'La pérdida asociada a la corrient e a 220V para la planta 1 para las 3 líneas son de {Perdida_P2_220_Tri} W')"
      ]
    },
    {
      "cell_type": "markdown",
      "metadata": {
        "id": "0iilwY7nNm0s"
      },
      "source": [
        "Grosor del cable sobre la Planta 3, a 220V:"
      ]
    },
    {
      "cell_type": "code",
      "execution_count": 37,
      "metadata": {
        "id": "d5gjfywUNm0s",
        "outputId": "cd7e7292-877d-4e4f-d9ad-1a2ccb53031a"
      },
      "outputs": [
        {
          "name": "stdout",
          "output_type": "stream",
          "text": [
            "La corriente necesaria es de 1184.1293915625126 A para la planta 1, por lo que se necesita de dos cables que soporten 625 A de cobre, el cual corresponde a un valor de 1500 kcmil.\n",
            "El grosor del cable necesario para 625 A es de 887 mm², por lo cual la regla de 3 inversa necesaria para obtener la resistencia de Ohm/km es de 0.020631341600901916 Ohm\n",
            "Ahora bien, la Planta 3 se encuentra a 350 metros del transformador, por lo cual la resistencia de pérdida será menor, esta equivale a 0.00722096956031567 Ohm\n"
          ]
        }
      ],
      "source": [
        "print(f'La corriente necesaria es de {Corriente_Planta_3_220V} A para la planta 1, por lo que se necesita de dos cables que soporten 625 A de cobre, el cual corresponde a un valor de 1500 kcmil.')\n",
        "\n",
        "R_km_P3_220 = (500/887)*0.0366\n",
        "print(f'El grosor del cable necesario para 625 A es de 887 mm\\u00B2, por lo cual la regla de 3 inversa necesaria para obtener la resistencia de Ohm/km es de {R_km_P3_220} Ohm')\n",
        "\n",
        "Resistencia_Final_P3_220 = (350*R_km_P3_220)/1000\n",
        "print(f'Ahora bien, la Planta 3 se encuentra a 350 metros del transformador, por lo cual la resistencia de pérdida será menor, esta equivale a {Resistencia_Final_P3_220} Ohm')"
      ]
    },
    {
      "cell_type": "code",
      "execution_count": 38,
      "metadata": {
        "id": "cUSOyoVGNm0s",
        "outputId": "167ec6de-89e8-4d7f-8e15-3871db65db47"
      },
      "outputs": [
        {
          "name": "stdout",
          "output_type": "stream",
          "text": [
            "La pérdida asociada a la corriente a 220V para la planta 3 son de 3239.991079770167 W\n",
            "La pérdida asociada a la corrient e a 220V para la planta 1 para las 3 líneas son de 9719.9732393105 W\n"
          ]
        }
      ],
      "source": [
        "Paralelo_R_km_P3_220 = Resistencia_Final_P3_220/2\n",
        "Perdida_P3_220 = Corriente_Planta_3_220V_Normal**2 * (Paralelo_R_km_P3_220)\n",
        "print(f'La pérdida asociada a la corriente a 220V para la planta 3 son de {Perdida_P3_220} W')\n",
        "Perdida_P3_220_Tri = 3*Perdida_P3_220\n",
        "print(f'La pérdida asociada a la corrient e a 220V para la planta 1 para las 3 líneas son de {Perdida_P3_220_Tri} W')"
      ]
    },
    {
      "cell_type": "markdown",
      "metadata": {
        "id": "MFi5Wg8uNm0s"
      },
      "source": [
        "Grosor del cable sobre la Planta 4, a 220V:"
      ]
    },
    {
      "cell_type": "code",
      "execution_count": 39,
      "metadata": {
        "id": "q83eBdOQNm0s",
        "outputId": "e790d56a-bd29-4a04-d0fa-ace4dcd074b6"
      },
      "outputs": [
        {
          "name": "stdout",
          "output_type": "stream",
          "text": [
            "La corriente necesaria es de 774.7133890486778 A para la planta 1, por lo que se necesita de dos cables que soporten 420 A de cobre, el cual corresponde a un valor de 600 kcmil.\n",
            "El grosor del cable necesario para 420 A es de 304 mm², por lo cual la regla de 3 inversa necesaria para obtener la resistencia de Ohm/km es de 0.06019736842105263 Ohm\n",
            "Ahora bien, la Planta 4 se encuentra a 300 metros del transformador, por lo cual la resistencia de pérdida será menor, esta equivale a 0.018059210526315792 Ohm\n"
          ]
        }
      ],
      "source": [
        "print(f'La corriente necesaria es de {Corriente_Planta_4_220V} A para la planta 1, por lo que se necesita de dos cables que soporten 420 A de cobre, el cual corresponde a un valor de 600 kcmil.')\n",
        "\n",
        "R_km_P4_220 = (500/304)*0.0366\n",
        "print(f'El grosor del cable necesario para 420 A es de 304 mm\\u00B2, por lo cual la regla de 3 inversa necesaria para obtener la resistencia de Ohm/km es de {R_km_P4_220} Ohm')\n",
        "\n",
        "Resistencia_Final_P4_220 = (300*R_km_P4_220)/1000\n",
        "print(f'Ahora bien, la Planta 4 se encuentra a 300 metros del transformador, por lo cual la resistencia de pérdida será menor, esta equivale a {Resistencia_Final_P4_220} Ohm')"
      ]
    },
    {
      "cell_type": "code",
      "execution_count": 40,
      "metadata": {
        "id": "hZPZ-pftNm0s",
        "outputId": "cce3ab1c-69b4-409d-a90a-b223c9a24cfd"
      },
      "outputs": [
        {
          "name": "stdout",
          "output_type": "stream",
          "text": [
            "La pérdida asociada a la corriente a 220V para la planta 4 son de 3468.4134579898637 W\n",
            "La pérdida asociada a la corrient e a 220V para la planta 1 para las 3 líneas son de 10405.240373969591 W\n"
          ]
        }
      ],
      "source": [
        "Paralelo_R_km_P4_220 = Resistencia_Final_P4_220/2\n",
        "Perdida_P4_220 = Corriente_Planta_4_220V_Normal**2 * (Paralelo_R_km_P4_220)\n",
        "print(f'La pérdida asociada a la corriente a 220V para la planta 4 son de {Perdida_P4_220} W')\n",
        "Perdida_P4_220_Tri = 3*Perdida_P4_220\n",
        "print(f'La pérdida asociada a la corrient e a 220V para la planta 1 para las 3 líneas son de {Perdida_P4_220_Tri} W')"
      ]
    },
    {
      "cell_type": "markdown",
      "metadata": {
        "id": "ZOv91P6lNm0s"
      },
      "source": [
        "Grosor del cable sobre la Planta 5, a 220V:"
      ]
    },
    {
      "cell_type": "code",
      "execution_count": 41,
      "metadata": {
        "id": "okzK7_UeNm0s",
        "outputId": "26d8c281-1260-416f-d379-605dd9a741e5"
      },
      "outputs": [
        {
          "name": "stdout",
          "output_type": "stream",
          "text": [
            "La corriente necesaria es de 1396.9715056603966 A para la planta 1, por lo que se necesita de tres cables que soporten 475 A de cobre, el cual corresponde a un valor de 750 kcmil.\n",
            "El grosor del cable necesario para 475 A es de 380 mm², por lo cual la regla de 3 inversa necesaria para obtener la resistencia de Ohm/km es de 0.04815789473684211 Ohm\n",
            "Ahora bien, la Planta 5 se encuentra a 500 metros del transformador, por lo cual la resistencia de pérdida será menor, esta equivale a 0.024078947368421054 Ohm\n"
          ]
        }
      ],
      "source": [
        "print(f'La corriente necesaria es de {Corriente_Planta_5_220V} A para la planta 1, por lo que se necesita de tres cables que soporten 475 A de cobre, el cual corresponde a un valor de 750 kcmil.')\n",
        "\n",
        "R_km_P5_220 = (500/380)*0.0366\n",
        "print(f'El grosor del cable necesario para 475 A es de 380 mm\\u00B2, por lo cual la regla de 3 inversa necesaria para obtener la resistencia de Ohm/km es de {R_km_P5_220} Ohm')\n",
        "\n",
        "Resistencia_Final_P5_220 = (500*R_km_P5_220)/1000\n",
        "print(f'Ahora bien, la Planta 5 se encuentra a 500 metros del transformador, por lo cual la resistencia de pérdida será menor, esta equivale a {Resistencia_Final_P5_220} Ohm')"
      ]
    },
    {
      "cell_type": "code",
      "execution_count": 42,
      "metadata": {
        "id": "nEBxKDE4Nm0s",
        "outputId": "a8c22a12-84a7-4253-ab0a-826229670f15"
      },
      "outputs": [
        {
          "name": "stdout",
          "output_type": "stream",
          "text": [
            "La pérdida asociada a la corriente a 220V para la planta 5 son de 10024.698328021188 W\n",
            "La pérdida asociada a la corrient e a 220V para la planta 1 para las 3 líneas son de 30074.094984063566 W\n"
          ]
        }
      ],
      "source": [
        "Paralelo_R_km_P5_220 = Resistencia_Final_P5_220/3\n",
        "Perdida_P5_220 = Corriente_Planta_5_220V_Normal**2 * (Paralelo_R_km_P5_220)\n",
        "print(f'La pérdida asociada a la corriente a 220V para la planta 5 son de {Perdida_P5_220} W')\n",
        "Perdida_P5_220_Tri = 3*Perdida_P5_220\n",
        "print(f'La pérdida asociada a la corrient e a 220V para la planta 1 para las 3 líneas son de {Perdida_P5_220_Tri} W')"
      ]
    },
    {
      "cell_type": "markdown",
      "metadata": {
        "id": "2Axthjx_Nm0t"
      },
      "source": [
        "# PARA 380V"
      ]
    },
    {
      "cell_type": "markdown",
      "metadata": {
        "id": "TWGELF8UNm0t"
      },
      "source": [
        "Grosor del cable sobre la Planta 1, a 380V:"
      ]
    },
    {
      "cell_type": "code",
      "execution_count": 43,
      "metadata": {
        "id": "kfW5OgzYNm0t",
        "outputId": "3975379e-f691-4e37-92c5-9d1bc59d1f33"
      },
      "outputs": [
        {
          "name": "stdout",
          "output_type": "stream",
          "text": [
            "La corriente necesaria es de 428.91974895883834 A para la planta 1, por lo que se necesita de un solo cable que soporte 445 A de aluminio, el cual corresponde a un valor de 1000 kcmil.\n",
            "El grosor del cable necesario para 445 A es de 506 mm², por lo cual la regla de 3 inversa necesaria para obtener la resistencia de Ohm/km es de 0.06027667984189723 Ohm\n",
            "Ahora bien, la Planta 1 se encuentra a 200 metros del transformador, por lo cual la resistencia de pérdida será menor, esta equivale a 0.012055335968379446 Ohm\n"
          ]
        }
      ],
      "source": [
        "print(f'La corriente necesaria es de {Corriente_Planta_1_380V} A para la planta 1, por lo que se necesita de un solo cable que soporte 445 A de aluminio, el cual corresponde a un valor de 1000 kcmil.')\n",
        "\n",
        "R_km_P1_380 = (500/506)*0.061\n",
        "print(f'El grosor del cable necesario para 445 A es de 506 mm\\u00B2, por lo cual la regla de 3 inversa necesaria para obtener la resistencia de Ohm/km es de {R_km_P1_380} Ohm')\n",
        "\n",
        "Resistencia_Final_P1_380 = (200*R_km_P1_380)/1000\n",
        "print(f'Ahora bien, la Planta 1 se encuentra a 200 metros del transformador, por lo cual la resistencia de pérdida será menor, esta equivale a {Resistencia_Final_P1_380} Ohm')"
      ]
    },
    {
      "cell_type": "code",
      "execution_count": 44,
      "metadata": {
        "id": "_SKHQqWxNm0t",
        "outputId": "69d83f82-a933-457c-a75e-a0b1cfc8e2b1"
      },
      "outputs": [
        {
          "name": "stdout",
          "output_type": "stream",
          "text": [
            "La pérdida asociada a la corriente a 380V para la planta 1 son de 1419.4214974054307 W\n",
            "La pérdida asociada a la corrient e a 220V para la planta 1 para las 3 líneas son de 4258.264492216293 W\n"
          ]
        }
      ],
      "source": [
        "Perdida_P1_380 = Corriente_Planta_1_380V_Normal**2 * (Resistencia_Final_P1_380)\n",
        "print(f'La pérdida asociada a la corriente a 380V para la planta 1 son de {Perdida_P1_380} W')\n",
        "Perdida_P1_380_Tri = 3*Perdida_P1_380\n",
        "print(f'La pérdida asociada a la corrient e a 220V para la planta 1 para las 3 líneas son de {Perdida_P1_380_Tri} W')"
      ]
    },
    {
      "cell_type": "markdown",
      "metadata": {
        "id": "G7NDNTPCNm0t"
      },
      "source": [
        "Grosor del cable sobre la Planta 2, a 380V:"
      ]
    },
    {
      "cell_type": "code",
      "execution_count": 112,
      "metadata": {
        "id": "f_oobBlvNm0t",
        "outputId": "7702f15d-bfb7-4b9d-f4d4-56b92773f28a"
      },
      "outputs": [
        {
          "name": "stdout",
          "output_type": "stream",
          "text": [
            "La corriente necesaria es de 611.2793230444981 A para la planta 1, por lo que se necesita de un solo cable que soporte 625 A de cobre, el cual corresponde a un valor de 1500 kcmil.\n",
            "El grosor del cable necesario para 625 A es de 760 mm², por lo cual la regla de 3 inversa necesaria para obtener la resistencia de Ohm/km es de 0.024078947368421054 Ohm\n",
            "Ahora bien, la Planta 2 se encuentra a 300 metros del transformador, por lo cual la resistencia de pérdida será menor, esta equivale a 0.007223684210526316 Ohm\n"
          ]
        }
      ],
      "source": [
        "print(f'La corriente necesaria es de {Corriente_Planta_2_380V} A para la planta 1, por lo que se necesita de un solo cable que soporte 625 A de cobre, el cual corresponde a un valor de 1500 kcmil.')\n",
        "\n",
        "R_km_P2_380 = (500/760)*0.0366\n",
        "print(f'El grosor del cable necesario para 625 A es de 760 mm\\u00B2, por lo cual la regla de 3 inversa necesaria para obtener la resistencia de Ohm/km es de {R_km_P2_380} Ohm')\n",
        "\n",
        "Resistencia_Final_P2_380 = (300*R_km_P2_380)/1000\n",
        "print(f'Ahora bien, la Planta 2 se encuentra a 300 metros del transformador, por lo cual la resistencia de pérdida será menor, esta equivale a {Resistencia_Final_P2_380} Ohm')"
      ]
    },
    {
      "cell_type": "code",
      "execution_count": 46,
      "metadata": {
        "id": "aMHgt5WCNm0t",
        "outputId": "896ec892-287c-44bf-cd90-44fd697f045a"
      },
      "outputs": [
        {
          "name": "stdout",
          "output_type": "stream",
          "text": [
            "La pérdida asociada a la corriente a 380V para la planta 2 son de 1727.5003243720023 W\n",
            "La pérdida asociada a la corrient e a 220V para la planta 1 para las 3 líneas son de 1727.5003243720023 W\n"
          ]
        }
      ],
      "source": [
        "Perdida_P2_380 = Corriente_Planta_2_380V_Normal**2 * (Resistencia_Final_P2_380)\n",
        "print(f'La pérdida asociada a la corriente a 380V para la planta 2 son de {Perdida_P2_380} W')\n",
        "Perdida_P2_380_Tri = Perdida_P2_380\n",
        "print(f'La pérdida asociada a la corrient e a 220V para la planta 1 para las 3 líneas son de {Perdida_P2_380_Tri} W')"
      ]
    },
    {
      "cell_type": "markdown",
      "metadata": {
        "id": "ugzyIp5cNm0t"
      },
      "source": [
        "Grosor del cable sobre la Planta 3, a 380V:"
      ]
    },
    {
      "cell_type": "code",
      "execution_count": 47,
      "metadata": {
        "id": "WstGvOUiNm0t",
        "outputId": "c6c40b62-9306-48dc-da2d-57c3f266ff52"
      },
      "outputs": [
        {
          "name": "stdout",
          "output_type": "stream",
          "text": [
            "La corriente necesaria es de 685.5485951151388 A para la planta 1, por lo que se necesita de dos cables que soporte 375 A de aluminio, el cual corresponde a un valor de 700 kcmil.\n",
            "El grosor del cable necesario para 375 A es de 355 mm², por lo cual la regla de 3 inversa necesaria para obtener la resistencia de Ohm/km es de 0.08591549295774648 Ohm\n",
            "Ahora bien, la Planta 3 se encuentra a 350 metros del transformador, por lo cual la resistencia de pérdida será menor, esta equivale a 0.030070422535211267 Ohm\n"
          ]
        }
      ],
      "source": [
        "print(f'La corriente necesaria es de {Corriente_Planta_3_380V} A para la planta 1, por lo que se necesita de dos cables que soporte 375 A de aluminio, el cual corresponde a un valor de 700 kcmil.')\n",
        "\n",
        "R_km_P3_380 = (500/355)*0.061\n",
        "print(f'El grosor del cable necesario para 375 A es de 355 mm\\u00B2, por lo cual la regla de 3 inversa necesaria para obtener la resistencia de Ohm/km es de {R_km_P3_380} Ohm')\n",
        "\n",
        "Resistencia_Final_P3_380 = (350*R_km_P3_380)/1000\n",
        "print(f'Ahora bien, la Planta 3 se encuentra a 350 metros del transformador, por lo cual la resistencia de pérdida será menor, esta equivale a {Resistencia_Final_P3_380} Ohm')"
      ]
    },
    {
      "cell_type": "code",
      "execution_count": 48,
      "metadata": {
        "id": "-Ak3kxOvNm0t",
        "outputId": "8aeb9112-8f15-44f1-e3b3-b656bac68bb4"
      },
      "outputs": [
        {
          "name": "stdout",
          "output_type": "stream",
          "text": [
            "La pérdida asociada a la corriente a 220V para la planta 5 son de 1085.9803896182552 W\n",
            "La pérdida asociada a la corrient e a 220V para la planta 1 para las 3 líneas son de 3257.9411688547657 W\n"
          ]
        }
      ],
      "source": [
        "Paralelo_R_km_P3_380 = Resistencia_Final_P3_220/2\n",
        "Perdida_P3_380 = Corriente_Planta_3_380V_Normal**2 * (Paralelo_R_km_P3_380)\n",
        "print(f'La pérdida asociada a la corriente a 220V para la planta 5 son de {Perdida_P3_380} W')\n",
        "Perdida_P3_380_Tri = 3*Perdida_P3_380\n",
        "print(f'La pérdida asociada a la corrient e a 220V para la planta 1 para las 3 líneas son de {Perdida_P3_380_Tri} W')"
      ]
    },
    {
      "cell_type": "markdown",
      "metadata": {
        "id": "YSHKOq-YNm0t"
      },
      "source": [
        "Grosor del cable sobre la Planta 4, a 380V:"
      ]
    },
    {
      "cell_type": "code",
      "execution_count": 49,
      "metadata": {
        "id": "aJyPEZ8MNm0u",
        "outputId": "1f8983bf-0098-4b68-b7ec-8ebf2a2c1f31"
      },
      "outputs": [
        {
          "name": "stdout",
          "output_type": "stream",
          "text": [
            "La corriente necesaria es de 448.51827787028714 A para la planta 1, por lo que se necesita de un solo cable que soporte 460 A de cobre, el cual corresponde a un valor de 750 kcmil.\n",
            "El grosor del cable necesario para 460 A es de 355 mm², por lo cual la regla de 3 inversa necesaria para obtener la resistencia de Ohm/km es de 0.05154929577464788 Ohm\n",
            "Ahora bien, la Planta 4 se encuentra a 300 metros del transformador, por lo cual la resistencia de pérdida será menor, esta equivale a 0.015464788732394364 Ohm\n"
          ]
        }
      ],
      "source": [
        "print(f'La corriente necesaria es de {Corriente_Planta_4_380V} A para la planta 1, por lo que se necesita de un solo cable que soporte 460 A de cobre, el cual corresponde a un valor de 750 kcmil.')\n",
        "\n",
        "R_km_P4_380 = (500/355)*0.0366\n",
        "print(f'El grosor del cable necesario para 460 A es de 355 mm\\u00B2, por lo cual la regla de 3 inversa necesaria para obtener la resistencia de Ohm/km es de {R_km_P4_380} Ohm')\n",
        "\n",
        "Resistencia_Final_P4_380 = (300*R_km_P4_380)/1000\n",
        "print(f'Ahora bien, la Planta 4 se encuentra a 300 metros del transformador, por lo cual la resistencia de pérdida será menor, esta equivale a {Resistencia_Final_P4_380} Ohm')"
      ]
    },
    {
      "cell_type": "code",
      "execution_count": 50,
      "metadata": {
        "id": "sLzmXeyDNm0u",
        "outputId": "c4c55ab1-9565-48cb-d420-be94c791ea0c"
      },
      "outputs": [
        {
          "name": "stdout",
          "output_type": "stream",
          "text": [
            "La pérdida asociada a la corriente a 380V para la planta 2 son de 1991.0595862619343 W\n",
            "La pérdida asociada a la corrient e a 220V para la planta 1 para las 3 líneas son de 5973.178758785803 W\n"
          ]
        }
      ],
      "source": [
        "Perdida_P4_380 = Corriente_Planta_4_380V_Normal**2 * (Resistencia_Final_P4_380)\n",
        "print(f'La pérdida asociada a la corriente a 380V para la planta 2 son de {Perdida_P4_380} W')\n",
        "Perdida_P4_380_Tri = 3*Perdida_P4_380\n",
        "print(f'La pérdida asociada a la corrient e a 220V para la planta 1 para las 3 líneas son de {Perdida_P4_380_Tri} W')"
      ]
    },
    {
      "cell_type": "markdown",
      "metadata": {
        "id": "quRSz87-Nm0u"
      },
      "source": [
        "Grosor del cable sobre la Planta 5, a 380V:"
      ]
    },
    {
      "cell_type": "code",
      "execution_count": 51,
      "metadata": {
        "id": "G14h_5YgNm0u",
        "outputId": "c524ddf8-552c-46e8-e476-4e17a0c802a6"
      },
      "outputs": [
        {
          "name": "stdout",
          "output_type": "stream",
          "text": [
            "La corriente necesaria es de 808.7729769612822 A para la planta 1, por lo que se necesita de dos cables que soporte 420 A de cobre, el cual corresponde a un valor de 600 kcmil.\n",
            "El grosor del cable necesario para 420 A es de 304 mm², por lo cual la regla de 3 inversa necesaria para obtener la resistencia de Ohm/km es de 0.04357142857142857 Ohm\n",
            "Ahora bien, la Planta 3 se encuentra a 500 metros del transformador, por lo cual la resistencia de pérdida será menor, esta equivale a 0.021785714285714287 Ohm\n"
          ]
        }
      ],
      "source": [
        "print(f'La corriente necesaria es de {Corriente_Planta_5_380V} A para la planta 1, por lo que se necesita de dos cables que soporte 420 A de cobre, el cual corresponde a un valor de 600 kcmil.')\n",
        "\n",
        "R_km_P5_380 = (500/420)*0.0366\n",
        "print(f'El grosor del cable necesario para 420 A es de 304 mm\\u00B2, por lo cual la regla de 3 inversa necesaria para obtener la resistencia de Ohm/km es de {R_km_P5_380} Ohm')\n",
        "\n",
        "Resistencia_Final_P5_380 = (500*R_km_P5_380)/1000\n",
        "print(f'Ahora bien, la Planta 3 se encuentra a 500 metros del transformador, por lo cual la resistencia de pérdida será menor, esta equivale a {Resistencia_Final_P5_380} Ohm')"
      ]
    },
    {
      "cell_type": "code",
      "execution_count": 52,
      "metadata": {
        "id": "6zSenYi3Nm0u",
        "outputId": "b8de1f73-9497-41d4-eb93-4e8838eb78b7"
      },
      "outputs": [
        {
          "name": "stdout",
          "output_type": "stream",
          "text": [
            "La pérdida asociada a la corriente a 220V para la planta 5 son de 4560.107134175054 W\n",
            "La pérdida asociada a la corrient e a 220V para la planta 1 para las 3 líneas son de 13680.321402525162 W\n"
          ]
        }
      ],
      "source": [
        "Paralelo_R_km_P5_380 = Resistencia_Final_P5_380/2\n",
        "Perdida_P5_380 = Corriente_Planta_5_380V_Normal**2 * (Paralelo_R_km_P5_380)\n",
        "print(f'La pérdida asociada a la corriente a 220V para la planta 5 son de {Perdida_P5_380} W')\n",
        "Perdida_P5_380_Tri = 3*Perdida_P5_380\n",
        "print(f'La pérdida asociada a la corrient e a 220V para la planta 1 para las 3 líneas son de {Perdida_P5_380_Tri} W')"
      ]
    },
    {
      "cell_type": "markdown",
      "metadata": {
        "id": "i79Gf4hLNm0u"
      },
      "source": [
        "Esta ecuación es para cuando es a 220 o 380\n",
        "\n",
        "PotenciaEntradaTransformador_sinAuxiliares = PotenciaEntradaTransformador_sinAuxiliares + (PotenciaPlanta(i) + PerdidasPlanta(i))/EficienciaTransformador\n",
        "\n",
        "PotenciaEntradaTransformador = PotenciaEntradaTransformador_sinAuxiliares + Potencia_Auxiliares\n",
        "\n",
        "CostoTotalAnual = PotenciaEntradaTransformador * DíasTrabajo_Año * Precio(Nivel 2 o 3)\n"
      ]
    },
    {
      "cell_type": "code",
      "execution_count": 53,
      "metadata": {
        "id": "VnR2gsVyNm0u",
        "outputId": "452a2a86-a005-4411-9460-01da024263c9"
      },
      "outputs": [
        {
          "name": "stdout",
          "output_type": "stream",
          "text": [
            "La potencia de entrada del transformador a 220V es de 1,564,752.717825931 W\n"
          ]
        }
      ],
      "source": [
        "PerdidasXPlanta_Trifasica_220 = [Perdida_P1_220_Tri, Perdida_P2_220_Tri, Perdida_P3_220_Tri, Perdida_P4_220_Tri, Perdida_P5_220_Tri]\n",
        "PotenciaXPlanta_220 = [Potencia_Planta_1_220, Potencia_Planta_2_220, Potencia_Planta_3_220, Potencia_Planta_4_220, Potencia_Planta_5_220]\n",
        "\n",
        "PotenciaEntradaTransformador_sinAuxiliares_220 = 0\n",
        "Eficiencia_Transformador = 0.9\n",
        "Potencia_Auxiliares = 480000\n",
        "\n",
        "for i in range(len(PerdidasXPlanta_Trifasica_220)):\n",
        "    PotenciaEntradaTransformador_sinAuxiliares_220 += (PerdidasXPlanta_Trifasica_220[i] + PotenciaXPlanta_220[i])/Eficiencia_Transformador\n",
        "\n",
        "PotenciaEntradaTransformador_220 = PotenciaEntradaTransformador_sinAuxiliares_220 + Potencia_Auxiliares\n",
        "\n",
        "print(f'La potencia de entrada del transformador a 220V es de {PotenciaEntradaTransformador_220:,} W')"
      ]
    },
    {
      "cell_type": "code",
      "execution_count": 54,
      "metadata": {
        "id": "s9Hf_3cKNm0u",
        "outputId": "dfedb24e-0654-4dfb-9ace-71726e9f387a"
      },
      "outputs": [
        {
          "name": "stdout",
          "output_type": "stream",
          "text": [
            "La potencia de entrada del transformador a 380V es de 1,519,712.2649106306 W\n"
          ]
        }
      ],
      "source": [
        "PerdidasXPlanta_Trifasica_380 = [Perdida_P1_380_Tri, Perdida_P2_380_Tri, Perdida_P3_380_Tri, Perdida_P4_380_Tri, Perdida_P5_380_Tri]\n",
        "PotenciaXPlanta_380 = [Potencia_Planta_1_380, Potencia_Planta_2_380, Potencia_Planta_3_380, Potencia_Planta_4_380, Potencia_Planta_5_380]\n",
        "\n",
        "PotenciaEntradaTransformador_sinAuxiliares_380 = 0\n",
        "Eficiencia_Transformador = 0.9\n",
        "Potencia_Auxiliares = 480000\n",
        "\n",
        "for i in range(len(PerdidasXPlanta_Trifasica_380)):\n",
        "    PotenciaEntradaTransformador_sinAuxiliares_380 += (PerdidasXPlanta_Trifasica_380[i] + PotenciaXPlanta_380[i])/Eficiencia_Transformador\n",
        "\n",
        "PotenciaEntradaTransformador_380 = PotenciaEntradaTransformador_sinAuxiliares_380 + Potencia_Auxiliares\n",
        "\n",
        "print(f'La potencia de entrada del transformador a 380V es de {PotenciaEntradaTransformador_380:,} W')"
      ]
    },
    {
      "cell_type": "code",
      "execution_count": 55,
      "metadata": {
        "id": "DIXUzrZ8Nm0u",
        "notebookRunGroups": {
          "groupValue": ""
        },
        "outputId": "c2969348-c2ea-48e8-ac24-223234a73505"
      },
      "outputs": [
        {
          "name": "stdout",
          "output_type": "stream",
          "text": [
            "El costo total de la energía eléctrica consumida por los motores a 220V con un trasnformador de 13200/220 es de 6,400,965,738.585762 pesos\n",
            "El costo total de la energía eléctrica consumida por los motores a 380V con un trasnformador de 13200/220 es de 6,216,717,842.62314 pesos\n",
            "El costo total de la energía eléctrica consumida por los motores a 220V con un trasnformador de 44000/220 es de 5,589,302,216.003793 pesos\n",
            "El costo total de la energía eléctrica consumida por los motores a 380V con un trasnformador de 44000/220 es de 5,428,417,559.647945 pesos\n"
          ]
        }
      ],
      "source": [
        "CostoTotal_220_13200 = (PotenciaEntradaTransformador_220/1000) * TOTALHORAS * TARIFA_T1\n",
        "CostoTotal_380_13200 = (PotenciaEntradaTransformador_380/1000) * TOTALHORAS * TARIFA_T1\n",
        "print(f'El costo total de la energía eléctrica consumida por los motores a 220V con un trasnformador de 13200/220 es de {CostoTotal_220_13200:,} pesos')\n",
        "print(f'El costo total de la energía eléctrica consumida por los motores a 380V con un trasnformador de 13200/220 es de {CostoTotal_380_13200:,} pesos')\n",
        "\n",
        "CostoTotal_220_44000 = (PotenciaEntradaTransformador_220/1000) * TOTALHORAS * TARIFA_T2\n",
        "CostoTotal_380_44000 = (PotenciaEntradaTransformador_380/1000) * TOTALHORAS * TARIFA_T2\n",
        "print(f'El costo total de la energía eléctrica consumida por los motores a 220V con un trasnformador de 44000/220 es de {CostoTotal_220_44000:,} pesos')\n",
        "print(f'El costo total de la energía eléctrica consumida por los motores a 380V con un trasnformador de 44000/220 es de {CostoTotal_380_44000:,} pesos')"
      ]
    },
    {
      "cell_type": "code",
      "execution_count": 70,
      "metadata": {},
      "outputs": [
        {
          "data": {
            "text/html": [
              "<div>\n",
              "<style scoped>\n",
              "    .dataframe tbody tr th:only-of-type {\n",
              "        vertical-align: middle;\n",
              "    }\n",
              "\n",
              "    .dataframe tbody tr th {\n",
              "        vertical-align: top;\n",
              "    }\n",
              "\n",
              "    .dataframe thead th {\n",
              "        text-align: right;\n",
              "    }\n",
              "</style>\n",
              "<table border=\"1\" class=\"dataframe\">\n",
              "  <thead>\n",
              "    <tr style=\"text-align: right;\">\n",
              "      <th></th>\n",
              "      <th>Planta</th>\n",
              "      <th>Distancia</th>\n",
              "      <th>Motor</th>\n",
              "      <th>Potencia (HP)</th>\n",
              "      <th>Eficiencia (%)</th>\n",
              "      <th>Factor de carga maximo</th>\n",
              "      <th>Factor de potencia</th>\n",
              "      <th>Potencia Entrada (W)</th>\n",
              "      <th>Corriente a 220V (A)</th>\n",
              "      <th>Corriente a 380V (A)</th>\n",
              "      <th>Potencia Salida (W)</th>\n",
              "      <th>Pérdidas Motor (W)</th>\n",
              "      <th>Corriente a 220V (A) +25%</th>\n",
              "      <th>Corriente a 380V (A) +25%</th>\n",
              "      <th>Velocidad síncrona (RPM)</th>\n",
              "      <th>Velocidad real (RPM)</th>\n",
              "      <th>Deslizamiento (RPM)</th>\n",
              "      <th>Deslizamiento (%)</th>\n",
              "      <th>Torque (N.m)</th>\n",
              "      <th>theta (°)</th>\n",
              "      <th>Real Corriente 220V Normal</th>\n",
              "      <th>Imaginaria Corriente 220V Normal</th>\n",
              "      <th>Real Corriente 380V Normal</th>\n",
              "      <th>Imaginaria Corriente 380V Normal</th>\n",
              "      <th>Real Corriente 220V +25%</th>\n",
              "      <th>Imaginaria Corriente 220V +25%</th>\n",
              "      <th>Real Corriente 380V +25%</th>\n",
              "      <th>Imaginaria Corriente 380V +25%</th>\n",
              "      <th>kw/año</th>\n",
              "      <th>costo/año</th>\n",
              "      <th>cambio FC</th>\n",
              "      <th>cambio Eficiencia</th>\n",
              "      <th>cambio</th>\n",
              "    </tr>\n",
              "  </thead>\n",
              "  <tbody>\n",
              "    <tr>\n",
              "      <th>0</th>\n",
              "      <td>Planta 1</td>\n",
              "      <td>200</td>\n",
              "      <td>1</td>\n",
              "      <td>30.0</td>\n",
              "      <td>0.917</td>\n",
              "      <td>0.960</td>\n",
              "      <td>0.74</td>\n",
              "      <td>19524.536532</td>\n",
              "      <td>69.241379</td>\n",
              "      <td>40.087114</td>\n",
              "      <td>17904.0</td>\n",
              "      <td>1620.536532</td>\n",
              "      <td>86.551723</td>\n",
              "      <td>50.108892</td>\n",
              "      <td>3600</td>\n",
              "      <td>3540</td>\n",
              "      <td>60</td>\n",
              "      <td>1.666667</td>\n",
              "      <td>57.956138</td>\n",
              "      <td>42.268584</td>\n",
              "      <td>51.238620</td>\n",
              "      <td>46.572227</td>\n",
              "      <td>29.664464</td>\n",
              "      <td>26.962868</td>\n",
              "      <td>64.048275</td>\n",
              "      <td>58.215283</td>\n",
              "      <td>37.080580</td>\n",
              "      <td>33.703585</td>\n",
              "      <td>87157.531080</td>\n",
              "      <td>7.986942e+07</td>\n",
              "      <td>No</td>\n",
              "      <td>Si</td>\n",
              "      <td>Si</td>\n",
              "    </tr>\n",
              "    <tr>\n",
              "      <th>1</th>\n",
              "      <td>Planta 2</td>\n",
              "      <td>300</td>\n",
              "      <td>1</td>\n",
              "      <td>40.0</td>\n",
              "      <td>0.924</td>\n",
              "      <td>0.960</td>\n",
              "      <td>0.82</td>\n",
              "      <td>25835.497835</td>\n",
              "      <td>82.683656</td>\n",
              "      <td>47.869485</td>\n",
              "      <td>23872.0</td>\n",
              "      <td>1963.497835</td>\n",
              "      <td>103.354571</td>\n",
              "      <td>59.836857</td>\n",
              "      <td>3600</td>\n",
              "      <td>3565</td>\n",
              "      <td>35</td>\n",
              "      <td>0.972222</td>\n",
              "      <td>76.732951</td>\n",
              "      <td>34.915206</td>\n",
              "      <td>67.800598</td>\n",
              "      <td>47.325109</td>\n",
              "      <td>39.252978</td>\n",
              "      <td>27.398747</td>\n",
              "      <td>84.750748</td>\n",
              "      <td>59.156386</td>\n",
              "      <td>49.066222</td>\n",
              "      <td>34.248434</td>\n",
              "      <td>115329.662338</td>\n",
              "      <td>1.056858e+08</td>\n",
              "      <td>No</td>\n",
              "      <td>Si</td>\n",
              "      <td>Si</td>\n",
              "    </tr>\n",
              "    <tr>\n",
              "      <th>2</th>\n",
              "      <td>Planta 3</td>\n",
              "      <td>350</td>\n",
              "      <td>1</td>\n",
              "      <td>50.0</td>\n",
              "      <td>0.930</td>\n",
              "      <td>0.864</td>\n",
              "      <td>0.78</td>\n",
              "      <td>28877.419355</td>\n",
              "      <td>97.158426</td>\n",
              "      <td>56.249615</td>\n",
              "      <td>26856.0</td>\n",
              "      <td>2021.419355</td>\n",
              "      <td>121.448032</td>\n",
              "      <td>70.312019</td>\n",
              "      <td>3600</td>\n",
              "      <td>3570</td>\n",
              "      <td>30</td>\n",
              "      <td>0.833333</td>\n",
              "      <td>86.203667</td>\n",
              "      <td>38.739425</td>\n",
              "      <td>75.783572</td>\n",
              "      <td>60.799752</td>\n",
              "      <td>43.874700</td>\n",
              "      <td>35.199857</td>\n",
              "      <td>94.729465</td>\n",
              "      <td>75.999690</td>\n",
              "      <td>54.843374</td>\n",
              "      <td>43.999821</td>\n",
              "      <td>128908.800000</td>\n",
              "      <td>1.181294e+08</td>\n",
              "      <td>Si</td>\n",
              "      <td>Si</td>\n",
              "      <td>Si</td>\n",
              "    </tr>\n",
              "    <tr>\n",
              "      <th>3</th>\n",
              "      <td>Planta 4</td>\n",
              "      <td>300</td>\n",
              "      <td>1</td>\n",
              "      <td>25.0</td>\n",
              "      <td>0.917</td>\n",
              "      <td>0.864</td>\n",
              "      <td>0.78</td>\n",
              "      <td>14643.402399</td>\n",
              "      <td>49.267904</td>\n",
              "      <td>28.523523</td>\n",
              "      <td>13428.0</td>\n",
              "      <td>1215.402399</td>\n",
              "      <td>61.584880</td>\n",
              "      <td>35.654404</td>\n",
              "      <td>3600</td>\n",
              "      <td>3545</td>\n",
              "      <td>55</td>\n",
              "      <td>1.527778</td>\n",
              "      <td>43.405796</td>\n",
              "      <td>38.739425</td>\n",
              "      <td>38.428965</td>\n",
              "      <td>30.830845</td>\n",
              "      <td>22.248348</td>\n",
              "      <td>17.849437</td>\n",
              "      <td>48.036206</td>\n",
              "      <td>38.538556</td>\n",
              "      <td>27.810435</td>\n",
              "      <td>22.311796</td>\n",
              "      <td>65368.148310</td>\n",
              "      <td>5.990206e+07</td>\n",
              "      <td>Si</td>\n",
              "      <td>Si</td>\n",
              "      <td>Si</td>\n",
              "    </tr>\n",
              "    <tr>\n",
              "      <th>4</th>\n",
              "      <td>Planta 5</td>\n",
              "      <td>500</td>\n",
              "      <td>1</td>\n",
              "      <td>75.0</td>\n",
              "      <td>0.936</td>\n",
              "      <td>0.960</td>\n",
              "      <td>0.81</td>\n",
              "      <td>47820.512821</td>\n",
              "      <td>154.933703</td>\n",
              "      <td>89.698460</td>\n",
              "      <td>44760.0</td>\n",
              "      <td>3060.512821</td>\n",
              "      <td>193.667129</td>\n",
              "      <td>112.123075</td>\n",
              "      <td>3600</td>\n",
              "      <td>3577</td>\n",
              "      <td>23</td>\n",
              "      <td>0.638889</td>\n",
              "      <td>143.391618</td>\n",
              "      <td>35.904069</td>\n",
              "      <td>125.496300</td>\n",
              "      <td>90.857753</td>\n",
              "      <td>72.655752</td>\n",
              "      <td>52.601857</td>\n",
              "      <td>156.870375</td>\n",
              "      <td>113.572191</td>\n",
              "      <td>90.819691</td>\n",
              "      <td>65.752321</td>\n",
              "      <td>213470.769231</td>\n",
              "      <td>1.956203e+08</td>\n",
              "      <td>Si</td>\n",
              "      <td>No</td>\n",
              "      <td>Si</td>\n",
              "    </tr>\n",
              "    <tr>\n",
              "      <th>5</th>\n",
              "      <td>Planta 1</td>\n",
              "      <td>200</td>\n",
              "      <td>2</td>\n",
              "      <td>50.0</td>\n",
              "      <td>0.930</td>\n",
              "      <td>0.960</td>\n",
              "      <td>0.75</td>\n",
              "      <td>32086.021505</td>\n",
              "      <td>112.271959</td>\n",
              "      <td>64.999555</td>\n",
              "      <td>29840.0</td>\n",
              "      <td>2246.021505</td>\n",
              "      <td>140.339948</td>\n",
              "      <td>81.249444</td>\n",
              "      <td>3600</td>\n",
              "      <td>3570</td>\n",
              "      <td>30</td>\n",
              "      <td>0.833333</td>\n",
              "      <td>95.781852</td>\n",
              "      <td>41.409622</td>\n",
              "      <td>84.203969</td>\n",
              "      <td>74.260920</td>\n",
              "      <td>48.749666</td>\n",
              "      <td>42.993164</td>\n",
              "      <td>105.254961</td>\n",
              "      <td>92.826150</td>\n",
              "      <td>60.937083</td>\n",
              "      <td>53.741456</td>\n",
              "      <td>143232.000000</td>\n",
              "      <td>1.312549e+08</td>\n",
              "      <td>No</td>\n",
              "      <td>Si</td>\n",
              "      <td>Si</td>\n",
              "    </tr>\n",
              "    <tr>\n",
              "      <th>6</th>\n",
              "      <td>Planta 2</td>\n",
              "      <td>300</td>\n",
              "      <td>2</td>\n",
              "      <td>125.0</td>\n",
              "      <td>0.950</td>\n",
              "      <td>0.960</td>\n",
              "      <td>0.83</td>\n",
              "      <td>78526.315789</td>\n",
              "      <td>248.286909</td>\n",
              "      <td>143.745053</td>\n",
              "      <td>74600.0</td>\n",
              "      <td>3926.315789</td>\n",
              "      <td>310.358636</td>\n",
              "      <td>179.681316</td>\n",
              "      <td>3600</td>\n",
              "      <td>3580</td>\n",
              "      <td>20</td>\n",
              "      <td>0.555556</td>\n",
              "      <td>238.785763</td>\n",
              "      <td>33.901262</td>\n",
              "      <td>206.078134</td>\n",
              "      <td>138.485348</td>\n",
              "      <td>119.308394</td>\n",
              "      <td>80.175728</td>\n",
              "      <td>257.597668</td>\n",
              "      <td>173.106685</td>\n",
              "      <td>149.135492</td>\n",
              "      <td>100.219660</td>\n",
              "      <td>350541.473684</td>\n",
              "      <td>3.212292e+08</td>\n",
              "      <td>No</td>\n",
              "      <td>Si</td>\n",
              "      <td>Si</td>\n",
              "    </tr>\n",
              "    <tr>\n",
              "      <th>7</th>\n",
              "      <td>Planta 3</td>\n",
              "      <td>350</td>\n",
              "      <td>2</td>\n",
              "      <td>150.0</td>\n",
              "      <td>0.900</td>\n",
              "      <td>0.800</td>\n",
              "      <td>0.79</td>\n",
              "      <td>99466.666667</td>\n",
              "      <td>330.420637</td>\n",
              "      <td>191.296158</td>\n",
              "      <td>89520.0</td>\n",
              "      <td>9946.666667</td>\n",
              "      <td>413.025797</td>\n",
              "      <td>239.120198</td>\n",
              "      <td>3600</td>\n",
              "      <td>3580</td>\n",
              "      <td>20</td>\n",
              "      <td>0.555556</td>\n",
              "      <td>238.785763</td>\n",
              "      <td>37.814489</td>\n",
              "      <td>261.032304</td>\n",
              "      <td>202.583154</td>\n",
              "      <td>151.123965</td>\n",
              "      <td>117.284984</td>\n",
              "      <td>326.290379</td>\n",
              "      <td>253.228942</td>\n",
              "      <td>188.904956</td>\n",
              "      <td>146.606230</td>\n",
              "      <td>444019.200000</td>\n",
              "      <td>4.068903e+08</td>\n",
              "      <td>No</td>\n",
              "      <td>No</td>\n",
              "      <td>No</td>\n",
              "    </tr>\n",
              "    <tr>\n",
              "      <th>8</th>\n",
              "      <td>Planta 4</td>\n",
              "      <td>300</td>\n",
              "      <td>2</td>\n",
              "      <td>30.0</td>\n",
              "      <td>0.917</td>\n",
              "      <td>0.960</td>\n",
              "      <td>0.79</td>\n",
              "      <td>19524.536532</td>\n",
              "      <td>64.859013</td>\n",
              "      <td>37.549955</td>\n",
              "      <td>17904.0</td>\n",
              "      <td>1620.536532</td>\n",
              "      <td>81.073766</td>\n",
              "      <td>46.937443</td>\n",
              "      <td>3600</td>\n",
              "      <td>3540</td>\n",
              "      <td>60</td>\n",
              "      <td>1.666667</td>\n",
              "      <td>57.956138</td>\n",
              "      <td>37.814489</td>\n",
              "      <td>51.238620</td>\n",
              "      <td>39.765505</td>\n",
              "      <td>29.664464</td>\n",
              "      <td>23.022134</td>\n",
              "      <td>64.048275</td>\n",
              "      <td>49.706881</td>\n",
              "      <td>37.080580</td>\n",
              "      <td>28.777668</td>\n",
              "      <td>87157.531080</td>\n",
              "      <td>7.986942e+07</td>\n",
              "      <td>Si</td>\n",
              "      <td>Si</td>\n",
              "      <td>Si</td>\n",
              "    </tr>\n",
              "    <tr>\n",
              "      <th>9</th>\n",
              "      <td>Planta 5</td>\n",
              "      <td>500</td>\n",
              "      <td>2</td>\n",
              "      <td>200.0</td>\n",
              "      <td>0.954</td>\n",
              "      <td>0.900</td>\n",
              "      <td>0.82</td>\n",
              "      <td>117295.597484</td>\n",
              "      <td>375.391601</td>\n",
              "      <td>217.331979</td>\n",
              "      <td>111900.0</td>\n",
              "      <td>5395.597484</td>\n",
              "      <td>469.239501</td>\n",
              "      <td>271.664974</td>\n",
              "      <td>3600</td>\n",
              "      <td>3582</td>\n",
              "      <td>18</td>\n",
              "      <td>0.500000</td>\n",
              "      <td>357.978656</td>\n",
              "      <td>34.915206</td>\n",
              "      <td>307.821113</td>\n",
              "      <td>214.860458</td>\n",
              "      <td>178.212223</td>\n",
              "      <td>124.392897</td>\n",
              "      <td>384.776391</td>\n",
              "      <td>268.575573</td>\n",
              "      <td>222.765279</td>\n",
              "      <td>155.491121</td>\n",
              "      <td>523607.547170</td>\n",
              "      <td>4.798235e+08</td>\n",
              "      <td>Si</td>\n",
              "      <td>No</td>\n",
              "      <td>Si</td>\n",
              "    </tr>\n",
              "    <tr>\n",
              "      <th>10</th>\n",
              "      <td>Planta 1</td>\n",
              "      <td>200</td>\n",
              "      <td>3</td>\n",
              "      <td>30.0</td>\n",
              "      <td>0.917</td>\n",
              "      <td>0.960</td>\n",
              "      <td>0.81</td>\n",
              "      <td>19524.536532</td>\n",
              "      <td>63.257556</td>\n",
              "      <td>36.622795</td>\n",
              "      <td>17904.0</td>\n",
              "      <td>1620.536532</td>\n",
              "      <td>79.071945</td>\n",
              "      <td>45.778494</td>\n",
              "      <td>3600</td>\n",
              "      <td>3540</td>\n",
              "      <td>60</td>\n",
              "      <td>1.666667</td>\n",
              "      <td>57.956138</td>\n",
              "      <td>35.904069</td>\n",
              "      <td>51.238620</td>\n",
              "      <td>37.096121</td>\n",
              "      <td>29.664464</td>\n",
              "      <td>21.476701</td>\n",
              "      <td>64.048275</td>\n",
              "      <td>46.370151</td>\n",
              "      <td>37.080580</td>\n",
              "      <td>26.845877</td>\n",
              "      <td>87157.531080</td>\n",
              "      <td>7.986942e+07</td>\n",
              "      <td>Si</td>\n",
              "      <td>Si</td>\n",
              "      <td>Si</td>\n",
              "    </tr>\n",
              "    <tr>\n",
              "      <th>11</th>\n",
              "      <td>Planta 2</td>\n",
              "      <td>300</td>\n",
              "      <td>3</td>\n",
              "      <td>125.0</td>\n",
              "      <td>0.950</td>\n",
              "      <td>0.864</td>\n",
              "      <td>0.84</td>\n",
              "      <td>70673.684211</td>\n",
              "      <td>220.798001</td>\n",
              "      <td>127.830422</td>\n",
              "      <td>67140.0</td>\n",
              "      <td>3533.684211</td>\n",
              "      <td>275.997501</td>\n",
              "      <td>159.788027</td>\n",
              "      <td>3600</td>\n",
              "      <td>3580</td>\n",
              "      <td>20</td>\n",
              "      <td>0.555556</td>\n",
              "      <td>214.907186</td>\n",
              "      <td>32.859880</td>\n",
              "      <td>185.470321</td>\n",
              "      <td>119.801992</td>\n",
              "      <td>107.377554</td>\n",
              "      <td>69.359048</td>\n",
              "      <td>231.837901</td>\n",
              "      <td>149.752490</td>\n",
              "      <td>134.221943</td>\n",
              "      <td>86.698810</td>\n",
              "      <td>315487.326316</td>\n",
              "      <td>2.891063e+08</td>\n",
              "      <td>Si</td>\n",
              "      <td>Si</td>\n",
              "      <td>Si</td>\n",
              "    </tr>\n",
              "    <tr>\n",
              "      <th>12</th>\n",
              "      <td>Planta 3</td>\n",
              "      <td>350</td>\n",
              "      <td>3</td>\n",
              "      <td>30.0</td>\n",
              "      <td>0.917</td>\n",
              "      <td>0.960</td>\n",
              "      <td>0.77</td>\n",
              "      <td>19524.536532</td>\n",
              "      <td>66.543662</td>\n",
              "      <td>38.525278</td>\n",
              "      <td>17904.0</td>\n",
              "      <td>1620.536532</td>\n",
              "      <td>83.179578</td>\n",
              "      <td>48.156598</td>\n",
              "      <td>3600</td>\n",
              "      <td>3540</td>\n",
              "      <td>60</td>\n",
              "      <td>1.666667</td>\n",
              "      <td>57.956138</td>\n",
              "      <td>39.646111</td>\n",
              "      <td>51.238620</td>\n",
              "      <td>42.457777</td>\n",
              "      <td>29.664464</td>\n",
              "      <td>24.580818</td>\n",
              "      <td>64.048275</td>\n",
              "      <td>53.072221</td>\n",
              "      <td>37.080580</td>\n",
              "      <td>30.726023</td>\n",
              "      <td>87157.531080</td>\n",
              "      <td>7.986942e+07</td>\n",
              "      <td>No</td>\n",
              "      <td>Si</td>\n",
              "      <td>Si</td>\n",
              "    </tr>\n",
              "    <tr>\n",
              "      <th>13</th>\n",
              "      <td>Planta 4</td>\n",
              "      <td>300</td>\n",
              "      <td>3</td>\n",
              "      <td>150.0</td>\n",
              "      <td>0.900</td>\n",
              "      <td>0.700</td>\n",
              "      <td>0.80</td>\n",
              "      <td>87033.333333</td>\n",
              "      <td>285.504082</td>\n",
              "      <td>165.291837</td>\n",
              "      <td>78330.0</td>\n",
              "      <td>8703.333333</td>\n",
              "      <td>356.880102</td>\n",
              "      <td>206.614796</td>\n",
              "      <td>3600</td>\n",
              "      <td>3580</td>\n",
              "      <td>20</td>\n",
              "      <td>0.555556</td>\n",
              "      <td>208.937542</td>\n",
              "      <td>36.869898</td>\n",
              "      <td>228.403266</td>\n",
              "      <td>171.302449</td>\n",
              "      <td>132.233470</td>\n",
              "      <td>99.175102</td>\n",
              "      <td>285.504082</td>\n",
              "      <td>214.128061</td>\n",
              "      <td>165.291837</td>\n",
              "      <td>123.968878</td>\n",
              "      <td>388516.800000</td>\n",
              "      <td>3.560290e+08</td>\n",
              "      <td>Si</td>\n",
              "      <td>No</td>\n",
              "      <td>No</td>\n",
              "    </tr>\n",
              "    <tr>\n",
              "      <th>14</th>\n",
              "      <td>Planta 5</td>\n",
              "      <td>500</td>\n",
              "      <td>3</td>\n",
              "      <td>50.0</td>\n",
              "      <td>0.930</td>\n",
              "      <td>0.864</td>\n",
              "      <td>0.83</td>\n",
              "      <td>28877.419355</td>\n",
              "      <td>91.305508</td>\n",
              "      <td>52.861084</td>\n",
              "      <td>26856.0</td>\n",
              "      <td>2021.419355</td>\n",
              "      <td>114.131886</td>\n",
              "      <td>66.076355</td>\n",
              "      <td>3600</td>\n",
              "      <td>3570</td>\n",
              "      <td>30</td>\n",
              "      <td>0.833333</td>\n",
              "      <td>86.203667</td>\n",
              "      <td>33.901262</td>\n",
              "      <td>75.783572</td>\n",
              "      <td>50.926870</td>\n",
              "      <td>43.874700</td>\n",
              "      <td>29.483977</td>\n",
              "      <td>94.729465</td>\n",
              "      <td>63.658587</td>\n",
              "      <td>54.843374</td>\n",
              "      <td>36.854972</td>\n",
              "      <td>128908.800000</td>\n",
              "      <td>1.181294e+08</td>\n",
              "      <td>Si</td>\n",
              "      <td>Si</td>\n",
              "      <td>Si</td>\n",
              "    </tr>\n",
              "    <tr>\n",
              "      <th>15</th>\n",
              "      <td>Planta 1</td>\n",
              "      <td>200</td>\n",
              "      <td>4</td>\n",
              "      <td>30.0</td>\n",
              "      <td>0.917</td>\n",
              "      <td>0.840</td>\n",
              "      <td>0.75</td>\n",
              "      <td>17083.969466</td>\n",
              "      <td>59.778390</td>\n",
              "      <td>34.608542</td>\n",
              "      <td>15666.0</td>\n",
              "      <td>1417.969466</td>\n",
              "      <td>74.722988</td>\n",
              "      <td>43.260677</td>\n",
              "      <td>3600</td>\n",
              "      <td>3540</td>\n",
              "      <td>60</td>\n",
              "      <td>1.666667</td>\n",
              "      <td>50.711620</td>\n",
              "      <td>41.409622</td>\n",
              "      <td>44.833793</td>\n",
              "      <td>39.539689</td>\n",
              "      <td>25.956406</td>\n",
              "      <td>22.891399</td>\n",
              "      <td>56.042241</td>\n",
              "      <td>49.424611</td>\n",
              "      <td>32.445508</td>\n",
              "      <td>28.614248</td>\n",
              "      <td>76262.839695</td>\n",
              "      <td>6.988574e+07</td>\n",
              "      <td>Si</td>\n",
              "      <td>Si</td>\n",
              "      <td>Si</td>\n",
              "    </tr>\n",
              "    <tr>\n",
              "      <th>16</th>\n",
              "      <td>Planta 2</td>\n",
              "      <td>300</td>\n",
              "      <td>4</td>\n",
              "      <td>25.0</td>\n",
              "      <td>0.917</td>\n",
              "      <td>0.864</td>\n",
              "      <td>0.76</td>\n",
              "      <td>14643.402399</td>\n",
              "      <td>50.564428</td>\n",
              "      <td>29.274142</td>\n",
              "      <td>13428.0</td>\n",
              "      <td>1215.402399</td>\n",
              "      <td>63.205535</td>\n",
              "      <td>36.592678</td>\n",
              "      <td>3600</td>\n",
              "      <td>3545</td>\n",
              "      <td>55</td>\n",
              "      <td>1.527778</td>\n",
              "      <td>43.405796</td>\n",
              "      <td>40.535802</td>\n",
              "      <td>38.428965</td>\n",
              "      <td>32.862988</td>\n",
              "      <td>22.248348</td>\n",
              "      <td>19.025941</td>\n",
              "      <td>48.036206</td>\n",
              "      <td>41.078735</td>\n",
              "      <td>27.810435</td>\n",
              "      <td>23.782426</td>\n",
              "      <td>65368.148310</td>\n",
              "      <td>5.990206e+07</td>\n",
              "      <td>Si</td>\n",
              "      <td>Si</td>\n",
              "      <td>Si</td>\n",
              "    </tr>\n",
              "    <tr>\n",
              "      <th>17</th>\n",
              "      <td>Planta 3</td>\n",
              "      <td>350</td>\n",
              "      <td>4</td>\n",
              "      <td>150.0</td>\n",
              "      <td>0.954</td>\n",
              "      <td>0.960</td>\n",
              "      <td>0.78</td>\n",
              "      <td>93836.477987</td>\n",
              "      <td>315.713962</td>\n",
              "      <td>182.781767</td>\n",
              "      <td>89520.0</td>\n",
              "      <td>4316.477987</td>\n",
              "      <td>394.642452</td>\n",
              "      <td>228.477209</td>\n",
              "      <td>3600</td>\n",
              "      <td>3580</td>\n",
              "      <td>20</td>\n",
              "      <td>0.555556</td>\n",
              "      <td>286.542915</td>\n",
              "      <td>38.739425</td>\n",
              "      <td>246.256890</td>\n",
              "      <td>197.567329</td>\n",
              "      <td>142.569778</td>\n",
              "      <td>114.381085</td>\n",
              "      <td>307.821113</td>\n",
              "      <td>246.959162</td>\n",
              "      <td>178.212223</td>\n",
              "      <td>142.976357</td>\n",
              "      <td>418886.037736</td>\n",
              "      <td>3.838588e+08</td>\n",
              "      <td>Si</td>\n",
              "      <td>No</td>\n",
              "      <td>Si</td>\n",
              "    </tr>\n",
              "    <tr>\n",
              "      <th>18</th>\n",
              "      <td>Planta 4</td>\n",
              "      <td>300</td>\n",
              "      <td>4</td>\n",
              "      <td>30.0</td>\n",
              "      <td>0.917</td>\n",
              "      <td>0.960</td>\n",
              "      <td>0.79</td>\n",
              "      <td>19524.536532</td>\n",
              "      <td>64.859013</td>\n",
              "      <td>37.549955</td>\n",
              "      <td>17904.0</td>\n",
              "      <td>1620.536532</td>\n",
              "      <td>81.073766</td>\n",
              "      <td>46.937443</td>\n",
              "      <td>3600</td>\n",
              "      <td>3540</td>\n",
              "      <td>60</td>\n",
              "      <td>1.666667</td>\n",
              "      <td>57.956138</td>\n",
              "      <td>37.814489</td>\n",
              "      <td>51.238620</td>\n",
              "      <td>39.765505</td>\n",
              "      <td>29.664464</td>\n",
              "      <td>23.022134</td>\n",
              "      <td>64.048275</td>\n",
              "      <td>49.706881</td>\n",
              "      <td>37.080580</td>\n",
              "      <td>28.777668</td>\n",
              "      <td>87157.531080</td>\n",
              "      <td>7.986942e+07</td>\n",
              "      <td>No</td>\n",
              "      <td>Si</td>\n",
              "      <td>Si</td>\n",
              "    </tr>\n",
              "    <tr>\n",
              "      <th>19</th>\n",
              "      <td>Planta 5</td>\n",
              "      <td>500</td>\n",
              "      <td>4</td>\n",
              "      <td>200.0</td>\n",
              "      <td>0.900</td>\n",
              "      <td>0.800</td>\n",
              "      <td>0.84</td>\n",
              "      <td>132622.222222</td>\n",
              "      <td>414.336990</td>\n",
              "      <td>239.879310</td>\n",
              "      <td>119360.0</td>\n",
              "      <td>13262.222222</td>\n",
              "      <td>517.921237</td>\n",
              "      <td>299.849137</td>\n",
              "      <td>3600</td>\n",
              "      <td>3582</td>\n",
              "      <td>18</td>\n",
              "      <td>0.500000</td>\n",
              "      <td>318.203250</td>\n",
              "      <td>32.859880</td>\n",
              "      <td>348.043071</td>\n",
              "      <td>224.813615</td>\n",
              "      <td>201.498620</td>\n",
              "      <td>130.155251</td>\n",
              "      <td>435.053839</td>\n",
              "      <td>281.017019</td>\n",
              "      <td>251.873275</td>\n",
              "      <td>162.694064</td>\n",
              "      <td>592025.600000</td>\n",
              "      <td>5.425204e+08</td>\n",
              "      <td>No</td>\n",
              "      <td>No</td>\n",
              "      <td>No</td>\n",
              "    </tr>\n",
              "    <tr>\n",
              "      <th>20</th>\n",
              "      <td>Planta 1</td>\n",
              "      <td>200</td>\n",
              "      <td>5</td>\n",
              "      <td>100.0</td>\n",
              "      <td>0.941</td>\n",
              "      <td>0.960</td>\n",
              "      <td>0.76</td>\n",
              "      <td>63421.891605</td>\n",
              "      <td>218.999080</td>\n",
              "      <td>126.788941</td>\n",
              "      <td>59680.0</td>\n",
              "      <td>3741.891605</td>\n",
              "      <td>273.748850</td>\n",
              "      <td>158.486176</td>\n",
              "      <td>3600</td>\n",
              "      <td>3570</td>\n",
              "      <td>30</td>\n",
              "      <td>0.833333</td>\n",
              "      <td>191.563704</td>\n",
              "      <td>40.535802</td>\n",
              "      <td>166.439301</td>\n",
              "      <td>142.332555</td>\n",
              "      <td>96.359595</td>\n",
              "      <td>82.403058</td>\n",
              "      <td>208.049126</td>\n",
              "      <td>177.915694</td>\n",
              "      <td>120.449494</td>\n",
              "      <td>103.003823</td>\n",
              "      <td>283115.324123</td>\n",
              "      <td>2.594412e+08</td>\n",
              "      <td>No</td>\n",
              "      <td>Si</td>\n",
              "      <td>Si</td>\n",
              "    </tr>\n",
              "    <tr>\n",
              "      <th>21</th>\n",
              "      <td>Planta 2</td>\n",
              "      <td>300</td>\n",
              "      <td>5</td>\n",
              "      <td>100.0</td>\n",
              "      <td>0.940</td>\n",
              "      <td>0.700</td>\n",
              "      <td>0.77</td>\n",
              "      <td>55553.191489</td>\n",
              "      <td>189.336777</td>\n",
              "      <td>109.616029</td>\n",
              "      <td>52220.0</td>\n",
              "      <td>3333.191489</td>\n",
              "      <td>236.670972</td>\n",
              "      <td>137.020036</td>\n",
              "      <td>3600</td>\n",
              "      <td>3570</td>\n",
              "      <td>30</td>\n",
              "      <td>0.833333</td>\n",
              "      <td>139.681868</td>\n",
              "      <td>39.646111</td>\n",
              "      <td>145.789318</td>\n",
              "      <td>120.805173</td>\n",
              "      <td>84.404342</td>\n",
              "      <td>69.939837</td>\n",
              "      <td>182.236648</td>\n",
              "      <td>151.006466</td>\n",
              "      <td>105.505428</td>\n",
              "      <td>87.424796</td>\n",
              "      <td>247989.446809</td>\n",
              "      <td>2.272526e+08</td>\n",
              "      <td>Si</td>\n",
              "      <td>No</td>\n",
              "      <td>No</td>\n",
              "    </tr>\n",
              "    <tr>\n",
              "      <th>22</th>\n",
              "      <td>Planta 3</td>\n",
              "      <td>350</td>\n",
              "      <td>5</td>\n",
              "      <td>50.0</td>\n",
              "      <td>0.930</td>\n",
              "      <td>0.840</td>\n",
              "      <td>0.79</td>\n",
              "      <td>28075.268817</td>\n",
              "      <td>93.263890</td>\n",
              "      <td>53.994883</td>\n",
              "      <td>26110.0</td>\n",
              "      <td>1965.268817</td>\n",
              "      <td>116.579862</td>\n",
              "      <td>67.493604</td>\n",
              "      <td>3600</td>\n",
              "      <td>3570</td>\n",
              "      <td>30</td>\n",
              "      <td>0.833333</td>\n",
              "      <td>83.809121</td>\n",
              "      <td>37.814489</td>\n",
              "      <td>73.678473</td>\n",
              "      <td>57.180729</td>\n",
              "      <td>42.655958</td>\n",
              "      <td>33.104632</td>\n",
              "      <td>92.098091</td>\n",
              "      <td>71.475911</td>\n",
              "      <td>53.319947</td>\n",
              "      <td>41.380791</td>\n",
              "      <td>125328.000000</td>\n",
              "      <td>1.148481e+08</td>\n",
              "      <td>Si</td>\n",
              "      <td>Si</td>\n",
              "      <td>Si</td>\n",
              "    </tr>\n",
              "    <tr>\n",
              "      <th>23</th>\n",
              "      <td>Planta 4</td>\n",
              "      <td>300</td>\n",
              "      <td>5</td>\n",
              "      <td>60.0</td>\n",
              "      <td>0.936</td>\n",
              "      <td>0.960</td>\n",
              "      <td>0.80</td>\n",
              "      <td>38256.410256</td>\n",
              "      <td>125.496300</td>\n",
              "      <td>72.655752</td>\n",
              "      <td>35808.0</td>\n",
              "      <td>2448.410256</td>\n",
              "      <td>156.870375</td>\n",
              "      <td>90.819691</td>\n",
              "      <td>3600</td>\n",
              "      <td>3570</td>\n",
              "      <td>30</td>\n",
              "      <td>0.833333</td>\n",
              "      <td>114.938223</td>\n",
              "      <td>36.869898</td>\n",
              "      <td>100.397040</td>\n",
              "      <td>75.297780</td>\n",
              "      <td>58.124602</td>\n",
              "      <td>43.593451</td>\n",
              "      <td>125.496300</td>\n",
              "      <td>94.122225</td>\n",
              "      <td>72.655752</td>\n",
              "      <td>54.491814</td>\n",
              "      <td>170776.615385</td>\n",
              "      <td>1.564963e+08</td>\n",
              "      <td>No</td>\n",
              "      <td>Si</td>\n",
              "      <td>Si</td>\n",
              "    </tr>\n",
              "    <tr>\n",
              "      <th>24</th>\n",
              "      <td>Planta 5</td>\n",
              "      <td>500</td>\n",
              "      <td>5</td>\n",
              "      <td>30.0</td>\n",
              "      <td>0.917</td>\n",
              "      <td>0.840</td>\n",
              "      <td>0.80</td>\n",
              "      <td>17083.969466</td>\n",
              "      <td>56.042241</td>\n",
              "      <td>32.445508</td>\n",
              "      <td>15666.0</td>\n",
              "      <td>1417.969466</td>\n",
              "      <td>70.052801</td>\n",
              "      <td>40.556885</td>\n",
              "      <td>3600</td>\n",
              "      <td>3540</td>\n",
              "      <td>60</td>\n",
              "      <td>1.666667</td>\n",
              "      <td>50.711620</td>\n",
              "      <td>36.869898</td>\n",
              "      <td>44.833793</td>\n",
              "      <td>33.625344</td>\n",
              "      <td>25.956406</td>\n",
              "      <td>19.467305</td>\n",
              "      <td>56.042241</td>\n",
              "      <td>42.031681</td>\n",
              "      <td>32.445508</td>\n",
              "      <td>24.334131</td>\n",
              "      <td>76262.839695</td>\n",
              "      <td>6.988574e+07</td>\n",
              "      <td>Si</td>\n",
              "      <td>Si</td>\n",
              "      <td>Si</td>\n",
              "    </tr>\n",
              "  </tbody>\n",
              "</table>\n",
              "</div>"
            ],
            "text/plain": [
              "      Planta  Distancia  Motor  Potencia (HP)  Eficiencia (%)  \\\n",
              "0   Planta 1        200      1           30.0           0.917   \n",
              "1   Planta 2        300      1           40.0           0.924   \n",
              "2   Planta 3        350      1           50.0           0.930   \n",
              "3   Planta 4        300      1           25.0           0.917   \n",
              "4   Planta 5        500      1           75.0           0.936   \n",
              "5   Planta 1        200      2           50.0           0.930   \n",
              "6   Planta 2        300      2          125.0           0.950   \n",
              "7   Planta 3        350      2          150.0           0.900   \n",
              "8   Planta 4        300      2           30.0           0.917   \n",
              "9   Planta 5        500      2          200.0           0.954   \n",
              "10  Planta 1        200      3           30.0           0.917   \n",
              "11  Planta 2        300      3          125.0           0.950   \n",
              "12  Planta 3        350      3           30.0           0.917   \n",
              "13  Planta 4        300      3          150.0           0.900   \n",
              "14  Planta 5        500      3           50.0           0.930   \n",
              "15  Planta 1        200      4           30.0           0.917   \n",
              "16  Planta 2        300      4           25.0           0.917   \n",
              "17  Planta 3        350      4          150.0           0.954   \n",
              "18  Planta 4        300      4           30.0           0.917   \n",
              "19  Planta 5        500      4          200.0           0.900   \n",
              "20  Planta 1        200      5          100.0           0.941   \n",
              "21  Planta 2        300      5          100.0           0.940   \n",
              "22  Planta 3        350      5           50.0           0.930   \n",
              "23  Planta 4        300      5           60.0           0.936   \n",
              "24  Planta 5        500      5           30.0           0.917   \n",
              "\n",
              "    Factor de carga maximo  Factor de potencia  Potencia Entrada (W)  \\\n",
              "0                    0.960                0.74          19524.536532   \n",
              "1                    0.960                0.82          25835.497835   \n",
              "2                    0.864                0.78          28877.419355   \n",
              "3                    0.864                0.78          14643.402399   \n",
              "4                    0.960                0.81          47820.512821   \n",
              "5                    0.960                0.75          32086.021505   \n",
              "6                    0.960                0.83          78526.315789   \n",
              "7                    0.800                0.79          99466.666667   \n",
              "8                    0.960                0.79          19524.536532   \n",
              "9                    0.900                0.82         117295.597484   \n",
              "10                   0.960                0.81          19524.536532   \n",
              "11                   0.864                0.84          70673.684211   \n",
              "12                   0.960                0.77          19524.536532   \n",
              "13                   0.700                0.80          87033.333333   \n",
              "14                   0.864                0.83          28877.419355   \n",
              "15                   0.840                0.75          17083.969466   \n",
              "16                   0.864                0.76          14643.402399   \n",
              "17                   0.960                0.78          93836.477987   \n",
              "18                   0.960                0.79          19524.536532   \n",
              "19                   0.800                0.84         132622.222222   \n",
              "20                   0.960                0.76          63421.891605   \n",
              "21                   0.700                0.77          55553.191489   \n",
              "22                   0.840                0.79          28075.268817   \n",
              "23                   0.960                0.80          38256.410256   \n",
              "24                   0.840                0.80          17083.969466   \n",
              "\n",
              "    Corriente a 220V (A)  Corriente a 380V (A)  Potencia Salida (W)  \\\n",
              "0              69.241379             40.087114              17904.0   \n",
              "1              82.683656             47.869485              23872.0   \n",
              "2              97.158426             56.249615              26856.0   \n",
              "3              49.267904             28.523523              13428.0   \n",
              "4             154.933703             89.698460              44760.0   \n",
              "5             112.271959             64.999555              29840.0   \n",
              "6             248.286909            143.745053              74600.0   \n",
              "7             330.420637            191.296158              89520.0   \n",
              "8              64.859013             37.549955              17904.0   \n",
              "9             375.391601            217.331979             111900.0   \n",
              "10             63.257556             36.622795              17904.0   \n",
              "11            220.798001            127.830422              67140.0   \n",
              "12             66.543662             38.525278              17904.0   \n",
              "13            285.504082            165.291837              78330.0   \n",
              "14             91.305508             52.861084              26856.0   \n",
              "15             59.778390             34.608542              15666.0   \n",
              "16             50.564428             29.274142              13428.0   \n",
              "17            315.713962            182.781767              89520.0   \n",
              "18             64.859013             37.549955              17904.0   \n",
              "19            414.336990            239.879310             119360.0   \n",
              "20            218.999080            126.788941              59680.0   \n",
              "21            189.336777            109.616029              52220.0   \n",
              "22             93.263890             53.994883              26110.0   \n",
              "23            125.496300             72.655752              35808.0   \n",
              "24             56.042241             32.445508              15666.0   \n",
              "\n",
              "    Pérdidas Motor (W)  Corriente a 220V (A) +25%  Corriente a 380V (A) +25%  \\\n",
              "0          1620.536532                  86.551723                  50.108892   \n",
              "1          1963.497835                 103.354571                  59.836857   \n",
              "2          2021.419355                 121.448032                  70.312019   \n",
              "3          1215.402399                  61.584880                  35.654404   \n",
              "4          3060.512821                 193.667129                 112.123075   \n",
              "5          2246.021505                 140.339948                  81.249444   \n",
              "6          3926.315789                 310.358636                 179.681316   \n",
              "7          9946.666667                 413.025797                 239.120198   \n",
              "8          1620.536532                  81.073766                  46.937443   \n",
              "9          5395.597484                 469.239501                 271.664974   \n",
              "10         1620.536532                  79.071945                  45.778494   \n",
              "11         3533.684211                 275.997501                 159.788027   \n",
              "12         1620.536532                  83.179578                  48.156598   \n",
              "13         8703.333333                 356.880102                 206.614796   \n",
              "14         2021.419355                 114.131886                  66.076355   \n",
              "15         1417.969466                  74.722988                  43.260677   \n",
              "16         1215.402399                  63.205535                  36.592678   \n",
              "17         4316.477987                 394.642452                 228.477209   \n",
              "18         1620.536532                  81.073766                  46.937443   \n",
              "19        13262.222222                 517.921237                 299.849137   \n",
              "20         3741.891605                 273.748850                 158.486176   \n",
              "21         3333.191489                 236.670972                 137.020036   \n",
              "22         1965.268817                 116.579862                  67.493604   \n",
              "23         2448.410256                 156.870375                  90.819691   \n",
              "24         1417.969466                  70.052801                  40.556885   \n",
              "\n",
              "    Velocidad síncrona (RPM)  Velocidad real (RPM)  Deslizamiento (RPM)  \\\n",
              "0                       3600                  3540                   60   \n",
              "1                       3600                  3565                   35   \n",
              "2                       3600                  3570                   30   \n",
              "3                       3600                  3545                   55   \n",
              "4                       3600                  3577                   23   \n",
              "5                       3600                  3570                   30   \n",
              "6                       3600                  3580                   20   \n",
              "7                       3600                  3580                   20   \n",
              "8                       3600                  3540                   60   \n",
              "9                       3600                  3582                   18   \n",
              "10                      3600                  3540                   60   \n",
              "11                      3600                  3580                   20   \n",
              "12                      3600                  3540                   60   \n",
              "13                      3600                  3580                   20   \n",
              "14                      3600                  3570                   30   \n",
              "15                      3600                  3540                   60   \n",
              "16                      3600                  3545                   55   \n",
              "17                      3600                  3580                   20   \n",
              "18                      3600                  3540                   60   \n",
              "19                      3600                  3582                   18   \n",
              "20                      3600                  3570                   30   \n",
              "21                      3600                  3570                   30   \n",
              "22                      3600                  3570                   30   \n",
              "23                      3600                  3570                   30   \n",
              "24                      3600                  3540                   60   \n",
              "\n",
              "    Deslizamiento (%)  Torque (N.m)  theta (°)  Real Corriente 220V Normal  \\\n",
              "0            1.666667     57.956138  42.268584                   51.238620   \n",
              "1            0.972222     76.732951  34.915206                   67.800598   \n",
              "2            0.833333     86.203667  38.739425                   75.783572   \n",
              "3            1.527778     43.405796  38.739425                   38.428965   \n",
              "4            0.638889    143.391618  35.904069                  125.496300   \n",
              "5            0.833333     95.781852  41.409622                   84.203969   \n",
              "6            0.555556    238.785763  33.901262                  206.078134   \n",
              "7            0.555556    238.785763  37.814489                  261.032304   \n",
              "8            1.666667     57.956138  37.814489                   51.238620   \n",
              "9            0.500000    357.978656  34.915206                  307.821113   \n",
              "10           1.666667     57.956138  35.904069                   51.238620   \n",
              "11           0.555556    214.907186  32.859880                  185.470321   \n",
              "12           1.666667     57.956138  39.646111                   51.238620   \n",
              "13           0.555556    208.937542  36.869898                  228.403266   \n",
              "14           0.833333     86.203667  33.901262                   75.783572   \n",
              "15           1.666667     50.711620  41.409622                   44.833793   \n",
              "16           1.527778     43.405796  40.535802                   38.428965   \n",
              "17           0.555556    286.542915  38.739425                  246.256890   \n",
              "18           1.666667     57.956138  37.814489                   51.238620   \n",
              "19           0.500000    318.203250  32.859880                  348.043071   \n",
              "20           0.833333    191.563704  40.535802                  166.439301   \n",
              "21           0.833333    139.681868  39.646111                  145.789318   \n",
              "22           0.833333     83.809121  37.814489                   73.678473   \n",
              "23           0.833333    114.938223  36.869898                  100.397040   \n",
              "24           1.666667     50.711620  36.869898                   44.833793   \n",
              "\n",
              "    Imaginaria Corriente 220V Normal  Real Corriente 380V Normal  \\\n",
              "0                          46.572227                   29.664464   \n",
              "1                          47.325109                   39.252978   \n",
              "2                          60.799752                   43.874700   \n",
              "3                          30.830845                   22.248348   \n",
              "4                          90.857753                   72.655752   \n",
              "5                          74.260920                   48.749666   \n",
              "6                         138.485348                  119.308394   \n",
              "7                         202.583154                  151.123965   \n",
              "8                          39.765505                   29.664464   \n",
              "9                         214.860458                  178.212223   \n",
              "10                         37.096121                   29.664464   \n",
              "11                        119.801992                  107.377554   \n",
              "12                         42.457777                   29.664464   \n",
              "13                        171.302449                  132.233470   \n",
              "14                         50.926870                   43.874700   \n",
              "15                         39.539689                   25.956406   \n",
              "16                         32.862988                   22.248348   \n",
              "17                        197.567329                  142.569778   \n",
              "18                         39.765505                   29.664464   \n",
              "19                        224.813615                  201.498620   \n",
              "20                        142.332555                   96.359595   \n",
              "21                        120.805173                   84.404342   \n",
              "22                         57.180729                   42.655958   \n",
              "23                         75.297780                   58.124602   \n",
              "24                         33.625344                   25.956406   \n",
              "\n",
              "    Imaginaria Corriente 380V Normal  Real Corriente 220V +25%  \\\n",
              "0                          26.962868                 64.048275   \n",
              "1                          27.398747                 84.750748   \n",
              "2                          35.199857                 94.729465   \n",
              "3                          17.849437                 48.036206   \n",
              "4                          52.601857                156.870375   \n",
              "5                          42.993164                105.254961   \n",
              "6                          80.175728                257.597668   \n",
              "7                         117.284984                326.290379   \n",
              "8                          23.022134                 64.048275   \n",
              "9                         124.392897                384.776391   \n",
              "10                         21.476701                 64.048275   \n",
              "11                         69.359048                231.837901   \n",
              "12                         24.580818                 64.048275   \n",
              "13                         99.175102                285.504082   \n",
              "14                         29.483977                 94.729465   \n",
              "15                         22.891399                 56.042241   \n",
              "16                         19.025941                 48.036206   \n",
              "17                        114.381085                307.821113   \n",
              "18                         23.022134                 64.048275   \n",
              "19                        130.155251                435.053839   \n",
              "20                         82.403058                208.049126   \n",
              "21                         69.939837                182.236648   \n",
              "22                         33.104632                 92.098091   \n",
              "23                         43.593451                125.496300   \n",
              "24                         19.467305                 56.042241   \n",
              "\n",
              "    Imaginaria Corriente 220V +25%  Real Corriente 380V +25%  \\\n",
              "0                        58.215283                 37.080580   \n",
              "1                        59.156386                 49.066222   \n",
              "2                        75.999690                 54.843374   \n",
              "3                        38.538556                 27.810435   \n",
              "4                       113.572191                 90.819691   \n",
              "5                        92.826150                 60.937083   \n",
              "6                       173.106685                149.135492   \n",
              "7                       253.228942                188.904956   \n",
              "8                        49.706881                 37.080580   \n",
              "9                       268.575573                222.765279   \n",
              "10                       46.370151                 37.080580   \n",
              "11                      149.752490                134.221943   \n",
              "12                       53.072221                 37.080580   \n",
              "13                      214.128061                165.291837   \n",
              "14                       63.658587                 54.843374   \n",
              "15                       49.424611                 32.445508   \n",
              "16                       41.078735                 27.810435   \n",
              "17                      246.959162                178.212223   \n",
              "18                       49.706881                 37.080580   \n",
              "19                      281.017019                251.873275   \n",
              "20                      177.915694                120.449494   \n",
              "21                      151.006466                105.505428   \n",
              "22                       71.475911                 53.319947   \n",
              "23                       94.122225                 72.655752   \n",
              "24                       42.031681                 32.445508   \n",
              "\n",
              "    Imaginaria Corriente 380V +25%         kw/año     costo/año cambio FC  \\\n",
              "0                        33.703585   87157.531080  7.986942e+07        No   \n",
              "1                        34.248434  115329.662338  1.056858e+08        No   \n",
              "2                        43.999821  128908.800000  1.181294e+08        Si   \n",
              "3                        22.311796   65368.148310  5.990206e+07        Si   \n",
              "4                        65.752321  213470.769231  1.956203e+08        Si   \n",
              "5                        53.741456  143232.000000  1.312549e+08        No   \n",
              "6                       100.219660  350541.473684  3.212292e+08        No   \n",
              "7                       146.606230  444019.200000  4.068903e+08        No   \n",
              "8                        28.777668   87157.531080  7.986942e+07        Si   \n",
              "9                       155.491121  523607.547170  4.798235e+08        Si   \n",
              "10                       26.845877   87157.531080  7.986942e+07        Si   \n",
              "11                       86.698810  315487.326316  2.891063e+08        Si   \n",
              "12                       30.726023   87157.531080  7.986942e+07        No   \n",
              "13                      123.968878  388516.800000  3.560290e+08        Si   \n",
              "14                       36.854972  128908.800000  1.181294e+08        Si   \n",
              "15                       28.614248   76262.839695  6.988574e+07        Si   \n",
              "16                       23.782426   65368.148310  5.990206e+07        Si   \n",
              "17                      142.976357  418886.037736  3.838588e+08        Si   \n",
              "18                       28.777668   87157.531080  7.986942e+07        No   \n",
              "19                      162.694064  592025.600000  5.425204e+08        No   \n",
              "20                      103.003823  283115.324123  2.594412e+08        No   \n",
              "21                       87.424796  247989.446809  2.272526e+08        Si   \n",
              "22                       41.380791  125328.000000  1.148481e+08        Si   \n",
              "23                       54.491814  170776.615385  1.564963e+08        No   \n",
              "24                       24.334131   76262.839695  6.988574e+07        Si   \n",
              "\n",
              "   cambio Eficiencia cambio  \n",
              "0                 Si     Si  \n",
              "1                 Si     Si  \n",
              "2                 Si     Si  \n",
              "3                 Si     Si  \n",
              "4                 No     Si  \n",
              "5                 Si     Si  \n",
              "6                 Si     Si  \n",
              "7                 No     No  \n",
              "8                 Si     Si  \n",
              "9                 No     Si  \n",
              "10                Si     Si  \n",
              "11                Si     Si  \n",
              "12                Si     Si  \n",
              "13                No     No  \n",
              "14                Si     Si  \n",
              "15                Si     Si  \n",
              "16                Si     Si  \n",
              "17                No     Si  \n",
              "18                Si     Si  \n",
              "19                No     No  \n",
              "20                Si     Si  \n",
              "21                No     No  \n",
              "22                Si     Si  \n",
              "23                Si     Si  \n",
              "24                Si     Si  "
            ]
          },
          "execution_count": 70,
          "metadata": {},
          "output_type": "execute_result"
        }
      ],
      "source": [
        "df3"
      ]
    },
    {
      "cell_type": "markdown",
      "metadata": {},
      "source": [
        "# PARA 220V CAMBIO DE MOTOR"
      ]
    },
    {
      "cell_type": "markdown",
      "metadata": {},
      "source": [
        "Magnitud de corriente a 220V para determinar el total de la corriente que se usará para dimensionar el grosor del cable sobre la Planta 1"
      ]
    },
    {
      "cell_type": "code",
      "execution_count": 71,
      "metadata": {},
      "outputs": [
        {
          "name": "stdout",
          "output_type": "stream",
          "text": [
            "Magnitud de corriente a 220V para los motores de la planta 1: 654.1128222688013 A\n"
          ]
        }
      ],
      "source": [
        "Corriente_Planta_1_220V_cambio = np.sqrt((df3[df3['Planta'] == 'Planta 1']['Real Corriente 220V +25%'].sum())**2 + (df3[df3['Planta'] == 'Planta 1']['Imaginaria Corriente 220V +25%'].sum())**2)\n",
        "print(f'Magnitud de corriente a 220V para los motores de la planta 1: {Corriente_Planta_1_220V_cambio} A')"
      ]
    },
    {
      "cell_type": "markdown",
      "metadata": {},
      "source": [
        "Magnitud de corriente a 220V para determinar el total de la corriente que se usará para dimensionar el grosor del cable sobre la Planta 2"
      ]
    },
    {
      "cell_type": "code",
      "execution_count": 72,
      "metadata": {},
      "outputs": [
        {
          "name": "stdout",
          "output_type": "stream",
          "text": [
            "Magnitud de corriente a 220V para los motores de la planta 2: 988.3047326449503 A\n"
          ]
        }
      ],
      "source": [
        "Corriente_Planta_2_220V_cambio = np.sqrt((df3[df3['Planta'] == 'Planta 2']['Real Corriente 220V +25%'].sum())**2 + (df3[df3['Planta'] == 'Planta 2']['Imaginaria Corriente 220V +25%'].sum())**2)\n",
        "print(f'Magnitud de corriente a 220V para los motores de la planta 2: {Corriente_Planta_2_220V_cambio} A')"
      ]
    },
    {
      "cell_type": "markdown",
      "metadata": {},
      "source": [
        "Magnitud de corriente a 220V para determinar el total de la corriente que se usará para dimensionar el grosor del cable sobre la Planta 3"
      ]
    },
    {
      "cell_type": "code",
      "execution_count": 76,
      "metadata": {},
      "outputs": [
        {
          "name": "stdout",
          "output_type": "stream",
          "text": [
            "Magnitud de corriente a 220V para los motores de la planta 3: 1128.8194722091384 A\n"
          ]
        }
      ],
      "source": [
        "Corriente_Planta_3_220V_cambio = np.sqrt((df3[df3['Planta'] == 'Planta 3']['Real Corriente 220V +25%'].sum())**2 + (df3[df3['Planta'] == 'Planta 3']['Imaginaria Corriente 220V +25%'].sum())**2)\n",
        "print(f'Magnitud de corriente a 220V para los motores de la planta 3: {Corriente_Planta_3_220V_cambio} A')"
      ]
    },
    {
      "cell_type": "markdown",
      "metadata": {},
      "source": [
        "Magnitud de corriente a 220V para determinar el total de la corriente que se usará para dimensionar el grosor del cable sobre la Planta 4"
      ]
    },
    {
      "cell_type": "code",
      "execution_count": 77,
      "metadata": {},
      "outputs": [
        {
          "name": "stdout",
          "output_type": "stream",
          "text": [
            "Magnitud de corriente a 220V para los motores de la planta 4: 737.4429373393467 A\n"
          ]
        }
      ],
      "source": [
        "Corriente_Planta_4_220V_cambio = np.sqrt((df3[df3['Planta'] == 'Planta 4']['Real Corriente 220V +25%'].sum())**2 + (df3[df3['Planta'] == 'Planta 4']['Imaginaria Corriente 220V +25%'].sum())**2)\n",
        "print(f'Magnitud de corriente a 220V para los motores de la planta 4: {Corriente_Planta_4_220V_cambio} A')"
      ]
    },
    {
      "cell_type": "markdown",
      "metadata": {},
      "source": [
        "Magnitud de corriente a 220V para determinar el total de la corriente que se usará para dimensionar el grosor del cable sobre la Planta 5"
      ]
    },
    {
      "cell_type": "code",
      "execution_count": 78,
      "metadata": {},
      "outputs": [
        {
          "name": "stdout",
          "output_type": "stream",
          "text": [
            "Magnitud de corriente a 220V para los motores de la planta 5: 1364.6728177373398 A\n"
          ]
        }
      ],
      "source": [
        "Corriente_Planta_5_220V_cambio = np.sqrt((df3[df3['Planta'] == 'Planta 5']['Real Corriente 220V +25%'].sum())**2 + (df3[df3['Planta'] == 'Planta 5']['Imaginaria Corriente 220V +25%'].sum())**2)\n",
        "print(f'Magnitud de corriente a 220V para los motores de la planta 5: {Corriente_Planta_5_220V_cambio} A')"
      ]
    },
    {
      "cell_type": "markdown",
      "metadata": {},
      "source": [
        "# PARA 380V CAMBIO DE MOTOR"
      ]
    },
    {
      "cell_type": "markdown",
      "metadata": {},
      "source": [
        "Magnitud de corriente a 380V para determinar el total de la corriente que se usará para dimensionar el grosor del cable sobre la Planta 1"
      ]
    },
    {
      "cell_type": "code",
      "execution_count": 79,
      "metadata": {},
      "outputs": [
        {
          "name": "stdout",
          "output_type": "stream",
          "text": [
            "Magnitud de corriente a 380V para los motores de la planta 1: 378.69689710299025 A\n"
          ]
        }
      ],
      "source": [
        "Corriente_Planta_1_380V_cambio = np.sqrt((df3[df3['Planta'] == 'Planta 1']['Real Corriente 380V +25%'].sum())**2 + (df3[df3['Planta'] == 'Planta 1']['Imaginaria Corriente 380V +25%'].sum())**2)\n",
        "print(f'Magnitud de corriente a 380V para los motores de la planta 1: {Corriente_Planta_1_380V_cambio} A')"
      ]
    },
    {
      "cell_type": "markdown",
      "metadata": {},
      "source": [
        "Magnitud de corriente a 380V para determinar el total de la corriente que se usará para dimensionar el grosor del cable sobre la Planta 2"
      ]
    },
    {
      "cell_type": "code",
      "execution_count": 82,
      "metadata": {},
      "outputs": [
        {
          "name": "stdout",
          "output_type": "stream",
          "text": [
            "Magnitud de corriente a 380V para los motores de la planta 2: 572.1764241628659 A\n"
          ]
        }
      ],
      "source": [
        "Corriente_Planta_2_380V_cambio = np.sqrt((df3[df3['Planta'] == 'Planta 2']['Real Corriente 380V +25%'].sum())**2 + (df3[df3['Planta'] == 'Planta 2']['Imaginaria Corriente 380V +25%'].sum())**2)\n",
        "print(f'Magnitud de corriente a 380V para los motores de la planta 2: {Corriente_Planta_2_380V_cambio} A')"
      ]
    },
    {
      "cell_type": "markdown",
      "metadata": {},
      "source": [
        "Magnitud de corriente a 380V para determinar el total de la corriente que se usará para dimensionar el grosor del cable sobre la Planta 3"
      ]
    },
    {
      "cell_type": "code",
      "execution_count": 81,
      "metadata": {},
      "outputs": [
        {
          "name": "stdout",
          "output_type": "stream",
          "text": [
            "Magnitud de corriente a 380V para los motores de la planta 3: 653.5270628579223 A\n"
          ]
        }
      ],
      "source": [
        "Corriente_Planta_3_380V_cambio = np.sqrt((df3[df3['Planta'] == 'Planta 3']['Real Corriente 380V +25%'].sum())**2 + (df3[df3['Planta'] == 'Planta 3']['Imaginaria Corriente 380V +25%'].sum())**2)\n",
        "print(f'Magnitud de corriente a 380V para los motores de la planta 3: {Corriente_Planta_3_380V_cambio} A')"
      ]
    },
    {
      "cell_type": "markdown",
      "metadata": {},
      "source": [
        "Magnitud de corriente a 380V para determinar el total de la corriente que se usará para dimensionar el grosor del cable sobre la Planta 4"
      ]
    },
    {
      "cell_type": "code",
      "execution_count": 84,
      "metadata": {},
      "outputs": [
        {
          "name": "stdout",
          "output_type": "stream",
          "text": [
            "Magnitud de corriente a 380V para los motores de la planta 4: 426.9406479333061 A\n"
          ]
        }
      ],
      "source": [
        "Corriente_Planta_4_380V_cambio = np.sqrt((df3[df3['Planta'] == 'Planta 4']['Real Corriente 380V +25%'].sum())**2 + (df3[df3['Planta'] == 'Planta 4']['Imaginaria Corriente 380V +25%'].sum())**2)\n",
        "print(f'Magnitud de corriente a 380V para los motores de la planta 4: {Corriente_Planta_4_380V_cambio} A')"
      ]
    },
    {
      "cell_type": "markdown",
      "metadata": {},
      "source": [
        "Magnitud de corriente a 380V para determinar el total de la corriente que se usará para dimensionar el grosor del cable sobre la Planta 5"
      ]
    },
    {
      "cell_type": "code",
      "execution_count": 85,
      "metadata": {},
      "outputs": [
        {
          "name": "stdout",
          "output_type": "stream",
          "text": [
            "Magnitud de corriente a 380V para los motores de la planta 5: 790.0737365847755 A\n"
          ]
        }
      ],
      "source": [
        "Corriente_Planta_5_380V_cambio = np.sqrt((df3[df3['Planta'] == 'Planta 5']['Real Corriente 380V +25%'].sum())**2 + (df3[df3['Planta'] == 'Planta 5']['Imaginaria Corriente 380V +25%'].sum())**2)\n",
        "print(f'Magnitud de corriente a 380V para los motores de la planta 5: {Corriente_Planta_5_380V_cambio} A')"
      ]
    },
    {
      "cell_type": "markdown",
      "metadata": {},
      "source": [
        "Debido a que existen consumos auxiliares, se tiene que estos consumen 480kW, se puede partir de que poseen un factor de potencia de FP = 1, por lo tanto es pertinente calcular su consumo de corriente a 220V que es al voltaje al cual se encuentran conectados, suponiendo que son cargas puramente resistivas, estas no cuentan con desfase por lo tanto no poseen parte imaginaria, por lo que:"
      ]
    },
    {
      "cell_type": "code",
      "execution_count": 67,
      "metadata": {},
      "outputs": [
        {
          "name": "stdout",
          "output_type": "stream",
          "text": [
            "Magnitud de corriente a 220V para los Auxiliares: 1259.6733145955473 A\n"
          ]
        }
      ],
      "source": [
        "FP_aux = 1\n",
        "Corriente_Auxiliares = 480000/(np.sqrt(3)*220*FP_aux)\n",
        "print(f'Magnitud de corriente a 220V para los Auxiliares: {Corriente_Auxiliares} A')"
      ]
    },
    {
      "cell_type": "markdown",
      "metadata": {},
      "source": [
        "# DIMENSIONAMIENTO DEL CABLE CUANDO SE CAMBIAN LOS MOTORES"
      ]
    },
    {
      "cell_type": "markdown",
      "metadata": {},
      "source": [
        "Según [Tabla verde, luego paso el link], dado un calibre de 500 mm2 se tiene una resistencia DC de Ohm/km para un cable de cobre, se tiene que posee una resistencia de 0.0366 Ohm por lo que si se requiere de una corriente determinada para alimentar cada planta a 220V o 380V es necesario aplicar una regla de 3 compuesta para extraer el valor de la resistencia de pérdida a partir de https://www.gt-engineering.it/en/technical-standards/ul-and-nfpa-standards/ul-508a/cable-ampacity-ul-508a/, también es de anotar que es posible alimentar con un solo cable a partir de suma de corrientes, es decir, con corrientes menores por cada cable que se use para complementar la corriente objetivo a usar."
      ]
    },
    {
      "cell_type": "markdown",
      "metadata": {},
      "source": [
        "# PARA 220V"
      ]
    },
    {
      "cell_type": "markdown",
      "metadata": {},
      "source": [
        "Grosor del cable sobre la Planta 1, a 220V:"
      ]
    },
    {
      "cell_type": "code",
      "execution_count": 88,
      "metadata": {},
      "outputs": [
        {
          "name": "stdout",
          "output_type": "stream",
          "text": [
            "La corriente necesaria es de 654.1128222688013 A para la planta 1, por lo que se necesita un solo cable que soporten 665 A de cobre, el cual corresponde a un valor de 2000 kcmil.\n",
            "El grosor del cable necesario para 665 A es de 1013 mm², por lo cual la regla de 3 inversa necesaria para obtener la resistencia de Ohm/km es de 0.018065153010858835 Ohm\n",
            "Ahora bien, la Planta 1 se encuentra a 200 metros del transformador, por lo cual la resistencia de pérdida será menor, esta equivale a 0.003613030602171767 Ohm\n"
          ]
        }
      ],
      "source": [
        "print(f'La corriente necesaria es de {Corriente_Planta_1_220V_cambio} A para la planta 1, por lo que se necesita un solo cable que soporten 665 A de cobre, el cual corresponde a un valor de 2000 kcmil.')\n",
        "\n",
        "R_km_P1_220_cambio = (500/1013)*0.0366\n",
        "print(f'El grosor del cable necesario para 665 A es de 1013 mm\\u00B2, por lo cual la regla de 3 inversa necesaria para obtener la resistencia de Ohm/km es de {R_km_P1_220_cambio} Ohm')\n",
        "\n",
        "Resistencia_Final_P1_220_cambio = (200*R_km_P1_220_cambio)/1000\n",
        "print(f'Ahora bien, la Planta 1 se encuentra a 200 metros del transformador, por lo cual la resistencia de pérdida será menor, esta equivale a {Resistencia_Final_P1_220_cambio} Ohm')"
      ]
    },
    {
      "cell_type": "code",
      "execution_count": 89,
      "metadata": {},
      "outputs": [
        {
          "name": "stdout",
          "output_type": "stream",
          "text": [
            "La pérdida asociada a la corriente a 220V para la planta 1 de una sola línea son de 989.3659030230248 W\n",
            "La pérdida asociada a la corrient e a 220V para la planta 1 para las 3 líneas son de 2968.0977090690744 W\n"
          ]
        }
      ],
      "source": [
        "Perdida_P1_220_cambio = Corriente_Planta_1_220V_Normal_cambio**2 * (Resistencia_Final_P1_220_cambio)\n",
        "print(f'La pérdida asociada a la corriente a 220V para la planta 1 de una sola línea son de {Perdida_P1_220_cambio} W')\n",
        "Perdida_P1_220_Tri_cambio = 3*Perdida_P1_220_cambio\n",
        "print(f'La pérdida asociada a la corrient e a 220V para la planta 1 para las 3 líneas son de {Perdida_P1_220_Tri_cambio} W')"
      ]
    },
    {
      "cell_type": "markdown",
      "metadata": {},
      "source": [
        "Grosor del cable sobre la Planta 2, a 220V:"
      ]
    },
    {
      "cell_type": "code",
      "execution_count": 91,
      "metadata": {},
      "outputs": [
        {
          "name": "stdout",
          "output_type": "stream",
          "text": [
            "La corriente necesaria es de 988.3047326449503 A para la planta 1, por lo que se necesita de dos cables que soporten 520 A de cobre, el cual corresponde a un valor de 900 kcmil.\n",
            "El grosor del cable necesario para 545 A es de 456 mm², por lo cual la regla de 3 inversa necesaria para obtener la resistencia de Ohm/km es de 0.04013157894736843 Ohm\n",
            "Ahora bien, la Planta 2 se encuentra a 300 metros del transformador, por lo cual la resistencia de pérdida será menor, esta equivale a 0.012039473684210529 Ohm\n"
          ]
        }
      ],
      "source": [
        "print(f'La corriente necesaria es de {Corriente_Planta_2_220V_cambio} A para la planta 1, por lo que se necesita de dos cables que soporten 520 A de cobre, el cual corresponde a un valor de 900 kcmil.')\n",
        "\n",
        "R_km_P2_220_cambio = (500/456)*0.0366\n",
        "print(f'El grosor del cable necesario para 545 A es de 456 mm\\u00B2, por lo cual la regla de 3 inversa necesaria para obtener la resistencia de Ohm/km es de {R_km_P2_220_cambio} Ohm')\n",
        "\n",
        "Resistencia_Final_P2_220_cambio = (300*R_km_P2_220_cambio)/1000\n",
        "print(f'Ahora bien, la Planta 2 se encuentra a 300 metros del transformador, por lo cual la resistencia de pérdida será menor, esta equivale a {Resistencia_Final_P2_220_cambio} Ohm')"
      ]
    },
    {
      "cell_type": "code",
      "execution_count": 93,
      "metadata": {},
      "outputs": [
        {
          "name": "stdout",
          "output_type": "stream",
          "text": [
            "La pérdida asociada a la corriente a 220V para la planta 2 son de 3763.0434264424944 W\n",
            "La pérdida asociada a la corrient e a 220V para la planta 1 para las 3 líneas son de 11289.130279327483 W\n"
          ]
        }
      ],
      "source": [
        "Paralelo_R_km_P2_220_cambio = Resistencia_Final_P2_220_cambio/2\n",
        "Perdida_P2_220_cambio = Corriente_Planta_2_220V_Normal_cambio**2 * (Paralelo_R_km_P2_220_cambio)\n",
        "print(f'La pérdida asociada a la corriente a 220V para la planta 2 son de {Perdida_P2_220_cambio} W')\n",
        "Perdida_P2_220_Tri_cambio = 3*Perdida_P2_220_cambio\n",
        "print(f'La pérdida asociada a la corrient e a 220V para la planta 1 para las 3 líneas son de {Perdida_P2_220_Tri_cambio} W')"
      ]
    },
    {
      "cell_type": "markdown",
      "metadata": {},
      "source": [
        "Grosor del cable sobre la Planta 3, a 220V:"
      ]
    },
    {
      "cell_type": "code",
      "execution_count": 106,
      "metadata": {},
      "outputs": [
        {
          "name": "stdout",
          "output_type": "stream",
          "text": [
            "La corriente necesaria es de 1128.8194722091384 A para la planta 1, por lo que se necesita de dos cables que soporten 590 A de cobre, el cual corresponde a un valor de 1250 kcmil.\n",
            "El grosor del cable necesario para 590 A es de 633 mm², por lo cual la regla de 3 inversa necesaria para obtener la resistencia de Ohm/km es de 0.02890995260663507 Ohm\n",
            "Ahora bien, la Planta 3 se encuentra a 350 metros del transformador, por lo cual la resistencia de pérdida será menor, esta equivale a 0.010118483412322275 Ohm\n"
          ]
        }
      ],
      "source": [
        "print(f'La corriente necesaria es de {Corriente_Planta_3_220V_cambio} A para la planta 1, por lo que se necesita de dos cables que soporten 590 A de cobre, el cual corresponde a un valor de 1250 kcmil.')\n",
        "\n",
        "R_km_P3_220_cambio = (500/633)*0.0366\n",
        "print(f'El grosor del cable necesario para 590 A es de 633 mm\\u00B2, por lo cual la regla de 3 inversa necesaria para obtener la resistencia de Ohm/km es de {R_km_P3_220_cambio} Ohm')\n",
        "\n",
        "Resistencia_Final_P3_220_cambio = (350*R_km_P3_220_cambio)/1000\n",
        "print(f'Ahora bien, la Planta 3 se encuentra a 350 metros del transformador, por lo cual la resistencia de pérdida será menor, esta equivale a {Resistencia_Final_P3_220_cambio} Ohm')"
      ]
    },
    {
      "cell_type": "code",
      "execution_count": 96,
      "metadata": {},
      "outputs": [
        {
          "name": "stdout",
          "output_type": "stream",
          "text": [
            "La pérdida asociada a la corriente a 220V para la planta 3 son de 4125.859049539694 W\n",
            "La pérdida asociada a la corrient e a 220V para la planta 1 para las 3 líneas son de 12377.577148619082 W\n"
          ]
        }
      ],
      "source": [
        "Paralelo_R_km_P3_220_cambio = Resistencia_Final_P3_220_cambio/2\n",
        "Perdida_P3_220_cambio = Corriente_Planta_3_220V_Normal_cambio**2 * (Paralelo_R_km_P3_220_cambio)\n",
        "print(f'La pérdida asociada a la corriente a 220V para la planta 3 son de {Perdida_P3_220_cambio} W')\n",
        "Perdida_P3_220_Tri_cambio = 3*Perdida_P3_220_cambio\n",
        "print(f'La pérdida asociada a la corrient e a 220V para la planta 1 para las 3 líneas son de {Perdida_P3_220_Tri_cambio} W')"
      ]
    },
    {
      "cell_type": "markdown",
      "metadata": {},
      "source": [
        "Grosor del cable sobre la Planta 4, a 220V:"
      ]
    },
    {
      "cell_type": "code",
      "execution_count": 105,
      "metadata": {},
      "outputs": [
        {
          "name": "stdout",
          "output_type": "stream",
          "text": [
            "La corriente necesaria es de 737.4429373393467 A para la planta 1, por lo que se necesita de dos cables que soporten 375 A de aluminio, el cual corresponde a un valor de 700 kcmil.\n",
            "El grosor del cable necesario para 375 A es de 355 mm², por lo cual la regla de 3 inversa necesaria para obtener la resistencia de Ohm/km es de 0.08591549295774648 Ohm\n",
            "Ahora bien, la Planta 4 se encuentra a 300 metros del transformador, por lo cual la resistencia de pérdida será menor, esta equivale a 0.025774647887323945 Ohm\n"
          ]
        }
      ],
      "source": [
        "print(f'La corriente necesaria es de {Corriente_Planta_4_220V_cambio} A para la planta 1, por lo que se necesita de dos cables que soporten 375 A de aluminio, el cual corresponde a un valor de 700 kcmil.')\n",
        "\n",
        "R_km_P4_220_cambio = (500/355)*0.061\n",
        "print(f'El grosor del cable necesario para 375 A es de 355 mm\\u00B2, por lo cual la regla de 3 inversa necesaria para obtener la resistencia de Ohm/km es de {R_km_P4_220_cambio} Ohm')\n",
        "\n",
        "Resistencia_Final_P4_220_cambio = (300*R_km_P4_220_cambio)/1000\n",
        "print(f'Ahora bien, la Planta 4 se encuentra a 300 metros del transformador, por lo cual la resistencia de pérdida será menor, esta equivale a {Resistencia_Final_P4_220_cambio} Ohm')"
      ]
    },
    {
      "cell_type": "code",
      "execution_count": 99,
      "metadata": {},
      "outputs": [
        {
          "name": "stdout",
          "output_type": "stream",
          "text": [
            "La pérdida asociada a la corriente a 220V para la planta 4 son de 4485.3832882117495 W\n",
            "La pérdida asociada a la corrient e a 220V para la planta 1 para las 3 líneas son de 13456.149864635248 W\n"
          ]
        }
      ],
      "source": [
        "Paralelo_R_km_P4_220_cambio = Resistencia_Final_P4_220_cambio/2\n",
        "Perdida_P4_220_cambio = Corriente_Planta_4_220V_Normal_cambio**2 * (Paralelo_R_km_P4_220_cambio)\n",
        "print(f'La pérdida asociada a la corriente a 220V para la planta 4 son de {Perdida_P4_220_cambio} W')\n",
        "Perdida_P4_220_Tri_cambio = 3*Perdida_P4_220_cambio\n",
        "print(f'La pérdida asociada a la corrient e a 220V para la planta 1 para las 3 líneas son de {Perdida_P4_220_Tri_cambio} W')"
      ]
    },
    {
      "cell_type": "markdown",
      "metadata": {},
      "source": [
        "Grosor del cable sobre la Planta 5, a 220V:"
      ]
    },
    {
      "cell_type": "code",
      "execution_count": 104,
      "metadata": {},
      "outputs": [
        {
          "name": "stdout",
          "output_type": "stream",
          "text": [
            "La corriente necesaria es de 1364.6728177373398 A para la planta 1, por lo que se necesita de tres cables que soporten 460 A de cobre, el cual corresponde a un valor de 700 kcmil.\n",
            "El grosor del cable necesario para 460 A es de 355 mm², por lo cual la regla de 3 inversa necesaria para obtener la resistencia de Ohm/km es de 0.05154929577464788 Ohm\n",
            "Ahora bien, la Planta 5 se encuentra a 500 metros del transformador, por lo cual la resistencia de pérdida será menor, esta equivale a 0.02577464788732394 Ohm\n"
          ]
        }
      ],
      "source": [
        "print(f'La corriente necesaria es de {Corriente_Planta_5_220V_cambio} A para la planta 1, por lo que se necesita de tres cables que soporten 460 A de cobre, el cual corresponde a un valor de 700 kcmil.')\n",
        "\n",
        "R_km_P5_220_cambio = (500/355)*0.0366\n",
        "print(f'El grosor del cable necesario para 460 A es de 355 mm\\u00B2, por lo cual la regla de 3 inversa necesaria para obtener la resistencia de Ohm/km es de {R_km_P5_220_cambio} Ohm')\n",
        "\n",
        "Resistencia_Final_P5_220_cambio = (500*R_km_P5_220_cambio)/1000\n",
        "print(f'Ahora bien, la Planta 5 se encuentra a 500 metros del transformador, por lo cual la resistencia de pérdida será menor, esta equivale a {Resistencia_Final_P5_220_cambio} Ohm')"
      ]
    },
    {
      "cell_type": "code",
      "execution_count": 102,
      "metadata": {},
      "outputs": [
        {
          "name": "stdout",
          "output_type": "stream",
          "text": [
            "La pérdida asociada a la corriente a 220V para la planta 5 son de 10240.202444416127 W\n",
            "La pérdida asociada a la corrient e a 220V para la planta 1 para las 3 líneas son de 30720.60733324838 W\n"
          ]
        }
      ],
      "source": [
        "Paralelo_R_km_P5_220_cambio = Resistencia_Final_P5_220_cambio/3\n",
        "Perdida_P5_220_cambio = Corriente_Planta_5_220V_Normal_cambio**2 * (Paralelo_R_km_P5_220_cambio)\n",
        "print(f'La pérdida asociada a la corriente a 220V para la planta 5 son de {Perdida_P5_220_cambio} W')\n",
        "Perdida_P5_220_Tri_cambio = 3*Perdida_P5_220_cambio\n",
        "print(f'La pérdida asociada a la corrient e a 220V para la planta 1 para las 3 líneas son de {Perdida_P5_220_Tri_cambio} W')"
      ]
    },
    {
      "cell_type": "markdown",
      "metadata": {},
      "source": [
        "# PARA 380V"
      ]
    },
    {
      "cell_type": "markdown",
      "metadata": {},
      "source": [
        "Grosor del cable sobre la Planta 1, a 380V:"
      ]
    },
    {
      "cell_type": "code",
      "execution_count": 107,
      "metadata": {},
      "outputs": [
        {
          "name": "stdout",
          "output_type": "stream",
          "text": [
            "La corriente necesaria es de 378.69689710299025 A para la planta 1, por lo que se necesita de un solo cable que soporte 380 A de cobre, el cual corresponde a un valor de 500 kcmil.\n",
            "El grosor del cable necesario para 380 A es de 253 mm², por lo cual la regla de 3 inversa necesaria para obtener la resistencia de Ohm/km es de 0.07233201581027668 Ohm\n",
            "Ahora bien, la Planta 1 se encuentra a 200 metros del transformador, por lo cual la resistencia de pérdida será menor, esta equivale a 0.014466403162055335 Ohm\n"
          ]
        }
      ],
      "source": [
        "print(f'La corriente necesaria es de {Corriente_Planta_1_380V_cambio} A para la planta 1, por lo que se necesita de un solo cable que soporte 380 A de cobre, el cual corresponde a un valor de 500 kcmil.')\n",
        "\n",
        "R_km_P1_380_cambio = (500/253)*0.0366\n",
        "print(f'El grosor del cable necesario para 380 A es de 253 mm\\u00B2, por lo cual la regla de 3 inversa necesaria para obtener la resistencia de Ohm/km es de {R_km_P1_380_cambio} Ohm')\n",
        "\n",
        "Resistencia_Final_P1_380_cambio = (200*R_km_P1_380_cambio)/1000\n",
        "print(f'Ahora bien, la Planta 1 se encuentra a 200 metros del transformador, por lo cual la resistencia de pérdida será menor, esta equivale a {Resistencia_Final_P1_380_cambio} Ohm')"
      ]
    },
    {
      "cell_type": "code",
      "execution_count": 110,
      "metadata": {},
      "outputs": [
        {
          "name": "stdout",
          "output_type": "stream",
          "text": [
            "La pérdida asociada a la corriente a 380V para la planta 1 son de 1327.7736068150743 W\n",
            "La pérdida asociada a la corrient e a 220V para la planta 1 para las 3 líneas son de 3983.320820445223 W\n"
          ]
        }
      ],
      "source": [
        "Perdida_P1_380_cambio = Corriente_Planta_1_380V_Normal_cambio**2 * (Resistencia_Final_P1_380_cambio)\n",
        "print(f'La pérdida asociada a la corriente a 380V para la planta 1 son de {Perdida_P1_380_cambio} W')\n",
        "Perdida_P1_380_Tri_cambio = 3*Perdida_P1_380_cambio\n",
        "print(f'La pérdida asociada a la corrient e a 220V para la planta 1 para las 3 líneas son de {Perdida_P1_380_Tri_cambio} W')"
      ]
    },
    {
      "cell_type": "markdown",
      "metadata": {},
      "source": [
        "Grosor del cable sobre la Planta 2, a 380V:"
      ]
    },
    {
      "cell_type": "code",
      "execution_count": 113,
      "metadata": {},
      "outputs": [
        {
          "name": "stdout",
          "output_type": "stream",
          "text": [
            "La corriente necesaria es de 572.1764241628659 A para la planta 1, por lo que se necesita de un solo cable que soporte 590 A de cobre, el cual corresponde a un valor de 1250 kcmil.\n",
            "El grosor del cable necesario para 590 A es de 633 mm², por lo cual la regla de 3 inversa necesaria para obtener la resistencia de Ohm/km es de 0.02890995260663507 Ohm\n",
            "Ahora bien, la Planta 2 se encuentra a 300 metros del transformador, por lo cual la resistencia de pérdida será menor, esta equivale a 0.00867298578199052 Ohm\n"
          ]
        }
      ],
      "source": [
        "print(f'La corriente necesaria es de {Corriente_Planta_2_380V_cambio} A para la planta 1, por lo que se necesita de un solo cable que soporte 590 A de cobre, el cual corresponde a un valor de 1250 kcmil.')\n",
        "\n",
        "R_km_P2_380_cambio = (500/633)*0.0366\n",
        "print(f'El grosor del cable necesario para 590 A es de 633 mm\\u00B2, por lo cual la regla de 3 inversa necesaria para obtener la resistencia de Ohm/km es de {R_km_P2_380_cambio} Ohm')\n",
        "\n",
        "Resistencia_Final_P2_380_cambio = (300*R_km_P2_380_cambio)/1000\n",
        "print(f'Ahora bien, la Planta 2 se encuentra a 300 metros del transformador, por lo cual la resistencia de pérdida será menor, esta equivale a {Resistencia_Final_P2_380_cambio} Ohm')"
      ]
    },
    {
      "cell_type": "code",
      "execution_count": 114,
      "metadata": {},
      "outputs": [
        {
          "name": "stdout",
          "output_type": "stream",
          "text": [
            "La pérdida asociada a la corriente a 380V para la planta 2 son de 1817.224263804606 W\n",
            "La pérdida asociada a la corrient e a 220V para la planta 1 para las 3 líneas son de 1817.224263804606 W\n"
          ]
        }
      ],
      "source": [
        "Perdida_P2_380_cambio = Corriente_Planta_2_380V_Normal_cambio**2 * (Resistencia_Final_P2_380_cambio)\n",
        "print(f'La pérdida asociada a la corriente a 380V para la planta 2 son de {Perdida_P2_380_cambio} W')\n",
        "Perdida_P2_380_Tri_cambio = Perdida_P2_380_cambio\n",
        "print(f'La pérdida asociada a la corrient e a 220V para la planta 1 para las 3 líneas son de {Perdida_P2_380_Tri_cambio} W')"
      ]
    },
    {
      "cell_type": "markdown",
      "metadata": {},
      "source": [
        "Grosor del cable sobre la Planta 3, a 380V:"
      ]
    },
    {
      "cell_type": "code",
      "execution_count": 116,
      "metadata": {},
      "outputs": [
        {
          "name": "stdout",
          "output_type": "stream",
          "text": [
            "La corriente necesaria es de 653.5270628579223 A para la planta 1, por lo que se necesita de un solo cable que soporte 665 A de cobre, el cual corresponde a un valor de 2000 kcmil.\n",
            "El grosor del cable necesario para 665 A es de 1013 mm², por lo cual la regla de 3 inversa necesaria para obtener la resistencia de Ohm/km es de 0.018065153010858835 Ohm\n",
            "Ahora bien, la Planta 3 se encuentra a 350 metros del transformador, por lo cual la resistencia de pérdida será menor, esta equivale a 0.006322803553800592 Ohm\n"
          ]
        }
      ],
      "source": [
        "print(f'La corriente necesaria es de {Corriente_Planta_3_380V_cambio} A para la planta 1, por lo que se necesita de un solo cable que soporte 665 A de cobre, el cual corresponde a un valor de 2000 kcmil.')\n",
        "\n",
        "R_km_P3_380_cambio = (500/1013)*0.0366\n",
        "print(f'El grosor del cable necesario para 665 A es de 1013 mm\\u00B2, por lo cual la regla de 3 inversa necesaria para obtener la resistencia de Ohm/km es de {R_km_P3_380_cambio} Ohm')\n",
        "\n",
        "Resistencia_Final_P3_380_cambio = (350*R_km_P3_380_cambio)/1000\n",
        "print(f'Ahora bien, la Planta 3 se encuentra a 350 metros del transformador, por lo cual la resistencia de pérdida será menor, esta equivale a {Resistencia_Final_P3_380_cambio} Ohm')"
      ]
    },
    {
      "cell_type": "code",
      "execution_count": 117,
      "metadata": {},
      "outputs": [
        {
          "name": "stdout",
          "output_type": "stream",
          "text": [
            "La pérdida asociada a la corriente a 220V para la planta 5 son de 1728.2907913544634 W\n",
            "La pérdida asociada a la corrient e a 220V para la planta 1 para las 3 líneas son de 5184.87237406339 W\n"
          ]
        }
      ],
      "source": [
        "Perdida_P3_380_cambio = Corriente_Planta_3_380V_Normal_cambio**2 * (Resistencia_Final_P3_380_cambio)\n",
        "print(f'La pérdida asociada a la corriente a 220V para la planta 5 son de {Perdida_P3_380_cambio} W')\n",
        "Perdida_P3_380_Tri_cambio = 3*Perdida_P3_380_cambio\n",
        "print(f'La pérdida asociada a la corrient e a 220V para la planta 1 para las 3 líneas son de {Perdida_P3_380_Tri_cambio} W')"
      ]
    },
    {
      "cell_type": "markdown",
      "metadata": {},
      "source": [
        "Grosor del cable sobre la Planta 4, a 380V:"
      ]
    },
    {
      "cell_type": "code",
      "execution_count": 120,
      "metadata": {},
      "outputs": [
        {
          "name": "stdout",
          "output_type": "stream",
          "text": [
            "La corriente necesaria es de 426.9406479333061 A para la planta 1, por lo que se necesita de un solo cable que soporte 445 A de aluminio, el cual corresponde a un valor de 1000 kcmil.\n",
            "El grosor del cable necesario para 445 A es de 506 mm², por lo cual la regla de 3 inversa necesaria para obtener la resistencia de Ohm/km es de 0.06027667984189723 Ohm\n",
            "Ahora bien, la Planta 4 se encuentra a 300 metros del transformador, por lo cual la resistencia de pérdida será menor, esta equivale a 0.01808300395256917 Ohm\n"
          ]
        }
      ],
      "source": [
        "print(f'La corriente necesaria es de {Corriente_Planta_4_380V_cambio} A para la planta 1, por lo que se necesita de un solo cable que soporte 445 A de aluminio, el cual corresponde a un valor de 1000 kcmil.')\n",
        "\n",
        "R_km_P4_380_cambio = (500/506)*0.061\n",
        "print(f'El grosor del cable necesario para 445 A es de 506 mm\\u00B2, por lo cual la regla de 3 inversa necesaria para obtener la resistencia de Ohm/km es de {R_km_P4_380_cambio} Ohm')\n",
        "\n",
        "Resistencia_Final_P4_380_cambio = (300*R_km_P4_380_cambio)/1000\n",
        "print(f'Ahora bien, la Planta 4 se encuentra a 300 metros del transformador, por lo cual la resistencia de pérdida será menor, esta equivale a {Resistencia_Final_P4_380_cambio} Ohm')"
      ]
    },
    {
      "cell_type": "code",
      "execution_count": 121,
      "metadata": {},
      "outputs": [
        {
          "name": "stdout",
          "output_type": "stream",
          "text": [
            "La pérdida asociada a la corriente a 380V para la planta 2 son de 2109.529295491614 W\n",
            "La pérdida asociada a la corrient e a 220V para la planta 1 para las 3 líneas son de 6328.587886474842 W\n"
          ]
        }
      ],
      "source": [
        "Perdida_P4_380_cambio = Corriente_Planta_4_380V_Normal_cambio**2 * (Resistencia_Final_P4_380_cambio)\n",
        "print(f'La pérdida asociada a la corriente a 380V para la planta 2 son de {Perdida_P4_380_cambio} W')\n",
        "Perdida_P4_380_Tri_cambio = 3*Perdida_P4_380_cambio\n",
        "print(f'La pérdida asociada a la corrient e a 220V para la planta 1 para las 3 líneas son de {Perdida_P4_380_Tri_cambio} W')"
      ]
    },
    {
      "cell_type": "markdown",
      "metadata": {},
      "source": [
        "Grosor del cable sobre la Planta 5, a 380V:"
      ]
    },
    {
      "cell_type": "code",
      "execution_count": 123,
      "metadata": {},
      "outputs": [
        {
          "name": "stdout",
          "output_type": "stream",
          "text": [
            "La corriente necesaria es de 790.0737365847755 A para la planta 1, por lo que se necesita de dos cables que soporte 420 A de cobre, el cual corresponde a un valor de 600 kcmil.\n",
            "El grosor del cable necesario para 420 A es de 304 mm², por lo cual la regla de 3 inversa necesaria para obtener la resistencia de Ohm/km es de 0.06019736842105263 Ohm\n",
            "Ahora bien, la Planta 3 se encuentra a 500 metros del transformador, por lo cual la resistencia de pérdida será menor, esta equivale a 0.030098684210526316 Ohm\n"
          ]
        }
      ],
      "source": [
        "print(f'La corriente necesaria es de {Corriente_Planta_5_380V_cambio} A para la planta 1, por lo que se necesita de dos cables que soporte 420 A de cobre, el cual corresponde a un valor de 600 kcmil.')\n",
        "\n",
        "R_km_P5_380_cambio = (500/304)*0.0366\n",
        "print(f'El grosor del cable necesario para 420 A es de 304 mm\\u00B2, por lo cual la regla de 3 inversa necesaria para obtener la resistencia de Ohm/km es de {R_km_P5_380_cambio} Ohm')\n",
        "\n",
        "Resistencia_Final_P5_380_cambio = (500*R_km_P5_380_cambio)/1000\n",
        "print(f'Ahora bien, la Planta 3 se encuentra a 500 metros del transformador, por lo cual la resistencia de pérdida será menor, esta equivale a {Resistencia_Final_P5_380_cambio} Ohm')"
      ]
    },
    {
      "cell_type": "code",
      "execution_count": 124,
      "metadata": {},
      "outputs": [
        {
          "name": "stdout",
          "output_type": "stream",
          "text": [
            "La pérdida asociada a la corriente a 220V para la planta 5 son de 6012.190589005704 W\n",
            "La pérdida asociada a la corrient e a 220V para la planta 1 para las 3 líneas son de 18036.571767017114 W\n"
          ]
        }
      ],
      "source": [
        "Paralelo_R_km_P5_380_cambio = Resistencia_Final_P5_380_cambio/2\n",
        "Perdida_P5_380_cambio = Corriente_Planta_5_380V_Normal_cambio**2 * (Paralelo_R_km_P5_380_cambio)\n",
        "print(f'La pérdida asociada a la corriente a 220V para la planta 5 son de {Perdida_P5_380_cambio} W')\n",
        "Perdida_P5_380_Tri_cambio = 3*Perdida_P5_380_cambio\n",
        "print(f'La pérdida asociada a la corrient e a 220V para la planta 1 para las 3 líneas son de {Perdida_P5_380_Tri_cambio} W')"
      ]
    },
    {
      "cell_type": "markdown",
      "metadata": {},
      "source": [
        "# POTENCIA A LA ENTRADA DEL TRANSFORMADOR AL CAMBIAR MOTORES"
      ]
    },
    {
      "cell_type": "code",
      "execution_count": 125,
      "metadata": {},
      "outputs": [
        {
          "name": "stdout",
          "output_type": "stream",
          "text": [
            "La potencia de entrada del transformador a 220V es de 1,511,690.7244466944 W\n"
          ]
        }
      ],
      "source": [
        "PerdidasXPlanta_Trifasica_220_cambio = [Perdida_P1_220_Tri_cambio, Perdida_P2_220_Tri_cambio, Perdida_P3_220_Tri_cambio, Perdida_P4_220_Tri_cambio, Perdida_P5_220_Tri_cambio]\n",
        "PotenciaXPlanta_220_cambio = [Potencia_Planta_1_220_cambio, Potencia_Planta_2_220_cambio, Potencia_Planta_3_220_cambio, Potencia_Planta_4_220_cambio, Potencia_Planta_5_220_cambio]\n",
        "\n",
        "PotenciaEntradaTransformador_sinAuxiliares_220_cambio = 0\n",
        "Eficiencia_Transformador = 0.9\n",
        "Potencia_Auxiliares = 480000\n",
        "\n",
        "for i in range(len(PerdidasXPlanta_Trifasica_220_cambio)):\n",
        "    PotenciaEntradaTransformador_sinAuxiliares_220_cambio += (PerdidasXPlanta_Trifasica_220_cambio[i] + PotenciaXPlanta_220_cambio[i])/Eficiencia_Transformador\n",
        "\n",
        "PotenciaEntradaTransformador_220_cambio = PotenciaEntradaTransformador_sinAuxiliares_220_cambio + Potencia_Auxiliares\n",
        "\n",
        "print(f'La potencia de entrada del transformador a 220V es de {PotenciaEntradaTransformador_220_cambio:,} W')"
      ]
    },
    {
      "cell_type": "code",
      "execution_count": 126,
      "metadata": {},
      "outputs": [
        {
          "name": "stdout",
          "output_type": "stream",
          "text": [
            "La potencia de entrada del transformador a 380V es de 1,472,289.6297543675 W\n"
          ]
        }
      ],
      "source": [
        "PerdidasXPlanta_Trifasica_380_cambio = [Perdida_P1_380_Tri_cambio, Perdida_P2_380_Tri_cambio, Perdida_P3_380_Tri_cambio, Perdida_P4_380_Tri_cambio, Perdida_P5_380_Tri_cambio]\n",
        "PotenciaXPlanta_380_cambio = [Potencia_Planta_1_380_cambio, Potencia_Planta_2_380_cambio, Potencia_Planta_3_380_cambio, Potencia_Planta_4_380_cambio, Potencia_Planta_5_380_cambio]\n",
        "\n",
        "PotenciaEntradaTransformador_sinAuxiliares_380_cambio = 0\n",
        "Eficiencia_Transformador = 0.9\n",
        "Potencia_Auxiliares = 480000\n",
        "\n",
        "for i in range(len(PerdidasXPlanta_Trifasica_380_cambio)):\n",
        "    PotenciaEntradaTransformador_sinAuxiliares_380_cambio += (PerdidasXPlanta_Trifasica_380_cambio[i] + PotenciaXPlanta_380_cambio[i])/Eficiencia_Transformador\n",
        "\n",
        "PotenciaEntradaTransformador_380_cambio = PotenciaEntradaTransformador_sinAuxiliares_380_cambio + Potencia_Auxiliares\n",
        "\n",
        "print(f'La potencia de entrada del transformador a 380V es de {PotenciaEntradaTransformador_380_cambio:,} W')"
      ]
    },
    {
      "cell_type": "code",
      "execution_count": 127,
      "metadata": {},
      "outputs": [
        {
          "name": "stdout",
          "output_type": "stream",
          "text": [
            "El costo total de la energía eléctrica consumida por los motores a 220V con un trasnformador de 13200/220 es de 6,183,903,964.049613 pesos\n",
            "El costo total de la energía eléctrica consumida por los motores a 380V con un trasnformador de 13200/220 es de 6,022,725,105.361467 pesos\n",
            "El costo total de la energía eléctrica consumida por los motores a 220V con un trasnformador de 44000/220 es de 5,399,764,588.874943 pesos\n",
            "El costo total de la energía eléctrica consumida por los motores a 380V con un trasnformador de 44000/220 es de 5,259,023,739.942098 pesos\n"
          ]
        }
      ],
      "source": [
        "CostoTotal_220_13200_cambio = (PotenciaEntradaTransformador_220_cambio/1000) * TOTALHORAS * TARIFA_T1\n",
        "CostoTotal_380_13200_cambio = (PotenciaEntradaTransformador_380_cambio/1000) * TOTALHORAS * TARIFA_T1\n",
        "print(f'El costo total de la energía eléctrica consumida por los motores a 220V con un trasnformador de 13200/220 es de {CostoTotal_220_13200_cambio:,} pesos')\n",
        "print(f'El costo total de la energía eléctrica consumida por los motores a 380V con un trasnformador de 13200/220 es de {CostoTotal_380_13200_cambio:,} pesos')\n",
        "\n",
        "CostoTotal_220_44000_cambio = (PotenciaEntradaTransformador_220_cambio/1000) * TOTALHORAS * TARIFA_T2\n",
        "CostoTotal_380_44000_cambio = (PotenciaEntradaTransformador_380_cambio/1000) * TOTALHORAS * TARIFA_T2\n",
        "print(f'El costo total de la energía eléctrica consumida por los motores a 220V con un trasnformador de 44000/220 es de {CostoTotal_220_44000_cambio:,} pesos')\n",
        "print(f'El costo total de la energía eléctrica consumida por los motores a 380V con un trasnformador de 44000/220 es de {CostoTotal_380_44000_cambio:,} pesos')"
      ]
    }
  ],
  "metadata": {
    "colab": {
      "provenance": []
    },
    "kernelspec": {
      "display_name": "Python 3",
      "name": "python3"
    },
    "language_info": {
      "codemirror_mode": {
        "name": "ipython",
        "version": 3
      },
      "file_extension": ".py",
      "mimetype": "text/x-python",
      "name": "python",
      "nbconvert_exporter": "python",
      "pygments_lexer": "ipython3",
      "version": "3.11.8"
    }
  },
  "nbformat": 4,
  "nbformat_minor": 0
}
