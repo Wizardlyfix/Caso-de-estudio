{
  "cells": [
    {
      "cell_type": "code",
      "execution_count": 34,
      "metadata": {
        "id": "zkmw0sdHGWHS"
      },
      "outputs": [],
      "source": [
        "import pandas as pd\n",
        "import numpy as np\n",
        "df1 = pd.read_csv('data_motores.csv')\n",
        "pd.set_option('display.max_columns', None)"
      ]
    },
    {
      "cell_type": "code",
      "execution_count": 35,
      "metadata": {
        "id": "IVlCQOLJGbhV"
      },
      "outputs": [],
      "source": [
        "df1[\"Eficiencia (%)\"]               = df1[\"Eficiencia (%)\"]/100\n",
        "df1[\"Factor de carga maximo\"]       = df1[\"Factor de carga maximo\"]/100\n",
        "df1['Potencia Entrada (W)']         = (df1['Potencia (HP)'] * 746 * (df1['Factor de carga maximo'])) / (df1['Eficiencia (%)'])\n",
        "df1['Corriente a 220V (A)']         = df1['Potencia Entrada (W)'] / (np.sqrt(3) * 220 * df1['Factor de potencia'])\n",
        "df1['Corriente a 380V (A)']         = df1['Potencia Entrada (W)'] / (np.sqrt(3) * 380 * df1['Factor de potencia'])\n",
        "df1['Corriente a 220V (A) +25%']    = df1['Corriente a 220V (A)']*1.25\n",
        "df1['Corriente a 380V (A) +25%']    = df1['Corriente a 380V (A)']*1.25\n",
        "df1['Velocidad síncrona (RPM)']     = 3600"
      ]
    },
    {
      "cell_type": "code",
      "execution_count": 36,
      "metadata": {
        "id": "mtQ_YB-KGjpm"
      },
      "outputs": [],
      "source": [
        "catalogo                            = pd.read_csv('catalogo_motores.csv')\n",
        "catalogo['Potencia HP']             = catalogo['Potencia HP'].astype(int)\n",
        "df2                                 = pd.merge(df1, catalogo[['Potencia HP', 'Velocidad rpm']], left_on='Potencia (HP)', right_on='Potencia HP', how='left')\n",
        "df2.drop(columns=['Potencia HP'], inplace=True)\n",
        "df2                                 = df2.rename(columns={'Velocidad rpm': 'Velocidad real (RPM)'})\n",
        "df2['Deslizamiento (RPM)']          = df2['Velocidad síncrona (RPM)'] - df2['Velocidad real (RPM)']\n",
        "df2['Deslizamiento (%)']            = ((df2['Velocidad síncrona (RPM)'] - df2['Velocidad real (RPM)']) / df2['Velocidad síncrona (RPM)'])*100\n",
        "df2['Torque (N.m)']                 = (df2['Potencia (HP)'] * 746 * (df1['Factor de carga maximo'])) / ((df2['Velocidad real (RPM)'] * 2 * np.pi)/60)\n",
        "df2['theta (°)']                    = np.degrees(np.arccos(df2['Factor de potencia']))\n",
        "df2['Real Corriente 220V']          = df2['Corriente a 220V (A) +25%'] * np.cos(np.radians(df2['theta (°)']))\n",
        "df2['Imaginaria Corriente 220V']    = df2['Corriente a 220V (A) +25%'] * np.sin(np.radians(df2['theta (°)']))\n",
        "df2['Real Corriente 380V']          = df2['Corriente a 380V (A) +25%'] * np.cos(np.radians(df2['theta (°)']))\n",
        "df2['Imaginaria Corriente 380V']    = df2['Corriente a 380V (A) +25%'] * np.sin(np.radians(df2['theta (°)']))\n",
        "df2[\"kw/año\"]                       = (df2[\"Potencia Entrada (W)\"]/1000) * 6696\n",
        "df2[\"costo/año\"]                    = df2[\"kw/año\"] * 1009.04\n",
        "\n",
        "df2[\"cambio FC\"]                    = np.where(df2[\"Factor de carga maximo\"] < 0.8, \"Si\", \"No\")\n",
        "df2[\"cambio Eficiencia\"]            = np.where(df2[\"Eficiencia (%)\"] < 0.85, \"Si\", \"No\")\n",
        "df2[\"cambio\"]                       = np.where((df2[\"cambio FC\"] == \"Si\") | (df2[\"cambio Eficiencia\"] == \"Si\"), \"Si\", \"No\")"
      ]
    },
    {
      "cell_type": "code",
      "execution_count": 37,
      "metadata": {
        "id": "OfJCugcRGmOG"
      },
      "outputs": [],
      "source": [
        "df2.to_csv('data_motores_procesada.csv', index=False)"
      ]
    },
    {
      "cell_type": "markdown",
      "metadata": {
        "id": "82p_yybpGuJt"
      },
      "source": [
        "# PARA 220V"
      ]
    },
    {
      "cell_type": "markdown",
      "metadata": {
        "id": "D6OyubzMGq6c"
      },
      "source": [
        "Magnitud de corriente a 220V para determinar el total de la corriente que se usará para dimensionar el grosor del cable sobre la Planta 1"
      ]
    },
    {
      "cell_type": "code",
      "execution_count": 38,
      "metadata": {
        "id": "pGxPmbYuGrXf"
      },
      "outputs": [
        {
          "name": "stdout",
          "output_type": "stream",
          "text": [
            "Magnitud de corriente a 220V para los motores de la planta 1: 740.8613845652662 A\n"
          ]
        }
      ],
      "source": [
        "Corriente_Planta_1_220V = np.sqrt((df2[df2['Planta'] == 'Planta 1']['Real Corriente 220V'].sum())**2 + (df2[df2['Planta'] == 'Planta 1']['Imaginaria Corriente 220V'].sum())**2)\n",
        "print(f'Magnitud de corriente a 220V para los motores de la planta 1: {Corriente_Planta_1_220V} A')"
      ]
    },
    {
      "cell_type": "markdown",
      "metadata": {
        "id": "Nrq_t7VDG44S"
      },
      "source": [
        "Magnitud de corriente a 220V para determinar el total de la corriente que se usará para dimensionar el grosor del cable sobre la Planta 2"
      ]
    },
    {
      "cell_type": "code",
      "execution_count": 39,
      "metadata": {
        "id": "49uL3GyTGyLQ"
      },
      "outputs": [
        {
          "name": "stdout",
          "output_type": "stream",
          "text": [
            "Magnitud de corriente a 220V para los motores de la planta 2: 1055.846103440497 A\n"
          ]
        }
      ],
      "source": [
        "Corriente_Planta_2_220V = np.sqrt((df2[df2['Planta'] == 'Planta 2']['Real Corriente 220V'].sum())**2 + (df2[df2['Planta'] == 'Planta 2']['Imaginaria Corriente 220V'].sum())**2)\n",
        "print(f'Magnitud de corriente a 220V para los motores de la planta 2: {Corriente_Planta_2_220V} A')"
      ]
    },
    {
      "cell_type": "markdown",
      "metadata": {
        "id": "nvutnbNHHADO"
      },
      "source": [
        "Magnitud de corriente a 220V para determinar el total de la corriente que se usará para dimensionar el grosor del cable sobre la Planta 3"
      ]
    },
    {
      "cell_type": "code",
      "execution_count": 40,
      "metadata": {
        "id": "VIKRVR_pHAXc"
      },
      "outputs": [
        {
          "name": "stdout",
          "output_type": "stream",
          "text": [
            "Magnitud de corriente a 220V para los motores de la planta 3: 1184.1293915625126 A\n"
          ]
        }
      ],
      "source": [
        "Corriente_Planta_3_220V = np.sqrt((df2[df2['Planta'] == 'Planta 3']['Real Corriente 220V'].sum())**2 + (df2[df2['Planta'] == 'Planta 3']['Imaginaria Corriente 220V'].sum())**2)\n",
        "print(f'Magnitud de corriente a 220V para los motores de la planta 3: {Corriente_Planta_3_220V} A')"
      ]
    },
    {
      "cell_type": "markdown",
      "metadata": {
        "id": "CP5aF3ojHFly"
      },
      "source": [
        "Magnitud de corriente a 220V para determinar el total de la corriente que se usará para dimensionar el grosor del cable sobre la Planta 4"
      ]
    },
    {
      "cell_type": "code",
      "execution_count": 41,
      "metadata": {
        "id": "UJJENGhsHFHX"
      },
      "outputs": [
        {
          "name": "stdout",
          "output_type": "stream",
          "text": [
            "Magnitud de corriente a 220V para los motores de la planta 4: 774.7133890486778 A\n"
          ]
        }
      ],
      "source": [
        "Corriente_Planta_4_220V = np.sqrt((df2[df2['Planta'] == 'Planta 4']['Real Corriente 220V'].sum())**2 + (df2[df2['Planta'] == 'Planta 4']['Imaginaria Corriente 220V'].sum())**2)\n",
        "print(f'Magnitud de corriente a 220V para los motores de la planta 4: {Corriente_Planta_4_220V} A')"
      ]
    },
    {
      "cell_type": "markdown",
      "metadata": {
        "id": "P-Chg5ZPHJIM"
      },
      "source": [
        "Magnitud de corriente a 220V para determinar el total de la corriente que se usará para dimensionar el grosor del cable sobre la Planta 5"
      ]
    },
    {
      "cell_type": "code",
      "execution_count": 42,
      "metadata": {
        "id": "ruugeKKLHL7W"
      },
      "outputs": [
        {
          "name": "stdout",
          "output_type": "stream",
          "text": [
            "Magnitud de corriente a 220V para los motores de la planta 5: 1396.9715056603966 A\n"
          ]
        }
      ],
      "source": [
        "Corriente_Planta_5_220V = np.sqrt((df2[df2['Planta'] == 'Planta 5']['Real Corriente 220V'].sum())**2 + (df2[df2['Planta'] == 'Planta 5']['Imaginaria Corriente 220V'].sum())**2)\n",
        "print(f'Magnitud de corriente a 220V para los motores de la planta 5: {Corriente_Planta_5_220V} A')"
      ]
    },
    {
      "cell_type": "markdown",
      "metadata": {
        "id": "TNzNCGgPHTaw"
      },
      "source": [
        "# PARA 380V"
      ]
    },
    {
      "cell_type": "markdown",
      "metadata": {
        "id": "mYgky64NHeQq"
      },
      "source": [
        "Magnitud de corriente a 380V para determinar el total de la corriente que se usará para dimensionar el grosor del cable sobre la Planta 1"
      ]
    },
    {
      "cell_type": "code",
      "execution_count": 43,
      "metadata": {
        "id": "rCR8wgELHRXK"
      },
      "outputs": [
        {
          "name": "stdout",
          "output_type": "stream",
          "text": [
            "Magnitud de corriente a 380V para los motores de la planta 1: 428.91974895883834 A\n"
          ]
        }
      ],
      "source": [
        "Corriente_Planta_1_380V = np.sqrt((df2[df2['Planta'] == 'Planta 1']['Real Corriente 380V'].sum())**2 + (df2[df2['Planta'] == 'Planta 1']['Imaginaria Corriente 380V'].sum())**2)\n",
        "print(f'Magnitud de corriente a 380V para los motores de la planta 1: {Corriente_Planta_1_380V} A')"
      ]
    },
    {
      "cell_type": "markdown",
      "metadata": {
        "id": "xIZjBtagHhUa"
      },
      "source": [
        "Magnitud de corriente a 380V para determinar el total de la corriente que se usará para dimensionar el grosor del cable sobre la Planta 2"
      ]
    },
    {
      "cell_type": "code",
      "execution_count": 44,
      "metadata": {
        "id": "fReZ_nphHj7L"
      },
      "outputs": [
        {
          "name": "stdout",
          "output_type": "stream",
          "text": [
            "Magnitud de corriente a 380V para los motores de la planta 2: 611.2793230444981 A\n"
          ]
        }
      ],
      "source": [
        "Corriente_Planta_2_380V = np.sqrt((df2[df2['Planta'] == 'Planta 2']['Real Corriente 380V'].sum())**2 + (df2[df2['Planta'] == 'Planta 2']['Imaginaria Corriente 380V'].sum())**2)\n",
        "print(f'Magnitud de corriente a 380V para los motores de la planta 2: {Corriente_Planta_2_380V} A')"
      ]
    },
    {
      "cell_type": "markdown",
      "metadata": {
        "id": "xyw-T6sdHnd6"
      },
      "source": [
        "Magnitud de corriente a 380V para determinar el total de la corriente que se usará para dimensionar el grosor del cable sobre la Planta 3"
      ]
    },
    {
      "cell_type": "code",
      "execution_count": 45,
      "metadata": {
        "id": "-emr-hA0Hr_D"
      },
      "outputs": [
        {
          "name": "stdout",
          "output_type": "stream",
          "text": [
            "Magnitud de corriente a 380V para los motores de la planta 3: 685.5485951151388 A\n"
          ]
        }
      ],
      "source": [
        "Corriente_Planta_3_380V = np.sqrt((df2[df2['Planta'] == 'Planta 3']['Real Corriente 380V'].sum())**2 + (df2[df2['Planta'] == 'Planta 3']['Imaginaria Corriente 380V'].sum())**2)\n",
        "print(f'Magnitud de corriente a 380V para los motores de la planta 3: {Corriente_Planta_3_380V} A')"
      ]
    },
    {
      "cell_type": "markdown",
      "metadata": {
        "id": "1lTW9v4wHuSL"
      },
      "source": [
        "Magnitud de corriente a 380V para determinar el total de la corriente que se usará para dimensionar el grosor del cable sobre la Planta 4"
      ]
    },
    {
      "cell_type": "code",
      "execution_count": 46,
      "metadata": {
        "id": "BPc_5FIjHulX"
      },
      "outputs": [
        {
          "name": "stdout",
          "output_type": "stream",
          "text": [
            "Magnitud de corriente a 380V para los motores de la planta 4: 448.51827787028714 A\n"
          ]
        }
      ],
      "source": [
        "Corriente_Planta_4_380V = np.sqrt((df2[df2['Planta'] == 'Planta 4']['Real Corriente 380V'].sum())**2 + (df2[df2['Planta'] == 'Planta 4']['Imaginaria Corriente 380V'].sum())**2)\n",
        "print(f'Magnitud de corriente a 380V para los motores de la planta 4: {Corriente_Planta_4_380V} A')"
      ]
    },
    {
      "cell_type": "markdown",
      "metadata": {
        "id": "6WyDuU5kH1ft"
      },
      "source": [
        "Magnitud de corriente a 380V para determinar el total de la corriente que se usará para dimensionar el grosor del cable sobre la Planta 5"
      ]
    },
    {
      "cell_type": "code",
      "execution_count": 47,
      "metadata": {
        "id": "Nfbz0CjLHzor"
      },
      "outputs": [
        {
          "name": "stdout",
          "output_type": "stream",
          "text": [
            "Magnitud de corriente a 380V para los motores de la planta 5: 808.7729769612822 A\n"
          ]
        }
      ],
      "source": [
        "Corriente_Planta_5_380V = np.sqrt((df2[df2['Planta'] == 'Planta 5']['Real Corriente 380V'].sum())**2 + (df2[df2['Planta'] == 'Planta 5']['Imaginaria Corriente 380V'].sum())**2)\n",
        "print(f'Magnitud de corriente a 380V para los motores de la planta 5: {Corriente_Planta_5_380V} A')"
      ]
    },
    {
      "cell_type": "markdown",
      "metadata": {},
      "source": [
        "Debido a que existen consumos auxiliares, se tiene que estos consumen 480kW, se puede partir de que poseen un factor de potencia de FP = 1, por lo tanto es pertinente calcular su consumo de corriente a 220V que es al voltaje al cual se encuentran conectados, suponiendo que son cargas puramente resistivas, estas no cuentan con desfase por lo tanto no poseen parte imaginaria, por lo que:"
      ]
    },
    {
      "cell_type": "code",
      "execution_count": 54,
      "metadata": {},
      "outputs": [
        {
          "name": "stdout",
          "output_type": "stream",
          "text": [
            "Magnitud de corriente a 220V para los Auxiliares: 1259.6733145955473 A\n"
          ]
        }
      ],
      "source": [
        "FP_aux = 1\n",
        "Corriente_Auxiliares = 480000/(np.sqrt(3)*220*FP_aux)\n",
        "print(f'Magnitud de corriente a 220V para los Auxiliares: {Corriente_Auxiliares} A')"
      ]
    },
    {
      "cell_type": "markdown",
      "metadata": {
        "id": "NplsdOIuH5tz"
      },
      "source": [
        "## CAMBIO DE MOTORES ##"
      ]
    },
    {
      "cell_type": "code",
      "execution_count": 48,
      "metadata": {
        "id": "J6BjzNSdH6IQ"
      },
      "outputs": [],
      "source": [
        "#calculo de 11 meses, donde se trabaja continuamente 16 horas al dia de lunes a sabado\n",
        "diasXmes        = 24\n",
        "horasXdia       = 16\n",
        "horasXmes       = diasXmes * horasXdia\n",
        "meses           = 11\n",
        "horasX11meses   = horasXmes * meses\n",
        "\n",
        "#calculo para el mes de diciembre\n",
        "diasDiciembre   = 15\n",
        "horasDiciembre  = diasDiciembre * horasXdia\n",
        "\n",
        "#total horas por año\n",
        "TOTALHORAS     = horasX11meses + horasDiciembre"
      ]
    },
    {
      "cell_type": "markdown",
      "metadata": {},
      "source": [
        "Dado un transformador de 13200/220V, según el documento de publicación de tarifas del mes de mayo de 2024, se tiene que para un transformador de este tipo se encuentra en el Nivel II de consumo por lo que la tarifa a pagar por poseer un contador antes del transformador es de:"
      ]
    },
    {
      "cell_type": "code",
      "execution_count": 49,
      "metadata": {},
      "outputs": [
        {
          "data": {
            "text/plain": [
              "916.38"
            ]
          },
          "execution_count": 49,
          "metadata": {},
          "output_type": "execute_result"
        }
      ],
      "source": [
        "TARIFA_T1 = (914.75 + 918.01)/2\n",
        "TARIFA_T1"
      ]
    },
    {
      "cell_type": "markdown",
      "metadata": {},
      "source": [
        "Dado un transformador de 44000/220V, según el documento de publicación de tarifas del mes de mayo de 2024, se tiene que para un transformador de este tipo se encuentra en el Nivel III de consumo por lo que la tarifa a pagar por poseer un contador antes del transformador es de:"
      ]
    },
    {
      "cell_type": "code",
      "execution_count": 50,
      "metadata": {},
      "outputs": [
        {
          "data": {
            "text/plain": [
              "800.1800000000001"
            ]
          },
          "execution_count": 50,
          "metadata": {},
          "output_type": "execute_result"
        }
      ],
      "source": [
        "TARIFA_T2 = (798.52 + 801.84)/2\n",
        "TARIFA_T2"
      ]
    },
    {
      "cell_type": "code",
      "execution_count": 51,
      "metadata": {
        "id": "07JIRbO2H_Tw"
      },
      "outputs": [],
      "source": [
        "df_catalogo = pd.read_csv(\"catalogo_motores_completo.csv\")\n",
        "def cambio(fc,potencia_hp,velocidad_sincronica,potencia_actual):\n",
        "    #factor de carga, potencia_hp, potencia_actual\n",
        "    costoXaño = (potencia_actual / 1000) * TOTALHORAS * TARIFA_T1 #Reemplazar TARIFA_T1 por TARIFA_T2 si se desea calcular con la tarifa T2\n",
        "    df_filtro                           = df_catalogo[(df_catalogo[\"Potencia HP\"] == potencia_hp) & (df_catalogo[\"rpm\"] == velocidad_sincronica)].copy()\n",
        "    df_filtro['Potencia Entrada (W)']   = (df_filtro ['Potencia HP'] * 746 * (fc)) / (df_filtro ['Eficiencia %']/100)\n",
        "    df_filtro[\"kw/año\"]                 = (df_filtro[\"Potencia Entrada (W)\"]/1000) * TOTALHORAS\n",
        "    df_filtro[\"costo/año\"]              = df_filtro[\"kw/año\"] * TARIFA_T1\n",
        "    df_filtro[\"costo_anterior\"]         = costoXaño\n",
        "    df_filtro[\"ahorroXmes\"]             = (df_filtro[\"costo_anterior\"] - df_filtro[\"costo/año\"]) / 12\n",
        "    df_filtro[\"tiempo_retribucion\"]     = df_filtro[\"costo_Pesos\"] / df_filtro[\"ahorroXmes\"]\n",
        "    return df_filtro"
      ]
    },
    {
      "cell_type": "code",
      "execution_count": 52,
      "metadata": {
        "id": "j-MkYpmQIBOR"
      },
      "outputs": [
        {
          "data": {
            "text/html": [
              "<div>\n",
              "<style scoped>\n",
              "    .dataframe tbody tr th:only-of-type {\n",
              "        vertical-align: middle;\n",
              "    }\n",
              "\n",
              "    .dataframe tbody tr th {\n",
              "        vertical-align: top;\n",
              "    }\n",
              "\n",
              "    .dataframe thead th {\n",
              "        text-align: right;\n",
              "    }\n",
              "</style>\n",
              "<table border=\"1\" class=\"dataframe\">\n",
              "  <thead>\n",
              "    <tr style=\"text-align: right;\">\n",
              "      <th></th>\n",
              "      <th>No. de Depósito</th>\n",
              "      <th>Referencia</th>\n",
              "      <th>Potencia kW</th>\n",
              "      <th>Potencia HP</th>\n",
              "      <th>Tamaño constructivo</th>\n",
              "      <th>Velocidad rpm</th>\n",
              "      <th>Torque Nm</th>\n",
              "      <th>Corriente nominal 220VDD A</th>\n",
              "      <th>Corriente nominal 380VYY A</th>\n",
              "      <th>Corriente nominal 440VD A</th>\n",
              "      <th>Eficiencia %</th>\n",
              "      <th>Peso neto (IM B3) kg</th>\n",
              "      <th>Precio de lista USD</th>\n",
              "      <th>rpm</th>\n",
              "      <th>polos</th>\n",
              "      <th>costo_Pesos</th>\n",
              "      <th>(%) deslizamiento</th>\n",
              "      <th>Potencia Entrada (W)</th>\n",
              "      <th>kw/año</th>\n",
              "      <th>costo/año</th>\n",
              "      <th>costo_anterior</th>\n",
              "      <th>ahorroXmes</th>\n",
              "      <th>tiempo_retribucion</th>\n",
              "    </tr>\n",
              "  </thead>\n",
              "  <tbody>\n",
              "    <tr>\n",
              "      <th>13</th>\n",
              "      <td>100664589</td>\n",
              "      <td>1LE0143-2BA16-4AA4-Z D80+D81</td>\n",
              "      <td>37.0</td>\n",
              "      <td>50.0</td>\n",
              "      <td>225M</td>\n",
              "      <td>3570</td>\n",
              "      <td>99.0</td>\n",
              "      <td>118.0</td>\n",
              "      <td>68.0</td>\n",
              "      <td>59.0</td>\n",
              "      <td>93.0</td>\n",
              "      <td>320.0</td>\n",
              "      <td>4502.5</td>\n",
              "      <td>3600</td>\n",
              "      <td>2</td>\n",
              "      <td>17487710.0</td>\n",
              "      <td>0.833333</td>\n",
              "      <td>32086.021505</td>\n",
              "      <td>143232.0</td>\n",
              "      <td>1.312549e+08</td>\n",
              "      <td>1.436083e+08</td>\n",
              "      <td>1.029451e+06</td>\n",
              "      <td>16.987422</td>\n",
              "    </tr>\n",
              "  </tbody>\n",
              "</table>\n",
              "</div>"
            ],
            "text/plain": [
              "    No. de Depósito                    Referencia  Potencia kW  Potencia HP  \\\n",
              "13        100664589  1LE0143-2BA16-4AA4-Z D80+D81         37.0         50.0   \n",
              "\n",
              "   Tamaño constructivo  Velocidad rpm  Torque Nm  Corriente nominal 220VDD A  \\\n",
              "13                225M           3570       99.0                       118.0   \n",
              "\n",
              "    Corriente nominal 380VYY A  Corriente nominal 440VD A  Eficiencia %  \\\n",
              "13                        68.0                       59.0          93.0   \n",
              "\n",
              "    Peso neto (IM B3) kg  Precio de lista USD   rpm  polos  costo_Pesos  \\\n",
              "13                 320.0               4502.5  3600      2   17487710.0   \n",
              "\n",
              "    (%) deslizamiento  Potencia Entrada (W)    kw/año     costo/año  \\\n",
              "13           0.833333          32086.021505  143232.0  1.312549e+08   \n",
              "\n",
              "    costo_anterior    ahorroXmes  tiempo_retribucion  \n",
              "13    1.436083e+08  1.029451e+06           16.987422  "
            ]
          },
          "execution_count": 52,
          "metadata": {},
          "output_type": "execute_result"
        }
      ],
      "source": [
        "#factor de carga, potencia_hp, potencia_actual\n",
        "df_cambio = cambio(0.8,50,3600,35105.882352941175)\n",
        "df_cambio"
      ]
    },
    {
      "cell_type": "code",
      "execution_count": 53,
      "metadata": {
        "id": "qCB1Sc_JIDMl"
      },
      "outputs": [
        {
          "data": {
            "text/html": [
              "<div>\n",
              "<style scoped>\n",
              "    .dataframe tbody tr th:only-of-type {\n",
              "        vertical-align: middle;\n",
              "    }\n",
              "\n",
              "    .dataframe tbody tr th {\n",
              "        vertical-align: top;\n",
              "    }\n",
              "\n",
              "    .dataframe thead th {\n",
              "        text-align: right;\n",
              "    }\n",
              "</style>\n",
              "<table border=\"1\" class=\"dataframe\">\n",
              "  <thead>\n",
              "    <tr style=\"text-align: right;\">\n",
              "      <th></th>\n",
              "      <th>Planta</th>\n",
              "      <th>Distancia</th>\n",
              "      <th>Motor</th>\n",
              "      <th>Potencia (HP)</th>\n",
              "      <th>Eficiencia (%)</th>\n",
              "      <th>Factor de carga maximo</th>\n",
              "      <th>Factor de potencia</th>\n",
              "      <th>Potencia Entrada (W)</th>\n",
              "      <th>Corriente a 220V (A)</th>\n",
              "      <th>Corriente a 380V (A)</th>\n",
              "      <th>Corriente a 220V (A) +25%</th>\n",
              "      <th>Corriente a 380V (A) +25%</th>\n",
              "      <th>Velocidad síncrona (RPM)</th>\n",
              "      <th>Velocidad real (RPM)</th>\n",
              "      <th>Deslizamiento (RPM)</th>\n",
              "      <th>Deslizamiento (%)</th>\n",
              "      <th>Torque (N.m)</th>\n",
              "      <th>theta (°)</th>\n",
              "      <th>Real Corriente 220V</th>\n",
              "      <th>Imaginaria Corriente 220V</th>\n",
              "      <th>Real Corriente 380V</th>\n",
              "      <th>Imaginaria Corriente 380V</th>\n",
              "      <th>kw/año</th>\n",
              "      <th>costo/año</th>\n",
              "      <th>cambio FC</th>\n",
              "      <th>cambio Eficiencia</th>\n",
              "      <th>cambio</th>\n",
              "    </tr>\n",
              "  </thead>\n",
              "  <tbody>\n",
              "    <tr>\n",
              "      <th>0</th>\n",
              "      <td>Planta 1</td>\n",
              "      <td>200</td>\n",
              "      <td>1</td>\n",
              "      <td>30</td>\n",
              "      <td>0.70</td>\n",
              "      <td>0.8</td>\n",
              "      <td>0.74</td>\n",
              "      <td>25577.142857</td>\n",
              "      <td>90.706206</td>\n",
              "      <td>52.514119</td>\n",
              "      <td>113.382757</td>\n",
              "      <td>65.642649</td>\n",
              "      <td>3600</td>\n",
              "      <td>3540</td>\n",
              "      <td>60</td>\n",
              "      <td>1.666667</td>\n",
              "      <td>48.296781</td>\n",
              "      <td>42.268584</td>\n",
              "      <td>83.903240</td>\n",
              "      <td>76.262021</td>\n",
              "      <td>48.575560</td>\n",
              "      <td>44.151697</td>\n",
              "      <td>171264.548571</td>\n",
              "      <td>1.728128e+08</td>\n",
              "      <td>No</td>\n",
              "      <td>Si</td>\n",
              "      <td>Si</td>\n",
              "    </tr>\n",
              "    <tr>\n",
              "      <th>1</th>\n",
              "      <td>Planta 2</td>\n",
              "      <td>300</td>\n",
              "      <td>1</td>\n",
              "      <td>40</td>\n",
              "      <td>0.79</td>\n",
              "      <td>0.8</td>\n",
              "      <td>0.82</td>\n",
              "      <td>30217.721519</td>\n",
              "      <td>96.708479</td>\n",
              "      <td>55.989120</td>\n",
              "      <td>120.885599</td>\n",
              "      <td>69.986399</td>\n",
              "      <td>3600</td>\n",
              "      <td>3565</td>\n",
              "      <td>35</td>\n",
              "      <td>0.972222</td>\n",
              "      <td>63.944126</td>\n",
              "      <td>34.915206</td>\n",
              "      <td>99.126191</td>\n",
              "      <td>69.190507</td>\n",
              "      <td>57.388848</td>\n",
              "      <td>40.057662</td>\n",
              "      <td>202337.863291</td>\n",
              "      <td>2.041670e+08</td>\n",
              "      <td>No</td>\n",
              "      <td>Si</td>\n",
              "      <td>Si</td>\n",
              "    </tr>\n",
              "    <tr>\n",
              "      <th>2</th>\n",
              "      <td>Planta 3</td>\n",
              "      <td>350</td>\n",
              "      <td>1</td>\n",
              "      <td>60</td>\n",
              "      <td>0.85</td>\n",
              "      <td>0.6</td>\n",
              "      <td>0.78</td>\n",
              "      <td>31595.294118</td>\n",
              "      <td>106.302748</td>\n",
              "      <td>61.543696</td>\n",
              "      <td>132.878435</td>\n",
              "      <td>76.929620</td>\n",
              "      <td>3600</td>\n",
              "      <td>3570</td>\n",
              "      <td>30</td>\n",
              "      <td>0.833333</td>\n",
              "      <td>71.836389</td>\n",
              "      <td>38.739425</td>\n",
              "      <td>103.645179</td>\n",
              "      <td>83.152602</td>\n",
              "      <td>60.005104</td>\n",
              "      <td>48.140980</td>\n",
              "      <td>211562.089412</td>\n",
              "      <td>2.134746e+08</td>\n",
              "      <td>Si</td>\n",
              "      <td>No</td>\n",
              "      <td>Si</td>\n",
              "    </tr>\n",
              "    <tr>\n",
              "      <th>3</th>\n",
              "      <td>Planta 4</td>\n",
              "      <td>300</td>\n",
              "      <td>1</td>\n",
              "      <td>30</td>\n",
              "      <td>0.82</td>\n",
              "      <td>0.6</td>\n",
              "      <td>0.78</td>\n",
              "      <td>16375.609756</td>\n",
              "      <td>55.095936</td>\n",
              "      <td>31.897647</td>\n",
              "      <td>68.869921</td>\n",
              "      <td>39.872059</td>\n",
              "      <td>3600</td>\n",
              "      <td>3540</td>\n",
              "      <td>60</td>\n",
              "      <td>1.666667</td>\n",
              "      <td>36.222586</td>\n",
              "      <td>38.739425</td>\n",
              "      <td>53.718538</td>\n",
              "      <td>43.097385</td>\n",
              "      <td>31.100206</td>\n",
              "      <td>24.951118</td>\n",
              "      <td>109651.082927</td>\n",
              "      <td>1.106423e+08</td>\n",
              "      <td>Si</td>\n",
              "      <td>Si</td>\n",
              "      <td>Si</td>\n",
              "    </tr>\n",
              "    <tr>\n",
              "      <th>4</th>\n",
              "      <td>Planta 5</td>\n",
              "      <td>500</td>\n",
              "      <td>1</td>\n",
              "      <td>100</td>\n",
              "      <td>0.91</td>\n",
              "      <td>0.6</td>\n",
              "      <td>0.81</td>\n",
              "      <td>49186.813187</td>\n",
              "      <td>159.360381</td>\n",
              "      <td>92.261273</td>\n",
              "      <td>199.200476</td>\n",
              "      <td>115.326591</td>\n",
              "      <td>3600</td>\n",
              "      <td>3570</td>\n",
              "      <td>30</td>\n",
              "      <td>0.833333</td>\n",
              "      <td>119.727315</td>\n",
              "      <td>35.904069</td>\n",
              "      <td>161.352385</td>\n",
              "      <td>116.817110</td>\n",
              "      <td>93.414539</td>\n",
              "      <td>67.630959</td>\n",
              "      <td>329354.901099</td>\n",
              "      <td>3.323323e+08</td>\n",
              "      <td>Si</td>\n",
              "      <td>No</td>\n",
              "      <td>Si</td>\n",
              "    </tr>\n",
              "  </tbody>\n",
              "</table>\n",
              "</div>"
            ],
            "text/plain": [
              "     Planta  Distancia  Motor  Potencia (HP)  Eficiencia (%)  \\\n",
              "0  Planta 1        200      1             30            0.70   \n",
              "1  Planta 2        300      1             40            0.79   \n",
              "2  Planta 3        350      1             60            0.85   \n",
              "3  Planta 4        300      1             30            0.82   \n",
              "4  Planta 5        500      1            100            0.91   \n",
              "\n",
              "   Factor de carga maximo  Factor de potencia  Potencia Entrada (W)  \\\n",
              "0                     0.8                0.74          25577.142857   \n",
              "1                     0.8                0.82          30217.721519   \n",
              "2                     0.6                0.78          31595.294118   \n",
              "3                     0.6                0.78          16375.609756   \n",
              "4                     0.6                0.81          49186.813187   \n",
              "\n",
              "   Corriente a 220V (A)  Corriente a 380V (A)  Corriente a 220V (A) +25%  \\\n",
              "0             90.706206             52.514119                 113.382757   \n",
              "1             96.708479             55.989120                 120.885599   \n",
              "2            106.302748             61.543696                 132.878435   \n",
              "3             55.095936             31.897647                  68.869921   \n",
              "4            159.360381             92.261273                 199.200476   \n",
              "\n",
              "   Corriente a 380V (A) +25%  Velocidad síncrona (RPM)  Velocidad real (RPM)  \\\n",
              "0                  65.642649                      3600                  3540   \n",
              "1                  69.986399                      3600                  3565   \n",
              "2                  76.929620                      3600                  3570   \n",
              "3                  39.872059                      3600                  3540   \n",
              "4                 115.326591                      3600                  3570   \n",
              "\n",
              "   Deslizamiento (RPM)  Deslizamiento (%)  Torque (N.m)  theta (°)  \\\n",
              "0                   60           1.666667     48.296781  42.268584   \n",
              "1                   35           0.972222     63.944126  34.915206   \n",
              "2                   30           0.833333     71.836389  38.739425   \n",
              "3                   60           1.666667     36.222586  38.739425   \n",
              "4                   30           0.833333    119.727315  35.904069   \n",
              "\n",
              "   Real Corriente 220V  Imaginaria Corriente 220V  Real Corriente 380V  \\\n",
              "0            83.903240                  76.262021            48.575560   \n",
              "1            99.126191                  69.190507            57.388848   \n",
              "2           103.645179                  83.152602            60.005104   \n",
              "3            53.718538                  43.097385            31.100206   \n",
              "4           161.352385                 116.817110            93.414539   \n",
              "\n",
              "   Imaginaria Corriente 380V         kw/año     costo/año cambio FC  \\\n",
              "0                  44.151697  171264.548571  1.728128e+08        No   \n",
              "1                  40.057662  202337.863291  2.041670e+08        No   \n",
              "2                  48.140980  211562.089412  2.134746e+08        Si   \n",
              "3                  24.951118  109651.082927  1.106423e+08        Si   \n",
              "4                  67.630959  329354.901099  3.323323e+08        Si   \n",
              "\n",
              "  cambio Eficiencia cambio  \n",
              "0                Si     Si  \n",
              "1                Si     Si  \n",
              "2                No     Si  \n",
              "3                Si     Si  \n",
              "4                No     Si  "
            ]
          },
          "execution_count": 53,
          "metadata": {},
          "output_type": "execute_result"
        }
      ],
      "source": [
        "df2.head()"
      ]
    }
  ],
  "metadata": {
    "colab": {
      "provenance": []
    },
    "kernelspec": {
      "display_name": "Python 3",
      "name": "python3"
    },
    "language_info": {
      "codemirror_mode": {
        "name": "ipython",
        "version": 3
      },
      "file_extension": ".py",
      "mimetype": "text/x-python",
      "name": "python",
      "nbconvert_exporter": "python",
      "pygments_lexer": "ipython3",
      "version": "3.11.9"
    }
  },
  "nbformat": 4,
  "nbformat_minor": 0
}
